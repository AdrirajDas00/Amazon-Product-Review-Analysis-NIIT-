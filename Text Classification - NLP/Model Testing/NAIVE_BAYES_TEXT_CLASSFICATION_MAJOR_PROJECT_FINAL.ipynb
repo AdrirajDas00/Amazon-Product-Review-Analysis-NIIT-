{
 "cells": [
  {
   "cell_type": "markdown",
   "id": "9c30331a",
   "metadata": {},
   "source": [
    "# Importing libraries"
   ]
  },
  {
   "cell_type": "code",
   "execution_count": 1,
   "id": "156bceda",
   "metadata": {},
   "outputs": [],
   "source": [
    "from time import time\n",
    "\n",
    "from sklearn.model_selection import train_test_split\n",
    "from sklearn.feature_extraction.text import TfidfVectorizer\n",
    "from sklearn.naive_bayes import MultinomialNB\n",
    "\n",
    "\n",
    "from sklearn.metrics import recall_score\n",
    "from sklearn.metrics import f1_score\n",
    "from sklearn.metrics import accuracy_score\n",
    "from sklearn.metrics import precision_score\n",
    "\n",
    "import warnings\n",
    "warnings.filterwarnings('ignore')\n",
    "\n",
    "import numpy as np\n",
    "import pandas as pd\n",
    "import re\n",
    "import spacy\n",
    "\n",
    "\n",
    "from sklearn.metrics import classification_report\n",
    "from sklearn.metrics import confusion_matrix\n",
    "\n"
   ]
  },
  {
   "cell_type": "code",
   "execution_count": 2,
   "id": "021dc6dc",
   "metadata": {},
   "outputs": [],
   "source": [
    "# Load Data\n",
    "df_tools=pd.read_csv('TOOLS_COMPLETELY_CLEAN_FULLY_MERGED_RDY_FOR_MDLLING')"
   ]
  },
  {
   "cell_type": "code",
   "execution_count": 3,
   "id": "290ddf5b",
   "metadata": {},
   "outputs": [
    {
     "data": {
      "text/html": [
       "<div>\n",
       "<style scoped>\n",
       "    .dataframe tbody tr th:only-of-type {\n",
       "        vertical-align: middle;\n",
       "    }\n",
       "\n",
       "    .dataframe tbody tr th {\n",
       "        vertical-align: top;\n",
       "    }\n",
       "\n",
       "    .dataframe thead th {\n",
       "        text-align: right;\n",
       "    }\n",
       "</style>\n",
       "<table border=\"1\" class=\"dataframe\">\n",
       "  <thead>\n",
       "    <tr style=\"text-align: right;\">\n",
       "      <th></th>\n",
       "      <th>title</th>\n",
       "      <th>brand</th>\n",
       "      <th>main_cat</th>\n",
       "      <th>price</th>\n",
       "      <th>product_id</th>\n",
       "      <th>Reviewer_id</th>\n",
       "      <th>rating</th>\n",
       "      <th>verified</th>\n",
       "      <th>reviewText</th>\n",
       "      <th>DATE</th>\n",
       "    </tr>\n",
       "  </thead>\n",
       "  <tbody>\n",
       "    <tr>\n",
       "      <th>0</th>\n",
       "      <td>Breeding Organic Vegetables: A Step-by-Step Gu...</td>\n",
       "      <td>SioGreen</td>\n",
       "      <td>Tools &amp; Home Improvement</td>\n",
       "      <td>45.902274</td>\n",
       "      <td>0982085028</td>\n",
       "      <td>AL19QO4XLBQPU</td>\n",
       "      <td>5.0</td>\n",
       "      <td>True</td>\n",
       "      <td>returned, decided against this product</td>\n",
       "      <td>2018-01-28</td>\n",
       "    </tr>\n",
       "    <tr>\n",
       "      <th>1</th>\n",
       "      <td>Breeding Organic Vegetables: A Step-by-Step Gu...</td>\n",
       "      <td>SioGreen</td>\n",
       "      <td>Tools &amp; Home Improvement</td>\n",
       "      <td>45.902274</td>\n",
       "      <td>0982085028</td>\n",
       "      <td>A1I7CVB7X3T81E</td>\n",
       "      <td>5.0</td>\n",
       "      <td>True</td>\n",
       "      <td>Awesome heater for the electrical requirements...</td>\n",
       "      <td>2017-11-30</td>\n",
       "    </tr>\n",
       "    <tr>\n",
       "      <th>2</th>\n",
       "      <td>Breeding Organic Vegetables: A Step-by-Step Gu...</td>\n",
       "      <td>SioGreen</td>\n",
       "      <td>Tools &amp; Home Improvement</td>\n",
       "      <td>45.902274</td>\n",
       "      <td>0982085028</td>\n",
       "      <td>A1AQXO4P5U674E</td>\n",
       "      <td>5.0</td>\n",
       "      <td>True</td>\n",
       "      <td>Keeps the mist of your wood trim and on you. B...</td>\n",
       "      <td>2017-09-12</td>\n",
       "    </tr>\n",
       "    <tr>\n",
       "      <th>3</th>\n",
       "      <td>Breeding Organic Vegetables: A Step-by-Step Gu...</td>\n",
       "      <td>SioGreen</td>\n",
       "      <td>Tools &amp; Home Improvement</td>\n",
       "      <td>45.902274</td>\n",
       "      <td>0982085028</td>\n",
       "      <td>AIRV678P7C4NK</td>\n",
       "      <td>4.0</td>\n",
       "      <td>True</td>\n",
       "      <td>So far I hooked it up and tested it , filled a...</td>\n",
       "      <td>2017-07-19</td>\n",
       "    </tr>\n",
       "    <tr>\n",
       "      <th>4</th>\n",
       "      <td>Breeding Organic Vegetables: A Step-by-Step Gu...</td>\n",
       "      <td>SioGreen</td>\n",
       "      <td>Tools &amp; Home Improvement</td>\n",
       "      <td>45.902274</td>\n",
       "      <td>0982085028</td>\n",
       "      <td>A22I5QDNTNECDW</td>\n",
       "      <td>1.0</td>\n",
       "      <td>True</td>\n",
       "      <td>i installed this 10 months ago, instructions w...</td>\n",
       "      <td>2017-05-25</td>\n",
       "    </tr>\n",
       "  </tbody>\n",
       "</table>\n",
       "</div>"
      ],
      "text/plain": [
       "                                               title     brand  \\\n",
       "0  Breeding Organic Vegetables: A Step-by-Step Gu...  SioGreen   \n",
       "1  Breeding Organic Vegetables: A Step-by-Step Gu...  SioGreen   \n",
       "2  Breeding Organic Vegetables: A Step-by-Step Gu...  SioGreen   \n",
       "3  Breeding Organic Vegetables: A Step-by-Step Gu...  SioGreen   \n",
       "4  Breeding Organic Vegetables: A Step-by-Step Gu...  SioGreen   \n",
       "\n",
       "                   main_cat      price  product_id     Reviewer_id  rating  \\\n",
       "0  Tools & Home Improvement  45.902274  0982085028   AL19QO4XLBQPU     5.0   \n",
       "1  Tools & Home Improvement  45.902274  0982085028  A1I7CVB7X3T81E     5.0   \n",
       "2  Tools & Home Improvement  45.902274  0982085028  A1AQXO4P5U674E     5.0   \n",
       "3  Tools & Home Improvement  45.902274  0982085028   AIRV678P7C4NK     4.0   \n",
       "4  Tools & Home Improvement  45.902274  0982085028  A22I5QDNTNECDW     1.0   \n",
       "\n",
       "   verified                                         reviewText        DATE  \n",
       "0      True             returned, decided against this product  2018-01-28  \n",
       "1      True  Awesome heater for the electrical requirements...  2017-11-30  \n",
       "2      True  Keeps the mist of your wood trim and on you. B...  2017-09-12  \n",
       "3      True  So far I hooked it up and tested it , filled a...  2017-07-19  \n",
       "4      True  i installed this 10 months ago, instructions w...  2017-05-25  "
      ]
     },
     "execution_count": 3,
     "metadata": {},
     "output_type": "execute_result"
    }
   ],
   "source": [
    "df_tools.head()"
   ]
  },
  {
   "cell_type": "code",
   "execution_count": 4,
   "id": "aca893a1",
   "metadata": {},
   "outputs": [
    {
     "data": {
      "text/plain": [
       "(2267345, 10)"
      ]
     },
     "execution_count": 4,
     "metadata": {},
     "output_type": "execute_result"
    }
   ],
   "source": [
    "df_tools.shape"
   ]
  },
  {
   "cell_type": "code",
   "execution_count": 5,
   "id": "c502c1f1",
   "metadata": {},
   "outputs": [],
   "source": [
    "df_tools.drop_duplicates(subset=None,keep='first',inplace=True)"
   ]
  },
  {
   "cell_type": "code",
   "execution_count": 6,
   "id": "bb65d0f0",
   "metadata": {},
   "outputs": [
    {
     "data": {
      "text/plain": [
       "(1817775, 10)"
      ]
     },
     "execution_count": 6,
     "metadata": {},
     "output_type": "execute_result"
    }
   ],
   "source": [
    "df_tools.shape"
   ]
  },
  {
   "cell_type": "code",
   "execution_count": 7,
   "id": "08772b86",
   "metadata": {},
   "outputs": [],
   "source": [
    "sentiment=[]\n",
    "for i in df_tools['rating']:\n",
    "    if (i>3):\n",
    "        sentiment.append('Postive')\n",
    "    elif(i<3):\n",
    "        sentiment.append('Negative')\n",
    "    else:\n",
    "        sentiment.append('Neutral')"
   ]
  },
  {
   "cell_type": "code",
   "execution_count": 8,
   "id": "31fa64a2",
   "metadata": {},
   "outputs": [],
   "source": [
    "df_tools['ReviewSentiment']=sentiment"
   ]
  },
  {
   "cell_type": "code",
   "execution_count": 9,
   "id": "077fa922",
   "metadata": {},
   "outputs": [],
   "source": [
    "Text_Tools  = df_tools[[\"reviewText\",\"ReviewSentiment\"]]"
   ]
  },
  {
   "cell_type": "code",
   "execution_count": 10,
   "id": "f54a24c8",
   "metadata": {
    "scrolled": true
   },
   "outputs": [
    {
     "data": {
      "text/html": [
       "<div>\n",
       "<style scoped>\n",
       "    .dataframe tbody tr th:only-of-type {\n",
       "        vertical-align: middle;\n",
       "    }\n",
       "\n",
       "    .dataframe tbody tr th {\n",
       "        vertical-align: top;\n",
       "    }\n",
       "\n",
       "    .dataframe thead th {\n",
       "        text-align: right;\n",
       "    }\n",
       "</style>\n",
       "<table border=\"1\" class=\"dataframe\">\n",
       "  <thead>\n",
       "    <tr style=\"text-align: right;\">\n",
       "      <th></th>\n",
       "      <th>reviewText</th>\n",
       "      <th>ReviewSentiment</th>\n",
       "    </tr>\n",
       "  </thead>\n",
       "  <tbody>\n",
       "    <tr>\n",
       "      <th>0</th>\n",
       "      <td>returned, decided against this product</td>\n",
       "      <td>Postive</td>\n",
       "    </tr>\n",
       "    <tr>\n",
       "      <th>1</th>\n",
       "      <td>Awesome heater for the electrical requirements...</td>\n",
       "      <td>Postive</td>\n",
       "    </tr>\n",
       "    <tr>\n",
       "      <th>2</th>\n",
       "      <td>Keeps the mist of your wood trim and on you. B...</td>\n",
       "      <td>Postive</td>\n",
       "    </tr>\n",
       "    <tr>\n",
       "      <th>3</th>\n",
       "      <td>So far I hooked it up and tested it , filled a...</td>\n",
       "      <td>Postive</td>\n",
       "    </tr>\n",
       "    <tr>\n",
       "      <th>4</th>\n",
       "      <td>i installed this 10 months ago, instructions w...</td>\n",
       "      <td>Negative</td>\n",
       "    </tr>\n",
       "  </tbody>\n",
       "</table>\n",
       "</div>"
      ],
      "text/plain": [
       "                                          reviewText ReviewSentiment\n",
       "0             returned, decided against this product         Postive\n",
       "1  Awesome heater for the electrical requirements...         Postive\n",
       "2  Keeps the mist of your wood trim and on you. B...         Postive\n",
       "3  So far I hooked it up and tested it , filled a...         Postive\n",
       "4  i installed this 10 months ago, instructions w...        Negative"
      ]
     },
     "execution_count": 10,
     "metadata": {},
     "output_type": "execute_result"
    }
   ],
   "source": [
    "Text_Tools.head()"
   ]
  },
  {
   "cell_type": "code",
   "execution_count": 11,
   "id": "fc375cb4",
   "metadata": {},
   "outputs": [
    {
     "data": {
      "text/plain": [
       "reviewText         0\n",
       "ReviewSentiment    0\n",
       "dtype: int64"
      ]
     },
     "execution_count": 11,
     "metadata": {},
     "output_type": "execute_result"
    }
   ],
   "source": [
    "Text_Tools.isnull().sum()"
   ]
  },
  {
   "cell_type": "code",
   "execution_count": 12,
   "id": "5ee826d8",
   "metadata": {},
   "outputs": [
    {
     "data": {
      "text/plain": [
       "(1817775, 2)"
      ]
     },
     "execution_count": 12,
     "metadata": {},
     "output_type": "execute_result"
    }
   ],
   "source": [
    "Text_Tools.shape"
   ]
  },
  {
   "cell_type": "markdown",
   "id": "9eb13e8b",
   "metadata": {},
   "source": [
    "# TEXT PREPROCESSING "
   ]
  },
  {
   "cell_type": "code",
   "execution_count": 13,
   "id": "eebbec63",
   "metadata": {},
   "outputs": [
    {
     "name": "stdout",
     "output_type": "stream",
     "text": [
      "326\n"
     ]
    }
   ],
   "source": [
    "import spacy\n",
    "#loading the english language small model of spacy\n",
    "en = spacy.load('en_core_web_sm')\n",
    "stopwords = en.Defaults.stop_words\n",
    "\n",
    "print(len(stopwords))\n",
    "#print(stopwords)"
   ]
  },
  {
   "cell_type": "code",
   "execution_count": 14,
   "id": "8e0078d1",
   "metadata": {
    "scrolled": true
   },
   "outputs": [
    {
     "name": "stdout",
     "output_type": "stream",
     "text": [
      "                                                reviewText ReviewSentiment\n",
      "0                             decided against this product         Postive\n",
      "1        awesome heater for the electrical makes an awe...         Postive\n",
      "2         keeps the mist of your wood trim and on bendable         Postive\n",
      "3        so far hooked it up and tested it filled a fiv...         Postive\n",
      "4        installed this months instructions were easy a...        Negative\n",
      "...                                                    ...             ...\n",
      "2267340  the tool a handy drain especially for clearing...         Postive\n",
      "2267341  this thing bathroom sink was so friend and dra...         Postive\n",
      "2267342  purchased this exact product from a local box ...         Postive\n",
      "2267343  have had one of these in the past and was curi...         Postive\n",
      "2267344                    product works as thank you very         Postive\n",
      "\n",
      "[1817775 rows x 2 columns]\n"
     ]
    }
   ],
   "source": [
    "def clean_text(text):\n",
    "    # Split the text into individual words\n",
    "    words = text.split()\n",
    "    \n",
    "    # Remove any punctuation or non-alphabetic characters\n",
    "    words = [word for word in words if word.isalpha()]\n",
    "    \n",
    "    # Convert all words to lowercase\n",
    "    words = [word.lower() for word in words]\n",
    "    \n",
    "    # Remove any stop words\n",
    "    stop_words = stopwords=('english')\n",
    "    words = [word for word in words if word not in stop_words]\n",
    "    \n",
    "    # Join the words back into a single string\n",
    "    return \" \".join(words)\n",
    "\n",
    "\n",
    "# Clean the \"text\" column using the clean_text() function\n",
    "Text_Tools[\"reviewText\"] = Text_Tools[\"reviewText\"].apply(clean_text)\n",
    "\n",
    "# Print the cleaned data\n",
    "print(Text_Tools)"
   ]
  },
  {
   "cell_type": "code",
   "execution_count": 15,
   "id": "fb98af92",
   "metadata": {},
   "outputs": [],
   "source": [
    "Text_Tools[\"reviewText\"]=Text_Tools[\"reviewText\"].apply(lambda x:' '.join([word for word in x.split() if word not in stopwords]))"
   ]
  },
  {
   "cell_type": "code",
   "execution_count": 16,
   "id": "b34f8db6",
   "metadata": {},
   "outputs": [
    {
     "data": {
      "text/plain": [
       "0                                            decided product\n",
       "1          awesome heater electrical makes awesome prehea...\n",
       "2                              keeps mist wood trim bendable\n",
       "3          far hooked tested filled gallon bucket hot per...\n",
       "4          installed months instructions easy worked wate...\n",
       "                                 ...                        \n",
       "2267340    tool handy drain especially clearing hairballs...\n",
       "2267341    thing bathroom sink friend drano cut maintenan...\n",
       "2267342    purchased exact product local box bathroom sin...\n",
       "2267343    past curious getting noted star minus inaccura...\n",
       "2267344                                  product works thank\n",
       "Name: reviewText, Length: 1817775, dtype: object"
      ]
     },
     "execution_count": 16,
     "metadata": {},
     "output_type": "execute_result"
    }
   ],
   "source": [
    "Text_Tools['reviewText']"
   ]
  },
  {
   "cell_type": "markdown",
   "id": "b7a9bda9",
   "metadata": {},
   "source": [
    "####  CHECKING OUR TEXT DATA FIRST 100 ROWS "
   ]
  },
  {
   "cell_type": "code",
   "execution_count": 17,
   "id": "bcaf9c61",
   "metadata": {
    "scrolled": true
   },
   "outputs": [
    {
     "name": "stdout",
     "output_type": "stream",
     "text": [
      "decided product\n",
      "awesome heater electrical makes awesome preheater talnkless system\n",
      "keeps mist wood trim bendable\n",
      "far hooked tested filled gallon bucket hot perfect temp flow valve came broke tried tighten stop hooked directly sharkbite pex work fine hooked poll amp wait till rest bathroom finished better\n",
      "installed months instructions easy worked water heater stuck tried different modes reset circuit heat water update warranty requires licensed useless service renders possible difficulty monetary gain company disturbs actually dropped heater fixed company named changed supposed heating element lasts years broken tried pick difficult pick possible worst try working voip callback system bad sound baby crying background gives away pretty product like kind repackaged alibaba celsius reading obviously usa jump hoops pick repaired left figured save problems road want deal bad service bought water installed require contractor install warranty new water heater readings dial adjusting inlet manually turn new water heater hot got\n",
      "forgot warranty send pay lots money shipping going\n",
      "better bucks cheaper buy plus real amazon good ratings plastic connection instructions keeping types\n",
      "good hot water heater problems correct water pressure use second water heater main hot water heater maybe better\n",
      "use matcha tea froth easy relaxing whisk froths matcha tea easy\n",
      "work complaint loose happens fairly unit turns instead returning state power fortunately mounted convenient location easy check turn\n",
      "good overflow works white easy dirty like works better course catching finer buy\n",
      "super fast easy\n",
      "hold solar panel roof cargo pretty straight forward installation holds solar panel place\n",
      "little skeptical flow heater different creature tank lessons hot water turn beast lasts service problems best buy year amazon congrats designer\n",
      "bought neighbor loves came exactly\n",
      "arrived good looks install weeks test\n",
      "super deal\n",
      "good thenks\n",
      "cheap works okay\n",
      "smile ear ear warm absolutely adorable stuffed toys seen long quality high coloring warms great gift love variety critter options\n",
      "super strong\n",
      "think look cool little fibers attached flake cool sparkle\n",
      "fantastic item morris canal nj history great leg work went verifying route canal context current rail highway detailed maps descriptions allow trace entire phillipsburg jersey broken sections easily covered series day maps descriptions sections driving gives turn turn directions including park car hiking maps worth team true enthusiasts\n",
      "love need son stick stickers instead plus different pages\n",
      "great quality great\n",
      "\n",
      "quick\n",
      "looks good\n",
      "work great\n",
      "work perfectly\n",
      "super great clip low price\n",
      "purchased christmas gift friends moved new home traditional looked elegant arrived nicely right\n",
      "super quality buy\n",
      "strong durable lots\n",
      "exactly\n",
      "nice dated christmas dated ornament year got married bought new nice\n",
      "measurement advertised\n",
      "early present mom new absolutely loves\n",
      "work fit drop tube filter unit large particles fish getting rinse running water good let picture fool round square wanted\n",
      "great highly easy use outstanding\n",
      "great quick\n",
      "use cover intakes powerheads outside sponge holds eventually eaten away biology freshwater foam collapse\n",
      "searched sticker book find junky expensive worth spiral plenty pages right pages categorized grew collecting like perfect place stickers come dentist slew come mail mimi papa regular\n",
      "product works better buying come mister heads supply way clog system mister head cause leak clog system\n",
      "master bath nice having hot water right easy install potential connections water supply tubes plastic hold tight metal ones tubes jossled bit leak real careful bump supply\n",
      "best\n",
      "great product job happy thank happy\n",
      "graphic designer uses pms communicate old book given free match upgrading new book creative immediately color screen\n",
      "graphic download pantone color manager export new adobe products instructions books download color update books manager file export thought pantone update adobe swatches automatically add books kinda pain bit confusing thought let purchasing\n",
      "ok ok love fact choose colors finally feel like pages overall happy bought need feel like quality paper bit downloadable software user wish good established brands chose think quality years better\n",
      "bought case protect nice case neoprene like material cushions\n",
      "fits lightwedge exactly gives good protection mind case lightwedge bought lightwedge excellent reading bed husband like light room\n",
      "good\n",
      "years moderate use book light worked great year night time reading nights week minutes set batteries leds gave lighting half switch started flaking took apart saw switch problem think design metal switch tab contacts circuit board held place awhile plastic switch cover uses turn unit pushes metal contact small portion contacts circuit board leads light acting going repair glue thought better waste time new ikross similar instead new ordered thing nice lights entire page fairly time felt got bit hold position nook reader nook living reasons trying hoping better use\n",
      "exactly need\n",
      "kindle use wonderful oberon case fits great accent protect case kindle fits like highly\n",
      "wanted simple travel case protect like cost bulk cases sold specifically kindle searching simpler came designed lightwedge fits kindle providing protection bumps light cheaper kindle know designed works great cheap kindle\n",
      "little zippered pouches fantastic way protect lightwedge\n",
      "impressed book light needs leds actually coverage page hard smudges definently need protective case store scratching\n",
      "great buy\n",
      "exactly need\n",
      "love eye types best older eyes need light\n",
      "great nighttime reading\n",
      "great little light grandson loves\n",
      "funny little easel love color quirky happy\n",
      "great flexible job works\n",
      "great wish ran aa\n",
      "got light fast like color adult coloring books daughter says coloring avoid suggestion past great point page coloring book clipboard solid surface attach light partially paralized works great wish found definitely\n",
      "actually clip small pillow prop light source coming book instead like reading light husband happy\n",
      "light bright minutes dims level\n",
      "dims new batteries\n",
      "good\n",
      "great little lite strong clamp settings brightness need low setting\n",
      "works easy use pack casts good light\n",
      "coverage good usually switch reposition possibly bright totally dark light unlit room little light room probably light key ring led evenly covers larger clip portion want eat ac adapter\n",
      "rare product lasted eventually failed plastic casing held pressure like started coming apart repeatedly lost pieces electrical separated circuit wish casing light like maybe aluminum casing held guess light neck batteries long time changed light light cold bit good ambience reading book light lights turned buy\n",
      "great\n",
      "love little easy easy clip grab complaint clips eventually gets lot awesome plucking eyebrows putting clip mirror gooseneck clipped bed night need fumble easy change batteries good long favorite\n",
      "nice bright reading light makes pages look night like\n",
      "love little great clipping headboards read night bed bothering bunk great come weekend forever abuse kids twisting like brightness\n",
      "great compact extremely like runs aaa batteries cheap\n",
      "easy position clamp illuminates save time energy turn bedroom light illuminate battery lasts long\n",
      "wonderful nice nice gifts people particularly places guests sleep house good lighting color light blue case power baseball cap clip batteries long uses aaa cheap easy\n",
      "\n",
      "read bed kids clipped bunk bed brightness perfect batteries bought gifts better light lamp point right\n",
      "okay began flicker drove crazy trying read bus long looking utopian little book\n",
      "gift girlfriend absolutely loves especially loves read night trying bought keeping light product great light focused brightness dock star easily accidentally turn thrown sort switch makes difficult accidentally\n",
      "tiny thing emits light let bending right light book reading material instead lighting room easily goodbye flashlights spare\n",
      "light works brightness little heavy green case different shade\n",
      "light works ok paper flimsy thin led light trouble getting light bend book certain way light certain know work far better hard read book kindle option work\n",
      "perfect child bunk son clip light gives substantial light led light bright need strain\n",
      "nice bright sturdy strong flexible neck moves want want book\n",
      "tried book lights great price easily clips nook kindle bright dark spots easily adjusts durable long lasting light buying second highly\n",
      "product exactly needs bit bulky smallest paperback hold multiple pages cover light levels finding single led entirely plastic bit sophisticated product adding additional weight good product money\n",
      "purchased lights past reading bed squinting adjusting felt like hurting nice green light plenty comfortably read dark\n",
      "book light impressed light gives bright dimmer light gives plenty read clip easily fits flip pages tugging clip rip adjustable neck light entire quality product\n",
      "overnighted tellin good works\n",
      "bought black loved batteries black come batteries bought colored ones gifts come works great night plenty rechargable aaa handly avid need change batteries months\n",
      "let little light fool definitely suppose small nice bright perfect attaching partner bendable easy price break\n",
      "led book light light years pun better old lights incandescent gets great battery unlike found went batteries like led burn like blubs heat integrated battery pack getting tangled cord stumbled local bunch display final harry potter book published figuring lot little going lot reading leftovers sold half real bought tried loved went buy use gifts available colors bright light flex led book bright bright dual flex led book\n"
     ]
    }
   ],
   "source": [
    "c = 0 \n",
    "for i in Text_Tools[\"reviewText\"]:\n",
    "    print(i)\n",
    "    c+=1\n",
    "    if c==100:\n",
    "        break"
   ]
  },
  {
   "cell_type": "code",
   "execution_count": 18,
   "id": "da3e903c",
   "metadata": {},
   "outputs": [
    {
     "data": {
      "text/html": [
       "<div>\n",
       "<style scoped>\n",
       "    .dataframe tbody tr th:only-of-type {\n",
       "        vertical-align: middle;\n",
       "    }\n",
       "\n",
       "    .dataframe tbody tr th {\n",
       "        vertical-align: top;\n",
       "    }\n",
       "\n",
       "    .dataframe thead th {\n",
       "        text-align: right;\n",
       "    }\n",
       "</style>\n",
       "<table border=\"1\" class=\"dataframe\">\n",
       "  <thead>\n",
       "    <tr style=\"text-align: right;\">\n",
       "      <th></th>\n",
       "      <th>reviewText</th>\n",
       "      <th>ReviewSentiment</th>\n",
       "    </tr>\n",
       "  </thead>\n",
       "  <tbody>\n",
       "    <tr>\n",
       "      <th>0</th>\n",
       "      <td>decided product</td>\n",
       "      <td>__label__Postive</td>\n",
       "    </tr>\n",
       "    <tr>\n",
       "      <th>1</th>\n",
       "      <td>awesome heater electrical makes awesome prehea...</td>\n",
       "      <td>__label__Postive</td>\n",
       "    </tr>\n",
       "    <tr>\n",
       "      <th>2</th>\n",
       "      <td>keeps mist wood trim bendable</td>\n",
       "      <td>__label__Postive</td>\n",
       "    </tr>\n",
       "    <tr>\n",
       "      <th>3</th>\n",
       "      <td>far hooked tested filled gallon bucket hot per...</td>\n",
       "      <td>__label__Postive</td>\n",
       "    </tr>\n",
       "    <tr>\n",
       "      <th>4</th>\n",
       "      <td>installed months instructions easy worked wate...</td>\n",
       "      <td>__label__Negative</td>\n",
       "    </tr>\n",
       "  </tbody>\n",
       "</table>\n",
       "</div>"
      ],
      "text/plain": [
       "                                          reviewText    ReviewSentiment\n",
       "0                                    decided product   __label__Postive\n",
       "1  awesome heater electrical makes awesome prehea...   __label__Postive\n",
       "2                      keeps mist wood trim bendable   __label__Postive\n",
       "3  far hooked tested filled gallon bucket hot per...   __label__Postive\n",
       "4  installed months instructions easy worked wate...  __label__Negative"
      ]
     },
     "execution_count": 18,
     "metadata": {},
     "output_type": "execute_result"
    }
   ],
   "source": [
    "Text_Tools['ReviewSentiment'] = '__label__' + Text_Tools['ReviewSentiment'].astype(str)\n",
    "Text_Tools.head(5)"
   ]
  },
  {
   "cell_type": "code",
   "execution_count": 19,
   "id": "61800c93",
   "metadata": {},
   "outputs": [
    {
     "name": "stdout",
     "output_type": "stream",
     "text": [
      "{'unless', 'our', 'less', 'empty', 'indeed', 'anyhow', 'noone', \"'m\", 'eleven', 'several', 'because', 'give', 'sixty', 'already', 'might', 'myself', 'yourself', 'herself', 'due', 'not', \"'d\", 'thence', 'three', 'nor', 'sometimes', '’s', 'beside', 'whereupon', 'around', 'both', '’d', 'put', 'call', '‘m', 'forty', 'hereupon', 'above', 'without', 'beforehand', 'nobody', 'perhaps', 'quite', 'ours', 'so', 'someone', 'amongst', 'only', 'she', 'such', 'he', 'even', 'enough', 'hers', 'one', '’m', 'ca', 'each', 'whereas', 'were', 'those', 'everyone', 'does', 'as', 'eight', 'been', 'much', 'show', 'there', 'with', 'many', 'at', 'you', 'nothing', 'therein', 'itself', 'its', 'wherein', 'has', 'least', 'whose', 'done', 'within', 'some', 'be', 'everything', 'seemed', 'hereby', 'did', 'never', 'per', 'very', 'after', 'yourselves', 'that', 'somehow', 'an', 'back', 'about', 'cannot', 'must', 'my', 'afterwards', 'n’t', 'by', 'of', 'move', '‘ll', 'wherever', 'however', 'which', 'fifteen', 'via', 'anything', 'their', 'whenever', 'latterly', 'using', 'same', 'say', 'between', 'five', 'how', 'together', 'nowhere', 'namely', 'seems', 'over', 'seem', 'almost', 'thereby', 'why', 'upon', 'four', 'on', 'along', 'last', 'any', 'his', 'else', 'whereby', 'is', 'who', 'when', 'really', 'seeming', 'further', 'out', 'every', 'ten', 'whence', '’re', 'also', 'have', 'alone', 'him', 'become', 'i', 'former', 'nine', 'often', 'amount', 'than', 'nevertheless', '’ve', 'latter', 'none', 'two', 'hundred', 'made', 'while', 'now', 'anyone', 'meanwhile', 'fifty', '‘d', '’ll', 'whatever', 'ourselves', 'serious', 'something', 'before', 'for', \"n't\", 'am', 'thereafter', 'had', 'them', 'towards', 'most', 'get', 'do', 'others', 'down', 'being', 'moreover', \"'ll\", 'hereafter', 'to', 'rather', 'full', 'under', 'neither', 'what', 're', 'next', 'whom', 'from', 'becoming', 'yours', 'anywhere', 'until', 'just', \"'s\", 'herein', 'n‘t', 'this', 'always', 'formerly', 'since', 'except', 'take', 'here', 'therefore', 'again', 'go', 'various', 'themselves', 'if', 'off', 'into', 'then', 'us', 'yet', 'would', 'hence', 'anyway', 'either', 'whole', 'mine', 'thru', 'beyond', 'whether', 'whereafter', 'otherwise', 'other', 'make', 'me', 'a', 'but', 'whoever', 'another', 'part', 'though', 'through', 'although', 'twelve', 'among', 'will', 'during', 'could', 'throughout', 'the', 'becomes', 'mostly', 'side', 'became', 'see', 'front', 'no', 'where', 'few', 'own', 'below', 'across', 'sometime', 'against', 'may', 'ever', 'doing', 'her', 'first', 'up', 'keep', 'toward', 'everywhere', \"'ve\", 'behind', 'was', 'please', 'and', '‘s', 'your', 'twenty', 'all', 'well', 'top', 'it', 'too', 'onto', 'they', 'once', 'name', 'we', 'thus', 'more', \"'re\", 'besides', 'elsewhere', 'regarding', '‘re', 'are', 'or', '‘ve', 'six', 'third', 'used', 'still', 'somewhere', 'bottom', 'should', 'in', 'thereupon', 'these', 'can', 'himself', 'whither'}\n"
     ]
    }
   ],
   "source": [
    "print(stopwords)"
   ]
  },
  {
   "cell_type": "code",
   "execution_count": 24,
   "id": "fc5795ea",
   "metadata": {
    "scrolled": false
   },
   "outputs": [
    {
     "data": {
      "text/html": [
       "<div>\n",
       "<style scoped>\n",
       "    .dataframe tbody tr th:only-of-type {\n",
       "        vertical-align: middle;\n",
       "    }\n",
       "\n",
       "    .dataframe tbody tr th {\n",
       "        vertical-align: top;\n",
       "    }\n",
       "\n",
       "    .dataframe thead th {\n",
       "        text-align: right;\n",
       "    }\n",
       "</style>\n",
       "<table border=\"1\" class=\"dataframe\">\n",
       "  <thead>\n",
       "    <tr style=\"text-align: right;\">\n",
       "      <th></th>\n",
       "      <th>reviewText</th>\n",
       "      <th>ReviewSentiment</th>\n",
       "    </tr>\n",
       "  </thead>\n",
       "  <tbody>\n",
       "    <tr>\n",
       "      <th>0</th>\n",
       "      <td>decided product</td>\n",
       "      <td>__label__Postive</td>\n",
       "    </tr>\n",
       "    <tr>\n",
       "      <th>1</th>\n",
       "      <td>awesome heater electrical makes awesome prehea...</td>\n",
       "      <td>__label__Postive</td>\n",
       "    </tr>\n",
       "    <tr>\n",
       "      <th>2</th>\n",
       "      <td>keeps mist wood trim bendable</td>\n",
       "      <td>__label__Postive</td>\n",
       "    </tr>\n",
       "    <tr>\n",
       "      <th>3</th>\n",
       "      <td>far hooked tested filled gallon bucket hot per...</td>\n",
       "      <td>__label__Postive</td>\n",
       "    </tr>\n",
       "    <tr>\n",
       "      <th>4</th>\n",
       "      <td>installed months instructions easy worked wate...</td>\n",
       "      <td>__label__Negative</td>\n",
       "    </tr>\n",
       "  </tbody>\n",
       "</table>\n",
       "</div>"
      ],
      "text/plain": [
       "                                          reviewText    ReviewSentiment\n",
       "0                                    decided product   __label__Postive\n",
       "1  awesome heater electrical makes awesome prehea...   __label__Postive\n",
       "2                      keeps mist wood trim bendable   __label__Postive\n",
       "3  far hooked tested filled gallon bucket hot per...   __label__Postive\n",
       "4  installed months instructions easy worked wate...  __label__Negative"
      ]
     },
     "execution_count": 24,
     "metadata": {},
     "output_type": "execute_result"
    }
   ],
   "source": [
    "Text_Tools.head()"
   ]
  },
  {
   "cell_type": "code",
   "execution_count": 25,
   "id": "8216a33d",
   "metadata": {},
   "outputs": [],
   "source": [
    "X=[]\n",
    "y=[]\n",
    "for i in Text_Tools['reviewText']:\n",
    "    X.append(i)\n",
    "for j in Text_Tools['ReviewSentiment']:\n",
    "    y.append(j)  "
   ]
  },
  {
   "cell_type": "code",
   "execution_count": 26,
   "id": "5d978b80",
   "metadata": {},
   "outputs": [
    {
     "name": "stdout",
     "output_type": "stream",
     "text": [
      "<class 'list'>\n"
     ]
    }
   ],
   "source": [
    "print(type(X))"
   ]
  },
  {
   "cell_type": "code",
   "execution_count": 27,
   "id": "3fed0a22",
   "metadata": {},
   "outputs": [
    {
     "name": "stdout",
     "output_type": "stream",
     "text": [
      "['decided product', 'awesome heater electrical makes awesome preheater talnkless system', 'keeps mist wood trim bendable', 'far hooked tested filled gallon bucket hot perfect temp flow valve came broke tried tighten stop hooked directly sharkbite pex work fine hooked poll amp wait till rest bathroom finished better', 'installed months instructions easy worked water heater stuck tried different modes reset circuit heat water update warranty requires licensed useless service renders possible difficulty monetary gain company disturbs actually dropped heater fixed company named changed supposed heating element lasts years broken tried pick difficult pick possible worst try working voip callback system bad sound baby crying background gives away pretty product like kind repackaged alibaba celsius reading obviously usa jump hoops pick repaired left figured save problems road want deal bad service bought water installed require contractor install warranty new water heater readings dial adjusting inlet manually turn new water heater hot got', 'forgot warranty send pay lots money shipping going', 'better bucks cheaper buy plus real amazon good ratings plastic connection instructions keeping types', 'good hot water heater problems correct water pressure use second water heater main hot water heater maybe better', 'use matcha tea froth easy relaxing whisk froths matcha tea easy', 'work complaint loose happens fairly unit turns instead returning state power fortunately mounted convenient location easy check turn']\n"
     ]
    }
   ],
   "source": [
    "print(X[:10])"
   ]
  },
  {
   "cell_type": "code",
   "execution_count": null,
   "id": "b3f0a30a",
   "metadata": {},
   "outputs": [],
   "source": []
  },
  {
   "cell_type": "code",
   "execution_count": null,
   "id": "fe5f8c36",
   "metadata": {},
   "outputs": [],
   "source": []
  },
  {
   "cell_type": "code",
   "execution_count": null,
   "id": "14836229",
   "metadata": {},
   "outputs": [],
   "source": []
  },
  {
   "cell_type": "code",
   "execution_count": null,
   "id": "862742e3",
   "metadata": {},
   "outputs": [],
   "source": []
  },
  {
   "cell_type": "markdown",
   "id": "f6f72204",
   "metadata": {},
   "source": [
    "# TRAIN TEST SPLIT"
   ]
  },
  {
   "cell_type": "code",
   "execution_count": 28,
   "id": "d5be158d",
   "metadata": {},
   "outputs": [],
   "source": [
    "# Splitting the data in 80:20 ratio for train and test respectively\n",
    "X_train,X_test,y_train,y_test=train_test_split(X,y,test_size=0.20,random_state=9)"
   ]
  },
  {
   "cell_type": "code",
   "execution_count": 29,
   "id": "b5b44c8d",
   "metadata": {},
   "outputs": [],
   "source": [
    "# print(\"X_train\",X_train.shape)\n",
    "# print(\"X_test\",X_test.shape)\n",
    "# print(\"y_train\",y_train.shape)\n",
    "# print(\"y_test\",y_test.shape)"
   ]
  },
  {
   "cell_type": "code",
   "execution_count": 30,
   "id": "e91f687c",
   "metadata": {},
   "outputs": [
    {
     "data": {
      "text/plain": [
       "1454220"
      ]
     },
     "execution_count": 30,
     "metadata": {},
     "output_type": "execute_result"
    }
   ],
   "source": [
    "len(X_train)"
   ]
  },
  {
   "cell_type": "markdown",
   "id": "14345c9d",
   "metadata": {},
   "source": [
    "# VECTORIZATION (TFIDF)"
   ]
  },
  {
   "cell_type": "code",
   "execution_count": 31,
   "id": "61c8ecdf",
   "metadata": {},
   "outputs": [],
   "source": [
    "# Vectorizing the training data using TfidfVectorizer()\n",
    "myvector=TfidfVectorizer()\n",
    "train_vector=myvector.fit_transform(X_train)"
   ]
  },
  {
   "cell_type": "code",
   "execution_count": 32,
   "id": "5a2b9d01",
   "metadata": {},
   "outputs": [
    {
     "data": {
      "text/plain": [
       "(1454220, 109944)"
      ]
     },
     "execution_count": 32,
     "metadata": {},
     "output_type": "execute_result"
    }
   ],
   "source": [
    "train_vector.shape"
   ]
  },
  {
   "cell_type": "code",
   "execution_count": 33,
   "id": "95abfe03",
   "metadata": {},
   "outputs": [],
   "source": [
    "# We see that a vocabulary of 110244 words are made"
   ]
  },
  {
   "cell_type": "code",
   "execution_count": null,
   "id": "be7158be",
   "metadata": {},
   "outputs": [],
   "source": []
  },
  {
   "cell_type": "code",
   "execution_count": 34,
   "id": "367f825d",
   "metadata": {},
   "outputs": [],
   "source": [
    "test_vector=myvector.transform(X_test)"
   ]
  },
  {
   "cell_type": "code",
   "execution_count": 35,
   "id": "420599f7",
   "metadata": {},
   "outputs": [
    {
     "data": {
      "text/plain": [
       "(363555, 109944)"
      ]
     },
     "execution_count": 35,
     "metadata": {},
     "output_type": "execute_result"
    }
   ],
   "source": [
    "test_vector.shape"
   ]
  },
  {
   "cell_type": "markdown",
   "id": "f30a883d",
   "metadata": {},
   "source": [
    "##### CLASSIFICATION USING NAIVE BAYES "
   ]
  },
  {
   "cell_type": "code",
   "execution_count": 36,
   "id": "220ff762",
   "metadata": {},
   "outputs": [],
   "source": [
    "# Perform classification using MultinominalNB()\n",
    "clf=MultinomialNB()\n",
    "train=clf.fit(train_vector,y_train)"
   ]
  },
  {
   "cell_type": "code",
   "execution_count": 37,
   "id": "f9971dca",
   "metadata": {},
   "outputs": [],
   "source": [
    "# Check for predicted value of y\n",
    "y_pred=clf.predict(test_vector)"
   ]
  },
  {
   "cell_type": "code",
   "execution_count": 38,
   "id": "d34c426a",
   "metadata": {
    "scrolled": true
   },
   "outputs": [
    {
     "name": "stdout",
     "output_type": "stream",
     "text": [
      "                   precision    recall  f1-score   support\n",
      "\n",
      "__label__Negative       0.86      0.06      0.11     29993\n",
      " __label__Neutral       0.40      0.00      0.00     23977\n",
      " __label__Postive       0.86      1.00      0.92    309585\n",
      "\n",
      "         accuracy                           0.86    363555\n",
      "        macro avg       0.71      0.35      0.34    363555\n",
      "     weighted avg       0.83      0.86      0.79    363555\n",
      "\n"
     ]
    }
   ],
   "source": [
    "# Classification Report\n",
    "print(classification_report(y_test, y_pred))"
   ]
  },
  {
   "cell_type": "markdown",
   "id": "2af56121",
   "metadata": {},
   "source": [
    "## conclusion:- accuracy is 86%"
   ]
  },
  {
   "cell_type": "code",
   "execution_count": 39,
   "id": "eb5e6199",
   "metadata": {},
   "outputs": [
    {
     "data": {
      "text/plain": [
       "array([[  1780,      3,  28210],\n",
       "       [   155,     10,  23812],\n",
       "       [   126,     12, 309447]], dtype=int64)"
      ]
     },
     "execution_count": 39,
     "metadata": {},
     "output_type": "execute_result"
    }
   ],
   "source": [
    "# Confusion Matrix\n",
    "confusion_matrix(y_test,y_pred)"
   ]
  },
  {
   "cell_type": "code",
   "execution_count": 40,
   "id": "ab3e27b3",
   "metadata": {},
   "outputs": [
    {
     "name": "stdout",
     "output_type": "stream",
     "text": [
      "accuracy: 0.856093300876071\n",
      "recall: 0.856093300876071\n",
      "f1-score: 0.7945771922501816\n",
      "precision: 0.8266275073755458\n"
     ]
    }
   ],
   "source": [
    "# Evaluation Metrics\n",
    "print('accuracy:', accuracy_score(y_test, y_pred))\n",
    "print('recall:', recall_score(y_test, y_pred, average='weighted'))\n",
    "print('f1-score:', f1_score(y_test, y_pred, average='weighted'))\n",
    "print('precision:', precision_score(y_test, y_pred,average='weighted'))"
   ]
  },
  {
   "cell_type": "code",
   "execution_count": 41,
   "id": "d274b6e6",
   "metadata": {},
   "outputs": [],
   "source": [
    "TF_IDF_ACC = round(accuracy_score(y_test, y_pred),2)*100"
   ]
  },
  {
   "cell_type": "code",
   "execution_count": 42,
   "id": "92715c8a",
   "metadata": {},
   "outputs": [],
   "source": [
    "TF_IDF_PREC =  round(precision_score(y_test, y_pred,average='weighted'),2)*100"
   ]
  },
  {
   "cell_type": "code",
   "execution_count": 43,
   "id": "d36aef33",
   "metadata": {},
   "outputs": [],
   "source": [
    "TF_IDF_RE=  round(recall_score(y_test, y_pred, average='weighted'),2)*100"
   ]
  },
  {
   "cell_type": "code",
   "execution_count": 44,
   "id": "b77bddf2",
   "metadata": {},
   "outputs": [],
   "source": [
    "TF_IDF_F1 =  round(f1_score(y_test, y_pred, average='weighted'),2)*100"
   ]
  },
  {
   "cell_type": "code",
   "execution_count": null,
   "id": "21d76c25",
   "metadata": {},
   "outputs": [],
   "source": []
  },
  {
   "cell_type": "markdown",
   "id": "4623b087",
   "metadata": {},
   "source": [
    "## TF-IDF WITH HYPER PARAMETER "
   ]
  },
  {
   "cell_type": "markdown",
   "id": "dbc52ae7",
   "metadata": {},
   "source": [
    "## VECTORIZATION WITH HYPERPARAMETER TUNING "
   ]
  },
  {
   "cell_type": "code",
   "execution_count": 45,
   "id": "e811944c",
   "metadata": {},
   "outputs": [],
   "source": [
    "# Performing Vectorization using sublinear_tf=True,max_df=0.5,min_df=1,stop_words=stopwords.words('english'),use_idf=True,smooth_idf=True\n",
    "myvector2=TfidfVectorizer(sublinear_tf=True,\n",
    "                          max_df=0.95,\n",
    "                          min_df=1,\n",
    "                          use_idf=True,smooth_idf=True)\n",
    "train_vector2=myvector2.fit_transform(X_train)"
   ]
  },
  {
   "cell_type": "code",
   "execution_count": 46,
   "id": "21e5a270",
   "metadata": {},
   "outputs": [
    {
     "data": {
      "text/plain": [
       "(1454220, 109944)"
      ]
     },
     "execution_count": 46,
     "metadata": {},
     "output_type": "execute_result"
    }
   ],
   "source": [
    "train_vector2.shape"
   ]
  },
  {
   "cell_type": "code",
   "execution_count": 47,
   "id": "8ddcd447",
   "metadata": {},
   "outputs": [],
   "source": [
    "# We see that a vocabulary of 109944 words is formed"
   ]
  },
  {
   "cell_type": "code",
   "execution_count": 48,
   "id": "6ecb57d4",
   "metadata": {},
   "outputs": [],
   "source": [
    "test_vector2=myvector2.transform(X_test)"
   ]
  },
  {
   "cell_type": "code",
   "execution_count": 49,
   "id": "b145a7a3",
   "metadata": {
    "scrolled": true
   },
   "outputs": [
    {
     "data": {
      "text/plain": [
       "(363555, 109944)"
      ]
     },
     "execution_count": 49,
     "metadata": {},
     "output_type": "execute_result"
    }
   ],
   "source": [
    "test_vector2.shape"
   ]
  },
  {
   "cell_type": "markdown",
   "id": "b347af47",
   "metadata": {},
   "source": [
    "## MODELLiNG"
   ]
  },
  {
   "cell_type": "code",
   "execution_count": 50,
   "id": "b1165c9c",
   "metadata": {},
   "outputs": [],
   "source": [
    "# Perform classification using MultinominalNB()\n",
    "clf=MultinomialNB()\n",
    "train=clf.fit(train_vector2,y_train)"
   ]
  },
  {
   "cell_type": "code",
   "execution_count": 51,
   "id": "c0b6fda2",
   "metadata": {},
   "outputs": [],
   "source": [
    "# Check for predicted value of y\n",
    "y_pred2=clf.predict(test_vector2)"
   ]
  },
  {
   "cell_type": "code",
   "execution_count": 52,
   "id": "ea85bfa3",
   "metadata": {},
   "outputs": [
    {
     "name": "stdout",
     "output_type": "stream",
     "text": [
      "                   precision    recall  f1-score   support\n",
      "\n",
      "__label__Negative       0.86      0.06      0.11     29993\n",
      " __label__Neutral       0.31      0.00      0.00     23977\n",
      " __label__Postive       0.86      1.00      0.92    309585\n",
      "\n",
      "         accuracy                           0.86    363555\n",
      "        macro avg       0.68      0.35      0.35    363555\n",
      "     weighted avg       0.82      0.86      0.79    363555\n",
      "\n"
     ]
    }
   ],
   "source": [
    "# Classification Report\n",
    "print(classification_report(y_test, y_pred2))"
   ]
  },
  {
   "cell_type": "code",
   "execution_count": 53,
   "id": "2d24fe24",
   "metadata": {},
   "outputs": [
    {
     "data": {
      "text/plain": [
       "array([[  1826,      4,  28163],\n",
       "       [   158,      9,  23810],\n",
       "       [   141,     16, 309428]], dtype=int64)"
      ]
     },
     "execution_count": 53,
     "metadata": {},
     "output_type": "execute_result"
    }
   ],
   "source": [
    "# Confusion Matrix\n",
    "confusion_matrix(y_test,y_pred2)"
   ]
  },
  {
   "cell_type": "code",
   "execution_count": 54,
   "id": "2cdfd992",
   "metadata": {},
   "outputs": [
    {
     "name": "stdout",
     "output_type": "stream",
     "text": [
      "accuracy: 0.8561648168777765\n",
      "recall: 0.8561648168777765\n",
      "f1-score: 0.7948211096641231\n",
      "precision: 0.820446959072453\n"
     ]
    }
   ],
   "source": [
    "# Evaluation Metrics\n",
    "print('accuracy:', accuracy_score(y_test, y_pred2))\n",
    "print('recall:', recall_score(y_test, y_pred2, average='weighted'))\n",
    "print('f1-score:', f1_score(y_test, y_pred2, average='weighted'))\n",
    "print('precision:', precision_score(y_test, y_pred2,average='weighted'))"
   ]
  },
  {
   "cell_type": "code",
   "execution_count": 55,
   "id": "18628a7a",
   "metadata": {},
   "outputs": [],
   "source": [
    "df_compare=pd.DataFrame()"
   ]
  },
  {
   "cell_type": "code",
   "execution_count": 56,
   "id": "1f0341df",
   "metadata": {},
   "outputs": [],
   "source": [
    "df_compare['Model']=['Model without hyperparameters','Model with hyperparameters']\n",
    "df_compare['Accuracy']=[accuracy_score(y_test, y_pred),accuracy_score(y_test, y_pred2)]\n",
    "df_compare['Recall']=[recall_score(y_test, y_pred, average='weighted'),recall_score(y_test, y_pred2, average='weighted')]\n",
    "df_compare['F1-Score']=[f1_score(y_test, y_pred, average='weighted'),f1_score(y_test, y_pred2, average='weighted')]\n",
    "df_compare['Precision']=[precision_score(y_test, y_pred,average='weighted'),precision_score(y_test, y_pred2,average='weighted')]"
   ]
  },
  {
   "cell_type": "code",
   "execution_count": 57,
   "id": "d06632e8",
   "metadata": {},
   "outputs": [
    {
     "data": {
      "text/html": [
       "<div>\n",
       "<style scoped>\n",
       "    .dataframe tbody tr th:only-of-type {\n",
       "        vertical-align: middle;\n",
       "    }\n",
       "\n",
       "    .dataframe tbody tr th {\n",
       "        vertical-align: top;\n",
       "    }\n",
       "\n",
       "    .dataframe thead th {\n",
       "        text-align: right;\n",
       "    }\n",
       "</style>\n",
       "<table border=\"1\" class=\"dataframe\">\n",
       "  <thead>\n",
       "    <tr style=\"text-align: right;\">\n",
       "      <th></th>\n",
       "      <th>Model</th>\n",
       "      <th>Accuracy</th>\n",
       "      <th>Recall</th>\n",
       "      <th>F1-Score</th>\n",
       "      <th>Precision</th>\n",
       "    </tr>\n",
       "  </thead>\n",
       "  <tbody>\n",
       "    <tr>\n",
       "      <th>0</th>\n",
       "      <td>Model without hyperparameters</td>\n",
       "      <td>0.856093</td>\n",
       "      <td>0.856093</td>\n",
       "      <td>0.794577</td>\n",
       "      <td>0.826628</td>\n",
       "    </tr>\n",
       "    <tr>\n",
       "      <th>1</th>\n",
       "      <td>Model with hyperparameters</td>\n",
       "      <td>0.856165</td>\n",
       "      <td>0.856165</td>\n",
       "      <td>0.794821</td>\n",
       "      <td>0.820447</td>\n",
       "    </tr>\n",
       "  </tbody>\n",
       "</table>\n",
       "</div>"
      ],
      "text/plain": [
       "                           Model  Accuracy    Recall  F1-Score  Precision\n",
       "0  Model without hyperparameters  0.856093  0.856093  0.794577   0.826628\n",
       "1     Model with hyperparameters  0.856165  0.856165  0.794821   0.820447"
      ]
     },
     "execution_count": 57,
     "metadata": {},
     "output_type": "execute_result"
    }
   ],
   "source": [
    "df_compare"
   ]
  },
  {
   "cell_type": "code",
   "execution_count": 58,
   "id": "1e28d312",
   "metadata": {},
   "outputs": [],
   "source": [
    "TFIDF_HYPER_ACC =  round(accuracy_score(y_test, y_pred2),2)*100"
   ]
  },
  {
   "cell_type": "code",
   "execution_count": 59,
   "id": "162fdf77",
   "metadata": {},
   "outputs": [],
   "source": [
    "TFIDF_HYPER_PREC = round(precision_score(y_test, y_pred2,average='weighted'),2)*100"
   ]
  },
  {
   "cell_type": "code",
   "execution_count": 60,
   "id": "cafd8935",
   "metadata": {},
   "outputs": [],
   "source": [
    "TFIDF_HYPER_RE = round(recall_score(y_test, y_pred2, average='weighted'),2)*100"
   ]
  },
  {
   "cell_type": "code",
   "execution_count": 61,
   "id": "999534d5",
   "metadata": {},
   "outputs": [],
   "source": [
    "TFIDF_HYPER_F1 = round(f1_score(y_test, y_pred2, average='weighted'),2)*100"
   ]
  },
  {
   "cell_type": "markdown",
   "id": "7048e83d",
   "metadata": {},
   "source": [
    "### BAG OF WORDS "
   ]
  },
  {
   "cell_type": "code",
   "execution_count": 62,
   "id": "b5f4a1ec",
   "metadata": {},
   "outputs": [],
   "source": [
    "from sklearn.feature_extraction.text import CountVectorizer\n"
   ]
  },
  {
   "cell_type": "code",
   "execution_count": 63,
   "id": "85db27e5",
   "metadata": {},
   "outputs": [
    {
     "data": {
      "text/plain": [
       "(363555, 109944)"
      ]
     },
     "execution_count": 63,
     "metadata": {},
     "output_type": "execute_result"
    }
   ],
   "source": [
    "# Vectorizing the training data using CountVectorizer()\n",
    "cv = CountVectorizer()\n",
    "train_vector_bw=cv.fit_transform(X_train)\n",
    "\n",
    "\n",
    "train_vector_bw.shape\n",
    "# We see that a vocabulary of 110244 words are made\n",
    "\n",
    "\n",
    "test_vector_bw=cv.transform(X_test)\n",
    "\n",
    "test_vector_bw.shape"
   ]
  },
  {
   "cell_type": "code",
   "execution_count": 64,
   "id": "5844987b",
   "metadata": {},
   "outputs": [
    {
     "name": "stdout",
     "output_type": "stream",
     "text": [
      "****************************************************************************************************\n",
      "                   precision    recall  f1-score   support\n",
      "\n",
      "__label__Negative       0.57      0.43      0.49     29993\n",
      " __label__Neutral       0.27      0.10      0.15     23977\n",
      " __label__Postive       0.90      0.96      0.93    309585\n",
      "\n",
      "         accuracy                           0.86    363555\n",
      "        macro avg       0.58      0.50      0.52    363555\n",
      "     weighted avg       0.83      0.86      0.84    363555\n",
      "\n",
      "****************************************************************************************************\n",
      "[[ 12885   1994  15114]\n",
      " [  3026   2400  18551]\n",
      " [  6652   4551 298382]]\n",
      "****************************************************************************************************\n",
      "accuracy: 0.862777296420074\n",
      "recall: 0.862777296420074\n",
      "f1-score: 0.8420700537145639\n",
      "precision: 0.8300217335101121\n"
     ]
    }
   ],
   "source": [
    "# Perform classification using MultinominalNB()\n",
    "clf=MultinomialNB()\n",
    "train=clf.fit(train_vector_bw,y_train)\n",
    "\n",
    "# Check for predicted value of y\n",
    "y_pred3=clf.predict(test_vector_bw)\n",
    "\n",
    "print((\"**\"*50))\n",
    "\n",
    "# Classification Report\n",
    "print(classification_report(y_test, y_pred3))\n",
    "\n",
    "print((\"**\"*50))\n",
    "\n",
    "\n",
    "# Confusion Matrix\n",
    "print(confusion_matrix(y_test,y_pred3))\n",
    "\n",
    "\n",
    "print((\"**\"*50))\n",
    "\n",
    "# Evaluation Metrics\n",
    "print('accuracy:', accuracy_score(y_test, y_pred3))\n",
    "print('recall:', recall_score(y_test, y_pred3, average='weighted'))\n",
    "print('f1-score:', f1_score(y_test, y_pred3, average='weighted'))\n",
    "print('precision:', precision_score(y_test, y_pred3,average='weighted'))"
   ]
  },
  {
   "cell_type": "code",
   "execution_count": 65,
   "id": "5701368c",
   "metadata": {},
   "outputs": [],
   "source": [
    "BOW_UNI_ACC =  round(accuracy_score(y_test, y_pred3),2)*100"
   ]
  },
  {
   "cell_type": "code",
   "execution_count": 66,
   "id": "13f8d034",
   "metadata": {},
   "outputs": [],
   "source": [
    "BOW_UNI_PREC =  round(precision_score(y_test, y_pred3,average='weighted'),2)*100"
   ]
  },
  {
   "cell_type": "code",
   "execution_count": 67,
   "id": "506b63c1",
   "metadata": {},
   "outputs": [],
   "source": [
    "BOW_UNI_RE =  round(recall_score(y_test, y_pred3, average='weighted'),2)*100"
   ]
  },
  {
   "cell_type": "code",
   "execution_count": 68,
   "id": "459c2acd",
   "metadata": {},
   "outputs": [],
   "source": [
    "BOW_UNI_F1 =  round( f1_score(y_test, y_pred3, average='weighted'),2)*100"
   ]
  },
  {
   "cell_type": "markdown",
   "id": "67f8ba6d",
   "metadata": {},
   "source": [
    "# N-GRAM"
   ]
  },
  {
   "cell_type": "code",
   "execution_count": 69,
   "id": "0c8b3e1d",
   "metadata": {},
   "outputs": [
    {
     "data": {
      "text/plain": [
       "(363555, 6109630)"
      ]
     },
     "execution_count": 69,
     "metadata": {},
     "output_type": "execute_result"
    }
   ],
   "source": [
    "# Vectorizing the training data using CountVectorizer()\n",
    "cv = CountVectorizer(ngram_range=(2,2))\n",
    "train_vector_bi=cv.fit_transform(X_train)\n",
    "\n",
    "\n",
    "train_vector_bi.shape\n",
    "# We see that a vocabulary of 110244 words are made\n",
    "\n",
    "\n",
    "test_vector_bi=cv.transform(X_test)\n",
    "\n",
    "test_vector_bi.shape"
   ]
  },
  {
   "cell_type": "code",
   "execution_count": 70,
   "id": "07d91aaa",
   "metadata": {},
   "outputs": [
    {
     "name": "stdout",
     "output_type": "stream",
     "text": [
      "****************************************************************************************************\n",
      "                   precision    recall  f1-score   support\n",
      "\n",
      "__label__Negative       0.81      0.17      0.29     29993\n",
      " __label__Neutral       0.61      0.02      0.04     23977\n",
      " __label__Postive       0.87      1.00      0.93    309585\n",
      "\n",
      "         accuracy                           0.87    363555\n",
      "        macro avg       0.76      0.40      0.42    363555\n",
      "     weighted avg       0.85      0.87      0.82    363555\n",
      "\n",
      "****************************************************************************************************\n",
      "[[  5224    158  24611]\n",
      " [   613    496  22868]\n",
      " [   626    157 308802]]\n",
      "****************************************************************************************************\n",
      "accuracy: 0.8651290726300009\n",
      "recall: 0.8651290726300009\n",
      "f1-score: 0.8161119060660014\n",
      "precision: 0.845088337532923\n"
     ]
    }
   ],
   "source": [
    "# Perform classification using MultinominalNB()\n",
    "clf=MultinomialNB()\n",
    "train=clf.fit(train_vector_bi,y_train)\n",
    "\n",
    "# Check for predicted value of y\n",
    "y_pred4=clf.predict(test_vector_bi)\n",
    "\n",
    "print((\"**\"*50))\n",
    "\n",
    "# Classification Report\n",
    "print(classification_report(y_test, y_pred4))\n",
    "\n",
    "print((\"**\"*50))\n",
    "\n",
    "\n",
    "# Confusion Matrix\n",
    "print(confusion_matrix(y_test,y_pred4))\n",
    "\n",
    "\n",
    "print((\"**\"*50))\n",
    "\n",
    "# Evaluation Metrics\n",
    "print('accuracy:', accuracy_score(y_test, y_pred4))\n",
    "print('recall:', recall_score(y_test, y_pred4, average='weighted'))\n",
    "print('f1-score:', f1_score(y_test, y_pred4, average='weighted'))\n",
    "print('precision:', precision_score(y_test, y_pred4,average='weighted'))"
   ]
  },
  {
   "cell_type": "code",
   "execution_count": 71,
   "id": "78d73443",
   "metadata": {},
   "outputs": [],
   "source": [
    "BOW_BI_ACC = round(accuracy_score(y_test, y_pred4),2)*100"
   ]
  },
  {
   "cell_type": "code",
   "execution_count": 72,
   "id": "a2a410b4",
   "metadata": {},
   "outputs": [
    {
     "data": {
      "text/plain": [
       "87.0"
      ]
     },
     "execution_count": 72,
     "metadata": {},
     "output_type": "execute_result"
    }
   ],
   "source": [
    "BOW_BI_ACC"
   ]
  },
  {
   "cell_type": "code",
   "execution_count": 73,
   "id": "5359f2b4",
   "metadata": {},
   "outputs": [],
   "source": [
    "BOW_BI_PREC =  round(precision_score(y_test, y_pred4,average='weighted'),2)*100"
   ]
  },
  {
   "cell_type": "code",
   "execution_count": 74,
   "id": "a6ab6721",
   "metadata": {},
   "outputs": [],
   "source": [
    "BOW_BI_RE =  round(recall_score(y_test, y_pred4, average='weighted'),2)*100"
   ]
  },
  {
   "cell_type": "code",
   "execution_count": 75,
   "id": "d51f54fe",
   "metadata": {},
   "outputs": [],
   "source": [
    "BOW_BI_F1 =  round(f1_score(y_test, y_pred4, average='weighted'),2)*100"
   ]
  },
  {
   "cell_type": "code",
   "execution_count": 76,
   "id": "8a655efe",
   "metadata": {},
   "outputs": [],
   "source": [
    "comparision = pd.DataFrame()"
   ]
  },
  {
   "cell_type": "code",
   "execution_count": 77,
   "id": "a0b6c8fa",
   "metadata": {},
   "outputs": [],
   "source": [
    "comparision['MODEL NAME'] = ['MultinomialNB (NAIEVE_BAYES)','MultinomialNB (NAIEVE_BAYES)','MultinomialNB (NAIEVE_BAYES)','MultinomialNB (NAIEVE_BAYES)']"
   ]
  },
  {
   "cell_type": "code",
   "execution_count": 78,
   "id": "f5e89430",
   "metadata": {},
   "outputs": [],
   "source": [
    "comparision['TEXT EXTRACTION METHOD'] = ['TF_IDF','TF_IDF_HYPERPARAMETRE','BAG OF WORDS(UNIGRAM)','BAG OF WORDS(BIGRAM)']"
   ]
  },
  {
   "cell_type": "code",
   "execution_count": null,
   "id": "8b5ccc2c",
   "metadata": {},
   "outputs": [],
   "source": []
  },
  {
   "cell_type": "code",
   "execution_count": 79,
   "id": "10410acb",
   "metadata": {},
   "outputs": [],
   "source": [
    "comparision['ACCURACY'] = [TF_IDF_ACC,TFIDF_HYPER_ACC,BOW_UNI_ACC,BOW_BI_ACC]"
   ]
  },
  {
   "cell_type": "code",
   "execution_count": 80,
   "id": "795df089",
   "metadata": {},
   "outputs": [],
   "source": [
    "comparision['PRECESSION'] = [TF_IDF_PREC,TFIDF_HYPER_PREC,BOW_UNI_PREC,BOW_BI_PREC]"
   ]
  },
  {
   "cell_type": "code",
   "execution_count": 81,
   "id": "beab7fc9",
   "metadata": {},
   "outputs": [],
   "source": [
    "comparision['RECALL'] = [TF_IDF_RE,TFIDF_HYPER_RE,BOW_UNI_RE,BOW_BI_RE]"
   ]
  },
  {
   "cell_type": "code",
   "execution_count": 82,
   "id": "0fd65176",
   "metadata": {},
   "outputs": [],
   "source": [
    "comparision['F1_SCORE'] = [TF_IDF_F1,TFIDF_HYPER_F1,BOW_UNI_F1,BOW_BI_F1]"
   ]
  },
  {
   "cell_type": "code",
   "execution_count": 83,
   "id": "75c99dc7",
   "metadata": {},
   "outputs": [
    {
     "data": {
      "text/html": [
       "<div>\n",
       "<style scoped>\n",
       "    .dataframe tbody tr th:only-of-type {\n",
       "        vertical-align: middle;\n",
       "    }\n",
       "\n",
       "    .dataframe tbody tr th {\n",
       "        vertical-align: top;\n",
       "    }\n",
       "\n",
       "    .dataframe thead th {\n",
       "        text-align: right;\n",
       "    }\n",
       "</style>\n",
       "<table border=\"1\" class=\"dataframe\">\n",
       "  <thead>\n",
       "    <tr style=\"text-align: right;\">\n",
       "      <th></th>\n",
       "      <th>MODEL NAME</th>\n",
       "      <th>TEXT EXTRACTION METHOD</th>\n",
       "      <th>ACCURACY</th>\n",
       "      <th>PRECESSION</th>\n",
       "      <th>RECALL</th>\n",
       "      <th>F1_SCORE</th>\n",
       "    </tr>\n",
       "  </thead>\n",
       "  <tbody>\n",
       "    <tr>\n",
       "      <th>0</th>\n",
       "      <td>MultinomialNB (NAIEVE_BAYES)</td>\n",
       "      <td>TF_IDF</td>\n",
       "      <td>86.0</td>\n",
       "      <td>83.0</td>\n",
       "      <td>86.0</td>\n",
       "      <td>79.0</td>\n",
       "    </tr>\n",
       "    <tr>\n",
       "      <th>1</th>\n",
       "      <td>MultinomialNB (NAIEVE_BAYES)</td>\n",
       "      <td>TF_IDF_HYPERPARAMETRE</td>\n",
       "      <td>86.0</td>\n",
       "      <td>82.0</td>\n",
       "      <td>86.0</td>\n",
       "      <td>79.0</td>\n",
       "    </tr>\n",
       "    <tr>\n",
       "      <th>2</th>\n",
       "      <td>MultinomialNB (NAIEVE_BAYES)</td>\n",
       "      <td>BAG OF WORDS(UNIGRAM)</td>\n",
       "      <td>86.0</td>\n",
       "      <td>83.0</td>\n",
       "      <td>86.0</td>\n",
       "      <td>84.0</td>\n",
       "    </tr>\n",
       "    <tr>\n",
       "      <th>3</th>\n",
       "      <td>MultinomialNB (NAIEVE_BAYES)</td>\n",
       "      <td>BAG OF WORDS(BIGRAM)</td>\n",
       "      <td>87.0</td>\n",
       "      <td>85.0</td>\n",
       "      <td>87.0</td>\n",
       "      <td>82.0</td>\n",
       "    </tr>\n",
       "  </tbody>\n",
       "</table>\n",
       "</div>"
      ],
      "text/plain": [
       "                     MODEL NAME TEXT EXTRACTION METHOD  ACCURACY  PRECESSION  \\\n",
       "0  MultinomialNB (NAIEVE_BAYES)                 TF_IDF      86.0        83.0   \n",
       "1  MultinomialNB (NAIEVE_BAYES)  TF_IDF_HYPERPARAMETRE      86.0        82.0   \n",
       "2  MultinomialNB (NAIEVE_BAYES)  BAG OF WORDS(UNIGRAM)      86.0        83.0   \n",
       "3  MultinomialNB (NAIEVE_BAYES)   BAG OF WORDS(BIGRAM)      87.0        85.0   \n",
       "\n",
       "   RECALL  F1_SCORE  \n",
       "0    86.0      79.0  \n",
       "1    86.0      79.0  \n",
       "2    86.0      84.0  \n",
       "3    87.0      82.0  "
      ]
     },
     "execution_count": 83,
     "metadata": {},
     "output_type": "execute_result"
    }
   ],
   "source": [
    "comparision"
   ]
  },
  {
   "cell_type": "code",
   "execution_count": 84,
   "id": "152125b1",
   "metadata": {},
   "outputs": [
    {
     "data": {
      "text/plain": [
       "83.5"
      ]
     },
     "execution_count": 84,
     "metadata": {},
     "output_type": "execute_result"
    }
   ],
   "source": [
    "c1=(86+83+86+79)/4                # average score \n",
    "c1"
   ]
  },
  {
   "cell_type": "code",
   "execution_count": 85,
   "id": "64c15257",
   "metadata": {},
   "outputs": [
    {
     "data": {
      "text/plain": [
       "83.25"
      ]
     },
     "execution_count": 85,
     "metadata": {},
     "output_type": "execute_result"
    }
   ],
   "source": [
    "c2=(86+82+86+79)/4\n",
    "c2"
   ]
  },
  {
   "cell_type": "code",
   "execution_count": 86,
   "id": "64b38dee",
   "metadata": {},
   "outputs": [
    {
     "data": {
      "text/plain": [
       "84.75"
      ]
     },
     "execution_count": 86,
     "metadata": {},
     "output_type": "execute_result"
    }
   ],
   "source": [
    "c3=(86+83+86+84)/4\n",
    "c3"
   ]
  },
  {
   "cell_type": "code",
   "execution_count": 87,
   "id": "f270291f",
   "metadata": {},
   "outputs": [
    {
     "data": {
      "text/plain": [
       "85.25"
      ]
     },
     "execution_count": 87,
     "metadata": {},
     "output_type": "execute_result"
    }
   ],
   "source": [
    "c4=(87+85+87+82)/4\n",
    "c4"
   ]
  },
  {
   "cell_type": "markdown",
   "id": "af955477",
   "metadata": {},
   "source": [
    "# *************patio lawn gardern data********************"
   ]
  },
  {
   "cell_type": "code",
   "execution_count": 88,
   "id": "c13768e8",
   "metadata": {},
   "outputs": [],
   "source": [
    "df_patio=pd.read_csv('PATIO_COMPLETELY_CLEAN_FULLY_MERGED_RDY_FOR_MDLLING')"
   ]
  },
  {
   "cell_type": "code",
   "execution_count": 89,
   "id": "f35a35f1",
   "metadata": {},
   "outputs": [
    {
     "data": {
      "text/html": [
       "<div>\n",
       "<style scoped>\n",
       "    .dataframe tbody tr th:only-of-type {\n",
       "        vertical-align: middle;\n",
       "    }\n",
       "\n",
       "    .dataframe tbody tr th {\n",
       "        vertical-align: top;\n",
       "    }\n",
       "\n",
       "    .dataframe thead th {\n",
       "        text-align: right;\n",
       "    }\n",
       "</style>\n",
       "<table border=\"1\" class=\"dataframe\">\n",
       "  <thead>\n",
       "    <tr style=\"text-align: right;\">\n",
       "      <th></th>\n",
       "      <th>title</th>\n",
       "      <th>brand</th>\n",
       "      <th>main_cat</th>\n",
       "      <th>price</th>\n",
       "      <th>product_id</th>\n",
       "      <th>Reviewer_id</th>\n",
       "      <th>rating</th>\n",
       "      <th>verified</th>\n",
       "      <th>reviewText</th>\n",
       "      <th>DATE</th>\n",
       "    </tr>\n",
       "  </thead>\n",
       "  <tbody>\n",
       "    <tr>\n",
       "      <th>0</th>\n",
       "      <td>Colorado US State Flag: 3x5foot poly</td>\n",
       "      <td>3x5fFlags</td>\n",
       "      <td>Amazon Home</td>\n",
       "      <td>52.730167</td>\n",
       "      <td>9539723809</td>\n",
       "      <td>AUVPE2KEXBJVT</td>\n",
       "      <td>5.0</td>\n",
       "      <td>True</td>\n",
       "      <td>I don't spend a lot on my flags because they r...</td>\n",
       "      <td>2011-12-11</td>\n",
       "    </tr>\n",
       "    <tr>\n",
       "      <th>1</th>\n",
       "      <td>Colorado US State Flag: 3x5foot poly</td>\n",
       "      <td>3x5fFlags</td>\n",
       "      <td>Amazon Home</td>\n",
       "      <td>52.730167</td>\n",
       "      <td>9539723809</td>\n",
       "      <td>A2F6GES1MBOFXS</td>\n",
       "      <td>5.0</td>\n",
       "      <td>True</td>\n",
       "      <td>Super fast processing and shipping, if you are...</td>\n",
       "      <td>2011-07-30</td>\n",
       "    </tr>\n",
       "    <tr>\n",
       "      <th>2</th>\n",
       "      <td>Colorado US State Flag: 3x5foot poly</td>\n",
       "      <td>3x5fFlags</td>\n",
       "      <td>Amazon Home</td>\n",
       "      <td>52.730167</td>\n",
       "      <td>9539723809</td>\n",
       "      <td>A1SDVD3SZI1BAK</td>\n",
       "      <td>5.0</td>\n",
       "      <td>True</td>\n",
       "      <td>Great product.  I would recommend this product...</td>\n",
       "      <td>2016-05-04</td>\n",
       "    </tr>\n",
       "    <tr>\n",
       "      <th>3</th>\n",
       "      <td>Colorado US State Flag: 3x5foot poly</td>\n",
       "      <td>3x5fFlags</td>\n",
       "      <td>Amazon Home</td>\n",
       "      <td>52.730167</td>\n",
       "      <td>9539723809</td>\n",
       "      <td>A1ZQJ3KCSLUPR3</td>\n",
       "      <td>5.0</td>\n",
       "      <td>True</td>\n",
       "      <td>GREAT PRICE I LOVE MY STATE AND COUNTRY</td>\n",
       "      <td>2015-11-02</td>\n",
       "    </tr>\n",
       "    <tr>\n",
       "      <th>4</th>\n",
       "      <td>Colorado US State Flag: 3x5foot poly</td>\n",
       "      <td>3x5fFlags</td>\n",
       "      <td>Amazon Home</td>\n",
       "      <td>52.730167</td>\n",
       "      <td>9539723809</td>\n",
       "      <td>ANU8FBZM618M3</td>\n",
       "      <td>5.0</td>\n",
       "      <td>True</td>\n",
       "      <td>Great display flag for the den.</td>\n",
       "      <td>2015-09-01</td>\n",
       "    </tr>\n",
       "  </tbody>\n",
       "</table>\n",
       "</div>"
      ],
      "text/plain": [
       "                                  title      brand     main_cat      price  \\\n",
       "0  Colorado US State Flag: 3x5foot poly  3x5fFlags  Amazon Home  52.730167   \n",
       "1  Colorado US State Flag: 3x5foot poly  3x5fFlags  Amazon Home  52.730167   \n",
       "2  Colorado US State Flag: 3x5foot poly  3x5fFlags  Amazon Home  52.730167   \n",
       "3  Colorado US State Flag: 3x5foot poly  3x5fFlags  Amazon Home  52.730167   \n",
       "4  Colorado US State Flag: 3x5foot poly  3x5fFlags  Amazon Home  52.730167   \n",
       "\n",
       "   product_id     Reviewer_id  rating  verified  \\\n",
       "0  9539723809   AUVPE2KEXBJVT     5.0      True   \n",
       "1  9539723809  A2F6GES1MBOFXS     5.0      True   \n",
       "2  9539723809  A1SDVD3SZI1BAK     5.0      True   \n",
       "3  9539723809  A1ZQJ3KCSLUPR3     5.0      True   \n",
       "4  9539723809   ANU8FBZM618M3     5.0      True   \n",
       "\n",
       "                                          reviewText        DATE  \n",
       "0  I don't spend a lot on my flags because they r...  2011-12-11  \n",
       "1  Super fast processing and shipping, if you are...  2011-07-30  \n",
       "2  Great product.  I would recommend this product...  2016-05-04  \n",
       "3            GREAT PRICE I LOVE MY STATE AND COUNTRY  2015-11-02  \n",
       "4                    Great display flag for the den.  2015-09-01  "
      ]
     },
     "execution_count": 89,
     "metadata": {},
     "output_type": "execute_result"
    }
   ],
   "source": [
    "df_patio.head()"
   ]
  },
  {
   "cell_type": "code",
   "execution_count": 90,
   "id": "7981c06e",
   "metadata": {},
   "outputs": [
    {
     "data": {
      "text/plain": [
       "(932665, 10)"
      ]
     },
     "execution_count": 90,
     "metadata": {},
     "output_type": "execute_result"
    }
   ],
   "source": [
    "df_patio.shape"
   ]
  },
  {
   "cell_type": "code",
   "execution_count": 91,
   "id": "0a1e362c",
   "metadata": {},
   "outputs": [],
   "source": [
    "df_patio.drop_duplicates(subset=None,keep='first',inplace=True)    #is is used to drop duplicate column remain first"
   ]
  },
  {
   "cell_type": "code",
   "execution_count": 92,
   "id": "84f5d6f3",
   "metadata": {},
   "outputs": [
    {
     "data": {
      "text/plain": [
       "(727480, 10)"
      ]
     },
     "execution_count": 92,
     "metadata": {},
     "output_type": "execute_result"
    }
   ],
   "source": [
    "df_patio.shape"
   ]
  },
  {
   "cell_type": "code",
   "execution_count": 93,
   "id": "10d7b4f9",
   "metadata": {},
   "outputs": [],
   "source": [
    "sentiment=[]\n",
    "for i in df_patio['rating']:\n",
    "    if (i>3):\n",
    "        sentiment.append('Positive')\n",
    "    elif(i<3):\n",
    "        sentiment.append('Negative')\n",
    "    else:\n",
    "        sentiment.append('Neutral')"
   ]
  },
  {
   "cell_type": "code",
   "execution_count": 94,
   "id": "bdc755c8",
   "metadata": {},
   "outputs": [],
   "source": [
    "df_patio['ReviewSentiment']=sentiment"
   ]
  },
  {
   "cell_type": "code",
   "execution_count": 95,
   "id": "f3fc2431",
   "metadata": {},
   "outputs": [
    {
     "data": {
      "text/html": [
       "<div>\n",
       "<style scoped>\n",
       "    .dataframe tbody tr th:only-of-type {\n",
       "        vertical-align: middle;\n",
       "    }\n",
       "\n",
       "    .dataframe tbody tr th {\n",
       "        vertical-align: top;\n",
       "    }\n",
       "\n",
       "    .dataframe thead th {\n",
       "        text-align: right;\n",
       "    }\n",
       "</style>\n",
       "<table border=\"1\" class=\"dataframe\">\n",
       "  <thead>\n",
       "    <tr style=\"text-align: right;\">\n",
       "      <th></th>\n",
       "      <th>title</th>\n",
       "      <th>brand</th>\n",
       "      <th>main_cat</th>\n",
       "      <th>price</th>\n",
       "      <th>product_id</th>\n",
       "      <th>Reviewer_id</th>\n",
       "      <th>rating</th>\n",
       "      <th>verified</th>\n",
       "      <th>reviewText</th>\n",
       "      <th>DATE</th>\n",
       "      <th>ReviewSentiment</th>\n",
       "    </tr>\n",
       "  </thead>\n",
       "  <tbody>\n",
       "    <tr>\n",
       "      <th>0</th>\n",
       "      <td>Colorado US State Flag: 3x5foot poly</td>\n",
       "      <td>3x5fFlags</td>\n",
       "      <td>Amazon Home</td>\n",
       "      <td>52.730167</td>\n",
       "      <td>9539723809</td>\n",
       "      <td>AUVPE2KEXBJVT</td>\n",
       "      <td>5.0</td>\n",
       "      <td>True</td>\n",
       "      <td>I don't spend a lot on my flags because they r...</td>\n",
       "      <td>2011-12-11</td>\n",
       "      <td>Positive</td>\n",
       "    </tr>\n",
       "    <tr>\n",
       "      <th>1</th>\n",
       "      <td>Colorado US State Flag: 3x5foot poly</td>\n",
       "      <td>3x5fFlags</td>\n",
       "      <td>Amazon Home</td>\n",
       "      <td>52.730167</td>\n",
       "      <td>9539723809</td>\n",
       "      <td>A2F6GES1MBOFXS</td>\n",
       "      <td>5.0</td>\n",
       "      <td>True</td>\n",
       "      <td>Super fast processing and shipping, if you are...</td>\n",
       "      <td>2011-07-30</td>\n",
       "      <td>Positive</td>\n",
       "    </tr>\n",
       "    <tr>\n",
       "      <th>2</th>\n",
       "      <td>Colorado US State Flag: 3x5foot poly</td>\n",
       "      <td>3x5fFlags</td>\n",
       "      <td>Amazon Home</td>\n",
       "      <td>52.730167</td>\n",
       "      <td>9539723809</td>\n",
       "      <td>A1SDVD3SZI1BAK</td>\n",
       "      <td>5.0</td>\n",
       "      <td>True</td>\n",
       "      <td>Great product.  I would recommend this product...</td>\n",
       "      <td>2016-05-04</td>\n",
       "      <td>Positive</td>\n",
       "    </tr>\n",
       "    <tr>\n",
       "      <th>3</th>\n",
       "      <td>Colorado US State Flag: 3x5foot poly</td>\n",
       "      <td>3x5fFlags</td>\n",
       "      <td>Amazon Home</td>\n",
       "      <td>52.730167</td>\n",
       "      <td>9539723809</td>\n",
       "      <td>A1ZQJ3KCSLUPR3</td>\n",
       "      <td>5.0</td>\n",
       "      <td>True</td>\n",
       "      <td>GREAT PRICE I LOVE MY STATE AND COUNTRY</td>\n",
       "      <td>2015-11-02</td>\n",
       "      <td>Positive</td>\n",
       "    </tr>\n",
       "    <tr>\n",
       "      <th>4</th>\n",
       "      <td>Colorado US State Flag: 3x5foot poly</td>\n",
       "      <td>3x5fFlags</td>\n",
       "      <td>Amazon Home</td>\n",
       "      <td>52.730167</td>\n",
       "      <td>9539723809</td>\n",
       "      <td>ANU8FBZM618M3</td>\n",
       "      <td>5.0</td>\n",
       "      <td>True</td>\n",
       "      <td>Great display flag for the den.</td>\n",
       "      <td>2015-09-01</td>\n",
       "      <td>Positive</td>\n",
       "    </tr>\n",
       "  </tbody>\n",
       "</table>\n",
       "</div>"
      ],
      "text/plain": [
       "                                  title      brand     main_cat      price  \\\n",
       "0  Colorado US State Flag: 3x5foot poly  3x5fFlags  Amazon Home  52.730167   \n",
       "1  Colorado US State Flag: 3x5foot poly  3x5fFlags  Amazon Home  52.730167   \n",
       "2  Colorado US State Flag: 3x5foot poly  3x5fFlags  Amazon Home  52.730167   \n",
       "3  Colorado US State Flag: 3x5foot poly  3x5fFlags  Amazon Home  52.730167   \n",
       "4  Colorado US State Flag: 3x5foot poly  3x5fFlags  Amazon Home  52.730167   \n",
       "\n",
       "   product_id     Reviewer_id  rating  verified  \\\n",
       "0  9539723809   AUVPE2KEXBJVT     5.0      True   \n",
       "1  9539723809  A2F6GES1MBOFXS     5.0      True   \n",
       "2  9539723809  A1SDVD3SZI1BAK     5.0      True   \n",
       "3  9539723809  A1ZQJ3KCSLUPR3     5.0      True   \n",
       "4  9539723809   ANU8FBZM618M3     5.0      True   \n",
       "\n",
       "                                          reviewText        DATE  \\\n",
       "0  I don't spend a lot on my flags because they r...  2011-12-11   \n",
       "1  Super fast processing and shipping, if you are...  2011-07-30   \n",
       "2  Great product.  I would recommend this product...  2016-05-04   \n",
       "3            GREAT PRICE I LOVE MY STATE AND COUNTRY  2015-11-02   \n",
       "4                    Great display flag for the den.  2015-09-01   \n",
       "\n",
       "  ReviewSentiment  \n",
       "0        Positive  \n",
       "1        Positive  \n",
       "2        Positive  \n",
       "3        Positive  \n",
       "4        Positive  "
      ]
     },
     "execution_count": 95,
     "metadata": {},
     "output_type": "execute_result"
    }
   ],
   "source": [
    "df_patio.head()"
   ]
  },
  {
   "cell_type": "code",
   "execution_count": 96,
   "id": "7a49db25",
   "metadata": {},
   "outputs": [],
   "source": [
    "text_patio  = df_patio[[\"reviewText\",\"ReviewSentiment\"]]"
   ]
  },
  {
   "cell_type": "code",
   "execution_count": 97,
   "id": "046c526a",
   "metadata": {},
   "outputs": [
    {
     "data": {
      "text/html": [
       "<div>\n",
       "<style scoped>\n",
       "    .dataframe tbody tr th:only-of-type {\n",
       "        vertical-align: middle;\n",
       "    }\n",
       "\n",
       "    .dataframe tbody tr th {\n",
       "        vertical-align: top;\n",
       "    }\n",
       "\n",
       "    .dataframe thead th {\n",
       "        text-align: right;\n",
       "    }\n",
       "</style>\n",
       "<table border=\"1\" class=\"dataframe\">\n",
       "  <thead>\n",
       "    <tr style=\"text-align: right;\">\n",
       "      <th></th>\n",
       "      <th>reviewText</th>\n",
       "      <th>ReviewSentiment</th>\n",
       "    </tr>\n",
       "  </thead>\n",
       "  <tbody>\n",
       "    <tr>\n",
       "      <th>0</th>\n",
       "      <td>I don't spend a lot on my flags because they r...</td>\n",
       "      <td>Positive</td>\n",
       "    </tr>\n",
       "    <tr>\n",
       "      <th>1</th>\n",
       "      <td>Super fast processing and shipping, if you are...</td>\n",
       "      <td>Positive</td>\n",
       "    </tr>\n",
       "    <tr>\n",
       "      <th>2</th>\n",
       "      <td>Great product.  I would recommend this product...</td>\n",
       "      <td>Positive</td>\n",
       "    </tr>\n",
       "    <tr>\n",
       "      <th>3</th>\n",
       "      <td>GREAT PRICE I LOVE MY STATE AND COUNTRY</td>\n",
       "      <td>Positive</td>\n",
       "    </tr>\n",
       "    <tr>\n",
       "      <th>4</th>\n",
       "      <td>Great display flag for the den.</td>\n",
       "      <td>Positive</td>\n",
       "    </tr>\n",
       "    <tr>\n",
       "      <th>...</th>\n",
       "      <td>...</td>\n",
       "      <td>...</td>\n",
       "    </tr>\n",
       "    <tr>\n",
       "      <th>932660</th>\n",
       "      <td>perfect for the project at hand</td>\n",
       "      <td>Positive</td>\n",
       "    </tr>\n",
       "    <tr>\n",
       "      <th>932661</th>\n",
       "      <td>Like</td>\n",
       "      <td>Positive</td>\n",
       "    </tr>\n",
       "    <tr>\n",
       "      <th>932662</th>\n",
       "      <td>Just what I needed to use in my planting. Just...</td>\n",
       "      <td>Positive</td>\n",
       "    </tr>\n",
       "    <tr>\n",
       "      <th>932663</th>\n",
       "      <td>Perfect for what I needed it for.  My bonsais ...</td>\n",
       "      <td>Positive</td>\n",
       "    </tr>\n",
       "    <tr>\n",
       "      <th>932664</th>\n",
       "      <td>VERY small bag.  No more than a cup of stones ...</td>\n",
       "      <td>Negative</td>\n",
       "    </tr>\n",
       "  </tbody>\n",
       "</table>\n",
       "<p>727480 rows × 2 columns</p>\n",
       "</div>"
      ],
      "text/plain": [
       "                                               reviewText ReviewSentiment\n",
       "0       I don't spend a lot on my flags because they r...        Positive\n",
       "1       Super fast processing and shipping, if you are...        Positive\n",
       "2       Great product.  I would recommend this product...        Positive\n",
       "3                 GREAT PRICE I LOVE MY STATE AND COUNTRY        Positive\n",
       "4                         Great display flag for the den.        Positive\n",
       "...                                                   ...             ...\n",
       "932660                    perfect for the project at hand        Positive\n",
       "932661                                               Like        Positive\n",
       "932662  Just what I needed to use in my planting. Just...        Positive\n",
       "932663  Perfect for what I needed it for.  My bonsais ...        Positive\n",
       "932664  VERY small bag.  No more than a cup of stones ...        Negative\n",
       "\n",
       "[727480 rows x 2 columns]"
      ]
     },
     "execution_count": 97,
     "metadata": {},
     "output_type": "execute_result"
    }
   ],
   "source": [
    "text_patio"
   ]
  },
  {
   "cell_type": "code",
   "execution_count": 98,
   "id": "99edec80",
   "metadata": {},
   "outputs": [
    {
     "data": {
      "text/plain": [
       "reviewText         object\n",
       "ReviewSentiment    object\n",
       "dtype: object"
      ]
     },
     "execution_count": 98,
     "metadata": {},
     "output_type": "execute_result"
    }
   ],
   "source": [
    "text_patio.dtypes"
   ]
  },
  {
   "cell_type": "code",
   "execution_count": 99,
   "id": "f8bbd68a",
   "metadata": {},
   "outputs": [
    {
     "data": {
      "text/plain": [
       "reviewText         0\n",
       "ReviewSentiment    0\n",
       "dtype: int64"
      ]
     },
     "execution_count": 99,
     "metadata": {},
     "output_type": "execute_result"
    }
   ],
   "source": [
    "text_patio.isnull().sum()"
   ]
  },
  {
   "cell_type": "markdown",
   "id": "f2c7013d",
   "metadata": {},
   "source": [
    "# Text Preprocessing"
   ]
  },
  {
   "cell_type": "code",
   "execution_count": 100,
   "id": "f335a0e6",
   "metadata": {},
   "outputs": [],
   "source": [
    "import spacy\n",
    "#loading the english language small model of spacy\n",
    "en = spacy.load('en_core_web_sm')\n",
    "stopwords = en.Defaults.stop_words"
   ]
  },
  {
   "cell_type": "code",
   "execution_count": 101,
   "id": "66c1b38e",
   "metadata": {},
   "outputs": [
    {
     "name": "stdout",
     "output_type": "stream",
     "text": [
      "                                               reviewText ReviewSentiment\n",
      "0       spend a lot on my flags because they really ge...        Positive\n",
      "1       super fast processing and if you are looking f...        Positive\n",
      "2         great would recommend this would recommend this        Positive\n",
      "3                   great price love my state and country        Positive\n",
      "4                              great display flag for the        Positive\n",
      "...                                                   ...             ...\n",
      "932660                    perfect for the project at hand        Positive\n",
      "932661                                               like        Positive\n",
      "932662       just what needed to use in my just the right        Positive\n",
      "932663  perfect for what needed it my bonsais humidity...        Positive\n",
      "932664  very small no more than a cup of stones cheape...        Negative\n",
      "\n",
      "[727480 rows x 2 columns]\n"
     ]
    }
   ],
   "source": [
    "def clean_text(text):\n",
    "    # Split the text into individual words\n",
    "    words = text.split()\n",
    "    \n",
    "    # Remove any punctuation or non-alphabetic characters\n",
    "    words = [word for word in words if word.isalpha()]\n",
    "    \n",
    "    # Convert all words to lowercase\n",
    "    words = [word.lower() for word in words]\n",
    "    \n",
    "    # Remove any stop words\n",
    "    stop_words = stopwords=('english')\n",
    "    words = [word for word in words if word not in stop_words]\n",
    "    \n",
    "    # Join the words back into a single string\n",
    "    return \" \".join(words)\n",
    "\n",
    "\n",
    "# Clean the \"text\" column using the clean_text() function\n",
    "text_patio[\"reviewText\"] = text_patio[\"reviewText\"].apply(clean_text)\n",
    "\n",
    "# Print the cleaned data\n",
    "print(text_patio)"
   ]
  },
  {
   "cell_type": "code",
   "execution_count": 102,
   "id": "ee3a9b41",
   "metadata": {},
   "outputs": [],
   "source": [
    "text_patio[\"reviewText\"]=text_patio[\"reviewText\"].apply(lambda x:' '.join([word for word in x.split() if word not in stopwords]))"
   ]
  },
  {
   "cell_type": "markdown",
   "id": "88b34c20",
   "metadata": {},
   "source": [
    "### Checking the first 100 review texts"
   ]
  },
  {
   "cell_type": "code",
   "execution_count": 103,
   "id": "10e957ba",
   "metadata": {},
   "outputs": [
    {
     "name": "stdout",
     "output_type": "stream",
     "text": [
      "spend lot flags beat lesser quality figuring replaced couple times year fact inexpensive flag flying months later pleases sees winds averaging mph day occasional storm friont gusts reaching high far months starting little fraying buying shortly ready finally gives\n",
      "super fast processing looking flags look good quality product great company business\n",
      "great recommend recommend\n",
      "great price love state country\n",
      "great display flag\n",
      "cheap polyester flag serves purpose school color vibrant size true x\n",
      "serves purpose holding little concerned fading think good\n",
      "great quality looks\n",
      "loved\n",
      "knee saver taking vynal tile basement\n",
      "tool worked remove partial old hardwood works nicely driveway ice frozen snow chipper remover flooring task fiberglass handle ability bend actually assisted removal process unbendable metal need additional buy\n",
      "gave sharp edge strong\n",
      "remove old linoleum job lot\n",
      "bit big use worked got old vinyl great help removing carpet pad stuck\n",
      "heavy heavy good tool hand\n",
      "good\n",
      "tool saved purchased house horrible linoleum floors far gone lay new flooring purchased random oscillating pain hands knees worked slowly chipped old flooring away scraping huge went ahead bought bully scraper started fast blade thick high quality steel handle bend strenuous equipment start dull rubbing slower run spots linoleum heavily glued scrape word advice access hot water cement flooring helps mop hot water let sit couple minutes scrape like\n",
      "large walk chicken coop floor cuts cleaning time\n",
      "received looks like work help cut paths ice snow falls great\n",
      "worked great\n",
      "wished handle little longer actually got taking care unwanted reptiles job\n",
      "heavy duty good ice need shovel black\n",
      "good product bit overall use time\n",
      "purchased process installing ceramic tile floors prepping kitchen floors porcelain tool lives mention saved love fact\n",
      "floor scraper delivered exactly appreciate handle rubber cap worries splinters gets like fact handle bad like\n",
      "bought came monday linoleum flooring removed monday afternoon half\n",
      "clean chicken works\n",
      "super price better average\n",
      "forget blunderbuss axes pound way leave chop estwing axe designed like small axes canoeing head wood handle light carry portaging designed slice wood break good battle estwing axe designed like canoeing profile head slender shaped like razors great grandfathers offering resistance cutting use axe slice wood swing sharper angle grain wood conventional cuts perpendicularly use plates wood fly inches velocity higher conventional axe achieve higher energy greater cutting power limbing better dropping bigger tree use chainsaw use estwing axe limb tree biggest smaller trees use estwing save time messing gas best axe\n",
      "looks feels like hatched years love figured time try expect good\n",
      "nice\n",
      "zero negatives camping axe carry property small\n",
      "better axe\n",
      "great product\n",
      "quality grip feels great\n",
      "bought like filed immediately sharp worried split hard went right occassionally pound hammer brings visible damage hammer makes think axe steel strong metal weaker metal getting held pounding axe like head gotten stuck bad axe expert cut diameter live tree like held lighter cuts firewood excellent making smaller\n",
      "usa sharp excellent highly recommend use cutting thick weed like black hardwoods practice little taking field understand effectiveness great gift\n",
      "ton bamboo backyard tried machetes cut tools took chainsaw kicked bamboo start decided splurge cut shoots easy wrists glad bought\n",
      "husband loves\n",
      "need employee broke ash handle axes trying bought bomb light short handle like splitting cord\n",
      "axe style working florida woods years man minutes bought overnite axes years axe better man chainsaw franklin tree farmer\n",
      "lightweight razor excellent axe hatchet felling useful fill fact comes effective sheath definitely huge cost dollars buy sheath happy\n",
      "good size\n",
      "know funny look closely photo youtube thin piece sticky adhesive sticker cover indentation grove thinking makers machine uses hold arm forming better job bout ok hatchet hoping stability meant guy big hands like use\n",
      "love camping durable\n",
      "exactly\n",
      "awsome axe heavy duty\n",
      "sure love christmas\n",
      "useful clear privet small saplings acres tool arrives sharp ready trees blade narrow deep bite meaning easy disengage wood swung smaller trunks knife trunks limbs severed swung know control strength sure downward path ax leg tool play careless mistake cripple artery kill ax single forged extremely handle length allows use proper shorter taller longer use little uncomfortable rubber cushioned handle absorbs lot like experienced love best use trunks small firewood jobs excellent camping proper tool job trunks probably best dispatched look forward years oiled sheathed use stored safely sharpen dull blades cause accidental cuts sharp incentives offered received\n",
      "built estwing established company builds quality bought axe carry car emergency\n",
      "best camping axe axe best friend years finally bought straps small hiking bag large camping\n",
      "ok best cutting branches heavy axe super like try break axes hammers fall hit hard gets stuck takes lot\n",
      "great nice satisfying\n",
      "owned estwing tools life highest quality tools seen held believe probably nice tool use soon oregon\n",
      "thx\n",
      "quality tool\n",
      "best buy hatchet quality estwing brings table\n",
      "\n",
      "excellent works great chopping soft hard keeps good edge america quality steel taken care leave axe outdoors exposed environment came nice leather sheath\n",
      "good small truck want chop wood\n",
      "father estwing axe particularly kind tools lot left wanted attempt preserving protecting estwing axe survived cleaned sharpened cutting edge sharp useful years leather sheath styled like current tooled acorns leaves belt slits tooled leather needs tlc supple stitching snaps rivets held diverse dad axe ton farm family vacations fire wood new fishing noticed older version lighter weight lb current pound showing wear tear reflects found memories old useful new line quality axe life\n",
      "father estwing axe particularly kind tools lot left wanted attempt preserving protecting estwing axe survived cleaned sharpened cutting edge sharp useful years leather sheath styled like current tooled acorns leaves belt slits tooled leather needs tlc supple stitching snaps rivets held diverse dad axe ton farm family vacations fire wood new fishing noticed older version lighter weight lb current pound showing wear tear reflects found memories old useful new line quality axe life\n",
      "nice\n",
      "came door damaged edge shredded box twice size needed virtually packing horrible packing job caused item lost grinding corners steel handle outside profiles axe head roughly nice smooth polished corners hammers old hatchet better thing happened\n",
      "great clearing weight chop wood\n",
      "leverage hatchet weight\n",
      "good\n",
      "estwing axe years thought helpful review deserves stars outstanding axe steel nylon cushioned grip gives good traction grip absorbs chop gloves short sessions getting says pound great easy swing retain good entire head narrow slim good deep chopping means designed great log want good steel wedge splitting worth having axe head rear blunt rectangle works tapping tent estwing ships axes factory high quality saddle leather riveted sheath replacement estwing sheaths run want sure seller includes sheath sellers known sell axe sell sheaths axes usually average shipped anazon multitude fantastic built hand kids easy slim fit lot hold good great quality good things famous good heartily recommend love hope helpful research comparison shop happy trails enjoy wood\n",
      "estwing axe years thought helpful review deserves stars outstanding axe steel nylon cushioned grip gives good traction grip absorbs chop gloves short sessions getting says pound great easy swing retain good entire head narrow slim good deep chopping means designed great log want good steel wedge splitting worth having axe head rear blunt rectangle works tapping tent high quality saddle leather riveted sheath comes replacement estwing sheaths run axes usually average shipped anazon multitude fantastic built hand kids easy slim fit lot hold good great quality good things famous good heartily recommend love hope helpful research comparison shop happy trails enjoy wood\n",
      "estwing axe years thought helpful review deserves stars outstanding axe steel nylon cushioned grip gives good traction grip absorbs chop gloves short sessions getting says pound great easy swing retain good entire head narrow slim good deep chopping means designed great log want good steel wedge splitting worth having axe head rear blunt rectangle works tapping tent high quality saddle leather riveted sheath comes replacement estwing sheaths run axes usually average shipped anazon multitude fantastic built hand kids easy slim fit lot hold good great quality good things famous good heartily recommend love hope helpful research comparison shop happy trails enjoy wood\n",
      "beautiful sharp cut better suited smaller jobs splitting wood split logs find\n",
      "holds cuts trees steel construction main section like wood synthetic love tools\n",
      "ive looking axe nice light weight mid sized great taking stopped little cheaper bought came leather embossed cover cutting edge normally sells separately ad said guess missed detail felt better\n",
      "great axe\n",
      "great tool\n",
      "perfect sized ax ax chopping cords brand implies need words good mix steel keeping sharp edge\n",
      "like exactly\n",
      "best axes buy little longer\n",
      "reviewers axe blade deep cut grain wood blade tends bind wood rock forth loose blade sharpen axe testing water oak sharp got brand splitting sledge hammers time know swing striking axe easy swing find handle transmit shock notice shock steel tool hickory handled tools weight tool forward aids giving strong blade tool light fast following information disturbing reader discretion advised given thin profile axe tools reasonably light ability maintain solid grip good length grip material tool suitable raise food process grip enable accurate blow struck able hit exactly spot aiming hit thin blade profile enables tool clean cuts single larger animals contend larger bones axe perfect quickly quartering game making appropriate separation troublesome nearly entire piece grip easier clean axes hatches birds smaller animals saying quickly cleanly remove head bringing humane needs axe purpose doubt assessment bit offensive trust trying act like adults fairly axe spite thin blade profile cause binding wood trying think makes excellent camp far thin splitting logs light medium duty campsite duty certainly split small logs good fire estwing hatchet high quality chopping hard time repeating accurate strikes length shape axe makes accurate strikes fact strike harder hands prefer tool camp axe best thing axe going size use chop wood need compact axe bit better service good quality axe wider head suit heavy use wood curved handle multipurpose\n",
      "best medium campers axe stolen canadian camping\n",
      "blade keeps getting stuck\n",
      "bought camping axe sharp arrived splits small firewood size axe hand axe includes sheath careful time removed sheath cut hand sharp\n",
      "awesome\n",
      "bing camping little ax worked great cut branches looking forward camping hunting great ax tell later\n",
      "axe cut small trees clean sharp easy work note axe good splitting thick heavy far good job\n",
      "high excellent type rubberized lower grip long nice leather treated neatsfoot\n",
      "bad ax ax tough outdoorsman campers\n",
      "high quality axe handle useable longer like axe lot quality construction handy\n",
      "bought son bought local hardware use chain saw lot keeping saplings control wanted shallow angle cut limbs actions delighted appreciate quality leather sheath covers head protects cutting edge way love shock absorbing properties wooden steel handle axe worry breaking soft handle cover works think fit category limbing old guy raised lot old reached lightweight limbing axe lot like\n",
      "poorly product quality feel use split wood wood smoker pulled use handed slide end handle use handed accurate oiled sheath protect product pass\n",
      "got estwing campers axe couple days ago pleased axe backorder couple weeks informed status order times glad purchased half axe size years ago found handy camping boy scout sized axes big worked death help course scouts use axes sheath couple size axes wanted easy use great tool highest sheath old school beautiful thick tooled sheath heavily stitched strong rivets double fit snug safe way transport tanned little dry thing wipe neatsfoot recently saved old leather sheath machete shed years neatsfoot oil took weeks restored perfect neatsfoot oil axe blade beautiful right size uses edge rolled little checked licks steel cleared use thing killing use hand need stainless smooth brushed medium shaft appear way guarantie goes way handle like estwing tools grip designed absorb vibrations passing grandson estwing carry backpacking think best general camp tool like evening zombie invasion think perfect wight pierce skull weight cause swing wasting time recommend axe dealer skinny minute needed second thoughts highly recommend axe\n",
      "mediocre easy sort weak compromise qualities want good general recommend\n",
      "bought axe cut rounds performed buy\n",
      "log splitter bought handle found axe accident looking pry bar hand tool know lawn garden section axe know estwing apparently priced good find looking gerber fiskar axes thinking fiskars picked axe like piece solid steel think comes way handle rubber coated leather sheath slits strap tall carry belt getting fire wood axe chop house brick probably chop way exterior read reviews read complaints inconsistant inspected different makes axe chose cleanest looking imperfections think manufacturing estwing maybe axes stored store way axes think small nicks scratches effected performance axe believe actual blade wider purchase axe planning split thick logs try carry axe great demo work smaller tree stuff compare real forged axe head hickory handle considering carry axe great working trees logs thinner blades edge great inches thick thicker blades edge gets stuck getting axe learning developing skills know people spend money swedish blade estwing edge middle widen fast right blade digs maybe deep good gets stuck husqvarna forest axe blade gets thicker quicker damage striking tree log squeeze hands close blade feathering scraping husqvarna forest axe bought length lighter use energy axe work hard worth buy wetterlings granfors considered proper axes forever good\n",
      "heat wood needed replacement handle decided look handle wondered like shorter knew happy estwing design hammers days split wood amazed nice axe quality materials comfortable balanced steel looks finish makes chore easier old money reinvested usa\n",
      "bought maintain single track motorcycle mtn bike trails ride private keeping works inch old downed oaks like flint cut people noted casting flaws axe wusthof kitchen little smaller size bit larger nice size carry bike gives leverage good swing dont buy cut firewood truck clean\n",
      "great\n",
      "want check vendor exactly getting ordering purchased metric gradations price right got gauge nearly precision shape color\n",
      "taylor rain gauge like years took beating tough easy mount stick ground remember mow\n",
      "looking basic rain gauge easily read course brought weather got cold simpler\n"
     ]
    }
   ],
   "source": [
    "c = 0 \n",
    "for i in text_patio[\"reviewText\"]:\n",
    "    print(i)\n",
    "    c+=1\n",
    "    if c==100:\n",
    "        break"
   ]
  },
  {
   "cell_type": "markdown",
   "id": "2b3cb5fb",
   "metadata": {},
   "source": [
    "### We see that our text is now clean and ready for modelling\n",
    "\n",
    "### When you train a fasttext model, it expects labels to be specified with label prefix. We will just create a third column in the dataframe that has label as well as the review description\n"
   ]
  },
  {
   "cell_type": "code",
   "execution_count": 104,
   "id": "0ade4294",
   "metadata": {},
   "outputs": [
    {
     "data": {
      "text/html": [
       "<div>\n",
       "<style scoped>\n",
       "    .dataframe tbody tr th:only-of-type {\n",
       "        vertical-align: middle;\n",
       "    }\n",
       "\n",
       "    .dataframe tbody tr th {\n",
       "        vertical-align: top;\n",
       "    }\n",
       "\n",
       "    .dataframe thead th {\n",
       "        text-align: right;\n",
       "    }\n",
       "</style>\n",
       "<table border=\"1\" class=\"dataframe\">\n",
       "  <thead>\n",
       "    <tr style=\"text-align: right;\">\n",
       "      <th></th>\n",
       "      <th>reviewText</th>\n",
       "      <th>ReviewSentiment</th>\n",
       "    </tr>\n",
       "  </thead>\n",
       "  <tbody>\n",
       "    <tr>\n",
       "      <th>0</th>\n",
       "      <td>spend lot flags beat lesser quality figuring r...</td>\n",
       "      <td>__label__Positive</td>\n",
       "    </tr>\n",
       "    <tr>\n",
       "      <th>1</th>\n",
       "      <td>super fast processing looking flags look good ...</td>\n",
       "      <td>__label__Positive</td>\n",
       "    </tr>\n",
       "    <tr>\n",
       "      <th>2</th>\n",
       "      <td>great recommend recommend</td>\n",
       "      <td>__label__Positive</td>\n",
       "    </tr>\n",
       "    <tr>\n",
       "      <th>3</th>\n",
       "      <td>great price love state country</td>\n",
       "      <td>__label__Positive</td>\n",
       "    </tr>\n",
       "    <tr>\n",
       "      <th>4</th>\n",
       "      <td>great display flag</td>\n",
       "      <td>__label__Positive</td>\n",
       "    </tr>\n",
       "  </tbody>\n",
       "</table>\n",
       "</div>"
      ],
      "text/plain": [
       "                                          reviewText    ReviewSentiment\n",
       "0  spend lot flags beat lesser quality figuring r...  __label__Positive\n",
       "1  super fast processing looking flags look good ...  __label__Positive\n",
       "2                          great recommend recommend  __label__Positive\n",
       "3                     great price love state country  __label__Positive\n",
       "4                                 great display flag  __label__Positive"
      ]
     },
     "execution_count": 104,
     "metadata": {},
     "output_type": "execute_result"
    }
   ],
   "source": [
    "text_patio['ReviewSentiment'] = '__label__' + text_patio['ReviewSentiment'].astype(str)\n",
    "text_patio.head(5)"
   ]
  },
  {
   "cell_type": "code",
   "execution_count": 105,
   "id": "9d9e5124",
   "metadata": {},
   "outputs": [
    {
     "data": {
      "text/plain": [
       "(727480, 2)"
      ]
     },
     "execution_count": 105,
     "metadata": {},
     "output_type": "execute_result"
    }
   ],
   "source": [
    "text_patio.shape"
   ]
  },
  {
   "cell_type": "code",
   "execution_count": 106,
   "id": "81acd5a6",
   "metadata": {},
   "outputs": [],
   "source": [
    "X=[]\n",
    "y=[]\n",
    "for i in text_patio['reviewText']:\n",
    "    X.append(i)\n",
    "for j in text_patio['ReviewSentiment']:\n",
    "    y.append(j)  "
   ]
  },
  {
   "cell_type": "code",
   "execution_count": 107,
   "id": "48617f7b",
   "metadata": {},
   "outputs": [
    {
     "name": "stdout",
     "output_type": "stream",
     "text": [
      "<class 'list'>\n"
     ]
    }
   ],
   "source": [
    "print(type(X))"
   ]
  },
  {
   "cell_type": "code",
   "execution_count": 108,
   "id": "a81a2c2b",
   "metadata": {},
   "outputs": [
    {
     "name": "stdout",
     "output_type": "stream",
     "text": [
      "['spend lot flags beat lesser quality figuring replaced couple times year fact inexpensive flag flying months later pleases sees winds averaging mph day occasional storm friont gusts reaching high far months starting little fraying buying shortly ready finally gives', 'super fast processing looking flags look good quality product great company business', 'great recommend recommend', 'great price love state country', 'great display flag', 'cheap polyester flag serves purpose school color vibrant size true x', 'serves purpose holding little concerned fading think good', 'great quality looks', 'loved', 'knee saver taking vynal tile basement']\n"
     ]
    }
   ],
   "source": [
    "print(X[:10])"
   ]
  },
  {
   "cell_type": "markdown",
   "id": "212b2cf4",
   "metadata": {},
   "source": [
    "# TRAIN TEST SPLIT"
   ]
  },
  {
   "cell_type": "code",
   "execution_count": 109,
   "id": "f4010c5b",
   "metadata": {},
   "outputs": [],
   "source": [
    "# Splitting the data in 80:20 ratio for train and test respectively\n",
    "X_train,X_test,y_train,y_test=train_test_split(X,y,test_size=0.20,random_state=9)"
   ]
  },
  {
   "cell_type": "code",
   "execution_count": 110,
   "id": "733a150f",
   "metadata": {},
   "outputs": [
    {
     "data": {
      "text/plain": [
       "581984"
      ]
     },
     "execution_count": 110,
     "metadata": {},
     "output_type": "execute_result"
    }
   ],
   "source": [
    "len(X_train)"
   ]
  },
  {
   "cell_type": "code",
   "execution_count": 111,
   "id": "3de464f4",
   "metadata": {},
   "outputs": [
    {
     "data": {
      "text/plain": [
       "145496"
      ]
     },
     "execution_count": 111,
     "metadata": {},
     "output_type": "execute_result"
    }
   ],
   "source": [
    "len(X_test)"
   ]
  },
  {
   "cell_type": "code",
   "execution_count": 112,
   "id": "7b763db7",
   "metadata": {},
   "outputs": [
    {
     "data": {
      "text/plain": [
       "581984"
      ]
     },
     "execution_count": 112,
     "metadata": {},
     "output_type": "execute_result"
    }
   ],
   "source": [
    "len(y_train)"
   ]
  },
  {
   "cell_type": "code",
   "execution_count": 113,
   "id": "0ee05e20",
   "metadata": {},
   "outputs": [
    {
     "data": {
      "text/plain": [
       "145496"
      ]
     },
     "execution_count": 113,
     "metadata": {},
     "output_type": "execute_result"
    }
   ],
   "source": [
    "len(y_test)"
   ]
  },
  {
   "cell_type": "markdown",
   "id": "b0ad1f5f",
   "metadata": {},
   "source": [
    "# VECTORIZATION (TFIDF)"
   ]
  },
  {
   "cell_type": "code",
   "execution_count": 114,
   "id": "6ded5fe4",
   "metadata": {},
   "outputs": [],
   "source": [
    "# Vectorizing the training data using TfidfVectorizer()\n",
    "myvector=TfidfVectorizer()\n",
    "train_vector=myvector.fit_transform(X_train)"
   ]
  },
  {
   "cell_type": "code",
   "execution_count": 115,
   "id": "b1e1e326",
   "metadata": {},
   "outputs": [
    {
     "data": {
      "text/plain": [
       "(581984, 71855)"
      ]
     },
     "execution_count": 115,
     "metadata": {},
     "output_type": "execute_result"
    }
   ],
   "source": [
    "train_vector.shape"
   ]
  },
  {
   "cell_type": "code",
   "execution_count": 116,
   "id": "63738077",
   "metadata": {},
   "outputs": [],
   "source": [
    "test_vector=myvector.transform(X_test)         # here we use same vocabulary of x_train "
   ]
  },
  {
   "cell_type": "code",
   "execution_count": 117,
   "id": "dd698211",
   "metadata": {},
   "outputs": [
    {
     "data": {
      "text/plain": [
       "(145496, 71855)"
      ]
     },
     "execution_count": 117,
     "metadata": {},
     "output_type": "execute_result"
    }
   ],
   "source": [
    "test_vector.shape  "
   ]
  },
  {
   "cell_type": "markdown",
   "id": "d10c1996",
   "metadata": {},
   "source": [
    "## CLASSIFICATION USING NAIVE BAYES"
   ]
  },
  {
   "cell_type": "code",
   "execution_count": 118,
   "id": "844cebc5",
   "metadata": {},
   "outputs": [],
   "source": [
    "# Perform classification using MultinominalNB()\n",
    "clf=MultinomialNB()\n",
    "train=clf.fit(train_vector,y_train)                  # x_train,y_train"
   ]
  },
  {
   "cell_type": "code",
   "execution_count": 119,
   "id": "743de975",
   "metadata": {},
   "outputs": [],
   "source": [
    "# Check for predicted value of y\n",
    "y_pred=clf.predict(test_vector)                 # on x_test data"
   ]
  },
  {
   "cell_type": "code",
   "execution_count": 120,
   "id": "b26880bd",
   "metadata": {},
   "outputs": [
    {
     "name": "stdout",
     "output_type": "stream",
     "text": [
      "                   precision    recall  f1-score   support\n",
      "\n",
      "__label__Negative       0.88      0.08      0.14     14985\n",
      " __label__Neutral       0.52      0.00      0.00     10452\n",
      "__label__Positive       0.83      1.00      0.91    120059\n",
      "\n",
      "         accuracy                           0.83    145496\n",
      "        macro avg       0.75      0.36      0.35    145496\n",
      "     weighted avg       0.82      0.83      0.76    145496\n",
      "\n"
     ]
    }
   ],
   "source": [
    "# Classification Report\n",
    "print(classification_report(y_test, y_pred))"
   ]
  },
  {
   "cell_type": "code",
   "execution_count": 121,
   "id": "76602355",
   "metadata": {},
   "outputs": [
    {
     "data": {
      "text/plain": [
       "array([[  1178,      2,  13805],\n",
       "       [    94,     11,  10347],\n",
       "       [    63,      8, 119988]], dtype=int64)"
      ]
     },
     "execution_count": 121,
     "metadata": {},
     "output_type": "execute_result"
    }
   ],
   "source": [
    "# Confusion Matrix\n",
    "confusion_matrix(y_test,y_pred)"
   ]
  },
  {
   "cell_type": "code",
   "execution_count": 122,
   "id": "d424fdb0",
   "metadata": {},
   "outputs": [
    {
     "name": "stdout",
     "output_type": "stream",
     "text": [
      "accuracy: 0.8328545114642327\n",
      "recall: 0.8328545114642327\n",
      "f1-score: 0.7645341519783894\n",
      "precision: 0.8154146654520638\n"
     ]
    }
   ],
   "source": [
    "# Evaluation Metrics\n",
    "print('accuracy:', accuracy_score(y_test, y_pred))\n",
    "print('recall:', recall_score(y_test, y_pred, average='weighted'))\n",
    "print('f1-score:', f1_score(y_test, y_pred, average='weighted'))\n",
    "print('precision:', precision_score(y_test, y_pred,average='weighted'))"
   ]
  },
  {
   "cell_type": "code",
   "execution_count": 123,
   "id": "3c93a231",
   "metadata": {},
   "outputs": [],
   "source": [
    "TF_IDF_ACC = round(accuracy_score(y_test, y_pred),2)*100"
   ]
  },
  {
   "cell_type": "code",
   "execution_count": 124,
   "id": "9dc0cfdd",
   "metadata": {},
   "outputs": [],
   "source": [
    "TF_IDF_PREC =  round(precision_score(y_test, y_pred,average='weighted'),2)*100"
   ]
  },
  {
   "cell_type": "code",
   "execution_count": 125,
   "id": "37186d8e",
   "metadata": {},
   "outputs": [],
   "source": [
    "TF_IDF_RE=  round(recall_score(y_test, y_pred, average='weighted'),2)*100"
   ]
  },
  {
   "cell_type": "code",
   "execution_count": 126,
   "id": "f92ffa20",
   "metadata": {},
   "outputs": [],
   "source": [
    "TF_IDF_F1 =  round(f1_score(y_test, y_pred, average='weighted'),2)*100"
   ]
  },
  {
   "cell_type": "markdown",
   "id": "5ea66439",
   "metadata": {},
   "source": [
    "# TF-IDF WITH HYPER PARAMETER\n",
    "# VECTORIZATION WITH HYPERPARAMETER TUNING"
   ]
  },
  {
   "cell_type": "code",
   "execution_count": 127,
   "id": "60f8ef5d",
   "metadata": {},
   "outputs": [],
   "source": [
    "# Performing Vectorization using sublinear_tf=True,max_df=0.5,min_df=1,stop_words=stopwords.words('english'),use_idf=True,smooth_idf=True\n",
    "myvector2=TfidfVectorizer(sublinear_tf=True,\n",
    "                          max_df=0.95,\n",
    "                          min_df=1,\n",
    "                          use_idf=True,smooth_idf=True)\n",
    "train_vector2=myvector2.fit_transform(X_train)"
   ]
  },
  {
   "cell_type": "code",
   "execution_count": 128,
   "id": "9fe60112",
   "metadata": {},
   "outputs": [
    {
     "data": {
      "text/plain": [
       "(581984, 71855)"
      ]
     },
     "execution_count": 128,
     "metadata": {},
     "output_type": "execute_result"
    }
   ],
   "source": [
    "train_vector2.shape"
   ]
  },
  {
   "cell_type": "code",
   "execution_count": 129,
   "id": "6839a9c9",
   "metadata": {},
   "outputs": [],
   "source": [
    "test_vector2=myvector2.transform(X_test)"
   ]
  },
  {
   "cell_type": "code",
   "execution_count": 130,
   "id": "d24a8e4e",
   "metadata": {},
   "outputs": [
    {
     "data": {
      "text/plain": [
       "(145496, 71855)"
      ]
     },
     "execution_count": 130,
     "metadata": {},
     "output_type": "execute_result"
    }
   ],
   "source": [
    "test_vector2.shape"
   ]
  },
  {
   "cell_type": "markdown",
   "id": "b2816dc9",
   "metadata": {},
   "source": [
    "## MODELLING"
   ]
  },
  {
   "cell_type": "code",
   "execution_count": 131,
   "id": "7dc76bf7",
   "metadata": {},
   "outputs": [],
   "source": [
    "# Perform classification using MultinominalNB()\n",
    "clf=MultinomialNB()\n",
    "train=clf.fit(train_vector2,y_train)"
   ]
  },
  {
   "cell_type": "code",
   "execution_count": 132,
   "id": "7145e63f",
   "metadata": {},
   "outputs": [],
   "source": [
    "# Check for predicted value of y\n",
    "y_pred2=clf.predict(test_vector2)"
   ]
  },
  {
   "cell_type": "code",
   "execution_count": 133,
   "id": "3ab9f2c0",
   "metadata": {},
   "outputs": [
    {
     "name": "stdout",
     "output_type": "stream",
     "text": [
      "                   precision    recall  f1-score   support\n",
      "\n",
      "__label__Negative       0.88      0.08      0.15     14985\n",
      " __label__Neutral       0.52      0.00      0.00     10452\n",
      "__label__Positive       0.83      1.00      0.91    120059\n",
      "\n",
      "         accuracy                           0.83    145496\n",
      "        macro avg       0.75      0.36      0.35    145496\n",
      "     weighted avg       0.82      0.83      0.76    145496\n",
      "\n"
     ]
    }
   ],
   "source": [
    "# Classification Report\n",
    "print(classification_report(y_test, y_pred2))"
   ]
  },
  {
   "cell_type": "code",
   "execution_count": 134,
   "id": "b8cb1886",
   "metadata": {},
   "outputs": [
    {
     "data": {
      "text/plain": [
       "array([[  1192,      2,  13791],\n",
       "       [    93,     11,  10348],\n",
       "       [    70,      8, 119981]], dtype=int64)"
      ]
     },
     "execution_count": 134,
     "metadata": {},
     "output_type": "execute_result"
    }
   ],
   "source": [
    "# Confusion Matrix\n",
    "confusion_matrix(y_test,y_pred2)"
   ]
  },
  {
   "cell_type": "code",
   "execution_count": 135,
   "id": "622a6118",
   "metadata": {},
   "outputs": [
    {
     "name": "stdout",
     "output_type": "stream",
     "text": [
      "accuracy: 0.8329026227525156\n",
      "recall: 0.8329026227525156\n",
      "f1-score: 0.764705453493407\n",
      "precision: 0.8151926333394318\n"
     ]
    }
   ],
   "source": [
    "# Evaluation Metrics\n",
    "print('accuracy:', accuracy_score(y_test, y_pred2))\n",
    "print('recall:', recall_score(y_test, y_pred2, average='weighted'))\n",
    "print('f1-score:', f1_score(y_test, y_pred2, average='weighted'))\n",
    "print('precision:', precision_score(y_test, y_pred2,average='weighted'))"
   ]
  },
  {
   "cell_type": "code",
   "execution_count": 136,
   "id": "76287cdd",
   "metadata": {},
   "outputs": [],
   "source": [
    "df_compare=pd.DataFrame()"
   ]
  },
  {
   "cell_type": "code",
   "execution_count": 137,
   "id": "4dee1fa6",
   "metadata": {},
   "outputs": [],
   "source": [
    "df_compare['Model']=['Model without hyperparameters','Model with hyperparameters']\n",
    "df_compare['Accuracy']=[accuracy_score(y_test, y_pred),accuracy_score(y_test, y_pred2)]\n",
    "df_compare['Recall']=[recall_score(y_test, y_pred, average='weighted'),recall_score(y_test, y_pred2, average='weighted')]\n",
    "df_compare['F1-Score']=[f1_score(y_test, y_pred, average='weighted'),f1_score(y_test, y_pred2, average='weighted')]\n",
    "df_compare['Precision']=[precision_score(y_test, y_pred,average='weighted'),precision_score(y_test, y_pred2,average='weighted')]"
   ]
  },
  {
   "cell_type": "code",
   "execution_count": 138,
   "id": "44d78227",
   "metadata": {},
   "outputs": [
    {
     "data": {
      "text/html": [
       "<div>\n",
       "<style scoped>\n",
       "    .dataframe tbody tr th:only-of-type {\n",
       "        vertical-align: middle;\n",
       "    }\n",
       "\n",
       "    .dataframe tbody tr th {\n",
       "        vertical-align: top;\n",
       "    }\n",
       "\n",
       "    .dataframe thead th {\n",
       "        text-align: right;\n",
       "    }\n",
       "</style>\n",
       "<table border=\"1\" class=\"dataframe\">\n",
       "  <thead>\n",
       "    <tr style=\"text-align: right;\">\n",
       "      <th></th>\n",
       "      <th>Model</th>\n",
       "      <th>Accuracy</th>\n",
       "      <th>Recall</th>\n",
       "      <th>F1-Score</th>\n",
       "      <th>Precision</th>\n",
       "    </tr>\n",
       "  </thead>\n",
       "  <tbody>\n",
       "    <tr>\n",
       "      <th>0</th>\n",
       "      <td>Model without hyperparameters</td>\n",
       "      <td>0.832855</td>\n",
       "      <td>0.832855</td>\n",
       "      <td>0.764534</td>\n",
       "      <td>0.815415</td>\n",
       "    </tr>\n",
       "    <tr>\n",
       "      <th>1</th>\n",
       "      <td>Model with hyperparameters</td>\n",
       "      <td>0.832903</td>\n",
       "      <td>0.832903</td>\n",
       "      <td>0.764705</td>\n",
       "      <td>0.815193</td>\n",
       "    </tr>\n",
       "  </tbody>\n",
       "</table>\n",
       "</div>"
      ],
      "text/plain": [
       "                           Model  Accuracy    Recall  F1-Score  Precision\n",
       "0  Model without hyperparameters  0.832855  0.832855  0.764534   0.815415\n",
       "1     Model with hyperparameters  0.832903  0.832903  0.764705   0.815193"
      ]
     },
     "execution_count": 138,
     "metadata": {},
     "output_type": "execute_result"
    }
   ],
   "source": [
    "df_compare"
   ]
  },
  {
   "cell_type": "code",
   "execution_count": 139,
   "id": "a1662183",
   "metadata": {},
   "outputs": [],
   "source": [
    "TFIDF_HYPER_ACC =  round(accuracy_score(y_test, y_pred2),2)*100"
   ]
  },
  {
   "cell_type": "code",
   "execution_count": 140,
   "id": "0a3a8ce5",
   "metadata": {},
   "outputs": [],
   "source": [
    "TFIDF_HYPER_PREC = round(precision_score(y_test, y_pred2,average='weighted'),2)*100"
   ]
  },
  {
   "cell_type": "code",
   "execution_count": 141,
   "id": "7f099ea3",
   "metadata": {},
   "outputs": [],
   "source": [
    "TFIDF_HYPER_RE = round(recall_score(y_test, y_pred2, average='weighted'),2)*100"
   ]
  },
  {
   "cell_type": "code",
   "execution_count": 142,
   "id": "4cd672c2",
   "metadata": {},
   "outputs": [],
   "source": [
    "TFIDF_HYPER_F1 = round(f1_score(y_test, y_pred2, average='weighted'),2)*100"
   ]
  },
  {
   "cell_type": "markdown",
   "id": "e9ff5c34",
   "metadata": {},
   "source": [
    "# BAG OF WORDS"
   ]
  },
  {
   "cell_type": "code",
   "execution_count": 143,
   "id": "47c5e770",
   "metadata": {},
   "outputs": [],
   "source": [
    "from sklearn.feature_extraction.text import CountVectorizer\n"
   ]
  },
  {
   "cell_type": "code",
   "execution_count": 144,
   "id": "d6c21a84",
   "metadata": {},
   "outputs": [
    {
     "data": {
      "text/plain": [
       "(145496, 71855)"
      ]
     },
     "execution_count": 144,
     "metadata": {},
     "output_type": "execute_result"
    }
   ],
   "source": [
    "# Vectorizing the training data using CountVectorizer()\n",
    "cv = CountVectorizer()\n",
    "train_vector_bw=cv.fit_transform(X_train)\n",
    "\n",
    "\n",
    "train_vector_bw.shape\n",
    "# We see that a vocabulary of 110244 words are made\n",
    "\n",
    "\n",
    "test_vector_bw=cv.transform(X_test)\n",
    "\n",
    "test_vector_bw.shape"
   ]
  },
  {
   "cell_type": "code",
   "execution_count": 145,
   "id": "878cfdf1",
   "metadata": {},
   "outputs": [
    {
     "name": "stdout",
     "output_type": "stream",
     "text": [
      "****************************************************************************************************\n",
      "                   precision    recall  f1-score   support\n",
      "\n",
      "__label__Negative       0.59      0.43      0.50     14985\n",
      " __label__Neutral       0.29      0.08      0.12     10452\n",
      "__label__Positive       0.88      0.96      0.92    120059\n",
      "\n",
      "         accuracy                           0.84    145496\n",
      "        macro avg       0.58      0.49      0.51    145496\n",
      "     weighted avg       0.80      0.84      0.82    145496\n",
      "\n",
      "****************************************************************************************************\n",
      "[[  6507    618   7860]\n",
      " [  1398    810   8244]\n",
      " [  3201   1412 115446]]\n",
      "****************************************************************************************************\n",
      "accuracy: 0.8437551547808875\n",
      "recall: 0.8437551547808875\n",
      "f1-score: 0.8173547643783727\n",
      "precision: 0.8049872844807807\n"
     ]
    }
   ],
   "source": [
    "# Perform classification using MultinominalNB()\n",
    "clf=MultinomialNB()\n",
    "train=clf.fit(train_vector_bw,y_train)\n",
    "\n",
    "# Check for predicted value of y\n",
    "y_pred3=clf.predict(test_vector_bw)\n",
    "\n",
    "print((\"**\"*50))\n",
    "\n",
    "# Classification Report\n",
    "print(classification_report(y_test, y_pred3))\n",
    "\n",
    "print((\"**\"*50))\n",
    "\n",
    "\n",
    "# Confusion Matrix\n",
    "print(confusion_matrix(y_test,y_pred3))\n",
    "\n",
    "\n",
    "print((\"**\"*50))\n",
    "\n",
    "# Evaluation Metrics\n",
    "print('accuracy:', accuracy_score(y_test, y_pred3))\n",
    "print('recall:', recall_score(y_test, y_pred3, average='weighted'))\n",
    "print('f1-score:', f1_score(y_test, y_pred3, average='weighted'))\n",
    "print('precision:', precision_score(y_test, y_pred3,average='weighted'))"
   ]
  },
  {
   "cell_type": "code",
   "execution_count": 146,
   "id": "531cdc82",
   "metadata": {},
   "outputs": [],
   "source": [
    "BOW_UNI_ACC =  round(accuracy_score(y_test, y_pred3),2)*100"
   ]
  },
  {
   "cell_type": "code",
   "execution_count": 147,
   "id": "10affa1b",
   "metadata": {},
   "outputs": [],
   "source": [
    "BOW_UNI_PREC =  round(precision_score(y_test, y_pred3,average='weighted'),2)*100"
   ]
  },
  {
   "cell_type": "code",
   "execution_count": 148,
   "id": "96bf0cbd",
   "metadata": {},
   "outputs": [],
   "source": [
    "BOW_UNI_RE =  round(recall_score(y_test, y_pred3, average='weighted'),2)*100"
   ]
  },
  {
   "cell_type": "code",
   "execution_count": 149,
   "id": "6b14548d",
   "metadata": {},
   "outputs": [],
   "source": [
    "BOW_UNI_F1 =  round( f1_score(y_test, y_pred3, average='weighted'),2)*100"
   ]
  },
  {
   "cell_type": "markdown",
   "id": "a8b2a3b5",
   "metadata": {},
   "source": [
    "# N-GRAM"
   ]
  },
  {
   "cell_type": "code",
   "execution_count": 150,
   "id": "0ca537c5",
   "metadata": {},
   "outputs": [
    {
     "data": {
      "text/plain": [
       "(145496, 3246637)"
      ]
     },
     "execution_count": 150,
     "metadata": {},
     "output_type": "execute_result"
    }
   ],
   "source": [
    "# Vectorizing the training data using CountVectorizer()\n",
    "cv = CountVectorizer(ngram_range=(2,2))\n",
    "train_vector_bi=cv.fit_transform(X_train)\n",
    "\n",
    "\n",
    "train_vector_bi.shape\n",
    "# We see that a vocabulary of 110244 words are made\n",
    "\n",
    "\n",
    "test_vector_bi=cv.transform(X_test)\n",
    "\n",
    "test_vector_bi.shape"
   ]
  },
  {
   "cell_type": "code",
   "execution_count": 151,
   "id": "2d95e5f2",
   "metadata": {},
   "outputs": [
    {
     "name": "stdout",
     "output_type": "stream",
     "text": [
      "****************************************************************************************************\n",
      "                   precision    recall  f1-score   support\n",
      "\n",
      "__label__Negative       0.83      0.19      0.31     14985\n",
      " __label__Neutral       0.65      0.03      0.05     10452\n",
      "__label__Positive       0.84      1.00      0.91    120059\n",
      "\n",
      "         accuracy                           0.84    145496\n",
      "        macro avg       0.77      0.40      0.42    145496\n",
      "     weighted avg       0.83      0.84      0.79    145496\n",
      "\n",
      "****************************************************************************************************\n",
      "[[  2806     71  12108]\n",
      " [   276    279   9897]\n",
      " [   310     78 119671]]\n",
      "****************************************************************************************************\n",
      "accuracy: 0.8437070434926046\n",
      "recall: 0.8437070434926046\n",
      "f1-score: 0.7897084901730853\n",
      "precision: 0.829033588706945\n"
     ]
    }
   ],
   "source": [
    "# Perform classification using MultinominalNB()\n",
    "clf=MultinomialNB()\n",
    "train=clf.fit(train_vector_bi,y_train)\n",
    "\n",
    "# Check for predicted value of y\n",
    "y_pred4=clf.predict(test_vector_bi)\n",
    "\n",
    "print((\"**\"*50))\n",
    "\n",
    "# Classification Report\n",
    "print(classification_report(y_test, y_pred4))\n",
    "\n",
    "print((\"**\"*50))\n",
    "\n",
    "\n",
    "# Confusion Matrix\n",
    "print(confusion_matrix(y_test,y_pred4))\n",
    "\n",
    "\n",
    "print((\"**\"*50))\n",
    "\n",
    "# Evaluation Metrics\n",
    "print('accuracy:', accuracy_score(y_test, y_pred4))\n",
    "print('recall:', recall_score(y_test, y_pred4, average='weighted'))\n",
    "print('f1-score:', f1_score(y_test, y_pred4, average='weighted'))\n",
    "print('precision:', precision_score(y_test, y_pred4,average='weighted'))"
   ]
  },
  {
   "cell_type": "code",
   "execution_count": 152,
   "id": "1f005a9f",
   "metadata": {},
   "outputs": [],
   "source": [
    "BOW_BI_ACC = round(accuracy_score(y_test, y_pred4),2)*100                  # round the values"
   ]
  },
  {
   "cell_type": "code",
   "execution_count": 153,
   "id": "2ca9b051",
   "metadata": {},
   "outputs": [
    {
     "data": {
      "text/plain": [
       "84.0"
      ]
     },
     "execution_count": 153,
     "metadata": {},
     "output_type": "execute_result"
    }
   ],
   "source": [
    "BOW_BI_ACC"
   ]
  },
  {
   "cell_type": "code",
   "execution_count": 154,
   "id": "5fe6735d",
   "metadata": {},
   "outputs": [],
   "source": [
    "BOW_BI_PREC =  round(precision_score(y_test, y_pred4,average='weighted'),2)*100"
   ]
  },
  {
   "cell_type": "code",
   "execution_count": 155,
   "id": "717a5e7e",
   "metadata": {},
   "outputs": [],
   "source": [
    "BOW_BI_RE =  round(recall_score(y_test, y_pred4, average='weighted'),2)*100"
   ]
  },
  {
   "cell_type": "code",
   "execution_count": 156,
   "id": "0724efe2",
   "metadata": {},
   "outputs": [],
   "source": [
    "BOW_BI_F1 =  round(f1_score(y_test, y_pred4, average='weighted'),2)*100"
   ]
  },
  {
   "cell_type": "code",
   "execution_count": 157,
   "id": "b33a32fe",
   "metadata": {},
   "outputs": [],
   "source": [
    "comparision2 = pd.DataFrame()          #creating dataframe"
   ]
  },
  {
   "cell_type": "code",
   "execution_count": 158,
   "id": "a098ff9a",
   "metadata": {},
   "outputs": [],
   "source": [
    "# creating column name(title)\n",
    "\n",
    "comparision2['MODEL NAME'] = ['MultinomialNB (NAIVE_BAYES)','MultinomialNB (NAIVE_BAYES)','MultinomialNB (NAIVE_BAYES)','MultinomialNB (NAIVE_BAYES)']"
   ]
  },
  {
   "cell_type": "code",
   "execution_count": 159,
   "id": "8b1969da",
   "metadata": {},
   "outputs": [],
   "source": [
    "comparision2['TEXT EXTRACTION METHOD'] = ['TF_IDF','TF_IDF_HYPERPARAMETRE','BAG OF WORDS(UNIGRAM)','BAG OF WORDS(BIGRAM)']"
   ]
  },
  {
   "cell_type": "code",
   "execution_count": 160,
   "id": "9984013c",
   "metadata": {},
   "outputs": [],
   "source": [
    "comparision2['ACCURACY'] = [TF_IDF_ACC,TFIDF_HYPER_ACC,BOW_UNI_ACC,BOW_BI_ACC]"
   ]
  },
  {
   "cell_type": "code",
   "execution_count": 161,
   "id": "b70e8e8c",
   "metadata": {},
   "outputs": [],
   "source": [
    "comparision2['PRECESSION'] = [TF_IDF_PREC,TFIDF_HYPER_PREC,BOW_UNI_PREC,BOW_BI_PREC]"
   ]
  },
  {
   "cell_type": "code",
   "execution_count": 162,
   "id": "e66bd517",
   "metadata": {},
   "outputs": [],
   "source": [
    "comparision2['RECALL'] = [TF_IDF_RE,TFIDF_HYPER_RE,BOW_UNI_RE,BOW_BI_RE]"
   ]
  },
  {
   "cell_type": "code",
   "execution_count": 163,
   "id": "ef1e1231",
   "metadata": {},
   "outputs": [],
   "source": [
    "comparision2['F1_SCORE'] = [TF_IDF_F1,TFIDF_HYPER_F1,BOW_UNI_F1,BOW_BI_F1]"
   ]
  },
  {
   "cell_type": "code",
   "execution_count": 164,
   "id": "e578f009",
   "metadata": {},
   "outputs": [
    {
     "data": {
      "text/html": [
       "<div>\n",
       "<style scoped>\n",
       "    .dataframe tbody tr th:only-of-type {\n",
       "        vertical-align: middle;\n",
       "    }\n",
       "\n",
       "    .dataframe tbody tr th {\n",
       "        vertical-align: top;\n",
       "    }\n",
       "\n",
       "    .dataframe thead th {\n",
       "        text-align: right;\n",
       "    }\n",
       "</style>\n",
       "<table border=\"1\" class=\"dataframe\">\n",
       "  <thead>\n",
       "    <tr style=\"text-align: right;\">\n",
       "      <th></th>\n",
       "      <th>MODEL NAME</th>\n",
       "      <th>TEXT EXTRACTION METHOD</th>\n",
       "      <th>ACCURACY</th>\n",
       "      <th>PRECESSION</th>\n",
       "      <th>RECALL</th>\n",
       "      <th>F1_SCORE</th>\n",
       "    </tr>\n",
       "  </thead>\n",
       "  <tbody>\n",
       "    <tr>\n",
       "      <th>0</th>\n",
       "      <td>MultinomialNB (NAIVE_BAYES)</td>\n",
       "      <td>TF_IDF</td>\n",
       "      <td>83.0</td>\n",
       "      <td>82.0</td>\n",
       "      <td>83.0</td>\n",
       "      <td>76.0</td>\n",
       "    </tr>\n",
       "    <tr>\n",
       "      <th>1</th>\n",
       "      <td>MultinomialNB (NAIVE_BAYES)</td>\n",
       "      <td>TF_IDF_HYPERPARAMETRE</td>\n",
       "      <td>83.0</td>\n",
       "      <td>82.0</td>\n",
       "      <td>83.0</td>\n",
       "      <td>76.0</td>\n",
       "    </tr>\n",
       "    <tr>\n",
       "      <th>2</th>\n",
       "      <td>MultinomialNB (NAIVE_BAYES)</td>\n",
       "      <td>BAG OF WORDS(UNIGRAM)</td>\n",
       "      <td>84.0</td>\n",
       "      <td>80.0</td>\n",
       "      <td>84.0</td>\n",
       "      <td>82.0</td>\n",
       "    </tr>\n",
       "    <tr>\n",
       "      <th>3</th>\n",
       "      <td>MultinomialNB (NAIVE_BAYES)</td>\n",
       "      <td>BAG OF WORDS(BIGRAM)</td>\n",
       "      <td>84.0</td>\n",
       "      <td>83.0</td>\n",
       "      <td>84.0</td>\n",
       "      <td>79.0</td>\n",
       "    </tr>\n",
       "  </tbody>\n",
       "</table>\n",
       "</div>"
      ],
      "text/plain": [
       "                    MODEL NAME TEXT EXTRACTION METHOD  ACCURACY  PRECESSION  \\\n",
       "0  MultinomialNB (NAIVE_BAYES)                 TF_IDF      83.0        82.0   \n",
       "1  MultinomialNB (NAIVE_BAYES)  TF_IDF_HYPERPARAMETRE      83.0        82.0   \n",
       "2  MultinomialNB (NAIVE_BAYES)  BAG OF WORDS(UNIGRAM)      84.0        80.0   \n",
       "3  MultinomialNB (NAIVE_BAYES)   BAG OF WORDS(BIGRAM)      84.0        83.0   \n",
       "\n",
       "   RECALL  F1_SCORE  \n",
       "0    83.0      76.0  \n",
       "1    83.0      76.0  \n",
       "2    84.0      82.0  \n",
       "3    84.0      79.0  "
      ]
     },
     "execution_count": 164,
     "metadata": {},
     "output_type": "execute_result"
    }
   ],
   "source": [
    "comparision2"
   ]
  },
  {
   "cell_type": "code",
   "execution_count": 165,
   "id": "f69f81a8",
   "metadata": {},
   "outputs": [],
   "source": [
    "# conclusion:- BOW using ngrams (bigram )has highest precision score than the other model according to that we can consider that model"
   ]
  }
 ],
 "metadata": {
  "kernelspec": {
   "display_name": "Python 3 (ipykernel)",
   "language": "python",
   "name": "python3"
  },
  "language_info": {
   "codemirror_mode": {
    "name": "ipython",
    "version": 3
   },
   "file_extension": ".py",
   "mimetype": "text/x-python",
   "name": "python",
   "nbconvert_exporter": "python",
   "pygments_lexer": "ipython3",
   "version": "3.9.12"
  }
 },
 "nbformat": 4,
 "nbformat_minor": 5
}
