{
 "cells": [
  {
   "cell_type": "code",
   "execution_count": 1,
   "id": "d3addfa5",
   "metadata": {},
   "outputs": [],
   "source": [
    "import warnings\n",
    "warnings.filterwarnings('ignore')\n",
    "import pandas as pd\n",
    "import json\n",
    "import re\n",
    "from time import time\n",
    "\n",
    "from sklearn.preprocessing import Binarizer\n",
    "from sklearn.preprocessing import MultiLabelBinarizer\n",
    "\n",
    "from sklearn.linear_model import LogisticRegression\n",
    "from sklearn.multiclass import OneVsRestClassifier\n",
    "from sklearn.feature_extraction.text import TfidfVectorizer\n",
    "from sklearn.model_selection import train_test_split\n",
    "from sklearn.metrics import f1_score\n",
    "from sklearn.feature_extraction.text import CountVectorizer"
   ]
  },
  {
   "cell_type": "code",
   "execution_count": 2,
   "id": "c4f6105a",
   "metadata": {},
   "outputs": [],
   "source": [
    "from sklearn.metrics import recall_score\n",
    "from sklearn.metrics import f1_score\n",
    "from sklearn.metrics import accuracy_score\n",
    "from sklearn.metrics import precision_score"
   ]
  },
  {
   "cell_type": "code",
   "execution_count": 3,
   "id": "1b964bc0",
   "metadata": {},
   "outputs": [],
   "source": [
    "from sklearn.metrics import classification_report\n",
    "from sklearn.metrics import confusion_matrix"
   ]
  },
  {
   "cell_type": "code",
   "execution_count": null,
   "id": "a7e48a43",
   "metadata": {},
   "outputs": [],
   "source": []
  },
  {
   "cell_type": "markdown",
   "id": "9ad35ade",
   "metadata": {},
   "source": [
    "# ONE VS REST ON TOOLS "
   ]
  },
  {
   "cell_type": "code",
   "execution_count": 4,
   "id": "a78b625e",
   "metadata": {},
   "outputs": [],
   "source": [
    "# Load Data\n",
    "df_tools=pd.read_csv('TOOLS_COMPLETELY_CLEAN_FULLY_MERGED_RDY_FOR_MDLLING')"
   ]
  },
  {
   "cell_type": "code",
   "execution_count": 5,
   "id": "f4655e44",
   "metadata": {},
   "outputs": [
    {
     "data": {
      "text/plain": [
       "(2267345, 10)"
      ]
     },
     "execution_count": 5,
     "metadata": {},
     "output_type": "execute_result"
    }
   ],
   "source": [
    "df_tools.shape"
   ]
  },
  {
   "cell_type": "code",
   "execution_count": 6,
   "id": "9a2ef422",
   "metadata": {},
   "outputs": [
    {
     "data": {
      "text/html": [
       "<div>\n",
       "<style scoped>\n",
       "    .dataframe tbody tr th:only-of-type {\n",
       "        vertical-align: middle;\n",
       "    }\n",
       "\n",
       "    .dataframe tbody tr th {\n",
       "        vertical-align: top;\n",
       "    }\n",
       "\n",
       "    .dataframe thead th {\n",
       "        text-align: right;\n",
       "    }\n",
       "</style>\n",
       "<table border=\"1\" class=\"dataframe\">\n",
       "  <thead>\n",
       "    <tr style=\"text-align: right;\">\n",
       "      <th></th>\n",
       "      <th>title</th>\n",
       "      <th>brand</th>\n",
       "      <th>main_cat</th>\n",
       "      <th>price</th>\n",
       "      <th>product_id</th>\n",
       "      <th>Reviewer_id</th>\n",
       "      <th>rating</th>\n",
       "      <th>verified</th>\n",
       "      <th>reviewText</th>\n",
       "      <th>DATE</th>\n",
       "    </tr>\n",
       "  </thead>\n",
       "  <tbody>\n",
       "    <tr>\n",
       "      <th>0</th>\n",
       "      <td>Breeding Organic Vegetables: A Step-by-Step Gu...</td>\n",
       "      <td>SioGreen</td>\n",
       "      <td>Tools &amp; Home Improvement</td>\n",
       "      <td>45.902274</td>\n",
       "      <td>0982085028</td>\n",
       "      <td>AL19QO4XLBQPU</td>\n",
       "      <td>5.0</td>\n",
       "      <td>True</td>\n",
       "      <td>returned, decided against this product</td>\n",
       "      <td>2018-01-28</td>\n",
       "    </tr>\n",
       "    <tr>\n",
       "      <th>1</th>\n",
       "      <td>Breeding Organic Vegetables: A Step-by-Step Gu...</td>\n",
       "      <td>SioGreen</td>\n",
       "      <td>Tools &amp; Home Improvement</td>\n",
       "      <td>45.902274</td>\n",
       "      <td>0982085028</td>\n",
       "      <td>A1I7CVB7X3T81E</td>\n",
       "      <td>5.0</td>\n",
       "      <td>True</td>\n",
       "      <td>Awesome heater for the electrical requirements...</td>\n",
       "      <td>2017-11-30</td>\n",
       "    </tr>\n",
       "    <tr>\n",
       "      <th>2</th>\n",
       "      <td>Breeding Organic Vegetables: A Step-by-Step Gu...</td>\n",
       "      <td>SioGreen</td>\n",
       "      <td>Tools &amp; Home Improvement</td>\n",
       "      <td>45.902274</td>\n",
       "      <td>0982085028</td>\n",
       "      <td>A1AQXO4P5U674E</td>\n",
       "      <td>5.0</td>\n",
       "      <td>True</td>\n",
       "      <td>Keeps the mist of your wood trim and on you. B...</td>\n",
       "      <td>2017-09-12</td>\n",
       "    </tr>\n",
       "    <tr>\n",
       "      <th>3</th>\n",
       "      <td>Breeding Organic Vegetables: A Step-by-Step Gu...</td>\n",
       "      <td>SioGreen</td>\n",
       "      <td>Tools &amp; Home Improvement</td>\n",
       "      <td>45.902274</td>\n",
       "      <td>0982085028</td>\n",
       "      <td>AIRV678P7C4NK</td>\n",
       "      <td>4.0</td>\n",
       "      <td>True</td>\n",
       "      <td>So far I hooked it up and tested it , filled a...</td>\n",
       "      <td>2017-07-19</td>\n",
       "    </tr>\n",
       "    <tr>\n",
       "      <th>4</th>\n",
       "      <td>Breeding Organic Vegetables: A Step-by-Step Gu...</td>\n",
       "      <td>SioGreen</td>\n",
       "      <td>Tools &amp; Home Improvement</td>\n",
       "      <td>45.902274</td>\n",
       "      <td>0982085028</td>\n",
       "      <td>A22I5QDNTNECDW</td>\n",
       "      <td>1.0</td>\n",
       "      <td>True</td>\n",
       "      <td>i installed this 10 months ago, instructions w...</td>\n",
       "      <td>2017-05-25</td>\n",
       "    </tr>\n",
       "  </tbody>\n",
       "</table>\n",
       "</div>"
      ],
      "text/plain": [
       "                                               title     brand  \\\n",
       "0  Breeding Organic Vegetables: A Step-by-Step Gu...  SioGreen   \n",
       "1  Breeding Organic Vegetables: A Step-by-Step Gu...  SioGreen   \n",
       "2  Breeding Organic Vegetables: A Step-by-Step Gu...  SioGreen   \n",
       "3  Breeding Organic Vegetables: A Step-by-Step Gu...  SioGreen   \n",
       "4  Breeding Organic Vegetables: A Step-by-Step Gu...  SioGreen   \n",
       "\n",
       "                   main_cat      price  product_id     Reviewer_id  rating  \\\n",
       "0  Tools & Home Improvement  45.902274  0982085028   AL19QO4XLBQPU     5.0   \n",
       "1  Tools & Home Improvement  45.902274  0982085028  A1I7CVB7X3T81E     5.0   \n",
       "2  Tools & Home Improvement  45.902274  0982085028  A1AQXO4P5U674E     5.0   \n",
       "3  Tools & Home Improvement  45.902274  0982085028   AIRV678P7C4NK     4.0   \n",
       "4  Tools & Home Improvement  45.902274  0982085028  A22I5QDNTNECDW     1.0   \n",
       "\n",
       "   verified                                         reviewText        DATE  \n",
       "0      True             returned, decided against this product  2018-01-28  \n",
       "1      True  Awesome heater for the electrical requirements...  2017-11-30  \n",
       "2      True  Keeps the mist of your wood trim and on you. B...  2017-09-12  \n",
       "3      True  So far I hooked it up and tested it , filled a...  2017-07-19  \n",
       "4      True  i installed this 10 months ago, instructions w...  2017-05-25  "
      ]
     },
     "execution_count": 6,
     "metadata": {},
     "output_type": "execute_result"
    }
   ],
   "source": [
    "df_tools.head()"
   ]
  },
  {
   "cell_type": "code",
   "execution_count": null,
   "id": "1a915b6f",
   "metadata": {},
   "outputs": [],
   "source": []
  },
  {
   "cell_type": "code",
   "execution_count": 7,
   "id": "f1f16f8a",
   "metadata": {},
   "outputs": [],
   "source": [
    "df_tools.drop_duplicates(subset=None,keep='first',inplace=True)"
   ]
  },
  {
   "cell_type": "code",
   "execution_count": 8,
   "id": "59829d07",
   "metadata": {},
   "outputs": [
    {
     "data": {
      "text/plain": [
       "(1817775, 10)"
      ]
     },
     "execution_count": 8,
     "metadata": {},
     "output_type": "execute_result"
    }
   ],
   "source": [
    "df_tools.shape"
   ]
  },
  {
   "cell_type": "code",
   "execution_count": 9,
   "id": "3a5dfd7b",
   "metadata": {},
   "outputs": [],
   "source": [
    "sentiment=[]\n",
    "for i in df_tools['rating']:\n",
    "    if (i>3):\n",
    "        sentiment.append('Positive')\n",
    "    elif(i<3):\n",
    "        sentiment.append('Negative')\n",
    "    else:\n",
    "        sentiment.append('Neutral')"
   ]
  },
  {
   "cell_type": "code",
   "execution_count": 10,
   "id": "4040255d",
   "metadata": {},
   "outputs": [],
   "source": [
    "df_tools['ReviewSentiment']=sentiment"
   ]
  },
  {
   "cell_type": "code",
   "execution_count": 11,
   "id": "5d052a42",
   "metadata": {},
   "outputs": [
    {
     "data": {
      "text/plain": [
       "(1817775, 11)"
      ]
     },
     "execution_count": 11,
     "metadata": {},
     "output_type": "execute_result"
    }
   ],
   "source": [
    "df_tools.shape"
   ]
  },
  {
   "cell_type": "code",
   "execution_count": 12,
   "id": "0069b1c3",
   "metadata": {},
   "outputs": [
    {
     "data": {
      "text/html": [
       "<div>\n",
       "<style scoped>\n",
       "    .dataframe tbody tr th:only-of-type {\n",
       "        vertical-align: middle;\n",
       "    }\n",
       "\n",
       "    .dataframe tbody tr th {\n",
       "        vertical-align: top;\n",
       "    }\n",
       "\n",
       "    .dataframe thead th {\n",
       "        text-align: right;\n",
       "    }\n",
       "</style>\n",
       "<table border=\"1\" class=\"dataframe\">\n",
       "  <thead>\n",
       "    <tr style=\"text-align: right;\">\n",
       "      <th></th>\n",
       "      <th>title</th>\n",
       "      <th>brand</th>\n",
       "      <th>main_cat</th>\n",
       "      <th>price</th>\n",
       "      <th>product_id</th>\n",
       "      <th>Reviewer_id</th>\n",
       "      <th>rating</th>\n",
       "      <th>verified</th>\n",
       "      <th>reviewText</th>\n",
       "      <th>DATE</th>\n",
       "      <th>ReviewSentiment</th>\n",
       "    </tr>\n",
       "  </thead>\n",
       "  <tbody>\n",
       "    <tr>\n",
       "      <th>0</th>\n",
       "      <td>Breeding Organic Vegetables: A Step-by-Step Gu...</td>\n",
       "      <td>SioGreen</td>\n",
       "      <td>Tools &amp; Home Improvement</td>\n",
       "      <td>45.902274</td>\n",
       "      <td>0982085028</td>\n",
       "      <td>AL19QO4XLBQPU</td>\n",
       "      <td>5.0</td>\n",
       "      <td>True</td>\n",
       "      <td>returned, decided against this product</td>\n",
       "      <td>2018-01-28</td>\n",
       "      <td>Positive</td>\n",
       "    </tr>\n",
       "    <tr>\n",
       "      <th>1</th>\n",
       "      <td>Breeding Organic Vegetables: A Step-by-Step Gu...</td>\n",
       "      <td>SioGreen</td>\n",
       "      <td>Tools &amp; Home Improvement</td>\n",
       "      <td>45.902274</td>\n",
       "      <td>0982085028</td>\n",
       "      <td>A1I7CVB7X3T81E</td>\n",
       "      <td>5.0</td>\n",
       "      <td>True</td>\n",
       "      <td>Awesome heater for the electrical requirements...</td>\n",
       "      <td>2017-11-30</td>\n",
       "      <td>Positive</td>\n",
       "    </tr>\n",
       "    <tr>\n",
       "      <th>2</th>\n",
       "      <td>Breeding Organic Vegetables: A Step-by-Step Gu...</td>\n",
       "      <td>SioGreen</td>\n",
       "      <td>Tools &amp; Home Improvement</td>\n",
       "      <td>45.902274</td>\n",
       "      <td>0982085028</td>\n",
       "      <td>A1AQXO4P5U674E</td>\n",
       "      <td>5.0</td>\n",
       "      <td>True</td>\n",
       "      <td>Keeps the mist of your wood trim and on you. B...</td>\n",
       "      <td>2017-09-12</td>\n",
       "      <td>Positive</td>\n",
       "    </tr>\n",
       "    <tr>\n",
       "      <th>3</th>\n",
       "      <td>Breeding Organic Vegetables: A Step-by-Step Gu...</td>\n",
       "      <td>SioGreen</td>\n",
       "      <td>Tools &amp; Home Improvement</td>\n",
       "      <td>45.902274</td>\n",
       "      <td>0982085028</td>\n",
       "      <td>AIRV678P7C4NK</td>\n",
       "      <td>4.0</td>\n",
       "      <td>True</td>\n",
       "      <td>So far I hooked it up and tested it , filled a...</td>\n",
       "      <td>2017-07-19</td>\n",
       "      <td>Positive</td>\n",
       "    </tr>\n",
       "    <tr>\n",
       "      <th>4</th>\n",
       "      <td>Breeding Organic Vegetables: A Step-by-Step Gu...</td>\n",
       "      <td>SioGreen</td>\n",
       "      <td>Tools &amp; Home Improvement</td>\n",
       "      <td>45.902274</td>\n",
       "      <td>0982085028</td>\n",
       "      <td>A22I5QDNTNECDW</td>\n",
       "      <td>1.0</td>\n",
       "      <td>True</td>\n",
       "      <td>i installed this 10 months ago, instructions w...</td>\n",
       "      <td>2017-05-25</td>\n",
       "      <td>Negative</td>\n",
       "    </tr>\n",
       "  </tbody>\n",
       "</table>\n",
       "</div>"
      ],
      "text/plain": [
       "                                               title     brand  \\\n",
       "0  Breeding Organic Vegetables: A Step-by-Step Gu...  SioGreen   \n",
       "1  Breeding Organic Vegetables: A Step-by-Step Gu...  SioGreen   \n",
       "2  Breeding Organic Vegetables: A Step-by-Step Gu...  SioGreen   \n",
       "3  Breeding Organic Vegetables: A Step-by-Step Gu...  SioGreen   \n",
       "4  Breeding Organic Vegetables: A Step-by-Step Gu...  SioGreen   \n",
       "\n",
       "                   main_cat      price  product_id     Reviewer_id  rating  \\\n",
       "0  Tools & Home Improvement  45.902274  0982085028   AL19QO4XLBQPU     5.0   \n",
       "1  Tools & Home Improvement  45.902274  0982085028  A1I7CVB7X3T81E     5.0   \n",
       "2  Tools & Home Improvement  45.902274  0982085028  A1AQXO4P5U674E     5.0   \n",
       "3  Tools & Home Improvement  45.902274  0982085028   AIRV678P7C4NK     4.0   \n",
       "4  Tools & Home Improvement  45.902274  0982085028  A22I5QDNTNECDW     1.0   \n",
       "\n",
       "   verified                                         reviewText        DATE  \\\n",
       "0      True             returned, decided against this product  2018-01-28   \n",
       "1      True  Awesome heater for the electrical requirements...  2017-11-30   \n",
       "2      True  Keeps the mist of your wood trim and on you. B...  2017-09-12   \n",
       "3      True  So far I hooked it up and tested it , filled a...  2017-07-19   \n",
       "4      True  i installed this 10 months ago, instructions w...  2017-05-25   \n",
       "\n",
       "  ReviewSentiment  \n",
       "0        Positive  \n",
       "1        Positive  \n",
       "2        Positive  \n",
       "3        Positive  \n",
       "4        Negative  "
      ]
     },
     "execution_count": 12,
     "metadata": {},
     "output_type": "execute_result"
    }
   ],
   "source": [
    "df_tools.head()"
   ]
  },
  {
   "cell_type": "code",
   "execution_count": 13,
   "id": "60475450",
   "metadata": {},
   "outputs": [],
   "source": [
    "Text_Tools  = df_tools[[\"reviewText\",\"ReviewSentiment\"]]"
   ]
  },
  {
   "cell_type": "code",
   "execution_count": 14,
   "id": "0ba8879d",
   "metadata": {},
   "outputs": [
    {
     "data": {
      "text/html": [
       "<div>\n",
       "<style scoped>\n",
       "    .dataframe tbody tr th:only-of-type {\n",
       "        vertical-align: middle;\n",
       "    }\n",
       "\n",
       "    .dataframe tbody tr th {\n",
       "        vertical-align: top;\n",
       "    }\n",
       "\n",
       "    .dataframe thead th {\n",
       "        text-align: right;\n",
       "    }\n",
       "</style>\n",
       "<table border=\"1\" class=\"dataframe\">\n",
       "  <thead>\n",
       "    <tr style=\"text-align: right;\">\n",
       "      <th></th>\n",
       "      <th>reviewText</th>\n",
       "      <th>ReviewSentiment</th>\n",
       "    </tr>\n",
       "  </thead>\n",
       "  <tbody>\n",
       "    <tr>\n",
       "      <th>0</th>\n",
       "      <td>returned, decided against this product</td>\n",
       "      <td>Positive</td>\n",
       "    </tr>\n",
       "    <tr>\n",
       "      <th>1</th>\n",
       "      <td>Awesome heater for the electrical requirements...</td>\n",
       "      <td>Positive</td>\n",
       "    </tr>\n",
       "    <tr>\n",
       "      <th>2</th>\n",
       "      <td>Keeps the mist of your wood trim and on you. B...</td>\n",
       "      <td>Positive</td>\n",
       "    </tr>\n",
       "    <tr>\n",
       "      <th>3</th>\n",
       "      <td>So far I hooked it up and tested it , filled a...</td>\n",
       "      <td>Positive</td>\n",
       "    </tr>\n",
       "    <tr>\n",
       "      <th>4</th>\n",
       "      <td>i installed this 10 months ago, instructions w...</td>\n",
       "      <td>Negative</td>\n",
       "    </tr>\n",
       "  </tbody>\n",
       "</table>\n",
       "</div>"
      ],
      "text/plain": [
       "                                          reviewText ReviewSentiment\n",
       "0             returned, decided against this product        Positive\n",
       "1  Awesome heater for the electrical requirements...        Positive\n",
       "2  Keeps the mist of your wood trim and on you. B...        Positive\n",
       "3  So far I hooked it up and tested it , filled a...        Positive\n",
       "4  i installed this 10 months ago, instructions w...        Negative"
      ]
     },
     "execution_count": 14,
     "metadata": {},
     "output_type": "execute_result"
    }
   ],
   "source": [
    "Text_Tools.head()"
   ]
  },
  {
   "cell_type": "code",
   "execution_count": null,
   "id": "4e2beca6",
   "metadata": {},
   "outputs": [],
   "source": []
  },
  {
   "cell_type": "markdown",
   "id": "d30d11b5",
   "metadata": {},
   "source": [
    "# text prerpocessing "
   ]
  },
  {
   "cell_type": "code",
   "execution_count": 15,
   "id": "9a4fd78c",
   "metadata": {},
   "outputs": [
    {
     "name": "stdout",
     "output_type": "stream",
     "text": [
      "326\n"
     ]
    }
   ],
   "source": [
    "import spacy\n",
    "#loading the english language small model of spacy\n",
    "en = spacy.load('en_core_web_sm')\n",
    "stopwords = en.Defaults.stop_words\n",
    "\n",
    "print(len(stopwords))\n",
    "#print(stopwords)"
   ]
  },
  {
   "cell_type": "code",
   "execution_count": null,
   "id": "155fee5d",
   "metadata": {},
   "outputs": [],
   "source": []
  },
  {
   "cell_type": "code",
   "execution_count": 16,
   "id": "03c57481",
   "metadata": {},
   "outputs": [
    {
     "data": {
      "text/html": [
       "<div>\n",
       "<style scoped>\n",
       "    .dataframe tbody tr th:only-of-type {\n",
       "        vertical-align: middle;\n",
       "    }\n",
       "\n",
       "    .dataframe tbody tr th {\n",
       "        vertical-align: top;\n",
       "    }\n",
       "\n",
       "    .dataframe thead th {\n",
       "        text-align: right;\n",
       "    }\n",
       "</style>\n",
       "<table border=\"1\" class=\"dataframe\">\n",
       "  <thead>\n",
       "    <tr style=\"text-align: right;\">\n",
       "      <th></th>\n",
       "      <th>reviewText</th>\n",
       "      <th>ReviewSentiment</th>\n",
       "    </tr>\n",
       "  </thead>\n",
       "  <tbody>\n",
       "    <tr>\n",
       "      <th>0</th>\n",
       "      <td>returned, decided against this product</td>\n",
       "      <td>Positive</td>\n",
       "    </tr>\n",
       "    <tr>\n",
       "      <th>1</th>\n",
       "      <td>Awesome heater for the electrical requirements...</td>\n",
       "      <td>Positive</td>\n",
       "    </tr>\n",
       "    <tr>\n",
       "      <th>2</th>\n",
       "      <td>Keeps the mist of your wood trim and on you. B...</td>\n",
       "      <td>Positive</td>\n",
       "    </tr>\n",
       "    <tr>\n",
       "      <th>3</th>\n",
       "      <td>So far I hooked it up and tested it , filled a...</td>\n",
       "      <td>Positive</td>\n",
       "    </tr>\n",
       "    <tr>\n",
       "      <th>4</th>\n",
       "      <td>i installed this 10 months ago, instructions w...</td>\n",
       "      <td>Negative</td>\n",
       "    </tr>\n",
       "  </tbody>\n",
       "</table>\n",
       "</div>"
      ],
      "text/plain": [
       "                                          reviewText ReviewSentiment\n",
       "0             returned, decided against this product        Positive\n",
       "1  Awesome heater for the electrical requirements...        Positive\n",
       "2  Keeps the mist of your wood trim and on you. B...        Positive\n",
       "3  So far I hooked it up and tested it , filled a...        Positive\n",
       "4  i installed this 10 months ago, instructions w...        Negative"
      ]
     },
     "execution_count": 16,
     "metadata": {},
     "output_type": "execute_result"
    }
   ],
   "source": [
    "Text_Tools.head()"
   ]
  },
  {
   "cell_type": "code",
   "execution_count": 17,
   "id": "e26de5c7",
   "metadata": {},
   "outputs": [
    {
     "name": "stdout",
     "output_type": "stream",
     "text": [
      "                                                reviewText ReviewSentiment\n",
      "0                             decided against this product        Positive\n",
      "1        awesome heater for the electrical makes an awe...        Positive\n",
      "2         keeps the mist of your wood trim and on bendable        Positive\n",
      "3        so far hooked it up and tested it filled a fiv...        Positive\n",
      "4        installed this months instructions were easy a...        Negative\n",
      "...                                                    ...             ...\n",
      "2267340  the tool a handy drain especially for clearing...        Positive\n",
      "2267341  this thing bathroom sink was so friend and dra...        Positive\n",
      "2267342  purchased this exact product from a local box ...        Positive\n",
      "2267343  have had one of these in the past and was curi...        Positive\n",
      "2267344                    product works as thank you very        Positive\n",
      "\n",
      "[1817775 rows x 2 columns]\n"
     ]
    }
   ],
   "source": [
    "def clean_text(text):\n",
    "    # Split the text into individual words\n",
    "    words = text.split()\n",
    "    \n",
    "    # Remove any punctuation or non-alphabetic characters\n",
    "    words = [word for word in words if word.isalpha()]\n",
    "    \n",
    "    # Convert all words to lowercase\n",
    "    words = [word.lower() for word in words]\n",
    "    \n",
    "    # Remove any stop words\n",
    "    stop_words = stopwords=('english')\n",
    "    words = [word for word in words if word not in stop_words]\n",
    "    \n",
    "    # Join the words back into a single string\n",
    "    return \" \".join(words)\n",
    "\n",
    "\n",
    "# Clean the \"text\" column using the clean_text() function\n",
    "Text_Tools[\"reviewText\"] = Text_Tools[\"reviewText\"].apply(clean_text)\n",
    "\n",
    "# Print the cleaned data\n",
    "print(Text_Tools)"
   ]
  },
  {
   "cell_type": "code",
   "execution_count": 18,
   "id": "11f53be1",
   "metadata": {},
   "outputs": [],
   "source": [
    "Text_Tools[\"reviewText\"]=Text_Tools[\"reviewText\"].apply(lambda x:' '.join([word for word in x.split() if word not in stopwords]))"
   ]
  },
  {
   "cell_type": "code",
   "execution_count": 19,
   "id": "66ccd3a2",
   "metadata": {},
   "outputs": [],
   "source": [
    "# checking for first 100 records"
   ]
  },
  {
   "cell_type": "code",
   "execution_count": 20,
   "id": "6b548d4e",
   "metadata": {},
   "outputs": [
    {
     "name": "stdout",
     "output_type": "stream",
     "text": [
      "decided product\n",
      "awesome heater electrical makes awesome preheater talnkless system\n",
      "keeps mist wood trim bendable\n",
      "far hooked tested filled gallon bucket hot perfect temp flow valve came broke tried tighten stop hooked directly sharkbite pex work fine hooked poll amp wait till rest bathroom finished better\n",
      "installed months instructions easy worked water heater stuck tried different modes reset circuit heat water update warranty requires licensed useless service renders possible difficulty monetary gain company disturbs actually dropped heater fixed company named changed supposed heating element lasts years broken tried pick difficult pick possible worst try working voip callback system bad sound baby crying background gives away pretty product like kind repackaged alibaba celsius reading obviously usa jump hoops pick repaired left figured save problems road want deal bad service bought water installed require contractor install warranty new water heater readings dial adjusting inlet manually turn new water heater hot got\n",
      "forgot warranty send pay lots money shipping going\n",
      "better bucks cheaper buy plus real amazon good ratings plastic connection instructions keeping types\n",
      "good hot water heater problems correct water pressure use second water heater main hot water heater maybe better\n",
      "use matcha tea froth easy relaxing whisk froths matcha tea easy\n",
      "work complaint loose happens fairly unit turns instead returning state power fortunately mounted convenient location easy check turn\n",
      "good overflow works white easy dirty like works better course catching finer buy\n",
      "super fast easy\n",
      "hold solar panel roof cargo pretty straight forward installation holds solar panel place\n",
      "little skeptical flow heater different creature tank lessons hot water turn beast lasts service problems best buy year amazon congrats designer\n",
      "bought neighbor loves came exactly\n",
      "arrived good looks install weeks test\n",
      "super deal\n",
      "good thenks\n",
      "cheap works okay\n",
      "smile ear ear warm absolutely adorable stuffed toys seen long quality high coloring warms great gift love variety critter options\n",
      "super strong\n",
      "think look cool little fibers attached flake cool sparkle\n",
      "fantastic item morris canal nj history great leg work went verifying route canal context current rail highway detailed maps descriptions allow trace entire phillipsburg jersey broken sections easily covered series day maps descriptions sections driving gives turn turn directions including park car hiking maps worth team true enthusiasts\n",
      "love need son stick stickers instead plus different pages\n",
      "great quality great\n",
      "\n",
      "quick\n",
      "looks good\n",
      "work great\n",
      "work perfectly\n",
      "super great clip low price\n",
      "purchased christmas gift friends moved new home traditional looked elegant arrived nicely right\n",
      "super quality buy\n",
      "strong durable lots\n",
      "exactly\n",
      "nice dated christmas dated ornament year got married bought new nice\n",
      "measurement advertised\n",
      "early present mom new absolutely loves\n",
      "work fit drop tube filter unit large particles fish getting rinse running water good let picture fool round square wanted\n",
      "great highly easy use outstanding\n",
      "great quick\n",
      "use cover intakes powerheads outside sponge holds eventually eaten away biology freshwater foam collapse\n",
      "searched sticker book find junky expensive worth spiral plenty pages right pages categorized grew collecting like perfect place stickers come dentist slew come mail mimi papa regular\n",
      "product works better buying come mister heads supply way clog system mister head cause leak clog system\n",
      "master bath nice having hot water right easy install potential connections water supply tubes plastic hold tight metal ones tubes jossled bit leak real careful bump supply\n",
      "best\n",
      "great product job happy thank happy\n",
      "graphic designer uses pms communicate old book given free match upgrading new book creative immediately color screen\n",
      "graphic download pantone color manager export new adobe products instructions books download color update books manager file export thought pantone update adobe swatches automatically add books kinda pain bit confusing thought let purchasing\n",
      "ok ok love fact choose colors finally feel like pages overall happy bought need feel like quality paper bit downloadable software user wish good established brands chose think quality years better\n",
      "bought case protect nice case neoprene like material cushions\n",
      "fits lightwedge exactly gives good protection mind case lightwedge bought lightwedge excellent reading bed husband like light room\n",
      "good\n",
      "years moderate use book light worked great year night time reading nights week minutes set batteries leds gave lighting half switch started flaking took apart saw switch problem think design metal switch tab contacts circuit board held place awhile plastic switch cover uses turn unit pushes metal contact small portion contacts circuit board leads light acting going repair glue thought better waste time new ikross similar instead new ordered thing nice lights entire page fairly time felt got bit hold position nook reader nook living reasons trying hoping better use\n",
      "exactly need\n",
      "kindle use wonderful oberon case fits great accent protect case kindle fits like highly\n",
      "wanted simple travel case protect like cost bulk cases sold specifically kindle searching simpler came designed lightwedge fits kindle providing protection bumps light cheaper kindle know designed works great cheap kindle\n",
      "little zippered pouches fantastic way protect lightwedge\n",
      "impressed book light needs leds actually coverage page hard smudges definently need protective case store scratching\n",
      "great buy\n",
      "exactly need\n",
      "love eye types best older eyes need light\n",
      "great nighttime reading\n",
      "great little light grandson loves\n",
      "funny little easel love color quirky happy\n",
      "great flexible job works\n",
      "great wish ran aa\n",
      "got light fast like color adult coloring books daughter says coloring avoid suggestion past great point page coloring book clipboard solid surface attach light partially paralized works great wish found definitely\n",
      "actually clip small pillow prop light source coming book instead like reading light husband happy\n",
      "light bright minutes dims level\n",
      "dims new batteries\n",
      "good\n",
      "great little lite strong clamp settings brightness need low setting\n",
      "works easy use pack casts good light\n",
      "coverage good usually switch reposition possibly bright totally dark light unlit room little light room probably light key ring led evenly covers larger clip portion want eat ac adapter\n",
      "rare product lasted eventually failed plastic casing held pressure like started coming apart repeatedly lost pieces electrical separated circuit wish casing light like maybe aluminum casing held guess light neck batteries long time changed light light cold bit good ambience reading book light lights turned buy\n",
      "great\n",
      "love little easy easy clip grab complaint clips eventually gets lot awesome plucking eyebrows putting clip mirror gooseneck clipped bed night need fumble easy change batteries good long favorite\n",
      "nice bright reading light makes pages look night like\n",
      "love little great clipping headboards read night bed bothering bunk great come weekend forever abuse kids twisting like brightness\n",
      "great compact extremely like runs aaa batteries cheap\n",
      "easy position clamp illuminates save time energy turn bedroom light illuminate battery lasts long\n",
      "wonderful nice nice gifts people particularly places guests sleep house good lighting color light blue case power baseball cap clip batteries long uses aaa cheap easy\n",
      "\n",
      "read bed kids clipped bunk bed brightness perfect batteries bought gifts better light lamp point right\n",
      "okay began flicker drove crazy trying read bus long looking utopian little book\n",
      "gift girlfriend absolutely loves especially loves read night trying bought keeping light product great light focused brightness dock star easily accidentally turn thrown sort switch makes difficult accidentally\n",
      "tiny thing emits light let bending right light book reading material instead lighting room easily goodbye flashlights spare\n",
      "light works brightness little heavy green case different shade\n",
      "light works ok paper flimsy thin led light trouble getting light bend book certain way light certain know work far better hard read book kindle option work\n",
      "perfect child bunk son clip light gives substantial light led light bright need strain\n",
      "nice bright sturdy strong flexible neck moves want want book\n",
      "tried book lights great price easily clips nook kindle bright dark spots easily adjusts durable long lasting light buying second highly\n",
      "product exactly needs bit bulky smallest paperback hold multiple pages cover light levels finding single led entirely plastic bit sophisticated product adding additional weight good product money\n",
      "purchased lights past reading bed squinting adjusting felt like hurting nice green light plenty comfortably read dark\n",
      "book light impressed light gives bright dimmer light gives plenty read clip easily fits flip pages tugging clip rip adjustable neck light entire quality product\n",
      "overnighted tellin good works\n",
      "bought black loved batteries black come batteries bought colored ones gifts come works great night plenty rechargable aaa handly avid need change batteries months\n",
      "let little light fool definitely suppose small nice bright perfect attaching partner bendable easy price break\n",
      "led book light light years pun better old lights incandescent gets great battery unlike found went batteries like led burn like blubs heat integrated battery pack getting tangled cord stumbled local bunch display final harry potter book published figuring lot little going lot reading leftovers sold half real bought tried loved went buy use gifts available colors bright light flex led book bright bright dual flex led book\n"
     ]
    }
   ],
   "source": [
    "c = 0 \n",
    "for i in Text_Tools[\"reviewText\"]:\n",
    "    print(i)\n",
    "    c+=1\n",
    "    if c==100:\n",
    "        break"
   ]
  },
  {
   "cell_type": "code",
   "execution_count": 21,
   "id": "41abee9a",
   "metadata": {},
   "outputs": [
    {
     "name": "stdout",
     "output_type": "stream",
     "text": [
      "{'side', 'me', 'all', 'when', '‘re', 'their', 'becomes', 'an', 'many', 'n‘t', 'anyway', 'unless', 'indeed', 'we', 'yet', \"'re\", 'for', '’d', 'they', 'or', 'several', 'hereupon', 'though', 'ca', 'every', 'up', 'again', 'get', 'whereby', 'nevertheless', 'everywhere', 'nowhere', 'therein', 'enough', 'such', 'just', 'my', 'third', \"'ve\", 'has', 'with', 'off', 'beforehand', 'its', 'towards', 'take', 'always', 'whence', 'are', 'anything', 'nine', 'really', 'against', 'last', 'latter', 'seeming', 'toward', 'hereby', 'two', 'why', 'more', '‘ll', 'something', 'everything', 'himself', 'on', 'most', 'along', 'and', 'does', 'down', 'whenever', 'done', 'otherwise', 'thereupon', 'during', 'also', 'throughout', 'meanwhile', '‘m', 'how', 'namely', 'yourself', 'see', 'therefore', 'another', 'perhaps', 'either', 'ten', 'below', 'both', 'next', 'hundred', 'serious', 'doing', 'others', 'upon', 'have', 'what', 'name', 'never', '‘ve', 'became', 'quite', 'keep', \"n't\", 'go', 'give', 'your', 'make', 'herein', 'beyond', '’re', 'wherein', 'thereafter', 'however', '’ll', 'yours', 'am', 'moreover', 'even', 'if', 'in', 'here', 'empty', 'because', 'she', 'forty', 'beside', 'anyhow', 'via', 'it', 'various', 'before', 'whole', 'regarding', 'other', 'using', 'less', 'nothing', 'three', 'anywhere', 'while', 'no', 'will', 're', 'wherever', 'not', 'into', 'within', 'almost', 'seem', 'much', 'any', '‘s', 'ours', 'mine', 'ourselves', 'very', 'them', 'there', 'bottom', 'except', 'become', 'i', 'noone', 'someone', 'out', 'together', 'else', 'than', 'which', 'sometime', 'then', 'him', \"'m\", 'behind', 'front', 'from', 'over', 'elsewhere', 'seemed', 'somehow', 'whereupon', 'n’t', 'is', 'neither', 'six', 'part', 'least', 'besides', 'so', 'since', 'herself', 'might', 'yourselves', 'do', 'same', 'twenty', 'you', 'whose', 'hers', 'ever', 'becoming', 'been', 'whereafter', 'say', 'at', 'through', 'first', 'until', '’ve', 'should', 'by', 'four', 'whereas', 'sometimes', 'his', 'about', 'nor', 'fifteen', 'own', 'already', 'anyone', 'due', 'among', '‘d', 'above', 'some', 'that', 'across', 'top', 'where', 'now', 'did', 'sixty', \"'s\", 'whatever', 'show', 'of', 'between', 'latterly', 'this', 'only', 'amount', 'used', 'onto', 'everyone', 'being', 'can', 'too', 'these', 'nobody', 'who', 'be', 'five', 'often', 'he', 'to', 'myself', 'whom', 'may', 'whoever', 'full', 'further', \"'d\", 'mostly', 'amongst', 'move', 'must', 'although', 'call', 'still', '’m', 'under', 'as', 'well', 'each', 'seems', 'would', 'had', 'the', 'thru', 'alone', 'us', \"'ll\", 'hence', 'itself', 'one', 'whether', 'few', 'none', 'thence', 'twelve', 'formerly', 'somewhere', 'eight', 'themselves', 'thus', 'thereby', 'fifty', 'were', 'rather', '’s', 'made', 'was', 'whither', 'without', 'around', 'back', 'cannot', 'a', 'once', 'eleven', 'former', 'but', 'afterwards', 'per', 'please', 'could', 'after', 'her', 'those', 'put', 'hereafter', 'our'}\n"
     ]
    }
   ],
   "source": [
    "print(stopwords)"
   ]
  },
  {
   "cell_type": "code",
   "execution_count": 22,
   "id": "bc19a0ca",
   "metadata": {
    "scrolled": true
   },
   "outputs": [
    {
     "data": {
      "text/html": [
       "<div>\n",
       "<style scoped>\n",
       "    .dataframe tbody tr th:only-of-type {\n",
       "        vertical-align: middle;\n",
       "    }\n",
       "\n",
       "    .dataframe tbody tr th {\n",
       "        vertical-align: top;\n",
       "    }\n",
       "\n",
       "    .dataframe thead th {\n",
       "        text-align: right;\n",
       "    }\n",
       "</style>\n",
       "<table border=\"1\" class=\"dataframe\">\n",
       "  <thead>\n",
       "    <tr style=\"text-align: right;\">\n",
       "      <th></th>\n",
       "      <th>reviewText</th>\n",
       "      <th>ReviewSentiment</th>\n",
       "    </tr>\n",
       "  </thead>\n",
       "  <tbody>\n",
       "    <tr>\n",
       "      <th>0</th>\n",
       "      <td>decided product</td>\n",
       "      <td>Positive</td>\n",
       "    </tr>\n",
       "    <tr>\n",
       "      <th>1</th>\n",
       "      <td>awesome heater electrical makes awesome prehea...</td>\n",
       "      <td>Positive</td>\n",
       "    </tr>\n",
       "    <tr>\n",
       "      <th>2</th>\n",
       "      <td>keeps mist wood trim bendable</td>\n",
       "      <td>Positive</td>\n",
       "    </tr>\n",
       "    <tr>\n",
       "      <th>3</th>\n",
       "      <td>far hooked tested filled gallon bucket hot per...</td>\n",
       "      <td>Positive</td>\n",
       "    </tr>\n",
       "    <tr>\n",
       "      <th>4</th>\n",
       "      <td>installed months instructions easy worked wate...</td>\n",
       "      <td>Negative</td>\n",
       "    </tr>\n",
       "  </tbody>\n",
       "</table>\n",
       "</div>"
      ],
      "text/plain": [
       "                                          reviewText ReviewSentiment\n",
       "0                                    decided product        Positive\n",
       "1  awesome heater electrical makes awesome prehea...        Positive\n",
       "2                      keeps mist wood trim bendable        Positive\n",
       "3  far hooked tested filled gallon bucket hot per...        Positive\n",
       "4  installed months instructions easy worked wate...        Negative"
      ]
     },
     "execution_count": 22,
     "metadata": {},
     "output_type": "execute_result"
    }
   ],
   "source": [
    "Text_Tools.head()"
   ]
  },
  {
   "cell_type": "code",
   "execution_count": 23,
   "id": "5d63b5b6",
   "metadata": {},
   "outputs": [],
   "source": [
    "# train test split "
   ]
  },
  {
   "cell_type": "code",
   "execution_count": 24,
   "id": "32aa4e66",
   "metadata": {},
   "outputs": [],
   "source": [
    "X=[]\n",
    "y=[]\n",
    "for i in Text_Tools['reviewText']:\n",
    "    X.append(i)\n",
    "for j in Text_Tools['ReviewSentiment']:\n",
    "    y.append(j)  "
   ]
  },
  {
   "cell_type": "code",
   "execution_count": 25,
   "id": "c1d41413",
   "metadata": {},
   "outputs": [],
   "source": [
    "# Splitting the data in 80:20 ratio for train and test respectively\n",
    "X_train,X_test,y_train,y_test=train_test_split(X,y,test_size=0.20,random_state=9)"
   ]
  },
  {
   "cell_type": "code",
   "execution_count": 26,
   "id": "d8dc1ba5",
   "metadata": {},
   "outputs": [
    {
     "data": {
      "text/plain": [
       "1454220"
      ]
     },
     "execution_count": 26,
     "metadata": {},
     "output_type": "execute_result"
    }
   ],
   "source": [
    "len(X_train)"
   ]
  },
  {
   "cell_type": "code",
   "execution_count": 27,
   "id": "9fd8182e",
   "metadata": {},
   "outputs": [
    {
     "data": {
      "text/plain": [
       "363555"
      ]
     },
     "execution_count": 27,
     "metadata": {},
     "output_type": "execute_result"
    }
   ],
   "source": [
    "len(X_test)"
   ]
  },
  {
   "cell_type": "markdown",
   "id": "455f2367",
   "metadata": {},
   "source": [
    "###### Converting text data to vector form using TfidfVectorizer()"
   ]
  },
  {
   "cell_type": "code",
   "execution_count": 28,
   "id": "28477736",
   "metadata": {},
   "outputs": [],
   "source": [
    "tfidf_vectorizer = TfidfVectorizer()\n",
    "X_train = tfidf_vectorizer.fit_transform(X_train)\n",
    "X_test = tfidf_vectorizer.transform(X_test)"
   ]
  },
  {
   "cell_type": "code",
   "execution_count": 29,
   "id": "c43c790c",
   "metadata": {},
   "outputs": [
    {
     "name": "stdout",
     "output_type": "stream",
     "text": [
      "X_train (1454220, 109944)\n",
      "X_test (363555, 109944)\n"
     ]
    }
   ],
   "source": [
    "print(\"X_train\",X_train.shape)\n",
    "print(\"X_test\",X_test.shape)\n"
   ]
  },
  {
   "cell_type": "markdown",
   "id": "c4962187",
   "metadata": {},
   "source": [
    "###### One vs rest strategy with Logistic Regression"
   ]
  },
  {
   "cell_type": "code",
   "execution_count": 30,
   "id": "874271bd",
   "metadata": {},
   "outputs": [],
   "source": [
    "lr = LogisticRegression(max_iter=200)\n",
    "ovr = OneVsRestClassifier(lr)"
   ]
  },
  {
   "cell_type": "code",
   "execution_count": 31,
   "id": "d00a86f4",
   "metadata": {},
   "outputs": [],
   "source": [
    "# fit the model on the training data\n",
    "ovr.fit(X_train, y_train)\n",
    "y_pred = ovr.predict(X_test)"
   ]
  },
  {
   "cell_type": "code",
   "execution_count": 32,
   "id": "8dff4caa",
   "metadata": {},
   "outputs": [],
   "source": [
    "df_compare1=pd.DataFrame()\n",
    "df_compare1['Actual']=y_test\n",
    "df_compare1['Predicted']=y_pred"
   ]
  },
  {
   "cell_type": "code",
   "execution_count": 33,
   "id": "c328b1cb",
   "metadata": {},
   "outputs": [
    {
     "data": {
      "text/html": [
       "<div>\n",
       "<style scoped>\n",
       "    .dataframe tbody tr th:only-of-type {\n",
       "        vertical-align: middle;\n",
       "    }\n",
       "\n",
       "    .dataframe tbody tr th {\n",
       "        vertical-align: top;\n",
       "    }\n",
       "\n",
       "    .dataframe thead th {\n",
       "        text-align: right;\n",
       "    }\n",
       "</style>\n",
       "<table border=\"1\" class=\"dataframe\">\n",
       "  <thead>\n",
       "    <tr style=\"text-align: right;\">\n",
       "      <th></th>\n",
       "      <th>Actual</th>\n",
       "      <th>Predicted</th>\n",
       "    </tr>\n",
       "  </thead>\n",
       "  <tbody>\n",
       "    <tr>\n",
       "      <th>0</th>\n",
       "      <td>Positive</td>\n",
       "      <td>Positive</td>\n",
       "    </tr>\n",
       "    <tr>\n",
       "      <th>1</th>\n",
       "      <td>Positive</td>\n",
       "      <td>Positive</td>\n",
       "    </tr>\n",
       "    <tr>\n",
       "      <th>2</th>\n",
       "      <td>Positive</td>\n",
       "      <td>Positive</td>\n",
       "    </tr>\n",
       "    <tr>\n",
       "      <th>3</th>\n",
       "      <td>Positive</td>\n",
       "      <td>Positive</td>\n",
       "    </tr>\n",
       "    <tr>\n",
       "      <th>4</th>\n",
       "      <td>Positive</td>\n",
       "      <td>Positive</td>\n",
       "    </tr>\n",
       "    <tr>\n",
       "      <th>...</th>\n",
       "      <td>...</td>\n",
       "      <td>...</td>\n",
       "    </tr>\n",
       "    <tr>\n",
       "      <th>363550</th>\n",
       "      <td>Positive</td>\n",
       "      <td>Positive</td>\n",
       "    </tr>\n",
       "    <tr>\n",
       "      <th>363551</th>\n",
       "      <td>Positive</td>\n",
       "      <td>Positive</td>\n",
       "    </tr>\n",
       "    <tr>\n",
       "      <th>363552</th>\n",
       "      <td>Positive</td>\n",
       "      <td>Positive</td>\n",
       "    </tr>\n",
       "    <tr>\n",
       "      <th>363553</th>\n",
       "      <td>Neutral</td>\n",
       "      <td>Positive</td>\n",
       "    </tr>\n",
       "    <tr>\n",
       "      <th>363554</th>\n",
       "      <td>Negative</td>\n",
       "      <td>Negative</td>\n",
       "    </tr>\n",
       "  </tbody>\n",
       "</table>\n",
       "<p>363555 rows × 2 columns</p>\n",
       "</div>"
      ],
      "text/plain": [
       "          Actual Predicted\n",
       "0       Positive  Positive\n",
       "1       Positive  Positive\n",
       "2       Positive  Positive\n",
       "3       Positive  Positive\n",
       "4       Positive  Positive\n",
       "...          ...       ...\n",
       "363550  Positive  Positive\n",
       "363551  Positive  Positive\n",
       "363552  Positive  Positive\n",
       "363553   Neutral  Positive\n",
       "363554  Negative  Negative\n",
       "\n",
       "[363555 rows x 2 columns]"
      ]
     },
     "execution_count": 33,
     "metadata": {},
     "output_type": "execute_result"
    }
   ],
   "source": [
    "df_compare1"
   ]
  },
  {
   "cell_type": "markdown",
   "id": "5b8050d4",
   "metadata": {},
   "source": [
    "## classification report "
   ]
  },
  {
   "cell_type": "code",
   "execution_count": 34,
   "id": "6d05f570",
   "metadata": {
    "scrolled": true
   },
   "outputs": [
    {
     "name": "stdout",
     "output_type": "stream",
     "text": [
      "              precision    recall  f1-score   support\n",
      "\n",
      "    Negative       0.67      0.45      0.54     29993\n",
      "     Neutral       0.44      0.04      0.07     23977\n",
      "    Positive       0.89      0.99      0.94    309585\n",
      "\n",
      "    accuracy                           0.88    363555\n",
      "   macro avg       0.67      0.49      0.52    363555\n",
      "weighted avg       0.85      0.88      0.85    363555\n",
      "\n"
     ]
    }
   ],
   "source": [
    "print(classification_report(y_test, y_pred))"
   ]
  },
  {
   "cell_type": "markdown",
   "id": "e4df27c5",
   "metadata": {},
   "source": [
    "### confusion matrix "
   ]
  },
  {
   "cell_type": "code",
   "execution_count": 35,
   "id": "67a3dc09",
   "metadata": {},
   "outputs": [
    {
     "data": {
      "text/plain": [
       "array([[ 13382,    474,  16137],\n",
       "       [  3014,    937,  20026],\n",
       "       [  3466,    729, 305390]], dtype=int64)"
      ]
     },
     "execution_count": 35,
     "metadata": {},
     "output_type": "execute_result"
    }
   ],
   "source": [
    "confusion_matrix(y_test,y_pred)"
   ]
  },
  {
   "cell_type": "markdown",
   "id": "5d7b0119",
   "metadata": {},
   "source": [
    "# evaluation matrix "
   ]
  },
  {
   "cell_type": "code",
   "execution_count": 36,
   "id": "73f83820",
   "metadata": {},
   "outputs": [
    {
     "name": "stdout",
     "output_type": "stream",
     "text": [
      "accuracy: 0.8793965149702246\n",
      "recall: 0.8793965149702246\n",
      "f1-score: 0.8477905491603605\n",
      "precision: 0.845849467477149\n"
     ]
    }
   ],
   "source": [
    "print('accuracy:', accuracy_score(y_test, y_pred))\n",
    "print('recall:', recall_score(y_test, y_pred, average='weighted'))\n",
    "print('f1-score:', f1_score(y_test, y_pred, average='weighted'))\n",
    "print('precision:', precision_score(y_test, y_pred,average='weighted'))"
   ]
  },
  {
   "cell_type": "code",
   "execution_count": 37,
   "id": "9f4f25cd",
   "metadata": {},
   "outputs": [],
   "source": [
    "TF_IDF_ACC = round(100*accuracy_score(y_test, y_pred),2)\n",
    "TF_IDF_PREC =  round(100*precision_score(y_test, y_pred,average='weighted'),2)\n",
    "TF_IDF_RE=  round(100*recall_score(y_test, y_pred, average='weighted'),2)\n",
    "TF_IDF_F1 =  round(100*f1_score(y_test, y_pred, average='weighted'),2)"
   ]
  },
  {
   "cell_type": "markdown",
   "id": "559e9ca5",
   "metadata": {},
   "source": [
    "# tfidf with hyperparametre "
   ]
  },
  {
   "cell_type": "code",
   "execution_count": 38,
   "id": "fe70d905",
   "metadata": {},
   "outputs": [],
   "source": [
    "# Splitting the data in 80:20 ratio for train and test respectively\n",
    "X_train,X_test,y_train,y_test=train_test_split(X,y,test_size=0.20,random_state=9)"
   ]
  },
  {
   "cell_type": "code",
   "execution_count": 39,
   "id": "376120ea",
   "metadata": {},
   "outputs": [],
   "source": [
    "tfidf_vectorizer = TfidfVectorizer(sublinear_tf=True,\n",
    "                          max_df=0.5,\n",
    "                          min_df=1,\n",
    "                          use_idf=True,smooth_idf=True)\n",
    "X_train = tfidf_vectorizer.fit_transform(X_train)\n",
    "X_test = tfidf_vectorizer.transform(X_test)"
   ]
  },
  {
   "cell_type": "code",
   "execution_count": 40,
   "id": "88feb837",
   "metadata": {},
   "outputs": [
    {
     "name": "stdout",
     "output_type": "stream",
     "text": [
      "X_train (1454220, 109944)\n",
      "X_test (363555, 109944)\n"
     ]
    }
   ],
   "source": [
    "print(\"X_train\",X_train.shape)\n",
    "print(\"X_test\",X_test.shape)\n"
   ]
  },
  {
   "cell_type": "markdown",
   "id": "8aaecea9",
   "metadata": {},
   "source": [
    "# model training "
   ]
  },
  {
   "cell_type": "code",
   "execution_count": null,
   "id": "57909d6e",
   "metadata": {},
   "outputs": [],
   "source": []
  },
  {
   "cell_type": "code",
   "execution_count": 41,
   "id": "2c4ba5fe",
   "metadata": {},
   "outputs": [],
   "source": [
    "# fit the model on the training data\n",
    "ovr.fit(X_train, y_train)\n",
    "y_pred = ovr.predict(X_test)"
   ]
  },
  {
   "cell_type": "code",
   "execution_count": 42,
   "id": "a784dfd0",
   "metadata": {},
   "outputs": [],
   "source": [
    "df_compare1=pd.DataFrame()\n",
    "df_compare1['Actual']=y_test\n",
    "df_compare1['Predicted']=y_pred"
   ]
  },
  {
   "cell_type": "code",
   "execution_count": 43,
   "id": "b51dffe4",
   "metadata": {},
   "outputs": [
    {
     "data": {
      "text/html": [
       "<div>\n",
       "<style scoped>\n",
       "    .dataframe tbody tr th:only-of-type {\n",
       "        vertical-align: middle;\n",
       "    }\n",
       "\n",
       "    .dataframe tbody tr th {\n",
       "        vertical-align: top;\n",
       "    }\n",
       "\n",
       "    .dataframe thead th {\n",
       "        text-align: right;\n",
       "    }\n",
       "</style>\n",
       "<table border=\"1\" class=\"dataframe\">\n",
       "  <thead>\n",
       "    <tr style=\"text-align: right;\">\n",
       "      <th></th>\n",
       "      <th>Actual</th>\n",
       "      <th>Predicted</th>\n",
       "    </tr>\n",
       "  </thead>\n",
       "  <tbody>\n",
       "    <tr>\n",
       "      <th>0</th>\n",
       "      <td>Positive</td>\n",
       "      <td>Positive</td>\n",
       "    </tr>\n",
       "    <tr>\n",
       "      <th>1</th>\n",
       "      <td>Positive</td>\n",
       "      <td>Positive</td>\n",
       "    </tr>\n",
       "    <tr>\n",
       "      <th>2</th>\n",
       "      <td>Positive</td>\n",
       "      <td>Positive</td>\n",
       "    </tr>\n",
       "    <tr>\n",
       "      <th>3</th>\n",
       "      <td>Positive</td>\n",
       "      <td>Positive</td>\n",
       "    </tr>\n",
       "    <tr>\n",
       "      <th>4</th>\n",
       "      <td>Positive</td>\n",
       "      <td>Positive</td>\n",
       "    </tr>\n",
       "    <tr>\n",
       "      <th>...</th>\n",
       "      <td>...</td>\n",
       "      <td>...</td>\n",
       "    </tr>\n",
       "    <tr>\n",
       "      <th>363550</th>\n",
       "      <td>Positive</td>\n",
       "      <td>Positive</td>\n",
       "    </tr>\n",
       "    <tr>\n",
       "      <th>363551</th>\n",
       "      <td>Positive</td>\n",
       "      <td>Positive</td>\n",
       "    </tr>\n",
       "    <tr>\n",
       "      <th>363552</th>\n",
       "      <td>Positive</td>\n",
       "      <td>Positive</td>\n",
       "    </tr>\n",
       "    <tr>\n",
       "      <th>363553</th>\n",
       "      <td>Neutral</td>\n",
       "      <td>Positive</td>\n",
       "    </tr>\n",
       "    <tr>\n",
       "      <th>363554</th>\n",
       "      <td>Negative</td>\n",
       "      <td>Negative</td>\n",
       "    </tr>\n",
       "  </tbody>\n",
       "</table>\n",
       "<p>363555 rows × 2 columns</p>\n",
       "</div>"
      ],
      "text/plain": [
       "          Actual Predicted\n",
       "0       Positive  Positive\n",
       "1       Positive  Positive\n",
       "2       Positive  Positive\n",
       "3       Positive  Positive\n",
       "4       Positive  Positive\n",
       "...          ...       ...\n",
       "363550  Positive  Positive\n",
       "363551  Positive  Positive\n",
       "363552  Positive  Positive\n",
       "363553   Neutral  Positive\n",
       "363554  Negative  Negative\n",
       "\n",
       "[363555 rows x 2 columns]"
      ]
     },
     "execution_count": 43,
     "metadata": {},
     "output_type": "execute_result"
    }
   ],
   "source": [
    "df_compare1"
   ]
  },
  {
   "cell_type": "code",
   "execution_count": 44,
   "id": "91d7865c",
   "metadata": {},
   "outputs": [
    {
     "name": "stdout",
     "output_type": "stream",
     "text": [
      "              precision    recall  f1-score   support\n",
      "\n",
      "    Negative       0.67      0.45      0.54     29993\n",
      "     Neutral       0.44      0.04      0.07     23977\n",
      "    Positive       0.89      0.99      0.94    309585\n",
      "\n",
      "    accuracy                           0.88    363555\n",
      "   macro avg       0.67      0.49      0.52    363555\n",
      "weighted avg       0.85      0.88      0.85    363555\n",
      "\n"
     ]
    }
   ],
   "source": [
    "print(classification_report(y_test, y_pred))"
   ]
  },
  {
   "cell_type": "code",
   "execution_count": 45,
   "id": "90388f9f",
   "metadata": {},
   "outputs": [
    {
     "data": {
      "text/plain": [
       "array([[ 13594,    478,  15921],\n",
       "       [  3113,    949,  19915],\n",
       "       [  3563,    738, 305284]], dtype=int64)"
      ]
     },
     "execution_count": 45,
     "metadata": {},
     "output_type": "execute_result"
    }
   ],
   "source": [
    "confusion_matrix(y_test,y_pred)"
   ]
  },
  {
   "cell_type": "code",
   "execution_count": 46,
   "id": "11789dcc",
   "metadata": {},
   "outputs": [
    {
     "name": "stdout",
     "output_type": "stream",
     "text": [
      "accuracy: 0.879721087593349\n",
      "recall: 0.879721087593349\n",
      "f1-score: 0.8484370916319444\n",
      "precision: 0.8463274617454206\n"
     ]
    }
   ],
   "source": [
    "print('accuracy:', accuracy_score(y_test, y_pred))\n",
    "print('recall:', recall_score(y_test, y_pred, average='weighted'))\n",
    "print('f1-score:', f1_score(y_test, y_pred, average='weighted'))\n",
    "print('precision:', precision_score(y_test, y_pred,average='weighted'))"
   ]
  },
  {
   "cell_type": "code",
   "execution_count": 47,
   "id": "be66ce41",
   "metadata": {},
   "outputs": [],
   "source": [
    "TFIDF_HYPER_ACC =  round(accuracy_score(y_test, y_pred),2)*100\n",
    "TFIDF_HYPER_PREC = round(precision_score(y_test, y_pred,average='weighted'),2)*100\n",
    "TFIDF_HYPER_RE = round(recall_score(y_test, y_pred, average='weighted'),2)*100\n",
    "TFIDF_HYPER_F1 = round(f1_score(y_test, y_pred, average='weighted'),2)*100"
   ]
  },
  {
   "cell_type": "markdown",
   "id": "70c08e15",
   "metadata": {},
   "source": [
    " # bag of words ( uni gram ) "
   ]
  },
  {
   "cell_type": "code",
   "execution_count": 48,
   "id": "72692f3e",
   "metadata": {},
   "outputs": [],
   "source": [
    "# Splitting the data in 80:20 ratio for train and test respectively\n",
    "X_train,X_test,y_train,y_test=train_test_split(X,y,test_size=0.20,random_state=9)"
   ]
  },
  {
   "cell_type": "code",
   "execution_count": 49,
   "id": "7283222b",
   "metadata": {},
   "outputs": [
    {
     "name": "stdout",
     "output_type": "stream",
     "text": [
      "(1454220, 109944)\n",
      "(363555, 109944)\n"
     ]
    }
   ],
   "source": [
    "# Vectorizing the training data using CountVectorizer()\n",
    "cv = CountVectorizer()\n",
    "X_train=cv.fit_transform(X_train)\n",
    "\n",
    "\n",
    "print(X_train.shape)\n",
    "\n",
    "\n",
    "\n",
    "X_test=cv.transform(X_test)\n",
    "\n",
    "print(X_test.shape)"
   ]
  },
  {
   "cell_type": "code",
   "execution_count": 50,
   "id": "3e98d03f",
   "metadata": {},
   "outputs": [
    {
     "name": "stdout",
     "output_type": "stream",
     "text": [
      "X_train (1454220, 109944)\n",
      "X_test (363555, 109944)\n"
     ]
    }
   ],
   "source": [
    "print(\"X_train\",X_train.shape)\n",
    "print(\"X_test\",X_test.shape)\n"
   ]
  },
  {
   "cell_type": "code",
   "execution_count": null,
   "id": "8e621c35",
   "metadata": {},
   "outputs": [],
   "source": []
  },
  {
   "cell_type": "markdown",
   "id": "90424155",
   "metadata": {},
   "source": [
    "# model training "
   ]
  },
  {
   "cell_type": "code",
   "execution_count": 51,
   "id": "3f85b7ba",
   "metadata": {},
   "outputs": [],
   "source": [
    "# fit the model on the training data\n",
    "ovr.fit(X_train, y_train)\n",
    "y_pred = ovr.predict(X_test)"
   ]
  },
  {
   "cell_type": "code",
   "execution_count": 52,
   "id": "e5fc9c81",
   "metadata": {},
   "outputs": [],
   "source": [
    "df_compare1=pd.DataFrame()\n",
    "df_compare1['Actual']=y_test\n",
    "df_compare1['Predicted']=y_pred"
   ]
  },
  {
   "cell_type": "code",
   "execution_count": 53,
   "id": "d821aa9d",
   "metadata": {},
   "outputs": [
    {
     "data": {
      "text/html": [
       "<div>\n",
       "<style scoped>\n",
       "    .dataframe tbody tr th:only-of-type {\n",
       "        vertical-align: middle;\n",
       "    }\n",
       "\n",
       "    .dataframe tbody tr th {\n",
       "        vertical-align: top;\n",
       "    }\n",
       "\n",
       "    .dataframe thead th {\n",
       "        text-align: right;\n",
       "    }\n",
       "</style>\n",
       "<table border=\"1\" class=\"dataframe\">\n",
       "  <thead>\n",
       "    <tr style=\"text-align: right;\">\n",
       "      <th></th>\n",
       "      <th>Actual</th>\n",
       "      <th>Predicted</th>\n",
       "    </tr>\n",
       "  </thead>\n",
       "  <tbody>\n",
       "    <tr>\n",
       "      <th>0</th>\n",
       "      <td>Positive</td>\n",
       "      <td>Positive</td>\n",
       "    </tr>\n",
       "    <tr>\n",
       "      <th>1</th>\n",
       "      <td>Positive</td>\n",
       "      <td>Positive</td>\n",
       "    </tr>\n",
       "    <tr>\n",
       "      <th>2</th>\n",
       "      <td>Positive</td>\n",
       "      <td>Positive</td>\n",
       "    </tr>\n",
       "    <tr>\n",
       "      <th>3</th>\n",
       "      <td>Positive</td>\n",
       "      <td>Positive</td>\n",
       "    </tr>\n",
       "    <tr>\n",
       "      <th>4</th>\n",
       "      <td>Positive</td>\n",
       "      <td>Positive</td>\n",
       "    </tr>\n",
       "    <tr>\n",
       "      <th>...</th>\n",
       "      <td>...</td>\n",
       "      <td>...</td>\n",
       "    </tr>\n",
       "    <tr>\n",
       "      <th>363550</th>\n",
       "      <td>Positive</td>\n",
       "      <td>Positive</td>\n",
       "    </tr>\n",
       "    <tr>\n",
       "      <th>363551</th>\n",
       "      <td>Positive</td>\n",
       "      <td>Positive</td>\n",
       "    </tr>\n",
       "    <tr>\n",
       "      <th>363552</th>\n",
       "      <td>Positive</td>\n",
       "      <td>Positive</td>\n",
       "    </tr>\n",
       "    <tr>\n",
       "      <th>363553</th>\n",
       "      <td>Neutral</td>\n",
       "      <td>Positive</td>\n",
       "    </tr>\n",
       "    <tr>\n",
       "      <th>363554</th>\n",
       "      <td>Negative</td>\n",
       "      <td>Negative</td>\n",
       "    </tr>\n",
       "  </tbody>\n",
       "</table>\n",
       "<p>363555 rows × 2 columns</p>\n",
       "</div>"
      ],
      "text/plain": [
       "          Actual Predicted\n",
       "0       Positive  Positive\n",
       "1       Positive  Positive\n",
       "2       Positive  Positive\n",
       "3       Positive  Positive\n",
       "4       Positive  Positive\n",
       "...          ...       ...\n",
       "363550  Positive  Positive\n",
       "363551  Positive  Positive\n",
       "363552  Positive  Positive\n",
       "363553   Neutral  Positive\n",
       "363554  Negative  Negative\n",
       "\n",
       "[363555 rows x 2 columns]"
      ]
     },
     "execution_count": 53,
     "metadata": {},
     "output_type": "execute_result"
    }
   ],
   "source": [
    "df_compare1"
   ]
  },
  {
   "cell_type": "code",
   "execution_count": 54,
   "id": "1f01c18e",
   "metadata": {},
   "outputs": [
    {
     "name": "stdout",
     "output_type": "stream",
     "text": [
      "              precision    recall  f1-score   support\n",
      "\n",
      "    Negative       0.66      0.40      0.50     29993\n",
      "     Neutral       0.37      0.06      0.10     23977\n",
      "    Positive       0.89      0.98      0.94    309585\n",
      "\n",
      "    accuracy                           0.87    363555\n",
      "   macro avg       0.64      0.48      0.51    363555\n",
      "weighted avg       0.84      0.87      0.84    363555\n",
      "\n"
     ]
    }
   ],
   "source": [
    "print(classification_report(y_test, y_pred))"
   ]
  },
  {
   "cell_type": "code",
   "execution_count": 55,
   "id": "62874615",
   "metadata": {},
   "outputs": [
    {
     "data": {
      "text/plain": [
       "array([[ 12100,    890,  17003],\n",
       "       [  2758,   1384,  19835],\n",
       "       [  3552,   1469, 304564]], dtype=int64)"
      ]
     },
     "execution_count": 55,
     "metadata": {},
     "output_type": "execute_result"
    }
   ],
   "source": [
    "confusion_matrix(y_test,y_pred)"
   ]
  },
  {
   "cell_type": "code",
   "execution_count": 56,
   "id": "7271b90d",
   "metadata": {},
   "outputs": [
    {
     "name": "stdout",
     "output_type": "stream",
     "text": [
      "accuracy: 0.8748277427074308\n",
      "recall: 0.8748277427074308\n",
      "f1-score: 0.8446266459930104\n",
      "precision: 0.8382740618173977\n"
     ]
    }
   ],
   "source": [
    "print('accuracy:', accuracy_score(y_test, y_pred))\n",
    "print('recall:', recall_score(y_test, y_pred, average='weighted'))\n",
    "print('f1-score:', f1_score(y_test, y_pred, average='weighted'))\n",
    "print('precision:', precision_score(y_test, y_pred,average='weighted'))"
   ]
  },
  {
   "cell_type": "code",
   "execution_count": 57,
   "id": "8052227d",
   "metadata": {},
   "outputs": [],
   "source": [
    "BOW_UNI_ACC =  round(accuracy_score(y_test, y_pred),2)*100\n",
    "BOW_UNI_PREC = round(precision_score(y_test, y_pred,average='weighted'),2)*100\n",
    "BOW_UNI_RE = round(recall_score(y_test, y_pred, average='weighted'),2)*100\n",
    "BOW_UNI_F1 = round(f1_score(y_test, y_pred, average='weighted'),2)*100"
   ]
  },
  {
   "cell_type": "code",
   "execution_count": null,
   "id": "96af59bb",
   "metadata": {},
   "outputs": [],
   "source": []
  },
  {
   "cell_type": "markdown",
   "id": "612048db",
   "metadata": {},
   "source": [
    "# n_gram  ( bi gram ) "
   ]
  },
  {
   "cell_type": "code",
   "execution_count": 58,
   "id": "7304ff65",
   "metadata": {},
   "outputs": [],
   "source": [
    "# Splitting the data in 80:20 ratio for train and test respectively\n",
    "X_train,X_test,y_train,y_test=train_test_split(X,y,test_size=0.20,random_state=9)"
   ]
  },
  {
   "cell_type": "code",
   "execution_count": 59,
   "id": "4d3e6b7a",
   "metadata": {
    "scrolled": true
   },
   "outputs": [
    {
     "name": "stdout",
     "output_type": "stream",
     "text": [
      "(1454220, 6109630)\n",
      "(363555, 6109630)\n"
     ]
    }
   ],
   "source": [
    "# Vectorizing the training data using CountVectorizer()\n",
    "cv = CountVectorizer(ngram_range=(2,2))\n",
    "X_train=cv.fit_transform(X_train)\n",
    "\n",
    "\n",
    "print(X_train.shape)\n",
    "\n",
    "\n",
    "\n",
    "X_test=cv.transform(X_test)\n",
    "\n",
    "print(X_test.shape)"
   ]
  },
  {
   "cell_type": "code",
   "execution_count": null,
   "id": "d7289dc0",
   "metadata": {},
   "outputs": [],
   "source": []
  },
  {
   "cell_type": "markdown",
   "id": "9022f6f6",
   "metadata": {},
   "source": [
    "# model training "
   ]
  },
  {
   "cell_type": "code",
   "execution_count": 60,
   "id": "abf2e0ea",
   "metadata": {},
   "outputs": [],
   "source": [
    "# fit the model on the training data\n",
    "ovr.fit(X_train, y_train)\n",
    "y_pred = ovr.predict(X_test)"
   ]
  },
  {
   "cell_type": "code",
   "execution_count": 61,
   "id": "2dd22104",
   "metadata": {},
   "outputs": [],
   "source": [
    "df_compare1=pd.DataFrame()\n",
    "df_compare1['Actual']=y_test\n",
    "df_compare1['Predicted']=y_pred"
   ]
  },
  {
   "cell_type": "code",
   "execution_count": 62,
   "id": "03a0f24c",
   "metadata": {},
   "outputs": [
    {
     "data": {
      "text/html": [
       "<div>\n",
       "<style scoped>\n",
       "    .dataframe tbody tr th:only-of-type {\n",
       "        vertical-align: middle;\n",
       "    }\n",
       "\n",
       "    .dataframe tbody tr th {\n",
       "        vertical-align: top;\n",
       "    }\n",
       "\n",
       "    .dataframe thead th {\n",
       "        text-align: right;\n",
       "    }\n",
       "</style>\n",
       "<table border=\"1\" class=\"dataframe\">\n",
       "  <thead>\n",
       "    <tr style=\"text-align: right;\">\n",
       "      <th></th>\n",
       "      <th>Actual</th>\n",
       "      <th>Predicted</th>\n",
       "    </tr>\n",
       "  </thead>\n",
       "  <tbody>\n",
       "    <tr>\n",
       "      <th>0</th>\n",
       "      <td>Positive</td>\n",
       "      <td>Positive</td>\n",
       "    </tr>\n",
       "    <tr>\n",
       "      <th>1</th>\n",
       "      <td>Positive</td>\n",
       "      <td>Positive</td>\n",
       "    </tr>\n",
       "    <tr>\n",
       "      <th>2</th>\n",
       "      <td>Positive</td>\n",
       "      <td>Positive</td>\n",
       "    </tr>\n",
       "    <tr>\n",
       "      <th>3</th>\n",
       "      <td>Positive</td>\n",
       "      <td>Positive</td>\n",
       "    </tr>\n",
       "    <tr>\n",
       "      <th>4</th>\n",
       "      <td>Positive</td>\n",
       "      <td>Positive</td>\n",
       "    </tr>\n",
       "    <tr>\n",
       "      <th>...</th>\n",
       "      <td>...</td>\n",
       "      <td>...</td>\n",
       "    </tr>\n",
       "    <tr>\n",
       "      <th>363550</th>\n",
       "      <td>Positive</td>\n",
       "      <td>Positive</td>\n",
       "    </tr>\n",
       "    <tr>\n",
       "      <th>363551</th>\n",
       "      <td>Positive</td>\n",
       "      <td>Positive</td>\n",
       "    </tr>\n",
       "    <tr>\n",
       "      <th>363552</th>\n",
       "      <td>Positive</td>\n",
       "      <td>Positive</td>\n",
       "    </tr>\n",
       "    <tr>\n",
       "      <th>363553</th>\n",
       "      <td>Neutral</td>\n",
       "      <td>Positive</td>\n",
       "    </tr>\n",
       "    <tr>\n",
       "      <th>363554</th>\n",
       "      <td>Negative</td>\n",
       "      <td>Positive</td>\n",
       "    </tr>\n",
       "  </tbody>\n",
       "</table>\n",
       "<p>363555 rows × 2 columns</p>\n",
       "</div>"
      ],
      "text/plain": [
       "          Actual Predicted\n",
       "0       Positive  Positive\n",
       "1       Positive  Positive\n",
       "2       Positive  Positive\n",
       "3       Positive  Positive\n",
       "4       Positive  Positive\n",
       "...          ...       ...\n",
       "363550  Positive  Positive\n",
       "363551  Positive  Positive\n",
       "363552  Positive  Positive\n",
       "363553   Neutral  Positive\n",
       "363554  Negative  Positive\n",
       "\n",
       "[363555 rows x 2 columns]"
      ]
     },
     "execution_count": 62,
     "metadata": {},
     "output_type": "execute_result"
    }
   ],
   "source": [
    "df_compare1"
   ]
  },
  {
   "cell_type": "code",
   "execution_count": 63,
   "id": "e6f09f2b",
   "metadata": {},
   "outputs": [
    {
     "name": "stdout",
     "output_type": "stream",
     "text": [
      "              precision    recall  f1-score   support\n",
      "\n",
      "    Negative       0.66      0.33      0.44     29993\n",
      "     Neutral       0.41      0.09      0.14     23977\n",
      "    Positive       0.89      0.98      0.93    309585\n",
      "\n",
      "    accuracy                           0.87    363555\n",
      "   macro avg       0.65      0.47      0.50    363555\n",
      "weighted avg       0.84      0.87      0.84    363555\n",
      "\n"
     ]
    }
   ],
   "source": [
    "print(classification_report(y_test, y_pred))"
   ]
  },
  {
   "cell_type": "code",
   "execution_count": 64,
   "id": "121b259e",
   "metadata": {},
   "outputs": [
    {
     "data": {
      "text/plain": [
       "array([[  9838,   1114,  19041],\n",
       "       [  2174,   2054,  19749],\n",
       "       [  2824,   1829, 304932]], dtype=int64)"
      ]
     },
     "execution_count": 64,
     "metadata": {},
     "output_type": "execute_result"
    }
   ],
   "source": [
    "confusion_matrix(y_test,y_pred)"
   ]
  },
  {
   "cell_type": "code",
   "execution_count": 65,
   "id": "d4819887",
   "metadata": {},
   "outputs": [
    {
     "name": "stdout",
     "output_type": "stream",
     "text": [
      "accuracy: 0.8714609893963774\n",
      "recall: 0.8714609893963774\n",
      "f1-score: 0.8404844275686301\n",
      "precision: 0.8372652899511801\n"
     ]
    }
   ],
   "source": [
    "print('accuracy:', accuracy_score(y_test, y_pred))\n",
    "print('recall:', recall_score(y_test, y_pred, average='weighted'))\n",
    "print('f1-score:', f1_score(y_test, y_pred, average='weighted'))\n",
    "print('precision:', precision_score(y_test, y_pred,average='weighted'))"
   ]
  },
  {
   "cell_type": "code",
   "execution_count": 66,
   "id": "333af5ac",
   "metadata": {},
   "outputs": [],
   "source": [
    "BOW_BI_ACC =  round(accuracy_score(y_test, y_pred),2)*100\n",
    "BOW_BI_PREC = round(precision_score(y_test, y_pred,average='weighted'),2)*100\n",
    "BOW_BI_RE = round(recall_score(y_test, y_pred, average='weighted'),2)*100\n",
    "BOW_BI_F1 = round(f1_score(y_test, y_pred, average='weighted'),2)*100"
   ]
  },
  {
   "cell_type": "code",
   "execution_count": 67,
   "id": "a15544df",
   "metadata": {},
   "outputs": [],
   "source": [
    "comparision = pd.DataFrame()"
   ]
  },
  {
   "cell_type": "code",
   "execution_count": 68,
   "id": "1133e796",
   "metadata": {},
   "outputs": [],
   "source": [
    "comparision['MODEL NAME'] = ['OneVsRest','OneVsRest','OneVsRest','OneVsRest']"
   ]
  },
  {
   "cell_type": "code",
   "execution_count": 69,
   "id": "1716c1bd",
   "metadata": {},
   "outputs": [],
   "source": [
    "comparision['TEXT EXTRACTION METHOD'] = ['TF_IDF','TF_IDF_HYPERPARAMETER','BAG OF WORDS(UNIGRAM)','BAG OF WORDS(BIGRAM)']"
   ]
  },
  {
   "cell_type": "code",
   "execution_count": 70,
   "id": "bab6cd31",
   "metadata": {},
   "outputs": [],
   "source": [
    "comparision['ACCURACY'] = [TF_IDF_ACC,TFIDF_HYPER_ACC,BOW_UNI_ACC,BOW_BI_ACC]"
   ]
  },
  {
   "cell_type": "code",
   "execution_count": 71,
   "id": "bc0be9d0",
   "metadata": {},
   "outputs": [],
   "source": [
    "comparision['PRECESSION'] = [TF_IDF_PREC,TFIDF_HYPER_PREC,BOW_UNI_PREC,BOW_BI_PREC]"
   ]
  },
  {
   "cell_type": "code",
   "execution_count": 72,
   "id": "93da2804",
   "metadata": {},
   "outputs": [],
   "source": [
    "comparision['RECALL'] = [TF_IDF_RE,TFIDF_HYPER_RE,BOW_UNI_RE,BOW_BI_RE]"
   ]
  },
  {
   "cell_type": "code",
   "execution_count": 73,
   "id": "c3920a4c",
   "metadata": {},
   "outputs": [],
   "source": [
    "comparision['F1_SCORE'] = [TF_IDF_F1,TFIDF_HYPER_F1,BOW_UNI_F1,BOW_BI_F1]"
   ]
  },
  {
   "cell_type": "code",
   "execution_count": 74,
   "id": "6b869d41",
   "metadata": {},
   "outputs": [
    {
     "data": {
      "text/html": [
       "<div>\n",
       "<style scoped>\n",
       "    .dataframe tbody tr th:only-of-type {\n",
       "        vertical-align: middle;\n",
       "    }\n",
       "\n",
       "    .dataframe tbody tr th {\n",
       "        vertical-align: top;\n",
       "    }\n",
       "\n",
       "    .dataframe thead th {\n",
       "        text-align: right;\n",
       "    }\n",
       "</style>\n",
       "<table border=\"1\" class=\"dataframe\">\n",
       "  <thead>\n",
       "    <tr style=\"text-align: right;\">\n",
       "      <th></th>\n",
       "      <th>MODEL NAME</th>\n",
       "      <th>TEXT EXTRACTION METHOD</th>\n",
       "      <th>ACCURACY</th>\n",
       "      <th>PRECESSION</th>\n",
       "      <th>RECALL</th>\n",
       "      <th>F1_SCORE</th>\n",
       "    </tr>\n",
       "  </thead>\n",
       "  <tbody>\n",
       "    <tr>\n",
       "      <th>0</th>\n",
       "      <td>OneVsRest</td>\n",
       "      <td>TF_IDF</td>\n",
       "      <td>87.94</td>\n",
       "      <td>84.58</td>\n",
       "      <td>87.94</td>\n",
       "      <td>84.78</td>\n",
       "    </tr>\n",
       "    <tr>\n",
       "      <th>1</th>\n",
       "      <td>OneVsRest</td>\n",
       "      <td>TF_IDF_HYPERPARAMETER</td>\n",
       "      <td>88.00</td>\n",
       "      <td>85.00</td>\n",
       "      <td>88.00</td>\n",
       "      <td>85.00</td>\n",
       "    </tr>\n",
       "    <tr>\n",
       "      <th>2</th>\n",
       "      <td>OneVsRest</td>\n",
       "      <td>BAG OF WORDS(UNIGRAM)</td>\n",
       "      <td>87.00</td>\n",
       "      <td>84.00</td>\n",
       "      <td>87.00</td>\n",
       "      <td>84.00</td>\n",
       "    </tr>\n",
       "    <tr>\n",
       "      <th>3</th>\n",
       "      <td>OneVsRest</td>\n",
       "      <td>BAG OF WORDS(BIGRAM)</td>\n",
       "      <td>87.00</td>\n",
       "      <td>84.00</td>\n",
       "      <td>87.00</td>\n",
       "      <td>84.00</td>\n",
       "    </tr>\n",
       "  </tbody>\n",
       "</table>\n",
       "</div>"
      ],
      "text/plain": [
       "  MODEL NAME TEXT EXTRACTION METHOD  ACCURACY  PRECESSION  RECALL  F1_SCORE\n",
       "0  OneVsRest                 TF_IDF     87.94       84.58   87.94     84.78\n",
       "1  OneVsRest  TF_IDF_HYPERPARAMETER     88.00       85.00   88.00     85.00\n",
       "2  OneVsRest  BAG OF WORDS(UNIGRAM)     87.00       84.00   87.00     84.00\n",
       "3  OneVsRest   BAG OF WORDS(BIGRAM)     87.00       84.00   87.00     84.00"
      ]
     },
     "execution_count": 74,
     "metadata": {},
     "output_type": "execute_result"
    }
   ],
   "source": [
    "comparision"
   ]
  },
  {
   "cell_type": "code",
   "execution_count": null,
   "id": "54c7549b",
   "metadata": {},
   "outputs": [],
   "source": []
  },
  {
   "cell_type": "markdown",
   "id": "5a91355b",
   "metadata": {},
   "source": [
    "# ONE VS REST ON  PATIO "
   ]
  },
  {
   "cell_type": "code",
   "execution_count": 75,
   "id": "0b003b22",
   "metadata": {},
   "outputs": [],
   "source": [
    "# Load Data\n",
    "df_patio =pd.read_csv('PATIO_COMPLETELY_CLEAN_FULLY_MERGED_RDY_FOR_MDLLING')"
   ]
  },
  {
   "cell_type": "code",
   "execution_count": 76,
   "id": "1f05d819",
   "metadata": {},
   "outputs": [
    {
     "data": {
      "text/plain": [
       "(932665, 10)"
      ]
     },
     "execution_count": 76,
     "metadata": {},
     "output_type": "execute_result"
    }
   ],
   "source": [
    "df_patio.shape"
   ]
  },
  {
   "cell_type": "code",
   "execution_count": 77,
   "id": "57c34291",
   "metadata": {},
   "outputs": [
    {
     "data": {
      "text/html": [
       "<div>\n",
       "<style scoped>\n",
       "    .dataframe tbody tr th:only-of-type {\n",
       "        vertical-align: middle;\n",
       "    }\n",
       "\n",
       "    .dataframe tbody tr th {\n",
       "        vertical-align: top;\n",
       "    }\n",
       "\n",
       "    .dataframe thead th {\n",
       "        text-align: right;\n",
       "    }\n",
       "</style>\n",
       "<table border=\"1\" class=\"dataframe\">\n",
       "  <thead>\n",
       "    <tr style=\"text-align: right;\">\n",
       "      <th></th>\n",
       "      <th>title</th>\n",
       "      <th>brand</th>\n",
       "      <th>main_cat</th>\n",
       "      <th>price</th>\n",
       "      <th>product_id</th>\n",
       "      <th>Reviewer_id</th>\n",
       "      <th>rating</th>\n",
       "      <th>verified</th>\n",
       "      <th>reviewText</th>\n",
       "      <th>DATE</th>\n",
       "    </tr>\n",
       "  </thead>\n",
       "  <tbody>\n",
       "    <tr>\n",
       "      <th>0</th>\n",
       "      <td>Colorado US State Flag: 3x5foot poly</td>\n",
       "      <td>3x5fFlags</td>\n",
       "      <td>Amazon Home</td>\n",
       "      <td>52.730167</td>\n",
       "      <td>9539723809</td>\n",
       "      <td>AUVPE2KEXBJVT</td>\n",
       "      <td>5.0</td>\n",
       "      <td>True</td>\n",
       "      <td>I don't spend a lot on my flags because they r...</td>\n",
       "      <td>2011-12-11</td>\n",
       "    </tr>\n",
       "    <tr>\n",
       "      <th>1</th>\n",
       "      <td>Colorado US State Flag: 3x5foot poly</td>\n",
       "      <td>3x5fFlags</td>\n",
       "      <td>Amazon Home</td>\n",
       "      <td>52.730167</td>\n",
       "      <td>9539723809</td>\n",
       "      <td>A2F6GES1MBOFXS</td>\n",
       "      <td>5.0</td>\n",
       "      <td>True</td>\n",
       "      <td>Super fast processing and shipping, if you are...</td>\n",
       "      <td>2011-07-30</td>\n",
       "    </tr>\n",
       "    <tr>\n",
       "      <th>2</th>\n",
       "      <td>Colorado US State Flag: 3x5foot poly</td>\n",
       "      <td>3x5fFlags</td>\n",
       "      <td>Amazon Home</td>\n",
       "      <td>52.730167</td>\n",
       "      <td>9539723809</td>\n",
       "      <td>A1SDVD3SZI1BAK</td>\n",
       "      <td>5.0</td>\n",
       "      <td>True</td>\n",
       "      <td>Great product.  I would recommend this product...</td>\n",
       "      <td>2016-05-04</td>\n",
       "    </tr>\n",
       "    <tr>\n",
       "      <th>3</th>\n",
       "      <td>Colorado US State Flag: 3x5foot poly</td>\n",
       "      <td>3x5fFlags</td>\n",
       "      <td>Amazon Home</td>\n",
       "      <td>52.730167</td>\n",
       "      <td>9539723809</td>\n",
       "      <td>A1ZQJ3KCSLUPR3</td>\n",
       "      <td>5.0</td>\n",
       "      <td>True</td>\n",
       "      <td>GREAT PRICE I LOVE MY STATE AND COUNTRY</td>\n",
       "      <td>2015-11-02</td>\n",
       "    </tr>\n",
       "    <tr>\n",
       "      <th>4</th>\n",
       "      <td>Colorado US State Flag: 3x5foot poly</td>\n",
       "      <td>3x5fFlags</td>\n",
       "      <td>Amazon Home</td>\n",
       "      <td>52.730167</td>\n",
       "      <td>9539723809</td>\n",
       "      <td>ANU8FBZM618M3</td>\n",
       "      <td>5.0</td>\n",
       "      <td>True</td>\n",
       "      <td>Great display flag for the den.</td>\n",
       "      <td>2015-09-01</td>\n",
       "    </tr>\n",
       "  </tbody>\n",
       "</table>\n",
       "</div>"
      ],
      "text/plain": [
       "                                  title      brand     main_cat      price  \\\n",
       "0  Colorado US State Flag: 3x5foot poly  3x5fFlags  Amazon Home  52.730167   \n",
       "1  Colorado US State Flag: 3x5foot poly  3x5fFlags  Amazon Home  52.730167   \n",
       "2  Colorado US State Flag: 3x5foot poly  3x5fFlags  Amazon Home  52.730167   \n",
       "3  Colorado US State Flag: 3x5foot poly  3x5fFlags  Amazon Home  52.730167   \n",
       "4  Colorado US State Flag: 3x5foot poly  3x5fFlags  Amazon Home  52.730167   \n",
       "\n",
       "   product_id     Reviewer_id  rating  verified  \\\n",
       "0  9539723809   AUVPE2KEXBJVT     5.0      True   \n",
       "1  9539723809  A2F6GES1MBOFXS     5.0      True   \n",
       "2  9539723809  A1SDVD3SZI1BAK     5.0      True   \n",
       "3  9539723809  A1ZQJ3KCSLUPR3     5.0      True   \n",
       "4  9539723809   ANU8FBZM618M3     5.0      True   \n",
       "\n",
       "                                          reviewText        DATE  \n",
       "0  I don't spend a lot on my flags because they r...  2011-12-11  \n",
       "1  Super fast processing and shipping, if you are...  2011-07-30  \n",
       "2  Great product.  I would recommend this product...  2016-05-04  \n",
       "3            GREAT PRICE I LOVE MY STATE AND COUNTRY  2015-11-02  \n",
       "4                    Great display flag for the den.  2015-09-01  "
      ]
     },
     "execution_count": 77,
     "metadata": {},
     "output_type": "execute_result"
    }
   ],
   "source": [
    "df_patio.head()"
   ]
  },
  {
   "cell_type": "code",
   "execution_count": null,
   "id": "2ac6a447",
   "metadata": {},
   "outputs": [],
   "source": []
  },
  {
   "cell_type": "code",
   "execution_count": 78,
   "id": "d5d57459",
   "metadata": {},
   "outputs": [],
   "source": [
    "df_patio.drop_duplicates(subset=None,keep='first',inplace=True)"
   ]
  },
  {
   "cell_type": "code",
   "execution_count": 79,
   "id": "9bef6419",
   "metadata": {},
   "outputs": [
    {
     "data": {
      "text/plain": [
       "(727480, 10)"
      ]
     },
     "execution_count": 79,
     "metadata": {},
     "output_type": "execute_result"
    }
   ],
   "source": [
    "df_patio.shape"
   ]
  },
  {
   "cell_type": "code",
   "execution_count": 80,
   "id": "6acb995a",
   "metadata": {},
   "outputs": [],
   "source": [
    "sentiment_patio=[]\n",
    "for i in df_patio['rating']:\n",
    "    if (i>3):\n",
    "        sentiment_patio.append('Positive')\n",
    "    elif(i<3):\n",
    "        sentiment_patio.append('Negative')\n",
    "    else:\n",
    "        sentiment_patio.append('Neutral')"
   ]
  },
  {
   "cell_type": "code",
   "execution_count": 81,
   "id": "654e22b8",
   "metadata": {},
   "outputs": [],
   "source": [
    "df_patio['ReviewSentiment']=sentiment_patio"
   ]
  },
  {
   "cell_type": "code",
   "execution_count": 82,
   "id": "6e1c6171",
   "metadata": {},
   "outputs": [
    {
     "data": {
      "text/plain": [
       "(727480, 11)"
      ]
     },
     "execution_count": 82,
     "metadata": {},
     "output_type": "execute_result"
    }
   ],
   "source": [
    "df_patio.shape"
   ]
  },
  {
   "cell_type": "code",
   "execution_count": 83,
   "id": "4fd26635",
   "metadata": {},
   "outputs": [
    {
     "data": {
      "text/html": [
       "<div>\n",
       "<style scoped>\n",
       "    .dataframe tbody tr th:only-of-type {\n",
       "        vertical-align: middle;\n",
       "    }\n",
       "\n",
       "    .dataframe tbody tr th {\n",
       "        vertical-align: top;\n",
       "    }\n",
       "\n",
       "    .dataframe thead th {\n",
       "        text-align: right;\n",
       "    }\n",
       "</style>\n",
       "<table border=\"1\" class=\"dataframe\">\n",
       "  <thead>\n",
       "    <tr style=\"text-align: right;\">\n",
       "      <th></th>\n",
       "      <th>title</th>\n",
       "      <th>brand</th>\n",
       "      <th>main_cat</th>\n",
       "      <th>price</th>\n",
       "      <th>product_id</th>\n",
       "      <th>Reviewer_id</th>\n",
       "      <th>rating</th>\n",
       "      <th>verified</th>\n",
       "      <th>reviewText</th>\n",
       "      <th>DATE</th>\n",
       "      <th>ReviewSentiment</th>\n",
       "    </tr>\n",
       "  </thead>\n",
       "  <tbody>\n",
       "    <tr>\n",
       "      <th>0</th>\n",
       "      <td>Colorado US State Flag: 3x5foot poly</td>\n",
       "      <td>3x5fFlags</td>\n",
       "      <td>Amazon Home</td>\n",
       "      <td>52.730167</td>\n",
       "      <td>9539723809</td>\n",
       "      <td>AUVPE2KEXBJVT</td>\n",
       "      <td>5.0</td>\n",
       "      <td>True</td>\n",
       "      <td>I don't spend a lot on my flags because they r...</td>\n",
       "      <td>2011-12-11</td>\n",
       "      <td>Positive</td>\n",
       "    </tr>\n",
       "    <tr>\n",
       "      <th>1</th>\n",
       "      <td>Colorado US State Flag: 3x5foot poly</td>\n",
       "      <td>3x5fFlags</td>\n",
       "      <td>Amazon Home</td>\n",
       "      <td>52.730167</td>\n",
       "      <td>9539723809</td>\n",
       "      <td>A2F6GES1MBOFXS</td>\n",
       "      <td>5.0</td>\n",
       "      <td>True</td>\n",
       "      <td>Super fast processing and shipping, if you are...</td>\n",
       "      <td>2011-07-30</td>\n",
       "      <td>Positive</td>\n",
       "    </tr>\n",
       "    <tr>\n",
       "      <th>2</th>\n",
       "      <td>Colorado US State Flag: 3x5foot poly</td>\n",
       "      <td>3x5fFlags</td>\n",
       "      <td>Amazon Home</td>\n",
       "      <td>52.730167</td>\n",
       "      <td>9539723809</td>\n",
       "      <td>A1SDVD3SZI1BAK</td>\n",
       "      <td>5.0</td>\n",
       "      <td>True</td>\n",
       "      <td>Great product.  I would recommend this product...</td>\n",
       "      <td>2016-05-04</td>\n",
       "      <td>Positive</td>\n",
       "    </tr>\n",
       "    <tr>\n",
       "      <th>3</th>\n",
       "      <td>Colorado US State Flag: 3x5foot poly</td>\n",
       "      <td>3x5fFlags</td>\n",
       "      <td>Amazon Home</td>\n",
       "      <td>52.730167</td>\n",
       "      <td>9539723809</td>\n",
       "      <td>A1ZQJ3KCSLUPR3</td>\n",
       "      <td>5.0</td>\n",
       "      <td>True</td>\n",
       "      <td>GREAT PRICE I LOVE MY STATE AND COUNTRY</td>\n",
       "      <td>2015-11-02</td>\n",
       "      <td>Positive</td>\n",
       "    </tr>\n",
       "    <tr>\n",
       "      <th>4</th>\n",
       "      <td>Colorado US State Flag: 3x5foot poly</td>\n",
       "      <td>3x5fFlags</td>\n",
       "      <td>Amazon Home</td>\n",
       "      <td>52.730167</td>\n",
       "      <td>9539723809</td>\n",
       "      <td>ANU8FBZM618M3</td>\n",
       "      <td>5.0</td>\n",
       "      <td>True</td>\n",
       "      <td>Great display flag for the den.</td>\n",
       "      <td>2015-09-01</td>\n",
       "      <td>Positive</td>\n",
       "    </tr>\n",
       "  </tbody>\n",
       "</table>\n",
       "</div>"
      ],
      "text/plain": [
       "                                  title      brand     main_cat      price  \\\n",
       "0  Colorado US State Flag: 3x5foot poly  3x5fFlags  Amazon Home  52.730167   \n",
       "1  Colorado US State Flag: 3x5foot poly  3x5fFlags  Amazon Home  52.730167   \n",
       "2  Colorado US State Flag: 3x5foot poly  3x5fFlags  Amazon Home  52.730167   \n",
       "3  Colorado US State Flag: 3x5foot poly  3x5fFlags  Amazon Home  52.730167   \n",
       "4  Colorado US State Flag: 3x5foot poly  3x5fFlags  Amazon Home  52.730167   \n",
       "\n",
       "   product_id     Reviewer_id  rating  verified  \\\n",
       "0  9539723809   AUVPE2KEXBJVT     5.0      True   \n",
       "1  9539723809  A2F6GES1MBOFXS     5.0      True   \n",
       "2  9539723809  A1SDVD3SZI1BAK     5.0      True   \n",
       "3  9539723809  A1ZQJ3KCSLUPR3     5.0      True   \n",
       "4  9539723809   ANU8FBZM618M3     5.0      True   \n",
       "\n",
       "                                          reviewText        DATE  \\\n",
       "0  I don't spend a lot on my flags because they r...  2011-12-11   \n",
       "1  Super fast processing and shipping, if you are...  2011-07-30   \n",
       "2  Great product.  I would recommend this product...  2016-05-04   \n",
       "3            GREAT PRICE I LOVE MY STATE AND COUNTRY  2015-11-02   \n",
       "4                    Great display flag for the den.  2015-09-01   \n",
       "\n",
       "  ReviewSentiment  \n",
       "0        Positive  \n",
       "1        Positive  \n",
       "2        Positive  \n",
       "3        Positive  \n",
       "4        Positive  "
      ]
     },
     "execution_count": 83,
     "metadata": {},
     "output_type": "execute_result"
    }
   ],
   "source": [
    "df_patio.head()"
   ]
  },
  {
   "cell_type": "code",
   "execution_count": 84,
   "id": "52374ae1",
   "metadata": {},
   "outputs": [],
   "source": [
    "Text_patio  = df_patio[[\"reviewText\",\"ReviewSentiment\"]]"
   ]
  },
  {
   "cell_type": "code",
   "execution_count": 85,
   "id": "e23d6026",
   "metadata": {},
   "outputs": [
    {
     "data": {
      "text/html": [
       "<div>\n",
       "<style scoped>\n",
       "    .dataframe tbody tr th:only-of-type {\n",
       "        vertical-align: middle;\n",
       "    }\n",
       "\n",
       "    .dataframe tbody tr th {\n",
       "        vertical-align: top;\n",
       "    }\n",
       "\n",
       "    .dataframe thead th {\n",
       "        text-align: right;\n",
       "    }\n",
       "</style>\n",
       "<table border=\"1\" class=\"dataframe\">\n",
       "  <thead>\n",
       "    <tr style=\"text-align: right;\">\n",
       "      <th></th>\n",
       "      <th>reviewText</th>\n",
       "      <th>ReviewSentiment</th>\n",
       "    </tr>\n",
       "  </thead>\n",
       "  <tbody>\n",
       "    <tr>\n",
       "      <th>0</th>\n",
       "      <td>I don't spend a lot on my flags because they r...</td>\n",
       "      <td>Positive</td>\n",
       "    </tr>\n",
       "    <tr>\n",
       "      <th>1</th>\n",
       "      <td>Super fast processing and shipping, if you are...</td>\n",
       "      <td>Positive</td>\n",
       "    </tr>\n",
       "    <tr>\n",
       "      <th>2</th>\n",
       "      <td>Great product.  I would recommend this product...</td>\n",
       "      <td>Positive</td>\n",
       "    </tr>\n",
       "    <tr>\n",
       "      <th>3</th>\n",
       "      <td>GREAT PRICE I LOVE MY STATE AND COUNTRY</td>\n",
       "      <td>Positive</td>\n",
       "    </tr>\n",
       "    <tr>\n",
       "      <th>4</th>\n",
       "      <td>Great display flag for the den.</td>\n",
       "      <td>Positive</td>\n",
       "    </tr>\n",
       "  </tbody>\n",
       "</table>\n",
       "</div>"
      ],
      "text/plain": [
       "                                          reviewText ReviewSentiment\n",
       "0  I don't spend a lot on my flags because they r...        Positive\n",
       "1  Super fast processing and shipping, if you are...        Positive\n",
       "2  Great product.  I would recommend this product...        Positive\n",
       "3            GREAT PRICE I LOVE MY STATE AND COUNTRY        Positive\n",
       "4                    Great display flag for the den.        Positive"
      ]
     },
     "execution_count": 85,
     "metadata": {},
     "output_type": "execute_result"
    }
   ],
   "source": [
    "Text_patio.head()"
   ]
  },
  {
   "cell_type": "markdown",
   "id": "68296d1d",
   "metadata": {},
   "source": [
    "# TEXT PREPROCESSING"
   ]
  },
  {
   "cell_type": "code",
   "execution_count": 86,
   "id": "e8121800",
   "metadata": {},
   "outputs": [
    {
     "name": "stdout",
     "output_type": "stream",
     "text": [
      "326\n"
     ]
    }
   ],
   "source": [
    "import spacy\n",
    "#loading the english language small model of spacy\n",
    "en = spacy.load('en_core_web_sm')\n",
    "stopwords = en.Defaults.stop_words\n",
    "\n",
    "print(len(stopwords))\n",
    "#print(stopwords)"
   ]
  },
  {
   "cell_type": "code",
   "execution_count": 87,
   "id": "feeb61b5",
   "metadata": {},
   "outputs": [
    {
     "name": "stdout",
     "output_type": "stream",
     "text": [
      "                                               reviewText ReviewSentiment\n",
      "0       spend a lot on my flags because they really ge...        Positive\n",
      "1       super fast processing and if you are looking f...        Positive\n",
      "2         great would recommend this would recommend this        Positive\n",
      "3                   great price love my state and country        Positive\n",
      "4                              great display flag for the        Positive\n",
      "...                                                   ...             ...\n",
      "932660                    perfect for the project at hand        Positive\n",
      "932661                                               like        Positive\n",
      "932662       just what needed to use in my just the right        Positive\n",
      "932663  perfect for what needed it my bonsais humidity...        Positive\n",
      "932664  very small no more than a cup of stones cheape...        Negative\n",
      "\n",
      "[727480 rows x 2 columns]\n"
     ]
    }
   ],
   "source": [
    "def clean_text(text):\n",
    "    # Split the text into individual words\n",
    "    words = text.split()\n",
    "    \n",
    "    # Remove any punctuation or non-alphabetic characters\n",
    "    words = [word for word in words if word.isalpha()]\n",
    "    \n",
    "    # Convert all words to lowercase\n",
    "    words = [word.lower() for word in words]\n",
    "    \n",
    "    # Remove any stop words\n",
    "    stop_words = stopwords=('english')\n",
    "    words = [word for word in words if word not in stop_words]\n",
    "    \n",
    "    # Join the words back into a single string\n",
    "    return \" \".join(words)\n",
    "\n",
    "\n",
    "# Clean the \"text\" column using the clean_text() function\n",
    "Text_patio[\"reviewText\"] = Text_patio[\"reviewText\"].apply(clean_text)\n",
    "\n",
    "# Print the cleaned data\n",
    "print(Text_patio)"
   ]
  },
  {
   "cell_type": "code",
   "execution_count": 88,
   "id": "80c39620",
   "metadata": {},
   "outputs": [],
   "source": [
    "Text_patio[\"reviewText\"]=Text_patio[\"reviewText\"].apply(lambda x:' '.join([word for word in x.split() if word not in stopwords]))"
   ]
  },
  {
   "cell_type": "markdown",
   "id": "d4d7995a",
   "metadata": {},
   "source": [
    "# CHECKING FOR FIRST 100 RECORDS "
   ]
  },
  {
   "cell_type": "code",
   "execution_count": 89,
   "id": "17e30f73",
   "metadata": {},
   "outputs": [
    {
     "name": "stdout",
     "output_type": "stream",
     "text": [
      "spend lot flags beat lesser quality figuring replaced couple times year fact inexpensive flag flying months later pleases sees winds averaging mph day occasional storm friont gusts reaching high far months starting little fraying buying shortly ready finally gives\n",
      "super fast processing looking flags look good quality product great company business\n",
      "great recommend recommend\n",
      "great price love state country\n",
      "great display flag\n",
      "cheap polyester flag serves purpose school color vibrant size true x\n",
      "serves purpose holding little concerned fading think good\n",
      "great quality looks\n",
      "loved\n",
      "knee saver taking vynal tile basement\n",
      "tool worked remove partial old hardwood works nicely driveway ice frozen snow chipper remover flooring task fiberglass handle ability bend actually assisted removal process unbendable metal need additional buy\n",
      "gave sharp edge strong\n",
      "remove old linoleum job lot\n",
      "bit big use worked got old vinyl great help removing carpet pad stuck\n",
      "heavy heavy good tool hand\n",
      "good\n",
      "tool saved purchased house horrible linoleum floors far gone lay new flooring purchased random oscillating pain hands knees worked slowly chipped old flooring away scraping huge went ahead bought bully scraper started fast blade thick high quality steel handle bend strenuous equipment start dull rubbing slower run spots linoleum heavily glued scrape word advice access hot water cement flooring helps mop hot water let sit couple minutes scrape like\n",
      "large walk chicken coop floor cuts cleaning time\n",
      "received looks like work help cut paths ice snow falls great\n",
      "worked great\n",
      "wished handle little longer actually got taking care unwanted reptiles job\n",
      "heavy duty good ice need shovel black\n",
      "good product bit overall use time\n",
      "purchased process installing ceramic tile floors prepping kitchen floors porcelain tool lives mention saved love fact\n",
      "floor scraper delivered exactly appreciate handle rubber cap worries splinters gets like fact handle bad like\n",
      "bought came monday linoleum flooring removed monday afternoon half\n",
      "clean chicken works\n",
      "super price better average\n",
      "forget blunderbuss axes pound way leave chop estwing axe designed like small axes canoeing head wood handle light carry portaging designed slice wood break good battle estwing axe designed like canoeing profile head slender shaped like razors great grandfathers offering resistance cutting use axe slice wood swing sharper angle grain wood conventional cuts perpendicularly use plates wood fly inches velocity higher conventional axe achieve higher energy greater cutting power limbing better dropping bigger tree use chainsaw use estwing axe limb tree biggest smaller trees use estwing save time messing gas best axe\n",
      "looks feels like hatched years love figured time try expect good\n",
      "nice\n",
      "zero negatives camping axe carry property small\n",
      "better axe\n",
      "great product\n",
      "quality grip feels great\n",
      "bought like filed immediately sharp worried split hard went right occassionally pound hammer brings visible damage hammer makes think axe steel strong metal weaker metal getting held pounding axe like head gotten stuck bad axe expert cut diameter live tree like held lighter cuts firewood excellent making smaller\n",
      "usa sharp excellent highly recommend use cutting thick weed like black hardwoods practice little taking field understand effectiveness great gift\n",
      "ton bamboo backyard tried machetes cut tools took chainsaw kicked bamboo start decided splurge cut shoots easy wrists glad bought\n",
      "husband loves\n",
      "need employee broke ash handle axes trying bought bomb light short handle like splitting cord\n",
      "axe style working florida woods years man minutes bought overnite axes years axe better man chainsaw franklin tree farmer\n",
      "lightweight razor excellent axe hatchet felling useful fill fact comes effective sheath definitely huge cost dollars buy sheath happy\n",
      "good size\n",
      "know funny look closely photo youtube thin piece sticky adhesive sticker cover indentation grove thinking makers machine uses hold arm forming better job bout ok hatchet hoping stability meant guy big hands like use\n",
      "love camping durable\n",
      "exactly\n",
      "awsome axe heavy duty\n",
      "sure love christmas\n",
      "useful clear privet small saplings acres tool arrives sharp ready trees blade narrow deep bite meaning easy disengage wood swung smaller trunks knife trunks limbs severed swung know control strength sure downward path ax leg tool play careless mistake cripple artery kill ax single forged extremely handle length allows use proper shorter taller longer use little uncomfortable rubber cushioned handle absorbs lot like experienced love best use trunks small firewood jobs excellent camping proper tool job trunks probably best dispatched look forward years oiled sheathed use stored safely sharpen dull blades cause accidental cuts sharp incentives offered received\n",
      "built estwing established company builds quality bought axe carry car emergency\n",
      "best camping axe axe best friend years finally bought straps small hiking bag large camping\n",
      "ok best cutting branches heavy axe super like try break axes hammers fall hit hard gets stuck takes lot\n",
      "great nice satisfying\n",
      "owned estwing tools life highest quality tools seen held believe probably nice tool use soon oregon\n",
      "thx\n",
      "quality tool\n",
      "best buy hatchet quality estwing brings table\n",
      "\n",
      "excellent works great chopping soft hard keeps good edge america quality steel taken care leave axe outdoors exposed environment came nice leather sheath\n",
      "good small truck want chop wood\n",
      "father estwing axe particularly kind tools lot left wanted attempt preserving protecting estwing axe survived cleaned sharpened cutting edge sharp useful years leather sheath styled like current tooled acorns leaves belt slits tooled leather needs tlc supple stitching snaps rivets held diverse dad axe ton farm family vacations fire wood new fishing noticed older version lighter weight lb current pound showing wear tear reflects found memories old useful new line quality axe life\n",
      "father estwing axe particularly kind tools lot left wanted attempt preserving protecting estwing axe survived cleaned sharpened cutting edge sharp useful years leather sheath styled like current tooled acorns leaves belt slits tooled leather needs tlc supple stitching snaps rivets held diverse dad axe ton farm family vacations fire wood new fishing noticed older version lighter weight lb current pound showing wear tear reflects found memories old useful new line quality axe life\n",
      "nice\n",
      "came door damaged edge shredded box twice size needed virtually packing horrible packing job caused item lost grinding corners steel handle outside profiles axe head roughly nice smooth polished corners hammers old hatchet better thing happened\n",
      "great clearing weight chop wood\n",
      "leverage hatchet weight\n",
      "good\n",
      "estwing axe years thought helpful review deserves stars outstanding axe steel nylon cushioned grip gives good traction grip absorbs chop gloves short sessions getting says pound great easy swing retain good entire head narrow slim good deep chopping means designed great log want good steel wedge splitting worth having axe head rear blunt rectangle works tapping tent estwing ships axes factory high quality saddle leather riveted sheath replacement estwing sheaths run want sure seller includes sheath sellers known sell axe sell sheaths axes usually average shipped anazon multitude fantastic built hand kids easy slim fit lot hold good great quality good things famous good heartily recommend love hope helpful research comparison shop happy trails enjoy wood\n",
      "estwing axe years thought helpful review deserves stars outstanding axe steel nylon cushioned grip gives good traction grip absorbs chop gloves short sessions getting says pound great easy swing retain good entire head narrow slim good deep chopping means designed great log want good steel wedge splitting worth having axe head rear blunt rectangle works tapping tent high quality saddle leather riveted sheath comes replacement estwing sheaths run axes usually average shipped anazon multitude fantastic built hand kids easy slim fit lot hold good great quality good things famous good heartily recommend love hope helpful research comparison shop happy trails enjoy wood\n",
      "estwing axe years thought helpful review deserves stars outstanding axe steel nylon cushioned grip gives good traction grip absorbs chop gloves short sessions getting says pound great easy swing retain good entire head narrow slim good deep chopping means designed great log want good steel wedge splitting worth having axe head rear blunt rectangle works tapping tent high quality saddle leather riveted sheath comes replacement estwing sheaths run axes usually average shipped anazon multitude fantastic built hand kids easy slim fit lot hold good great quality good things famous good heartily recommend love hope helpful research comparison shop happy trails enjoy wood\n",
      "beautiful sharp cut better suited smaller jobs splitting wood split logs find\n",
      "holds cuts trees steel construction main section like wood synthetic love tools\n",
      "ive looking axe nice light weight mid sized great taking stopped little cheaper bought came leather embossed cover cutting edge normally sells separately ad said guess missed detail felt better\n",
      "great axe\n",
      "great tool\n",
      "perfect sized ax ax chopping cords brand implies need words good mix steel keeping sharp edge\n",
      "like exactly\n",
      "best axes buy little longer\n",
      "reviewers axe blade deep cut grain wood blade tends bind wood rock forth loose blade sharpen axe testing water oak sharp got brand splitting sledge hammers time know swing striking axe easy swing find handle transmit shock notice shock steel tool hickory handled tools weight tool forward aids giving strong blade tool light fast following information disturbing reader discretion advised given thin profile axe tools reasonably light ability maintain solid grip good length grip material tool suitable raise food process grip enable accurate blow struck able hit exactly spot aiming hit thin blade profile enables tool clean cuts single larger animals contend larger bones axe perfect quickly quartering game making appropriate separation troublesome nearly entire piece grip easier clean axes hatches birds smaller animals saying quickly cleanly remove head bringing humane needs axe purpose doubt assessment bit offensive trust trying act like adults fairly axe spite thin blade profile cause binding wood trying think makes excellent camp far thin splitting logs light medium duty campsite duty certainly split small logs good fire estwing hatchet high quality chopping hard time repeating accurate strikes length shape axe makes accurate strikes fact strike harder hands prefer tool camp axe best thing axe going size use chop wood need compact axe bit better service good quality axe wider head suit heavy use wood curved handle multipurpose\n",
      "best medium campers axe stolen canadian camping\n",
      "blade keeps getting stuck\n",
      "bought camping axe sharp arrived splits small firewood size axe hand axe includes sheath careful time removed sheath cut hand sharp\n",
      "awesome\n",
      "bing camping little ax worked great cut branches looking forward camping hunting great ax tell later\n",
      "axe cut small trees clean sharp easy work note axe good splitting thick heavy far good job\n",
      "high excellent type rubberized lower grip long nice leather treated neatsfoot\n",
      "bad ax ax tough outdoorsman campers\n",
      "high quality axe handle useable longer like axe lot quality construction handy\n",
      "bought son bought local hardware use chain saw lot keeping saplings control wanted shallow angle cut limbs actions delighted appreciate quality leather sheath covers head protects cutting edge way love shock absorbing properties wooden steel handle axe worry breaking soft handle cover works think fit category limbing old guy raised lot old reached lightweight limbing axe lot like\n",
      "poorly product quality feel use split wood wood smoker pulled use handed slide end handle use handed accurate oiled sheath protect product pass\n",
      "got estwing campers axe couple days ago pleased axe backorder couple weeks informed status order times glad purchased half axe size years ago found handy camping boy scout sized axes big worked death help course scouts use axes sheath couple size axes wanted easy use great tool highest sheath old school beautiful thick tooled sheath heavily stitched strong rivets double fit snug safe way transport tanned little dry thing wipe neatsfoot recently saved old leather sheath machete shed years neatsfoot oil took weeks restored perfect neatsfoot oil axe blade beautiful right size uses edge rolled little checked licks steel cleared use thing killing use hand need stainless smooth brushed medium shaft appear way guarantie goes way handle like estwing tools grip designed absorb vibrations passing grandson estwing carry backpacking think best general camp tool like evening zombie invasion think perfect wight pierce skull weight cause swing wasting time recommend axe dealer skinny minute needed second thoughts highly recommend axe\n",
      "mediocre easy sort weak compromise qualities want good general recommend\n",
      "bought axe cut rounds performed buy\n",
      "log splitter bought handle found axe accident looking pry bar hand tool know lawn garden section axe know estwing apparently priced good find looking gerber fiskar axes thinking fiskars picked axe like piece solid steel think comes way handle rubber coated leather sheath slits strap tall carry belt getting fire wood axe chop house brick probably chop way exterior read reviews read complaints inconsistant inspected different makes axe chose cleanest looking imperfections think manufacturing estwing maybe axes stored store way axes think small nicks scratches effected performance axe believe actual blade wider purchase axe planning split thick logs try carry axe great demo work smaller tree stuff compare real forged axe head hickory handle considering carry axe great working trees logs thinner blades edge great inches thick thicker blades edge gets stuck getting axe learning developing skills know people spend money swedish blade estwing edge middle widen fast right blade digs maybe deep good gets stuck husqvarna forest axe blade gets thicker quicker damage striking tree log squeeze hands close blade feathering scraping husqvarna forest axe bought length lighter use energy axe work hard worth buy wetterlings granfors considered proper axes forever good\n",
      "heat wood needed replacement handle decided look handle wondered like shorter knew happy estwing design hammers days split wood amazed nice axe quality materials comfortable balanced steel looks finish makes chore easier old money reinvested usa\n",
      "bought maintain single track motorcycle mtn bike trails ride private keeping works inch old downed oaks like flint cut people noted casting flaws axe wusthof kitchen little smaller size bit larger nice size carry bike gives leverage good swing dont buy cut firewood truck clean\n",
      "great\n",
      "want check vendor exactly getting ordering purchased metric gradations price right got gauge nearly precision shape color\n",
      "taylor rain gauge like years took beating tough easy mount stick ground remember mow\n",
      "looking basic rain gauge easily read course brought weather got cold simpler\n"
     ]
    }
   ],
   "source": [
    "c = 0 \n",
    "for i in Text_patio[\"reviewText\"]:\n",
    "    print(i)\n",
    "    c+=1\n",
    "    if c==100:\n",
    "        break"
   ]
  },
  {
   "cell_type": "code",
   "execution_count": 90,
   "id": "afee36df",
   "metadata": {},
   "outputs": [
    {
     "name": "stdout",
     "output_type": "stream",
     "text": [
      "{'side', 'me', 'all', 'when', '‘re', 'their', 'becomes', 'an', 'many', 'n‘t', 'anyway', 'unless', 'indeed', 'we', 'yet', \"'re\", 'for', '’d', 'they', 'or', 'several', 'hereupon', 'though', 'ca', 'every', 'up', 'again', 'get', 'whereby', 'nevertheless', 'everywhere', 'nowhere', 'therein', 'enough', 'such', 'just', 'my', 'third', \"'ve\", 'has', 'with', 'off', 'beforehand', 'its', 'towards', 'take', 'always', 'whence', 'are', 'anything', 'nine', 'really', 'against', 'last', 'latter', 'seeming', 'toward', 'hereby', 'two', 'why', 'more', '‘ll', 'something', 'everything', 'himself', 'on', 'most', 'along', 'and', 'does', 'down', 'whenever', 'done', 'otherwise', 'thereupon', 'during', 'also', 'throughout', 'meanwhile', '‘m', 'how', 'namely', 'yourself', 'see', 'therefore', 'another', 'perhaps', 'either', 'ten', 'below', 'both', 'next', 'hundred', 'serious', 'doing', 'others', 'upon', 'have', 'what', 'name', 'never', '‘ve', 'became', 'quite', 'keep', \"n't\", 'go', 'give', 'your', 'make', 'herein', 'beyond', '’re', 'wherein', 'thereafter', 'however', '’ll', 'yours', 'am', 'moreover', 'even', 'if', 'in', 'here', 'empty', 'because', 'she', 'forty', 'beside', 'anyhow', 'via', 'it', 'various', 'before', 'whole', 'regarding', 'other', 'using', 'less', 'nothing', 'three', 'anywhere', 'while', 'no', 'will', 're', 'wherever', 'not', 'into', 'within', 'almost', 'seem', 'much', 'any', '‘s', 'ours', 'mine', 'ourselves', 'very', 'them', 'there', 'bottom', 'except', 'become', 'i', 'noone', 'someone', 'out', 'together', 'else', 'than', 'which', 'sometime', 'then', 'him', \"'m\", 'behind', 'front', 'from', 'over', 'elsewhere', 'seemed', 'somehow', 'whereupon', 'n’t', 'is', 'neither', 'six', 'part', 'least', 'besides', 'so', 'since', 'herself', 'might', 'yourselves', 'do', 'same', 'twenty', 'you', 'whose', 'hers', 'ever', 'becoming', 'been', 'whereafter', 'say', 'at', 'through', 'first', 'until', '’ve', 'should', 'by', 'four', 'whereas', 'sometimes', 'his', 'about', 'nor', 'fifteen', 'own', 'already', 'anyone', 'due', 'among', '‘d', 'above', 'some', 'that', 'across', 'top', 'where', 'now', 'did', 'sixty', \"'s\", 'whatever', 'show', 'of', 'between', 'latterly', 'this', 'only', 'amount', 'used', 'onto', 'everyone', 'being', 'can', 'too', 'these', 'nobody', 'who', 'be', 'five', 'often', 'he', 'to', 'myself', 'whom', 'may', 'whoever', 'full', 'further', \"'d\", 'mostly', 'amongst', 'move', 'must', 'although', 'call', 'still', '’m', 'under', 'as', 'well', 'each', 'seems', 'would', 'had', 'the', 'thru', 'alone', 'us', \"'ll\", 'hence', 'itself', 'one', 'whether', 'few', 'none', 'thence', 'twelve', 'formerly', 'somewhere', 'eight', 'themselves', 'thus', 'thereby', 'fifty', 'were', 'rather', '’s', 'made', 'was', 'whither', 'without', 'around', 'back', 'cannot', 'a', 'once', 'eleven', 'former', 'but', 'afterwards', 'per', 'please', 'could', 'after', 'her', 'those', 'put', 'hereafter', 'our'}\n"
     ]
    }
   ],
   "source": [
    "print(stopwords)"
   ]
  },
  {
   "cell_type": "code",
   "execution_count": 91,
   "id": "02f93b61",
   "metadata": {},
   "outputs": [
    {
     "data": {
      "text/html": [
       "<div>\n",
       "<style scoped>\n",
       "    .dataframe tbody tr th:only-of-type {\n",
       "        vertical-align: middle;\n",
       "    }\n",
       "\n",
       "    .dataframe tbody tr th {\n",
       "        vertical-align: top;\n",
       "    }\n",
       "\n",
       "    .dataframe thead th {\n",
       "        text-align: right;\n",
       "    }\n",
       "</style>\n",
       "<table border=\"1\" class=\"dataframe\">\n",
       "  <thead>\n",
       "    <tr style=\"text-align: right;\">\n",
       "      <th></th>\n",
       "      <th>reviewText</th>\n",
       "      <th>ReviewSentiment</th>\n",
       "    </tr>\n",
       "  </thead>\n",
       "  <tbody>\n",
       "    <tr>\n",
       "      <th>0</th>\n",
       "      <td>spend lot flags beat lesser quality figuring r...</td>\n",
       "      <td>Positive</td>\n",
       "    </tr>\n",
       "    <tr>\n",
       "      <th>1</th>\n",
       "      <td>super fast processing looking flags look good ...</td>\n",
       "      <td>Positive</td>\n",
       "    </tr>\n",
       "    <tr>\n",
       "      <th>2</th>\n",
       "      <td>great recommend recommend</td>\n",
       "      <td>Positive</td>\n",
       "    </tr>\n",
       "    <tr>\n",
       "      <th>3</th>\n",
       "      <td>great price love state country</td>\n",
       "      <td>Positive</td>\n",
       "    </tr>\n",
       "    <tr>\n",
       "      <th>4</th>\n",
       "      <td>great display flag</td>\n",
       "      <td>Positive</td>\n",
       "    </tr>\n",
       "  </tbody>\n",
       "</table>\n",
       "</div>"
      ],
      "text/plain": [
       "                                          reviewText ReviewSentiment\n",
       "0  spend lot flags beat lesser quality figuring r...        Positive\n",
       "1  super fast processing looking flags look good ...        Positive\n",
       "2                          great recommend recommend        Positive\n",
       "3                     great price love state country        Positive\n",
       "4                                 great display flag        Positive"
      ]
     },
     "execution_count": 91,
     "metadata": {},
     "output_type": "execute_result"
    }
   ],
   "source": [
    "Text_patio.head()"
   ]
  },
  {
   "cell_type": "code",
   "execution_count": 92,
   "id": "e34d1474",
   "metadata": {},
   "outputs": [],
   "source": [
    "# train test split "
   ]
  },
  {
   "cell_type": "code",
   "execution_count": 93,
   "id": "dd0d39ad",
   "metadata": {},
   "outputs": [],
   "source": [
    "X_patio=[]\n",
    "y_patio=[]\n",
    "for i in Text_patio['reviewText']:\n",
    "    X_patio.append(i)\n",
    "for j in Text_patio['ReviewSentiment']:\n",
    "    y_patio.append(j)  "
   ]
  },
  {
   "cell_type": "code",
   "execution_count": 94,
   "id": "3f208b8e",
   "metadata": {},
   "outputs": [],
   "source": [
    "# Splitting the data in 80:20 ratio for train and test respectively\n",
    "X_train_patio,X_test_patio,y_train_patio,y_test_patio=train_test_split(X_patio,y_patio,test_size=0.20,random_state=9)"
   ]
  },
  {
   "cell_type": "code",
   "execution_count": 95,
   "id": "fc77292d",
   "metadata": {},
   "outputs": [
    {
     "data": {
      "text/plain": [
       "581984"
      ]
     },
     "execution_count": 95,
     "metadata": {},
     "output_type": "execute_result"
    }
   ],
   "source": [
    "len(X_train_patio)"
   ]
  },
  {
   "cell_type": "code",
   "execution_count": 96,
   "id": "cb72ae84",
   "metadata": {},
   "outputs": [
    {
     "data": {
      "text/plain": [
       "145496"
      ]
     },
     "execution_count": 96,
     "metadata": {},
     "output_type": "execute_result"
    }
   ],
   "source": [
    "len(X_test_patio)"
   ]
  },
  {
   "cell_type": "markdown",
   "id": "25567da9",
   "metadata": {},
   "source": [
    "### convert text into vector by using tfidf vectorizer "
   ]
  },
  {
   "cell_type": "code",
   "execution_count": 97,
   "id": "e3339a5d",
   "metadata": {},
   "outputs": [],
   "source": [
    "tfidf_vectorizer = TfidfVectorizer()\n",
    "X_train_patio = tfidf_vectorizer.fit_transform(X_train_patio)\n",
    "X_test_patio = tfidf_vectorizer.transform(X_test_patio)"
   ]
  },
  {
   "cell_type": "code",
   "execution_count": 98,
   "id": "bcbd64a0",
   "metadata": {},
   "outputs": [
    {
     "name": "stdout",
     "output_type": "stream",
     "text": [
      "X_train_patio (581984, 71855)\n",
      "X_test_patio (145496, 71855)\n"
     ]
    }
   ],
   "source": [
    "print(\"X_train_patio\",X_train_patio.shape)\n",
    "print(\"X_test_patio\",X_test_patio.shape)\n"
   ]
  },
  {
   "cell_type": "markdown",
   "id": "a419d21f",
   "metadata": {},
   "source": [
    "## one vs rest strategy with logistic regression "
   ]
  },
  {
   "cell_type": "code",
   "execution_count": 99,
   "id": "8c98aa00",
   "metadata": {},
   "outputs": [],
   "source": [
    "lr = LogisticRegression(max_iter=200)\n",
    "ovr = OneVsRestClassifier(lr)"
   ]
  },
  {
   "cell_type": "code",
   "execution_count": 100,
   "id": "14865f3c",
   "metadata": {},
   "outputs": [],
   "source": [
    "# fit the model on the training data\n",
    "ovr.fit(X_train_patio, y_train_patio)\n",
    "y_pred_patio = ovr.predict(X_test_patio)"
   ]
  },
  {
   "cell_type": "code",
   "execution_count": 101,
   "id": "60a196ba",
   "metadata": {},
   "outputs": [],
   "source": [
    "df_compare_patio=pd.DataFrame()\n",
    "df_compare_patio['Actual']=y_test_patio\n",
    "df_compare_patio['Predicted']=y_pred_patio"
   ]
  },
  {
   "cell_type": "code",
   "execution_count": 102,
   "id": "f3201138",
   "metadata": {},
   "outputs": [
    {
     "data": {
      "text/html": [
       "<div>\n",
       "<style scoped>\n",
       "    .dataframe tbody tr th:only-of-type {\n",
       "        vertical-align: middle;\n",
       "    }\n",
       "\n",
       "    .dataframe tbody tr th {\n",
       "        vertical-align: top;\n",
       "    }\n",
       "\n",
       "    .dataframe thead th {\n",
       "        text-align: right;\n",
       "    }\n",
       "</style>\n",
       "<table border=\"1\" class=\"dataframe\">\n",
       "  <thead>\n",
       "    <tr style=\"text-align: right;\">\n",
       "      <th></th>\n",
       "      <th>Actual</th>\n",
       "      <th>Predicted</th>\n",
       "    </tr>\n",
       "  </thead>\n",
       "  <tbody>\n",
       "    <tr>\n",
       "      <th>0</th>\n",
       "      <td>Positive</td>\n",
       "      <td>Positive</td>\n",
       "    </tr>\n",
       "    <tr>\n",
       "      <th>1</th>\n",
       "      <td>Positive</td>\n",
       "      <td>Positive</td>\n",
       "    </tr>\n",
       "    <tr>\n",
       "      <th>2</th>\n",
       "      <td>Positive</td>\n",
       "      <td>Positive</td>\n",
       "    </tr>\n",
       "    <tr>\n",
       "      <th>3</th>\n",
       "      <td>Negative</td>\n",
       "      <td>Positive</td>\n",
       "    </tr>\n",
       "    <tr>\n",
       "      <th>4</th>\n",
       "      <td>Positive</td>\n",
       "      <td>Positive</td>\n",
       "    </tr>\n",
       "    <tr>\n",
       "      <th>...</th>\n",
       "      <td>...</td>\n",
       "      <td>...</td>\n",
       "    </tr>\n",
       "    <tr>\n",
       "      <th>145491</th>\n",
       "      <td>Positive</td>\n",
       "      <td>Positive</td>\n",
       "    </tr>\n",
       "    <tr>\n",
       "      <th>145492</th>\n",
       "      <td>Positive</td>\n",
       "      <td>Positive</td>\n",
       "    </tr>\n",
       "    <tr>\n",
       "      <th>145493</th>\n",
       "      <td>Positive</td>\n",
       "      <td>Positive</td>\n",
       "    </tr>\n",
       "    <tr>\n",
       "      <th>145494</th>\n",
       "      <td>Positive</td>\n",
       "      <td>Positive</td>\n",
       "    </tr>\n",
       "    <tr>\n",
       "      <th>145495</th>\n",
       "      <td>Positive</td>\n",
       "      <td>Positive</td>\n",
       "    </tr>\n",
       "  </tbody>\n",
       "</table>\n",
       "<p>145496 rows × 2 columns</p>\n",
       "</div>"
      ],
      "text/plain": [
       "          Actual Predicted\n",
       "0       Positive  Positive\n",
       "1       Positive  Positive\n",
       "2       Positive  Positive\n",
       "3       Negative  Positive\n",
       "4       Positive  Positive\n",
       "...          ...       ...\n",
       "145491  Positive  Positive\n",
       "145492  Positive  Positive\n",
       "145493  Positive  Positive\n",
       "145494  Positive  Positive\n",
       "145495  Positive  Positive\n",
       "\n",
       "[145496 rows x 2 columns]"
      ]
     },
     "execution_count": 102,
     "metadata": {},
     "output_type": "execute_result"
    }
   ],
   "source": [
    "df_compare_patio"
   ]
  },
  {
   "cell_type": "code",
   "execution_count": 103,
   "id": "422fb104",
   "metadata": {},
   "outputs": [
    {
     "name": "stdout",
     "output_type": "stream",
     "text": [
      "              precision    recall  f1-score   support\n",
      "\n",
      "    Negative       0.68      0.46      0.55     14985\n",
      "     Neutral       0.42      0.04      0.07     10452\n",
      "    Positive       0.88      0.98      0.93    120059\n",
      "\n",
      "    accuracy                           0.86    145496\n",
      "   macro avg       0.66      0.49      0.52    145496\n",
      "weighted avg       0.82      0.86      0.83    145496\n",
      "\n"
     ]
    }
   ],
   "source": [
    "print(classification_report(y_test_patio, y_pred_patio))"
   ]
  },
  {
   "cell_type": "code",
   "execution_count": 104,
   "id": "6ec2b938",
   "metadata": {},
   "outputs": [
    {
     "data": {
      "text/plain": [
       "array([[  6922,    200,   7863],\n",
       "       [  1450,    421,   8581],\n",
       "       [  1769,    391, 117899]], dtype=int64)"
      ]
     },
     "execution_count": 104,
     "metadata": {},
     "output_type": "execute_result"
    }
   ],
   "source": [
    "confusion_matrix(y_test_patio,y_pred_patio)"
   ]
  },
  {
   "cell_type": "code",
   "execution_count": 105,
   "id": "36839c25",
   "metadata": {},
   "outputs": [
    {
     "name": "stdout",
     "output_type": "stream",
     "text": [
      "accuracy: 0.8607934238741959\n",
      "recall: 0.8607934238741959\n",
      "f1-score: 0.8268504630566935\n",
      "precision: 0.8243519900790063\n"
     ]
    }
   ],
   "source": [
    "print('accuracy:', accuracy_score(y_test_patio, y_pred_patio))\n",
    "print('recall:', recall_score(y_test_patio, y_pred_patio, average='weighted'))\n",
    "print('f1-score:', f1_score(y_test_patio, y_pred_patio, average='weighted'))\n",
    "print('precision:', precision_score(y_test_patio, y_pred_patio,average='weighted'))"
   ]
  },
  {
   "cell_type": "code",
   "execution_count": 106,
   "id": "7d77de57",
   "metadata": {},
   "outputs": [],
   "source": [
    "P_TF_IDF_ACC = round(100*accuracy_score(y_test_patio, y_pred_patio),2)\n",
    "P_TF_IDF_PREC =  round(100*precision_score(y_test_patio, y_pred_patio,average='weighted'),2)\n",
    "P_TF_IDF_RE=  round(100*recall_score(y_test_patio, y_pred_patio, average='weighted'),2)\n",
    "P_TF_IDF_F1 =  round(100*f1_score(y_test_patio, y_pred_patio, average='weighted'),2)"
   ]
  },
  {
   "cell_type": "markdown",
   "id": "a725fe4b",
   "metadata": {},
   "source": [
    "# tfidf with hyperparameter"
   ]
  },
  {
   "cell_type": "code",
   "execution_count": 107,
   "id": "90832c44",
   "metadata": {},
   "outputs": [],
   "source": [
    "# Splitting the data in 80:20 ratio for train and test respectively\n",
    "X_train_patio,X_test_patio,y_train_patio,y_test_patio=train_test_split(X_patio,y_patio,test_size=0.20,random_state=9)"
   ]
  },
  {
   "cell_type": "code",
   "execution_count": 108,
   "id": "44ee1094",
   "metadata": {},
   "outputs": [],
   "source": [
    "\n",
    "tfidf_vectorizer = TfidfVectorizer(sublinear_tf=True,\n",
    "                          max_df=0.5,\n",
    "                          min_df=1,\n",
    "                          use_idf=True,smooth_idf=True)\n",
    "X_train_patio = tfidf_vectorizer.fit_transform(X_train_patio)\n",
    "X_test_patio = tfidf_vectorizer.transform(X_test_patio)\n",
    "\n",
    "\n"
   ]
  },
  {
   "cell_type": "code",
   "execution_count": 109,
   "id": "dee7e04a",
   "metadata": {},
   "outputs": [
    {
     "name": "stdout",
     "output_type": "stream",
     "text": [
      "X_train_patio (581984, 71855)\n",
      "X_test_patio (145496, 71855)\n"
     ]
    }
   ],
   "source": [
    "print(\"X_train_patio\",X_train_patio.shape)\n",
    "print(\"X_test_patio\",X_test_patio.shape)\n"
   ]
  },
  {
   "cell_type": "code",
   "execution_count": null,
   "id": "8fae7baf",
   "metadata": {},
   "outputs": [],
   "source": []
  },
  {
   "cell_type": "code",
   "execution_count": 110,
   "id": "a8f8c7c2",
   "metadata": {},
   "outputs": [],
   "source": [
    "lr = LogisticRegression(max_iter=200)\n",
    "ovr = OneVsRestClassifier(lr)"
   ]
  },
  {
   "cell_type": "code",
   "execution_count": 111,
   "id": "45c1b431",
   "metadata": {},
   "outputs": [],
   "source": [
    "# fit the model on the training data\n",
    "ovr.fit(X_train_patio, y_train_patio)\n",
    "y_pred_patio = ovr.predict(X_test_patio)"
   ]
  },
  {
   "cell_type": "code",
   "execution_count": 112,
   "id": "2e631fba",
   "metadata": {},
   "outputs": [],
   "source": [
    "df_compare_patio=pd.DataFrame()\n",
    "df_compare_patio['Actual']=y_test_patio\n",
    "df_compare_patio['Predicted']=y_pred_patio"
   ]
  },
  {
   "cell_type": "code",
   "execution_count": 113,
   "id": "1ddffaa2",
   "metadata": {},
   "outputs": [
    {
     "data": {
      "text/html": [
       "<div>\n",
       "<style scoped>\n",
       "    .dataframe tbody tr th:only-of-type {\n",
       "        vertical-align: middle;\n",
       "    }\n",
       "\n",
       "    .dataframe tbody tr th {\n",
       "        vertical-align: top;\n",
       "    }\n",
       "\n",
       "    .dataframe thead th {\n",
       "        text-align: right;\n",
       "    }\n",
       "</style>\n",
       "<table border=\"1\" class=\"dataframe\">\n",
       "  <thead>\n",
       "    <tr style=\"text-align: right;\">\n",
       "      <th></th>\n",
       "      <th>Actual</th>\n",
       "      <th>Predicted</th>\n",
       "    </tr>\n",
       "  </thead>\n",
       "  <tbody>\n",
       "    <tr>\n",
       "      <th>0</th>\n",
       "      <td>Positive</td>\n",
       "      <td>Positive</td>\n",
       "    </tr>\n",
       "    <tr>\n",
       "      <th>1</th>\n",
       "      <td>Positive</td>\n",
       "      <td>Positive</td>\n",
       "    </tr>\n",
       "    <tr>\n",
       "      <th>2</th>\n",
       "      <td>Positive</td>\n",
       "      <td>Positive</td>\n",
       "    </tr>\n",
       "    <tr>\n",
       "      <th>3</th>\n",
       "      <td>Negative</td>\n",
       "      <td>Positive</td>\n",
       "    </tr>\n",
       "    <tr>\n",
       "      <th>4</th>\n",
       "      <td>Positive</td>\n",
       "      <td>Positive</td>\n",
       "    </tr>\n",
       "    <tr>\n",
       "      <th>...</th>\n",
       "      <td>...</td>\n",
       "      <td>...</td>\n",
       "    </tr>\n",
       "    <tr>\n",
       "      <th>145491</th>\n",
       "      <td>Positive</td>\n",
       "      <td>Positive</td>\n",
       "    </tr>\n",
       "    <tr>\n",
       "      <th>145492</th>\n",
       "      <td>Positive</td>\n",
       "      <td>Positive</td>\n",
       "    </tr>\n",
       "    <tr>\n",
       "      <th>145493</th>\n",
       "      <td>Positive</td>\n",
       "      <td>Positive</td>\n",
       "    </tr>\n",
       "    <tr>\n",
       "      <th>145494</th>\n",
       "      <td>Positive</td>\n",
       "      <td>Positive</td>\n",
       "    </tr>\n",
       "    <tr>\n",
       "      <th>145495</th>\n",
       "      <td>Positive</td>\n",
       "      <td>Positive</td>\n",
       "    </tr>\n",
       "  </tbody>\n",
       "</table>\n",
       "<p>145496 rows × 2 columns</p>\n",
       "</div>"
      ],
      "text/plain": [
       "          Actual Predicted\n",
       "0       Positive  Positive\n",
       "1       Positive  Positive\n",
       "2       Positive  Positive\n",
       "3       Negative  Positive\n",
       "4       Positive  Positive\n",
       "...          ...       ...\n",
       "145491  Positive  Positive\n",
       "145492  Positive  Positive\n",
       "145493  Positive  Positive\n",
       "145494  Positive  Positive\n",
       "145495  Positive  Positive\n",
       "\n",
       "[145496 rows x 2 columns]"
      ]
     },
     "execution_count": 113,
     "metadata": {},
     "output_type": "execute_result"
    }
   ],
   "source": [
    "df_compare_patio"
   ]
  },
  {
   "cell_type": "code",
   "execution_count": 114,
   "id": "98c36dbb",
   "metadata": {},
   "outputs": [
    {
     "name": "stdout",
     "output_type": "stream",
     "text": [
      "              precision    recall  f1-score   support\n",
      "\n",
      "    Negative       0.68      0.47      0.55     14985\n",
      "     Neutral       0.42      0.04      0.08     10452\n",
      "    Positive       0.88      0.98      0.93    120059\n",
      "\n",
      "    accuracy                           0.86    145496\n",
      "   macro avg       0.66      0.50      0.52    145496\n",
      "weighted avg       0.83      0.86      0.83    145496\n",
      "\n"
     ]
    }
   ],
   "source": [
    "print(classification_report(y_test_patio, y_pred_patio))"
   ]
  },
  {
   "cell_type": "code",
   "execution_count": 115,
   "id": "caae8275",
   "metadata": {},
   "outputs": [
    {
     "data": {
      "text/plain": [
       "array([[  6993,    203,   7789],\n",
       "       [  1459,    434,   8559],\n",
       "       [  1789,    391, 117879]], dtype=int64)"
      ]
     },
     "execution_count": 115,
     "metadata": {},
     "output_type": "execute_result"
    }
   ],
   "source": [
    "confusion_matrix(y_test_patio,y_pred_patio)"
   ]
  },
  {
   "cell_type": "code",
   "execution_count": 116,
   "id": "18bc6f16",
   "metadata": {},
   "outputs": [
    {
     "name": "stdout",
     "output_type": "stream",
     "text": [
      "accuracy: 0.8612332985099247\n",
      "recall: 0.8612332985099247\n",
      "f1-score: 0.8275797044121755\n",
      "precision: 0.8253257618545138\n"
     ]
    }
   ],
   "source": [
    "print('accuracy:', accuracy_score(y_test_patio, y_pred_patio))\n",
    "print('recall:', recall_score(y_test_patio, y_pred_patio, average='weighted'))\n",
    "print('f1-score:', f1_score(y_test_patio, y_pred_patio, average='weighted'))\n",
    "print('precision:', precision_score(y_test_patio, y_pred_patio,average='weighted'))"
   ]
  },
  {
   "cell_type": "code",
   "execution_count": 117,
   "id": "d77c0b99",
   "metadata": {},
   "outputs": [],
   "source": [
    "P_TFIDF_HYPER_ACC =  round(accuracy_score(y_test_patio, y_pred_patio),2)*100\n",
    "P_TFIDF_HYPER_PREC = round(precision_score(y_test_patio, y_pred_patio,average='weighted'),2)*100\n",
    "P_TFIDF_HYPER_RE = round(recall_score(y_test_patio, y_pred_patio, average='weighted'),2)*100\n",
    "P_TFIDF_HYPER_F1 = round(f1_score(y_test_patio, y_pred_patio, average='weighted'),2)*100"
   ]
  },
  {
   "cell_type": "markdown",
   "id": "49f323c7",
   "metadata": {},
   "source": [
    "# bag of words (patio) "
   ]
  },
  {
   "cell_type": "code",
   "execution_count": 118,
   "id": "3216c3cb",
   "metadata": {},
   "outputs": [
    {
     "name": "stdout",
     "output_type": "stream",
     "text": [
      "(581984, 71855)\n",
      "(145496, 71855)\n",
      "X_train (581984, 71855)\n",
      "X_test (145496, 71855)\n"
     ]
    }
   ],
   "source": [
    "# Splitting the data in 80:20 ratio for train and test respectively\n",
    "X_train_patio,X_test_patio,y_train_patio,y_test_patio=train_test_split(X_patio,y_patio,test_size=0.20,random_state=9)\n",
    "\n",
    "# Vectorizing the training data using CountVectorizer()\n",
    "cv = CountVectorizer()\n",
    "X_train_patio=cv.fit_transform(X_train_patio)\n",
    "\n",
    "\n",
    "print(X_train_patio.shape)\n",
    "\n",
    "\n",
    "\n",
    "X_test_patio=cv.transform(X_test_patio)\n",
    "\n",
    "print(X_test_patio.shape)\n",
    "\n",
    "\n",
    "print(\"X_train\",X_train_patio.shape)\n",
    "print(\"X_test\",X_test_patio.shape)\n"
   ]
  },
  {
   "cell_type": "code",
   "execution_count": 119,
   "id": "7a9164a5",
   "metadata": {},
   "outputs": [
    {
     "name": "stdout",
     "output_type": "stream",
     "text": [
      "              precision    recall  f1-score   support\n",
      "\n",
      "    Negative       0.68      0.47      0.55     14985\n",
      "     Neutral       0.42      0.04      0.08     10452\n",
      "    Positive       0.88      0.98      0.93    120059\n",
      "\n",
      "    accuracy                           0.86    145496\n",
      "   macro avg       0.66      0.50      0.52    145496\n",
      "weighted avg       0.83      0.86      0.83    145496\n",
      "\n",
      "accuracy: 0.8612332985099247\n",
      "recall: 0.8612332985099247\n",
      "f1-score: 0.8275797044121755\n",
      "precision: 0.8253257618545138\n"
     ]
    }
   ],
   "source": [
    "# fit the model on the training data\n",
    "ovr.fit(X_train_patio, y_train_patio)\n",
    "y_pred = ovr.predict(X_test_patio)\n",
    "\n",
    "df_compare_patio=pd.DataFrame()\n",
    "df_compare_patio['Actual']=y_test_patio\n",
    "df_compare_patio['Predicted']=y_pred_patio\n",
    "\n",
    "\n",
    "df_compare_patio\n",
    "\n",
    "print(classification_report(y_test_patio, y_pred_patio))\n",
    "\n",
    "confusion_matrix(y_test_patio,y_pred_patio)\n",
    "\n",
    "print('accuracy:', accuracy_score(y_test_patio, y_pred_patio))\n",
    "print('recall:', recall_score(y_test_patio, y_pred_patio, average='weighted'))\n",
    "print('f1-score:', f1_score(y_test_patio, y_pred_patio, average='weighted'))\n",
    "print('precision:', precision_score(y_test_patio, y_pred_patio,average='weighted'))\n",
    "\n",
    "P_BOW_UNI_ACC =  round(accuracy_score(y_test_patio, y_pred_patio),2)*100\n",
    "P_BOW_UNI_PREC = round(precision_score(y_test_patio, y_pred_patio,average='weighted'),2)*100\n",
    "P_BOW_UNI_RE = round(recall_score(y_test_patio, y_pred_patio, average='weighted'),2)*100\n",
    "P_BOW_UNI_F1 = round(f1_score(y_test_patio, y_pred_patio, average='weighted'),2)*100"
   ]
  },
  {
   "cell_type": "markdown",
   "id": "f5411bcc",
   "metadata": {},
   "source": [
    "# N_gram ( patio) "
   ]
  },
  {
   "cell_type": "code",
   "execution_count": 121,
   "id": "c267d75e",
   "metadata": {},
   "outputs": [
    {
     "name": "stdout",
     "output_type": "stream",
     "text": [
      "(581984, 3246637)\n",
      "(145496, 3246637)\n",
      "X_train (581984, 3246637)\n",
      "X_test (145496, 3246637)\n"
     ]
    }
   ],
   "source": [
    "# Splitting the data in 80:20 ratio for train and test respectively\n",
    "X_train_patio,X_test_patio,y_train_patio,y_test_patio=train_test_split(X_patio,y_patio,test_size=0.20,random_state=9)\n",
    "\n",
    "# Vectorizing the training data using CountVectorizer()\n",
    "cv = CountVectorizer(ngram_range=(2,2))\n",
    "X_train_patio=cv.fit_transform(X_train_patio)\n",
    "\n",
    "\n",
    "print(X_train_patio.shape)\n",
    "\n",
    "\n",
    "\n",
    "X_test_patio=cv.transform(X_test_patio)\n",
    "\n",
    "print(X_test_patio.shape)\n",
    "\n",
    "\n",
    "print(\"X_train\",X_train_patio.shape)\n",
    "print(\"X_test\",X_test_patio.shape)\n"
   ]
  },
  {
   "cell_type": "code",
   "execution_count": 122,
   "id": "c5f7d713",
   "metadata": {},
   "outputs": [
    {
     "name": "stdout",
     "output_type": "stream",
     "text": [
      "              precision    recall  f1-score   support\n",
      "\n",
      "    Negative       0.68      0.47      0.55     14985\n",
      "     Neutral       0.42      0.04      0.08     10452\n",
      "    Positive       0.88      0.98      0.93    120059\n",
      "\n",
      "    accuracy                           0.86    145496\n",
      "   macro avg       0.66      0.50      0.52    145496\n",
      "weighted avg       0.83      0.86      0.83    145496\n",
      "\n",
      "accuracy: 0.8612332985099247\n",
      "recall: 0.8612332985099247\n",
      "f1-score: 0.8275797044121755\n",
      "precision: 0.8253257618545138\n"
     ]
    }
   ],
   "source": [
    "# fit the model on the training data\n",
    "ovr.fit(X_train_patio, y_train_patio)\n",
    "y_pred = ovr.predict(X_test_patio)\n",
    "\n",
    "df_compare_patio=pd.DataFrame()\n",
    "df_compare_patio['Actual']=y_test_patio\n",
    "df_compare_patio['Predicted']=y_pred_patio\n",
    "\n",
    "\n",
    "df_compare_patio\n",
    "\n",
    "print(classification_report(y_test_patio, y_pred_patio))\n",
    "\n",
    "confusion_matrix(y_test_patio,y_pred_patio)\n",
    "\n",
    "print('accuracy:', accuracy_score(y_test_patio, y_pred_patio))\n",
    "print('recall:', recall_score(y_test_patio, y_pred_patio, average='weighted'))\n",
    "print('f1-score:', f1_score(y_test_patio, y_pred_patio, average='weighted'))\n",
    "print('precision:', precision_score(y_test_patio, y_pred_patio,average='weighted'))\n",
    "\n",
    "P_BOW_BI_ACC =  round(accuracy_score(y_test_patio, y_pred_patio),2)*100\n",
    "P_BOW_BI_PREC = round(precision_score(y_test_patio, y_pred_patio,average='weighted'),2)*100\n",
    "P_BOW_BI_RE = round(recall_score(y_test_patio, y_pred_patio, average='weighted'),2)*100\n",
    "P_BOW_BI_F1 = round(f1_score(y_test_patio, y_pred_patio, average='weighted'),2)*100"
   ]
  },
  {
   "cell_type": "code",
   "execution_count": 123,
   "id": "8249af23",
   "metadata": {},
   "outputs": [
    {
     "data": {
      "text/html": [
       "<div>\n",
       "<style scoped>\n",
       "    .dataframe tbody tr th:only-of-type {\n",
       "        vertical-align: middle;\n",
       "    }\n",
       "\n",
       "    .dataframe tbody tr th {\n",
       "        vertical-align: top;\n",
       "    }\n",
       "\n",
       "    .dataframe thead th {\n",
       "        text-align: right;\n",
       "    }\n",
       "</style>\n",
       "<table border=\"1\" class=\"dataframe\">\n",
       "  <thead>\n",
       "    <tr style=\"text-align: right;\">\n",
       "      <th></th>\n",
       "      <th>MODEL NAME</th>\n",
       "      <th>TEXT EXTRACTION METHOD</th>\n",
       "      <th>ACCURACY</th>\n",
       "      <th>PRECESSION</th>\n",
       "      <th>RECALL</th>\n",
       "      <th>F1_SCORE</th>\n",
       "    </tr>\n",
       "  </thead>\n",
       "  <tbody>\n",
       "    <tr>\n",
       "      <th>0</th>\n",
       "      <td>OneVsRest</td>\n",
       "      <td>TF_IDF</td>\n",
       "      <td>86.08</td>\n",
       "      <td>82.44</td>\n",
       "      <td>86.08</td>\n",
       "      <td>82.69</td>\n",
       "    </tr>\n",
       "    <tr>\n",
       "      <th>1</th>\n",
       "      <td>OneVsRest</td>\n",
       "      <td>TF_IDF_HYPERPARAMETER</td>\n",
       "      <td>86.00</td>\n",
       "      <td>83.00</td>\n",
       "      <td>86.00</td>\n",
       "      <td>83.00</td>\n",
       "    </tr>\n",
       "    <tr>\n",
       "      <th>2</th>\n",
       "      <td>OneVsRest</td>\n",
       "      <td>BAG OF WORDS(UNIGRAM)</td>\n",
       "      <td>86.00</td>\n",
       "      <td>83.00</td>\n",
       "      <td>86.00</td>\n",
       "      <td>83.00</td>\n",
       "    </tr>\n",
       "    <tr>\n",
       "      <th>3</th>\n",
       "      <td>OneVsRest</td>\n",
       "      <td>BAG OF WORDS(BIGRAM)</td>\n",
       "      <td>86.00</td>\n",
       "      <td>83.00</td>\n",
       "      <td>86.00</td>\n",
       "      <td>83.00</td>\n",
       "    </tr>\n",
       "  </tbody>\n",
       "</table>\n",
       "</div>"
      ],
      "text/plain": [
       "  MODEL NAME TEXT EXTRACTION METHOD  ACCURACY  PRECESSION  RECALL  F1_SCORE\n",
       "0  OneVsRest                 TF_IDF     86.08       82.44   86.08     82.69\n",
       "1  OneVsRest  TF_IDF_HYPERPARAMETER     86.00       83.00   86.00     83.00\n",
       "2  OneVsRest  BAG OF WORDS(UNIGRAM)     86.00       83.00   86.00     83.00\n",
       "3  OneVsRest   BAG OF WORDS(BIGRAM)     86.00       83.00   86.00     83.00"
      ]
     },
     "execution_count": 123,
     "metadata": {},
     "output_type": "execute_result"
    }
   ],
   "source": [
    "P_comparision = pd.DataFrame()\n",
    "P_comparision['MODEL NAME'] = ['OneVsRest','OneVsRest','OneVsRest','OneVsRest']\n",
    "P_comparision['TEXT EXTRACTION METHOD'] = ['TF_IDF','TF_IDF_HYPERPARAMETER','BAG OF WORDS(UNIGRAM)','BAG OF WORDS(BIGRAM)']\n",
    "P_comparision['ACCURACY'] = [P_TF_IDF_ACC,P_TFIDF_HYPER_ACC,P_BOW_UNI_ACC,P_BOW_BI_ACC]\n",
    "P_comparision['PRECESSION'] = [P_TF_IDF_PREC,P_TFIDF_HYPER_PREC,P_BOW_UNI_PREC,P_BOW_BI_PREC]\n",
    "P_comparision['RECALL'] = [P_TF_IDF_RE,P_TFIDF_HYPER_RE,P_BOW_UNI_RE,P_BOW_BI_RE]\n",
    "P_comparision['F1_SCORE'] = [P_TF_IDF_F1,P_TFIDF_HYPER_F1,P_BOW_UNI_F1,P_BOW_BI_F1]\n",
    "P_comparision"
   ]
  },
  {
   "cell_type": "code",
   "execution_count": null,
   "id": "f9a19ede",
   "metadata": {},
   "outputs": [],
   "source": []
  },
  {
   "cell_type": "code",
   "execution_count": null,
   "id": "6d828156",
   "metadata": {},
   "outputs": [],
   "source": []
  },
  {
   "cell_type": "code",
   "execution_count": null,
   "id": "7758a93e",
   "metadata": {},
   "outputs": [],
   "source": []
  },
  {
   "cell_type": "code",
   "execution_count": null,
   "id": "096b078c",
   "metadata": {},
   "outputs": [],
   "source": []
  }
 ],
 "metadata": {
  "kernelspec": {
   "display_name": "Python 3 (ipykernel)",
   "language": "python",
   "name": "python3"
  },
  "language_info": {
   "codemirror_mode": {
    "name": "ipython",
    "version": 3
   },
   "file_extension": ".py",
   "mimetype": "text/x-python",
   "name": "python",
   "nbconvert_exporter": "python",
   "pygments_lexer": "ipython3",
   "version": "3.9.12"
  }
 },
 "nbformat": 4,
 "nbformat_minor": 5
}
