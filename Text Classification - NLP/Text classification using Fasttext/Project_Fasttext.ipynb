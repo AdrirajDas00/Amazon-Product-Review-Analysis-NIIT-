{
 "cells": [
  {
   "cell_type": "code",
   "execution_count": 1,
   "id": "16d97ca0",
   "metadata": {},
   "outputs": [],
   "source": [
    "import pandas as pd\n",
    "import warnings\n",
    "warnings.filterwarnings('ignore')"
   ]
  },
  {
   "cell_type": "code",
   "execution_count": 2,
   "id": "7432eb4d",
   "metadata": {},
   "outputs": [],
   "source": [
    "import numpy as np"
   ]
  },
  {
   "cell_type": "markdown",
   "id": "0be07700",
   "metadata": {},
   "source": [
    "### For Patio Garden and Lawn"
   ]
  },
  {
   "cell_type": "code",
   "execution_count": 3,
   "id": "1f66ca3f",
   "metadata": {},
   "outputs": [],
   "source": [
    "df_patio=pd.read_csv('PATIO_COMPLETELY_CLEAN_FULLY_MERGED_RDY_FOR_MDLLING')"
   ]
  },
  {
   "cell_type": "code",
   "execution_count": 4,
   "id": "5921a96f",
   "metadata": {},
   "outputs": [
    {
     "data": {
      "text/html": [
       "<div>\n",
       "<style scoped>\n",
       "    .dataframe tbody tr th:only-of-type {\n",
       "        vertical-align: middle;\n",
       "    }\n",
       "\n",
       "    .dataframe tbody tr th {\n",
       "        vertical-align: top;\n",
       "    }\n",
       "\n",
       "    .dataframe thead th {\n",
       "        text-align: right;\n",
       "    }\n",
       "</style>\n",
       "<table border=\"1\" class=\"dataframe\">\n",
       "  <thead>\n",
       "    <tr style=\"text-align: right;\">\n",
       "      <th></th>\n",
       "      <th>title</th>\n",
       "      <th>brand</th>\n",
       "      <th>main_cat</th>\n",
       "      <th>price</th>\n",
       "      <th>product_id</th>\n",
       "      <th>Reviewer_id</th>\n",
       "      <th>rating</th>\n",
       "      <th>verified</th>\n",
       "      <th>reviewText</th>\n",
       "      <th>DATE</th>\n",
       "    </tr>\n",
       "  </thead>\n",
       "  <tbody>\n",
       "    <tr>\n",
       "      <th>0</th>\n",
       "      <td>Colorado US State Flag: 3x5foot poly</td>\n",
       "      <td>3x5fFlags</td>\n",
       "      <td>Amazon Home</td>\n",
       "      <td>52.730167</td>\n",
       "      <td>9539723809</td>\n",
       "      <td>AUVPE2KEXBJVT</td>\n",
       "      <td>5.0</td>\n",
       "      <td>True</td>\n",
       "      <td>I don't spend a lot on my flags because they r...</td>\n",
       "      <td>2011-12-11</td>\n",
       "    </tr>\n",
       "    <tr>\n",
       "      <th>1</th>\n",
       "      <td>Colorado US State Flag: 3x5foot poly</td>\n",
       "      <td>3x5fFlags</td>\n",
       "      <td>Amazon Home</td>\n",
       "      <td>52.730167</td>\n",
       "      <td>9539723809</td>\n",
       "      <td>A2F6GES1MBOFXS</td>\n",
       "      <td>5.0</td>\n",
       "      <td>True</td>\n",
       "      <td>Super fast processing and shipping, if you are...</td>\n",
       "      <td>2011-07-30</td>\n",
       "    </tr>\n",
       "    <tr>\n",
       "      <th>2</th>\n",
       "      <td>Colorado US State Flag: 3x5foot poly</td>\n",
       "      <td>3x5fFlags</td>\n",
       "      <td>Amazon Home</td>\n",
       "      <td>52.730167</td>\n",
       "      <td>9539723809</td>\n",
       "      <td>A1SDVD3SZI1BAK</td>\n",
       "      <td>5.0</td>\n",
       "      <td>True</td>\n",
       "      <td>Great product.  I would recommend this product...</td>\n",
       "      <td>2016-05-04</td>\n",
       "    </tr>\n",
       "    <tr>\n",
       "      <th>3</th>\n",
       "      <td>Colorado US State Flag: 3x5foot poly</td>\n",
       "      <td>3x5fFlags</td>\n",
       "      <td>Amazon Home</td>\n",
       "      <td>52.730167</td>\n",
       "      <td>9539723809</td>\n",
       "      <td>A1ZQJ3KCSLUPR3</td>\n",
       "      <td>5.0</td>\n",
       "      <td>True</td>\n",
       "      <td>GREAT PRICE I LOVE MY STATE AND COUNTRY</td>\n",
       "      <td>2015-11-02</td>\n",
       "    </tr>\n",
       "    <tr>\n",
       "      <th>4</th>\n",
       "      <td>Colorado US State Flag: 3x5foot poly</td>\n",
       "      <td>3x5fFlags</td>\n",
       "      <td>Amazon Home</td>\n",
       "      <td>52.730167</td>\n",
       "      <td>9539723809</td>\n",
       "      <td>ANU8FBZM618M3</td>\n",
       "      <td>5.0</td>\n",
       "      <td>True</td>\n",
       "      <td>Great display flag for the den.</td>\n",
       "      <td>2015-09-01</td>\n",
       "    </tr>\n",
       "  </tbody>\n",
       "</table>\n",
       "</div>"
      ],
      "text/plain": [
       "                                  title      brand     main_cat      price  \\\n",
       "0  Colorado US State Flag: 3x5foot poly  3x5fFlags  Amazon Home  52.730167   \n",
       "1  Colorado US State Flag: 3x5foot poly  3x5fFlags  Amazon Home  52.730167   \n",
       "2  Colorado US State Flag: 3x5foot poly  3x5fFlags  Amazon Home  52.730167   \n",
       "3  Colorado US State Flag: 3x5foot poly  3x5fFlags  Amazon Home  52.730167   \n",
       "4  Colorado US State Flag: 3x5foot poly  3x5fFlags  Amazon Home  52.730167   \n",
       "\n",
       "   product_id     Reviewer_id  rating  verified  \\\n",
       "0  9539723809   AUVPE2KEXBJVT     5.0      True   \n",
       "1  9539723809  A2F6GES1MBOFXS     5.0      True   \n",
       "2  9539723809  A1SDVD3SZI1BAK     5.0      True   \n",
       "3  9539723809  A1ZQJ3KCSLUPR3     5.0      True   \n",
       "4  9539723809   ANU8FBZM618M3     5.0      True   \n",
       "\n",
       "                                          reviewText        DATE  \n",
       "0  I don't spend a lot on my flags because they r...  2011-12-11  \n",
       "1  Super fast processing and shipping, if you are...  2011-07-30  \n",
       "2  Great product.  I would recommend this product...  2016-05-04  \n",
       "3            GREAT PRICE I LOVE MY STATE AND COUNTRY  2015-11-02  \n",
       "4                    Great display flag for the den.  2015-09-01  "
      ]
     },
     "execution_count": 4,
     "metadata": {},
     "output_type": "execute_result"
    }
   ],
   "source": [
    "df_patio.head()"
   ]
  },
  {
   "cell_type": "code",
   "execution_count": 5,
   "id": "6cc5d11a",
   "metadata": {},
   "outputs": [
    {
     "data": {
      "text/plain": [
       "(932665, 10)"
      ]
     },
     "execution_count": 5,
     "metadata": {},
     "output_type": "execute_result"
    }
   ],
   "source": [
    "df_patio.shape"
   ]
  },
  {
   "cell_type": "code",
   "execution_count": 6,
   "id": "4ed860ab",
   "metadata": {},
   "outputs": [],
   "source": [
    "df_patio.drop_duplicates(subset=None,keep='first',inplace=True)"
   ]
  },
  {
   "cell_type": "code",
   "execution_count": 7,
   "id": "cf7fa17d",
   "metadata": {},
   "outputs": [
    {
     "data": {
      "text/plain": [
       "(727480, 10)"
      ]
     },
     "execution_count": 7,
     "metadata": {},
     "output_type": "execute_result"
    }
   ],
   "source": [
    "df_patio.shape"
   ]
  },
  {
   "cell_type": "code",
   "execution_count": 11,
   "id": "8a4f41a0",
   "metadata": {},
   "outputs": [],
   "source": [
    "sentiment=[]\n",
    "for i in df_patio['rating']:\n",
    "    if (i>3):\n",
    "        sentiment.append('Positive')\n",
    "    elif(i<3):\n",
    "        sentiment.append('Negative')\n",
    "    else:\n",
    "        sentiment.append('Neutral')"
   ]
  },
  {
   "cell_type": "code",
   "execution_count": 12,
   "id": "e29f7877",
   "metadata": {},
   "outputs": [],
   "source": [
    "df_patio['ReviewSentiment']=sentiment"
   ]
  },
  {
   "cell_type": "code",
   "execution_count": 13,
   "id": "f3b5fa48",
   "metadata": {},
   "outputs": [
    {
     "data": {
      "text/html": [
       "<div>\n",
       "<style scoped>\n",
       "    .dataframe tbody tr th:only-of-type {\n",
       "        vertical-align: middle;\n",
       "    }\n",
       "\n",
       "    .dataframe tbody tr th {\n",
       "        vertical-align: top;\n",
       "    }\n",
       "\n",
       "    .dataframe thead th {\n",
       "        text-align: right;\n",
       "    }\n",
       "</style>\n",
       "<table border=\"1\" class=\"dataframe\">\n",
       "  <thead>\n",
       "    <tr style=\"text-align: right;\">\n",
       "      <th></th>\n",
       "      <th>title</th>\n",
       "      <th>brand</th>\n",
       "      <th>main_cat</th>\n",
       "      <th>price</th>\n",
       "      <th>product_id</th>\n",
       "      <th>Reviewer_id</th>\n",
       "      <th>rating</th>\n",
       "      <th>verified</th>\n",
       "      <th>reviewText</th>\n",
       "      <th>DATE</th>\n",
       "      <th>ReviewSentiment</th>\n",
       "    </tr>\n",
       "  </thead>\n",
       "  <tbody>\n",
       "    <tr>\n",
       "      <th>0</th>\n",
       "      <td>Colorado US State Flag: 3x5foot poly</td>\n",
       "      <td>3x5fFlags</td>\n",
       "      <td>Amazon Home</td>\n",
       "      <td>52.730167</td>\n",
       "      <td>9539723809</td>\n",
       "      <td>AUVPE2KEXBJVT</td>\n",
       "      <td>5.0</td>\n",
       "      <td>True</td>\n",
       "      <td>I don't spend a lot on my flags because they r...</td>\n",
       "      <td>2011-12-11</td>\n",
       "      <td>Positive</td>\n",
       "    </tr>\n",
       "    <tr>\n",
       "      <th>1</th>\n",
       "      <td>Colorado US State Flag: 3x5foot poly</td>\n",
       "      <td>3x5fFlags</td>\n",
       "      <td>Amazon Home</td>\n",
       "      <td>52.730167</td>\n",
       "      <td>9539723809</td>\n",
       "      <td>A2F6GES1MBOFXS</td>\n",
       "      <td>5.0</td>\n",
       "      <td>True</td>\n",
       "      <td>Super fast processing and shipping, if you are...</td>\n",
       "      <td>2011-07-30</td>\n",
       "      <td>Positive</td>\n",
       "    </tr>\n",
       "    <tr>\n",
       "      <th>2</th>\n",
       "      <td>Colorado US State Flag: 3x5foot poly</td>\n",
       "      <td>3x5fFlags</td>\n",
       "      <td>Amazon Home</td>\n",
       "      <td>52.730167</td>\n",
       "      <td>9539723809</td>\n",
       "      <td>A1SDVD3SZI1BAK</td>\n",
       "      <td>5.0</td>\n",
       "      <td>True</td>\n",
       "      <td>Great product.  I would recommend this product...</td>\n",
       "      <td>2016-05-04</td>\n",
       "      <td>Positive</td>\n",
       "    </tr>\n",
       "    <tr>\n",
       "      <th>3</th>\n",
       "      <td>Colorado US State Flag: 3x5foot poly</td>\n",
       "      <td>3x5fFlags</td>\n",
       "      <td>Amazon Home</td>\n",
       "      <td>52.730167</td>\n",
       "      <td>9539723809</td>\n",
       "      <td>A1ZQJ3KCSLUPR3</td>\n",
       "      <td>5.0</td>\n",
       "      <td>True</td>\n",
       "      <td>GREAT PRICE I LOVE MY STATE AND COUNTRY</td>\n",
       "      <td>2015-11-02</td>\n",
       "      <td>Positive</td>\n",
       "    </tr>\n",
       "    <tr>\n",
       "      <th>4</th>\n",
       "      <td>Colorado US State Flag: 3x5foot poly</td>\n",
       "      <td>3x5fFlags</td>\n",
       "      <td>Amazon Home</td>\n",
       "      <td>52.730167</td>\n",
       "      <td>9539723809</td>\n",
       "      <td>ANU8FBZM618M3</td>\n",
       "      <td>5.0</td>\n",
       "      <td>True</td>\n",
       "      <td>Great display flag for the den.</td>\n",
       "      <td>2015-09-01</td>\n",
       "      <td>Positive</td>\n",
       "    </tr>\n",
       "  </tbody>\n",
       "</table>\n",
       "</div>"
      ],
      "text/plain": [
       "                                  title      brand     main_cat      price  \\\n",
       "0  Colorado US State Flag: 3x5foot poly  3x5fFlags  Amazon Home  52.730167   \n",
       "1  Colorado US State Flag: 3x5foot poly  3x5fFlags  Amazon Home  52.730167   \n",
       "2  Colorado US State Flag: 3x5foot poly  3x5fFlags  Amazon Home  52.730167   \n",
       "3  Colorado US State Flag: 3x5foot poly  3x5fFlags  Amazon Home  52.730167   \n",
       "4  Colorado US State Flag: 3x5foot poly  3x5fFlags  Amazon Home  52.730167   \n",
       "\n",
       "   product_id     Reviewer_id  rating  verified  \\\n",
       "0  9539723809   AUVPE2KEXBJVT     5.0      True   \n",
       "1  9539723809  A2F6GES1MBOFXS     5.0      True   \n",
       "2  9539723809  A1SDVD3SZI1BAK     5.0      True   \n",
       "3  9539723809  A1ZQJ3KCSLUPR3     5.0      True   \n",
       "4  9539723809   ANU8FBZM618M3     5.0      True   \n",
       "\n",
       "                                          reviewText        DATE  \\\n",
       "0  I don't spend a lot on my flags because they r...  2011-12-11   \n",
       "1  Super fast processing and shipping, if you are...  2011-07-30   \n",
       "2  Great product.  I would recommend this product...  2016-05-04   \n",
       "3            GREAT PRICE I LOVE MY STATE AND COUNTRY  2015-11-02   \n",
       "4                    Great display flag for the den.  2015-09-01   \n",
       "\n",
       "  ReviewSentiment  \n",
       "0        Positive  \n",
       "1        Positive  \n",
       "2        Positive  \n",
       "3        Positive  \n",
       "4        Positive  "
      ]
     },
     "execution_count": 13,
     "metadata": {},
     "output_type": "execute_result"
    }
   ],
   "source": [
    "df_patio.head()"
   ]
  },
  {
   "cell_type": "code",
   "execution_count": null,
   "id": "e9b95d8c",
   "metadata": {},
   "outputs": [],
   "source": []
  },
  {
   "cell_type": "code",
   "execution_count": 14,
   "id": "fea721b2",
   "metadata": {},
   "outputs": [],
   "source": [
    "text_patio  = df_patio[[\"reviewText\",\"ReviewSentiment\"]]"
   ]
  },
  {
   "cell_type": "code",
   "execution_count": 15,
   "id": "8d12e8db",
   "metadata": {},
   "outputs": [
    {
     "data": {
      "text/html": [
       "<div>\n",
       "<style scoped>\n",
       "    .dataframe tbody tr th:only-of-type {\n",
       "        vertical-align: middle;\n",
       "    }\n",
       "\n",
       "    .dataframe tbody tr th {\n",
       "        vertical-align: top;\n",
       "    }\n",
       "\n",
       "    .dataframe thead th {\n",
       "        text-align: right;\n",
       "    }\n",
       "</style>\n",
       "<table border=\"1\" class=\"dataframe\">\n",
       "  <thead>\n",
       "    <tr style=\"text-align: right;\">\n",
       "      <th></th>\n",
       "      <th>reviewText</th>\n",
       "      <th>ReviewSentiment</th>\n",
       "    </tr>\n",
       "  </thead>\n",
       "  <tbody>\n",
       "    <tr>\n",
       "      <th>0</th>\n",
       "      <td>I don't spend a lot on my flags because they r...</td>\n",
       "      <td>Positive</td>\n",
       "    </tr>\n",
       "    <tr>\n",
       "      <th>1</th>\n",
       "      <td>Super fast processing and shipping, if you are...</td>\n",
       "      <td>Positive</td>\n",
       "    </tr>\n",
       "    <tr>\n",
       "      <th>2</th>\n",
       "      <td>Great product.  I would recommend this product...</td>\n",
       "      <td>Positive</td>\n",
       "    </tr>\n",
       "    <tr>\n",
       "      <th>3</th>\n",
       "      <td>GREAT PRICE I LOVE MY STATE AND COUNTRY</td>\n",
       "      <td>Positive</td>\n",
       "    </tr>\n",
       "    <tr>\n",
       "      <th>4</th>\n",
       "      <td>Great display flag for the den.</td>\n",
       "      <td>Positive</td>\n",
       "    </tr>\n",
       "    <tr>\n",
       "      <th>...</th>\n",
       "      <td>...</td>\n",
       "      <td>...</td>\n",
       "    </tr>\n",
       "    <tr>\n",
       "      <th>932660</th>\n",
       "      <td>perfect for the project at hand</td>\n",
       "      <td>Positive</td>\n",
       "    </tr>\n",
       "    <tr>\n",
       "      <th>932661</th>\n",
       "      <td>Like</td>\n",
       "      <td>Positive</td>\n",
       "    </tr>\n",
       "    <tr>\n",
       "      <th>932662</th>\n",
       "      <td>Just what I needed to use in my planting. Just...</td>\n",
       "      <td>Positive</td>\n",
       "    </tr>\n",
       "    <tr>\n",
       "      <th>932663</th>\n",
       "      <td>Perfect for what I needed it for.  My bonsais ...</td>\n",
       "      <td>Positive</td>\n",
       "    </tr>\n",
       "    <tr>\n",
       "      <th>932664</th>\n",
       "      <td>VERY small bag.  No more than a cup of stones ...</td>\n",
       "      <td>Negative</td>\n",
       "    </tr>\n",
       "  </tbody>\n",
       "</table>\n",
       "<p>727480 rows × 2 columns</p>\n",
       "</div>"
      ],
      "text/plain": [
       "                                               reviewText ReviewSentiment\n",
       "0       I don't spend a lot on my flags because they r...        Positive\n",
       "1       Super fast processing and shipping, if you are...        Positive\n",
       "2       Great product.  I would recommend this product...        Positive\n",
       "3                 GREAT PRICE I LOVE MY STATE AND COUNTRY        Positive\n",
       "4                         Great display flag for the den.        Positive\n",
       "...                                                   ...             ...\n",
       "932660                    perfect for the project at hand        Positive\n",
       "932661                                               Like        Positive\n",
       "932662  Just what I needed to use in my planting. Just...        Positive\n",
       "932663  Perfect for what I needed it for.  My bonsais ...        Positive\n",
       "932664  VERY small bag.  No more than a cup of stones ...        Negative\n",
       "\n",
       "[727480 rows x 2 columns]"
      ]
     },
     "execution_count": 15,
     "metadata": {},
     "output_type": "execute_result"
    }
   ],
   "source": [
    "text_patio"
   ]
  },
  {
   "cell_type": "code",
   "execution_count": 16,
   "id": "2b06fb03",
   "metadata": {},
   "outputs": [
    {
     "data": {
      "text/plain": [
       "reviewText         object\n",
       "ReviewSentiment    object\n",
       "dtype: object"
      ]
     },
     "execution_count": 16,
     "metadata": {},
     "output_type": "execute_result"
    }
   ],
   "source": [
    "text_patio.dtypes"
   ]
  },
  {
   "cell_type": "code",
   "execution_count": 17,
   "id": "08e45d9f",
   "metadata": {},
   "outputs": [
    {
     "data": {
      "text/plain": [
       "reviewText         0\n",
       "ReviewSentiment    0\n",
       "dtype: int64"
      ]
     },
     "execution_count": 17,
     "metadata": {},
     "output_type": "execute_result"
    }
   ],
   "source": [
    "text_patio.isnull().sum()"
   ]
  },
  {
   "cell_type": "markdown",
   "id": "040375ba",
   "metadata": {},
   "source": [
    "### Text Preprocessing"
   ]
  },
  {
   "cell_type": "code",
   "execution_count": 18,
   "id": "4c113499",
   "metadata": {},
   "outputs": [],
   "source": [
    "import spacy\n",
    "#loading the english language small model of spacy\n",
    "en = spacy.load('en_core_web_sm')\n",
    "stopwords = en.Defaults.stop_words"
   ]
  },
  {
   "cell_type": "code",
   "execution_count": 19,
   "id": "52eb44c0",
   "metadata": {},
   "outputs": [
    {
     "name": "stdout",
     "output_type": "stream",
     "text": [
      "                                               reviewText ReviewSentiment\n",
      "0       spend a lot on my flags because they really ge...        Positive\n",
      "1       super fast processing and if you are looking f...        Positive\n",
      "2         great would recommend this would recommend this        Positive\n",
      "3                   great price love my state and country        Positive\n",
      "4                              great display flag for the        Positive\n",
      "...                                                   ...             ...\n",
      "932660                    perfect for the project at hand        Positive\n",
      "932661                                               like        Positive\n",
      "932662       just what needed to use in my just the right        Positive\n",
      "932663  perfect for what needed it my bonsais humidity...        Positive\n",
      "932664  very small no more than a cup of stones cheape...        Negative\n",
      "\n",
      "[727480 rows x 2 columns]\n"
     ]
    }
   ],
   "source": [
    "def clean_text(text):\n",
    "    # Split the text into individual words\n",
    "    words = text.split()\n",
    "    \n",
    "    # Remove any punctuation or non-alphabetic characters\n",
    "    words = [word for word in words if word.isalpha()]\n",
    "    \n",
    "    # Convert all words to lowercase\n",
    "    words = [word.lower() for word in words]\n",
    "    \n",
    "    # Remove any stop words\n",
    "    stop_words = stopwords=('english')\n",
    "    words = [word for word in words if word not in stop_words]\n",
    "    \n",
    "    # Join the words back into a single string\n",
    "    return \" \".join(words)\n",
    "\n",
    "\n",
    "# Clean the \"text\" column using the clean_text() function\n",
    "text_patio[\"reviewText\"] = text_patio[\"reviewText\"].apply(clean_text)\n",
    "\n",
    "# Print the cleaned data\n",
    "print(text_patio)"
   ]
  },
  {
   "cell_type": "code",
   "execution_count": 20,
   "id": "1764d9d3",
   "metadata": {},
   "outputs": [],
   "source": [
    "text_patio[\"reviewText\"]=text_patio[\"reviewText\"].apply(lambda x:' '.join([word for word in x.split() if word not in stopwords]))"
   ]
  },
  {
   "cell_type": "markdown",
   "id": "6a5ec311",
   "metadata": {},
   "source": [
    "###### Checking the first 100 review texts"
   ]
  },
  {
   "cell_type": "code",
   "execution_count": 21,
   "id": "616fa9f1",
   "metadata": {},
   "outputs": [
    {
     "name": "stdout",
     "output_type": "stream",
     "text": [
      "spend lot flags beat lesser quality figuring replaced couple times year fact inexpensive flag flying months later pleases sees winds averaging mph day occasional storm friont gusts reaching high far months starting little fraying buying shortly ready finally gives\n",
      "super fast processing looking flags look good quality product great company business\n",
      "great recommend recommend\n",
      "great price love state country\n",
      "great display flag\n",
      "cheap polyester flag serves purpose school color vibrant size true x\n",
      "serves purpose holding little concerned fading think good\n",
      "great quality looks\n",
      "loved\n",
      "knee saver taking vynal tile basement\n",
      "tool worked remove partial old hardwood works nicely driveway ice frozen snow chipper remover flooring task fiberglass handle ability bend actually assisted removal process unbendable metal need additional buy\n",
      "gave sharp edge strong\n",
      "remove old linoleum job lot\n",
      "bit big use worked got old vinyl great help removing carpet pad stuck\n",
      "heavy heavy good tool hand\n",
      "good\n",
      "tool saved purchased house horrible linoleum floors far gone lay new flooring purchased random oscillating pain hands knees worked slowly chipped old flooring away scraping huge went ahead bought bully scraper started fast blade thick high quality steel handle bend strenuous equipment start dull rubbing slower run spots linoleum heavily glued scrape word advice access hot water cement flooring helps mop hot water let sit couple minutes scrape like\n",
      "large walk chicken coop floor cuts cleaning time\n",
      "received looks like work help cut paths ice snow falls great\n",
      "worked great\n",
      "wished handle little longer actually got taking care unwanted reptiles job\n",
      "heavy duty good ice need shovel black\n",
      "good product bit overall use time\n",
      "purchased process installing ceramic tile floors prepping kitchen floors porcelain tool lives mention saved love fact\n",
      "floor scraper delivered exactly appreciate handle rubber cap worries splinters gets like fact handle bad like\n",
      "bought came monday linoleum flooring removed monday afternoon half\n",
      "clean chicken works\n",
      "super price better average\n",
      "forget blunderbuss axes pound way leave chop estwing axe designed like small axes canoeing head wood handle light carry portaging designed slice wood break good battle estwing axe designed like canoeing profile head slender shaped like razors great grandfathers offering resistance cutting use axe slice wood swing sharper angle grain wood conventional cuts perpendicularly use plates wood fly inches velocity higher conventional axe achieve higher energy greater cutting power limbing better dropping bigger tree use chainsaw use estwing axe limb tree biggest smaller trees use estwing save time messing gas best axe\n",
      "looks feels like hatched years love figured time try expect good\n",
      "nice\n",
      "zero negatives camping axe carry property small\n",
      "better axe\n",
      "great product\n",
      "quality grip feels great\n",
      "bought like filed immediately sharp worried split hard went right occassionally pound hammer brings visible damage hammer makes think axe steel strong metal weaker metal getting held pounding axe like head gotten stuck bad axe expert cut diameter live tree like held lighter cuts firewood excellent making smaller\n",
      "usa sharp excellent highly recommend use cutting thick weed like black hardwoods practice little taking field understand effectiveness great gift\n",
      "ton bamboo backyard tried machetes cut tools took chainsaw kicked bamboo start decided splurge cut shoots easy wrists glad bought\n",
      "husband loves\n",
      "need employee broke ash handle axes trying bought bomb light short handle like splitting cord\n",
      "axe style working florida woods years man minutes bought overnite axes years axe better man chainsaw franklin tree farmer\n",
      "lightweight razor excellent axe hatchet felling useful fill fact comes effective sheath definitely huge cost dollars buy sheath happy\n",
      "good size\n",
      "know funny look closely photo youtube thin piece sticky adhesive sticker cover indentation grove thinking makers machine uses hold arm forming better job bout ok hatchet hoping stability meant guy big hands like use\n",
      "love camping durable\n",
      "exactly\n",
      "awsome axe heavy duty\n",
      "sure love christmas\n",
      "useful clear privet small saplings acres tool arrives sharp ready trees blade narrow deep bite meaning easy disengage wood swung smaller trunks knife trunks limbs severed swung know control strength sure downward path ax leg tool play careless mistake cripple artery kill ax single forged extremely handle length allows use proper shorter taller longer use little uncomfortable rubber cushioned handle absorbs lot like experienced love best use trunks small firewood jobs excellent camping proper tool job trunks probably best dispatched look forward years oiled sheathed use stored safely sharpen dull blades cause accidental cuts sharp incentives offered received\n",
      "built estwing established company builds quality bought axe carry car emergency\n",
      "best camping axe axe best friend years finally bought straps small hiking bag large camping\n",
      "ok best cutting branches heavy axe super like try break axes hammers fall hit hard gets stuck takes lot\n",
      "great nice satisfying\n",
      "owned estwing tools life highest quality tools seen held believe probably nice tool use soon oregon\n",
      "thx\n",
      "quality tool\n",
      "best buy hatchet quality estwing brings table\n",
      "\n",
      "excellent works great chopping soft hard keeps good edge america quality steel taken care leave axe outdoors exposed environment came nice leather sheath\n",
      "good small truck want chop wood\n",
      "father estwing axe particularly kind tools lot left wanted attempt preserving protecting estwing axe survived cleaned sharpened cutting edge sharp useful years leather sheath styled like current tooled acorns leaves belt slits tooled leather needs tlc supple stitching snaps rivets held diverse dad axe ton farm family vacations fire wood new fishing noticed older version lighter weight lb current pound showing wear tear reflects found memories old useful new line quality axe life\n",
      "father estwing axe particularly kind tools lot left wanted attempt preserving protecting estwing axe survived cleaned sharpened cutting edge sharp useful years leather sheath styled like current tooled acorns leaves belt slits tooled leather needs tlc supple stitching snaps rivets held diverse dad axe ton farm family vacations fire wood new fishing noticed older version lighter weight lb current pound showing wear tear reflects found memories old useful new line quality axe life\n",
      "nice\n",
      "came door damaged edge shredded box twice size needed virtually packing horrible packing job caused item lost grinding corners steel handle outside profiles axe head roughly nice smooth polished corners hammers old hatchet better thing happened\n",
      "great clearing weight chop wood\n",
      "leverage hatchet weight\n",
      "good\n",
      "estwing axe years thought helpful review deserves stars outstanding axe steel nylon cushioned grip gives good traction grip absorbs chop gloves short sessions getting says pound great easy swing retain good entire head narrow slim good deep chopping means designed great log want good steel wedge splitting worth having axe head rear blunt rectangle works tapping tent estwing ships axes factory high quality saddle leather riveted sheath replacement estwing sheaths run want sure seller includes sheath sellers known sell axe sell sheaths axes usually average shipped anazon multitude fantastic built hand kids easy slim fit lot hold good great quality good things famous good heartily recommend love hope helpful research comparison shop happy trails enjoy wood\n",
      "estwing axe years thought helpful review deserves stars outstanding axe steel nylon cushioned grip gives good traction grip absorbs chop gloves short sessions getting says pound great easy swing retain good entire head narrow slim good deep chopping means designed great log want good steel wedge splitting worth having axe head rear blunt rectangle works tapping tent high quality saddle leather riveted sheath comes replacement estwing sheaths run axes usually average shipped anazon multitude fantastic built hand kids easy slim fit lot hold good great quality good things famous good heartily recommend love hope helpful research comparison shop happy trails enjoy wood\n",
      "estwing axe years thought helpful review deserves stars outstanding axe steel nylon cushioned grip gives good traction grip absorbs chop gloves short sessions getting says pound great easy swing retain good entire head narrow slim good deep chopping means designed great log want good steel wedge splitting worth having axe head rear blunt rectangle works tapping tent high quality saddle leather riveted sheath comes replacement estwing sheaths run axes usually average shipped anazon multitude fantastic built hand kids easy slim fit lot hold good great quality good things famous good heartily recommend love hope helpful research comparison shop happy trails enjoy wood\n",
      "beautiful sharp cut better suited smaller jobs splitting wood split logs find\n",
      "holds cuts trees steel construction main section like wood synthetic love tools\n",
      "ive looking axe nice light weight mid sized great taking stopped little cheaper bought came leather embossed cover cutting edge normally sells separately ad said guess missed detail felt better\n",
      "great axe\n",
      "great tool\n",
      "perfect sized ax ax chopping cords brand implies need words good mix steel keeping sharp edge\n",
      "like exactly\n",
      "best axes buy little longer\n",
      "reviewers axe blade deep cut grain wood blade tends bind wood rock forth loose blade sharpen axe testing water oak sharp got brand splitting sledge hammers time know swing striking axe easy swing find handle transmit shock notice shock steel tool hickory handled tools weight tool forward aids giving strong blade tool light fast following information disturbing reader discretion advised given thin profile axe tools reasonably light ability maintain solid grip good length grip material tool suitable raise food process grip enable accurate blow struck able hit exactly spot aiming hit thin blade profile enables tool clean cuts single larger animals contend larger bones axe perfect quickly quartering game making appropriate separation troublesome nearly entire piece grip easier clean axes hatches birds smaller animals saying quickly cleanly remove head bringing humane needs axe purpose doubt assessment bit offensive trust trying act like adults fairly axe spite thin blade profile cause binding wood trying think makes excellent camp far thin splitting logs light medium duty campsite duty certainly split small logs good fire estwing hatchet high quality chopping hard time repeating accurate strikes length shape axe makes accurate strikes fact strike harder hands prefer tool camp axe best thing axe going size use chop wood need compact axe bit better service good quality axe wider head suit heavy use wood curved handle multipurpose\n",
      "best medium campers axe stolen canadian camping\n",
      "blade keeps getting stuck\n",
      "bought camping axe sharp arrived splits small firewood size axe hand axe includes sheath careful time removed sheath cut hand sharp\n",
      "awesome\n",
      "bing camping little ax worked great cut branches looking forward camping hunting great ax tell later\n",
      "axe cut small trees clean sharp easy work note axe good splitting thick heavy far good job\n",
      "high excellent type rubberized lower grip long nice leather treated neatsfoot\n",
      "bad ax ax tough outdoorsman campers\n",
      "high quality axe handle useable longer like axe lot quality construction handy\n",
      "bought son bought local hardware use chain saw lot keeping saplings control wanted shallow angle cut limbs actions delighted appreciate quality leather sheath covers head protects cutting edge way love shock absorbing properties wooden steel handle axe worry breaking soft handle cover works think fit category limbing old guy raised lot old reached lightweight limbing axe lot like\n",
      "poorly product quality feel use split wood wood smoker pulled use handed slide end handle use handed accurate oiled sheath protect product pass\n",
      "got estwing campers axe couple days ago pleased axe backorder couple weeks informed status order times glad purchased half axe size years ago found handy camping boy scout sized axes big worked death help course scouts use axes sheath couple size axes wanted easy use great tool highest sheath old school beautiful thick tooled sheath heavily stitched strong rivets double fit snug safe way transport tanned little dry thing wipe neatsfoot recently saved old leather sheath machete shed years neatsfoot oil took weeks restored perfect neatsfoot oil axe blade beautiful right size uses edge rolled little checked licks steel cleared use thing killing use hand need stainless smooth brushed medium shaft appear way guarantie goes way handle like estwing tools grip designed absorb vibrations passing grandson estwing carry backpacking think best general camp tool like evening zombie invasion think perfect wight pierce skull weight cause swing wasting time recommend axe dealer skinny minute needed second thoughts highly recommend axe\n",
      "mediocre easy sort weak compromise qualities want good general recommend\n",
      "bought axe cut rounds performed buy\n",
      "log splitter bought handle found axe accident looking pry bar hand tool know lawn garden section axe know estwing apparently priced good find looking gerber fiskar axes thinking fiskars picked axe like piece solid steel think comes way handle rubber coated leather sheath slits strap tall carry belt getting fire wood axe chop house brick probably chop way exterior read reviews read complaints inconsistant inspected different makes axe chose cleanest looking imperfections think manufacturing estwing maybe axes stored store way axes think small nicks scratches effected performance axe believe actual blade wider purchase axe planning split thick logs try carry axe great demo work smaller tree stuff compare real forged axe head hickory handle considering carry axe great working trees logs thinner blades edge great inches thick thicker blades edge gets stuck getting axe learning developing skills know people spend money swedish blade estwing edge middle widen fast right blade digs maybe deep good gets stuck husqvarna forest axe blade gets thicker quicker damage striking tree log squeeze hands close blade feathering scraping husqvarna forest axe bought length lighter use energy axe work hard worth buy wetterlings granfors considered proper axes forever good\n",
      "heat wood needed replacement handle decided look handle wondered like shorter knew happy estwing design hammers days split wood amazed nice axe quality materials comfortable balanced steel looks finish makes chore easier old money reinvested usa\n",
      "bought maintain single track motorcycle mtn bike trails ride private keeping works inch old downed oaks like flint cut people noted casting flaws axe wusthof kitchen little smaller size bit larger nice size carry bike gives leverage good swing dont buy cut firewood truck clean\n",
      "great\n",
      "want check vendor exactly getting ordering purchased metric gradations price right got gauge nearly precision shape color\n",
      "taylor rain gauge like years took beating tough easy mount stick ground remember mow\n",
      "looking basic rain gauge easily read course brought weather got cold simpler\n"
     ]
    }
   ],
   "source": [
    "c = 0 \n",
    "for i in text_patio[\"reviewText\"]:\n",
    "    print(i)\n",
    "    c+=1\n",
    "    if c==100:\n",
    "        break"
   ]
  },
  {
   "cell_type": "markdown",
   "id": "1e8f4bd0",
   "metadata": {},
   "source": [
    "###### We see that our text is now clean and ready for modelling"
   ]
  },
  {
   "cell_type": "markdown",
   "id": "83a1b51f",
   "metadata": {},
   "source": [
    "###### When you train a fasttext model, it expects labels to be specified with label prefix. We will just create a third column in the dataframe that has __label__ as well as the review description"
   ]
  },
  {
   "cell_type": "code",
   "execution_count": 22,
   "id": "9aa7ab91",
   "metadata": {},
   "outputs": [
    {
     "data": {
      "text/html": [
       "<div>\n",
       "<style scoped>\n",
       "    .dataframe tbody tr th:only-of-type {\n",
       "        vertical-align: middle;\n",
       "    }\n",
       "\n",
       "    .dataframe tbody tr th {\n",
       "        vertical-align: top;\n",
       "    }\n",
       "\n",
       "    .dataframe thead th {\n",
       "        text-align: right;\n",
       "    }\n",
       "</style>\n",
       "<table border=\"1\" class=\"dataframe\">\n",
       "  <thead>\n",
       "    <tr style=\"text-align: right;\">\n",
       "      <th></th>\n",
       "      <th>reviewText</th>\n",
       "      <th>ReviewSentiment</th>\n",
       "    </tr>\n",
       "  </thead>\n",
       "  <tbody>\n",
       "    <tr>\n",
       "      <th>0</th>\n",
       "      <td>spend lot flags beat lesser quality figuring r...</td>\n",
       "      <td>__label__Positive</td>\n",
       "    </tr>\n",
       "    <tr>\n",
       "      <th>1</th>\n",
       "      <td>super fast processing looking flags look good ...</td>\n",
       "      <td>__label__Positive</td>\n",
       "    </tr>\n",
       "    <tr>\n",
       "      <th>2</th>\n",
       "      <td>great recommend recommend</td>\n",
       "      <td>__label__Positive</td>\n",
       "    </tr>\n",
       "    <tr>\n",
       "      <th>3</th>\n",
       "      <td>great price love state country</td>\n",
       "      <td>__label__Positive</td>\n",
       "    </tr>\n",
       "    <tr>\n",
       "      <th>4</th>\n",
       "      <td>great display flag</td>\n",
       "      <td>__label__Positive</td>\n",
       "    </tr>\n",
       "  </tbody>\n",
       "</table>\n",
       "</div>"
      ],
      "text/plain": [
       "                                          reviewText    ReviewSentiment\n",
       "0  spend lot flags beat lesser quality figuring r...  __label__Positive\n",
       "1  super fast processing looking flags look good ...  __label__Positive\n",
       "2                          great recommend recommend  __label__Positive\n",
       "3                     great price love state country  __label__Positive\n",
       "4                                 great display flag  __label__Positive"
      ]
     },
     "execution_count": 22,
     "metadata": {},
     "output_type": "execute_result"
    }
   ],
   "source": [
    "text_patio['ReviewSentiment'] = '__label__' + text_patio['ReviewSentiment'].astype(str)\n",
    "text_patio.head(5)"
   ]
  },
  {
   "cell_type": "code",
   "execution_count": 23,
   "id": "2c278235",
   "metadata": {},
   "outputs": [
    {
     "data": {
      "text/html": [
       "<div>\n",
       "<style scoped>\n",
       "    .dataframe tbody tr th:only-of-type {\n",
       "        vertical-align: middle;\n",
       "    }\n",
       "\n",
       "    .dataframe tbody tr th {\n",
       "        vertical-align: top;\n",
       "    }\n",
       "\n",
       "    .dataframe thead th {\n",
       "        text-align: right;\n",
       "    }\n",
       "</style>\n",
       "<table border=\"1\" class=\"dataframe\">\n",
       "  <thead>\n",
       "    <tr style=\"text-align: right;\">\n",
       "      <th></th>\n",
       "      <th>reviewText</th>\n",
       "      <th>ReviewSentiment</th>\n",
       "      <th>review_description</th>\n",
       "    </tr>\n",
       "  </thead>\n",
       "  <tbody>\n",
       "    <tr>\n",
       "      <th>0</th>\n",
       "      <td>spend lot flags beat lesser quality figuring r...</td>\n",
       "      <td>__label__Positive</td>\n",
       "      <td>__label__Positive spend lot flags beat lesser ...</td>\n",
       "    </tr>\n",
       "    <tr>\n",
       "      <th>1</th>\n",
       "      <td>super fast processing looking flags look good ...</td>\n",
       "      <td>__label__Positive</td>\n",
       "      <td>__label__Positive super fast processing lookin...</td>\n",
       "    </tr>\n",
       "    <tr>\n",
       "      <th>2</th>\n",
       "      <td>great recommend recommend</td>\n",
       "      <td>__label__Positive</td>\n",
       "      <td>__label__Positive great recommend recommend</td>\n",
       "    </tr>\n",
       "    <tr>\n",
       "      <th>3</th>\n",
       "      <td>great price love state country</td>\n",
       "      <td>__label__Positive</td>\n",
       "      <td>__label__Positive great price love state country</td>\n",
       "    </tr>\n",
       "    <tr>\n",
       "      <th>4</th>\n",
       "      <td>great display flag</td>\n",
       "      <td>__label__Positive</td>\n",
       "      <td>__label__Positive great display flag</td>\n",
       "    </tr>\n",
       "  </tbody>\n",
       "</table>\n",
       "</div>"
      ],
      "text/plain": [
       "                                          reviewText    ReviewSentiment  \\\n",
       "0  spend lot flags beat lesser quality figuring r...  __label__Positive   \n",
       "1  super fast processing looking flags look good ...  __label__Positive   \n",
       "2                          great recommend recommend  __label__Positive   \n",
       "3                     great price love state country  __label__Positive   \n",
       "4                                 great display flag  __label__Positive   \n",
       "\n",
       "                                  review_description  \n",
       "0  __label__Positive spend lot flags beat lesser ...  \n",
       "1  __label__Positive super fast processing lookin...  \n",
       "2        __label__Positive great recommend recommend  \n",
       "3   __label__Positive great price love state country  \n",
       "4               __label__Positive great display flag  "
      ]
     },
     "execution_count": 23,
     "metadata": {},
     "output_type": "execute_result"
    }
   ],
   "source": [
    "text_patio['review_description'] = text_patio['ReviewSentiment'] + ' ' + text_patio['reviewText']\n",
    "text_patio.head()"
   ]
  },
  {
   "cell_type": "markdown",
   "id": "d6b370f6",
   "metadata": {},
   "source": [
    "###### Performing train-test split in 80:20 ratio"
   ]
  },
  {
   "cell_type": "code",
   "execution_count": 24,
   "id": "67b2202a",
   "metadata": {},
   "outputs": [],
   "source": [
    "from sklearn.model_selection import train_test_split"
   ]
  },
  {
   "cell_type": "code",
   "execution_count": 25,
   "id": "fa4edd67",
   "metadata": {},
   "outputs": [],
   "source": [
    "patio_train_1,patio_test_1=train_test_split(text_patio,test_size=0.2)"
   ]
  },
  {
   "cell_type": "code",
   "execution_count": 26,
   "id": "b1b1df78",
   "metadata": {},
   "outputs": [
    {
     "data": {
      "text/plain": [
       "((581984, 3), (145496, 3))"
      ]
     },
     "execution_count": 26,
     "metadata": {},
     "output_type": "execute_result"
    }
   ],
   "source": [
    "patio_train_1.shape, patio_test_1.shape"
   ]
  },
  {
   "cell_type": "markdown",
   "id": "841be81f",
   "metadata": {},
   "source": [
    "###### Converting the review_description to txt files"
   ]
  },
  {
   "cell_type": "code",
   "execution_count": 27,
   "id": "0641117f",
   "metadata": {},
   "outputs": [],
   "source": [
    "patio_train_1.to_csv(\"PatioTrain1.train\", columns=[\"review_description\"], index=False, header=False)\n",
    "patio_test_1.to_csv(\"PatioTest1.test\", columns=[\"review_description\"], index=False, header=False)"
   ]
  },
  {
   "cell_type": "markdown",
   "id": "f3deadef",
   "metadata": {},
   "source": [
    "###### Train the model and evaluate performance"
   ]
  },
  {
   "cell_type": "code",
   "execution_count": 25,
   "id": "f2bafea4",
   "metadata": {},
   "outputs": [],
   "source": [
    "import fasttext"
   ]
  },
  {
   "cell_type": "code",
   "execution_count": 26,
   "id": "7331683b",
   "metadata": {},
   "outputs": [],
   "source": [
    "model=fasttext.train_supervised(input='PatioTrain1.train')"
   ]
  },
  {
   "cell_type": "code",
   "execution_count": 27,
   "id": "50aeac14",
   "metadata": {},
   "outputs": [
    {
     "name": "stdout",
     "output_type": "stream",
     "text": [
      "Test Samples: 145496\n",
      "Precision Score: 0.8580923186891736\n",
      "Recall: 0.8580923186891736\n",
      "F1 score: 0.8580923186891736\n"
     ]
    }
   ],
   "source": [
    "test_num1, precision1, recall1 = model.test('PatioTest1.test')\n",
    "f_score1 = (2*precision1*recall1)/(precision1+recall1)\n",
    "print('Test Samples:',test_num1)\n",
    "print('Precision Score:',precision1)\n",
    "print('Recall:',recall1)\n",
    "print('F1 score:',f_score1)"
   ]
  },
  {
   "cell_type": "code",
   "execution_count": 28,
   "id": "3bcb7cf2",
   "metadata": {},
   "outputs": [
    {
     "name": "stdout",
     "output_type": "stream",
     "text": [
      "Precision Score: 85.81 %\n",
      "Recall Score: 85.81 %\n",
      "F1 Score: 85.81 %\n"
     ]
    }
   ],
   "source": [
    "print('Precision Score:',round(precision1*100,2),'%')\n",
    "print('Recall Score:',round(recall1*100,2),'%')\n",
    "print('F1 Score:',round(f_score1*100,2),'%')"
   ]
  },
  {
   "cell_type": "markdown",
   "id": "90a26521",
   "metadata": {},
   "source": [
    "### Trying fasttext using hyperparameter tuning"
   ]
  },
  {
   "cell_type": "code",
   "execution_count": 29,
   "id": "fc2030c2",
   "metadata": {},
   "outputs": [
    {
     "name": "stdout",
     "output_type": "stream",
     "text": [
      "Test Samples: 145496\n",
      "Precision Score: 0.8512742618353769\n",
      "Recall: 0.8512742618353769\n",
      "F1 score: 0.8512742618353769\n",
      "******************************\n",
      "Test Samples: 145496\n",
      "Precision Score: 0.8497278275691428\n",
      "Recall: 0.8497278275691428\n",
      "F1 score: 0.8497278275691428\n",
      "******************************\n",
      "Test Samples: 145496\n",
      "Precision Score: 0.8482226315500082\n",
      "Recall: 0.8482226315500082\n",
      "F1 score: 0.8482226315500082\n",
      "******************************\n",
      "Test Samples: 145496\n",
      "Precision Score: 0.8484906801561555\n",
      "Recall: 0.8484906801561555\n",
      "F1 score: 0.8484906801561554\n",
      "******************************\n",
      "Test Samples: 145496\n",
      "Precision Score: 0.8475834387199648\n",
      "Recall: 0.8475834387199648\n",
      "F1 score: 0.8475834387199648\n",
      "******************************\n"
     ]
    }
   ],
   "source": [
    "for i in [10,15,20,25,30]:\n",
    "    model_hp = fasttext.train_supervised(input='PatioTrain1.train', lr=0.5, epoch=i, wordNgrams=2, bucket=20000)\n",
    "    test_num2, precision2, recall2 = model_hp.test('PatioTest1.test')\n",
    "    f_score2 = (2*precision2*recall2)/(precision2+recall2)\n",
    "    print('Test Samples:',test_num2)\n",
    "    print('Precision Score:',precision2)\n",
    "    print('Recall:',recall2)\n",
    "    print('F1 score:',f_score2)\n",
    "    print('*'*30)"
   ]
  },
  {
   "cell_type": "markdown",
   "id": "82bc9c56",
   "metadata": {},
   "source": [
    "##### We see that the F1 scores keep decreasing with increase of epoch value after 10. Therefore we must try with epoch<10"
   ]
  },
  {
   "cell_type": "code",
   "execution_count": 30,
   "id": "7f9fe487",
   "metadata": {},
   "outputs": [
    {
     "name": "stdout",
     "output_type": "stream",
     "text": [
      "Test Samples: 145496\n",
      "Precision Score: 0.8574943641062297\n",
      "Recall: 0.8574943641062297\n",
      "F1 score: 0.8574943641062297\n",
      "******************************\n",
      "Test Samples: 145496\n",
      "Precision Score: 0.8563809314345412\n",
      "Recall: 0.8563809314345412\n",
      "F1 score: 0.8563809314345412\n",
      "******************************\n",
      "Test Samples: 145496\n",
      "Precision Score: 0.8539547478968494\n",
      "Recall: 0.8539547478968494\n",
      "F1 score: 0.8539547478968494\n",
      "******************************\n",
      "Test Samples: 145496\n",
      "Precision Score: 0.852951283884093\n",
      "Recall: 0.852951283884093\n",
      "F1 score: 0.852951283884093\n",
      "******************************\n",
      "Test Samples: 145496\n",
      "Precision Score: 0.8507862759113652\n",
      "Recall: 0.8507862759113652\n",
      "F1 score: 0.8507862759113652\n",
      "******************************\n"
     ]
    }
   ],
   "source": [
    "for i in [2,4,6,8,10]:\n",
    "    model_hp = fasttext.train_supervised(input='PatioTrain1.train', lr=0.5, epoch=i, wordNgrams=2, bucket=20000)\n",
    "    test_num2, precision2, recall2 = model_hp.test('PatioTest1.test')\n",
    "    f_score2 = (2*precision2*recall2)/(precision2+recall2)\n",
    "    print('Test Samples:',test_num2)\n",
    "    print('Precision Score:',precision2)\n",
    "    print('Recall:',recall2)\n",
    "    print('F1 score:',f_score2)\n",
    "    print('*'*30)"
   ]
  },
  {
   "cell_type": "markdown",
   "id": "76a95058",
   "metadata": {},
   "source": [
    "###### We see that we get the best results for epoch=2"
   ]
  },
  {
   "cell_type": "markdown",
   "id": "54ff038e",
   "metadata": {},
   "source": [
    "###### Now let us test for different values of learning rate (lr)"
   ]
  },
  {
   "cell_type": "code",
   "execution_count": 31,
   "id": "00df257a",
   "metadata": {},
   "outputs": [
    {
     "name": "stdout",
     "output_type": "stream",
     "text": [
      "Test Samples: 145496\n",
      "Precision Score: 0.8574737449826799\n",
      "Recall: 0.8574737449826799\n",
      "F1 score: 0.8574737449826799\n",
      "******************************\n",
      "Test Samples: 145496\n",
      "Precision Score: 0.8575081101885963\n",
      "Recall: 0.8575081101885963\n",
      "F1 score: 0.8575081101885963\n",
      "******************************\n",
      "Test Samples: 145496\n",
      "Precision Score: 0.8574737449826799\n",
      "Recall: 0.8574737449826799\n",
      "F1 score: 0.8574737449826799\n",
      "******************************\n",
      "Test Samples: 145496\n",
      "Precision Score: 0.8570957277176005\n",
      "Recall: 0.8570957277176005\n",
      "F1 score: 0.8570957277176003\n",
      "******************************\n",
      "Test Samples: 145496\n",
      "Precision Score: 0.8566421069995052\n",
      "Recall: 0.8566421069995052\n",
      "F1 score: 0.8566421069995052\n",
      "******************************\n"
     ]
    }
   ],
   "source": [
    "for i in [0.2,0.4,0.6,0.8,1]:\n",
    "    model_hp = fasttext.train_supervised(input='PatioTrain1.train', lr=i, epoch=2, wordNgrams=2, bucket=20000)\n",
    "    test_num2, precision2, recall2 = model_hp.test('PatioTest1.test')\n",
    "    f_score2 = (2*precision2*recall2)/(precision2+recall2)\n",
    "    print('Test Samples:',test_num2)\n",
    "    print('Precision Score:',precision2)\n",
    "    print('Recall:',recall2)\n",
    "    print('F1 score:',f_score2)\n",
    "    print('*'*30)"
   ]
  },
  {
   "cell_type": "markdown",
   "id": "513f9d8b",
   "metadata": {},
   "source": [
    "###### We see that lr=0.4 gave us the best value of F-score"
   ]
  },
  {
   "cell_type": "markdown",
   "id": "a57a9477",
   "metadata": {},
   "source": [
    "###### We shall now test our accuracy scores for different values of ngrams"
   ]
  },
  {
   "cell_type": "code",
   "execution_count": 32,
   "id": "7d388e13",
   "metadata": {},
   "outputs": [
    {
     "name": "stdout",
     "output_type": "stream",
     "text": [
      "Test Samples: 145496\n",
      "Precision Score: 0.8578105240006598\n",
      "Recall: 0.8578105240006598\n",
      "F1 score: 0.8578105240006599\n",
      "******************************\n",
      "Test Samples: 145496\n",
      "Precision Score: 0.8578586352889427\n",
      "Recall: 0.8578586352889427\n",
      "F1 score: 0.8578586352889427\n",
      "******************************\n",
      "Test Samples: 145496\n",
      "Precision Score: 0.8547176554681916\n",
      "Recall: 0.8547176554681916\n",
      "F1 score: 0.8547176554681916\n",
      "******************************\n"
     ]
    }
   ],
   "source": [
    "for i in [1,2,3]:\n",
    "    model_hp = fasttext.train_supervised(input='PatioTrain1.train', lr=0.4, epoch=2, wordNgrams=i, bucket=20000)\n",
    "    test_num2, precision2, recall2 = model_hp.test('PatioTest1.test')\n",
    "    f_score2 = (2*precision2*recall2)/(precision2+recall2)\n",
    "    print('Test Samples:',test_num2)\n",
    "    print('Precision Score:',precision2)\n",
    "    print('Recall:',recall2)\n",
    "    print('F1 score:',f_score2)\n",
    "    print('*'*30)"
   ]
  },
  {
   "cell_type": "markdown",
   "id": "67bfef20",
   "metadata": {},
   "source": [
    "###### We observe that our F score was best for ngrams=2"
   ]
  },
  {
   "cell_type": "markdown",
   "id": "d9a41f7c",
   "metadata": {},
   "source": [
    "###### Training our model with hyperparameter tuning"
   ]
  },
  {
   "cell_type": "code",
   "execution_count": 33,
   "id": "903e4f4a",
   "metadata": {},
   "outputs": [],
   "source": [
    "model_hp = fasttext.train_supervised(input='PatioTrain1.train', lr=0.4, epoch=2, wordNgrams=2, bucket=20000)"
   ]
  },
  {
   "cell_type": "markdown",
   "id": "09e9b727",
   "metadata": {},
   "source": [
    "###### Now we check for ideal values of k and threshold"
   ]
  },
  {
   "cell_type": "code",
   "execution_count": 34,
   "id": "ed4d9d10",
   "metadata": {},
   "outputs": [
    {
     "data": {
      "text/html": [
       "<div>\n",
       "<style scoped>\n",
       "    .dataframe tbody tr th:only-of-type {\n",
       "        vertical-align: middle;\n",
       "    }\n",
       "\n",
       "    .dataframe tbody tr th {\n",
       "        vertical-align: top;\n",
       "    }\n",
       "\n",
       "    .dataframe thead th {\n",
       "        text-align: right;\n",
       "    }\n",
       "</style>\n",
       "<table border=\"1\" class=\"dataframe\">\n",
       "  <thead>\n",
       "    <tr style=\"text-align: right;\">\n",
       "      <th></th>\n",
       "      <th>K Value</th>\n",
       "      <th>Threshold value</th>\n",
       "      <th>f_score</th>\n",
       "    </tr>\n",
       "  </thead>\n",
       "  <tbody>\n",
       "    <tr>\n",
       "      <th>3</th>\n",
       "      <td>1.0</td>\n",
       "      <td>0.4</td>\n",
       "      <td>0.857742</td>\n",
       "    </tr>\n",
       "    <tr>\n",
       "      <th>57</th>\n",
       "      <td>7.0</td>\n",
       "      <td>0.4</td>\n",
       "      <td>0.857640</td>\n",
       "    </tr>\n",
       "    <tr>\n",
       "      <th>48</th>\n",
       "      <td>6.0</td>\n",
       "      <td>0.4</td>\n",
       "      <td>0.857640</td>\n",
       "    </tr>\n",
       "    <tr>\n",
       "      <th>30</th>\n",
       "      <td>4.0</td>\n",
       "      <td>0.4</td>\n",
       "      <td>0.857640</td>\n",
       "    </tr>\n",
       "    <tr>\n",
       "      <th>39</th>\n",
       "      <td>5.0</td>\n",
       "      <td>0.4</td>\n",
       "      <td>0.857640</td>\n",
       "    </tr>\n",
       "    <tr>\n",
       "      <th>...</th>\n",
       "      <td>...</td>\n",
       "      <td>...</td>\n",
       "      <td>...</td>\n",
       "    </tr>\n",
       "    <tr>\n",
       "      <th>26</th>\n",
       "      <td>3.0</td>\n",
       "      <td>0.9</td>\n",
       "      <td>0.696585</td>\n",
       "    </tr>\n",
       "    <tr>\n",
       "      <th>35</th>\n",
       "      <td>4.0</td>\n",
       "      <td>0.9</td>\n",
       "      <td>0.696585</td>\n",
       "    </tr>\n",
       "    <tr>\n",
       "      <th>17</th>\n",
       "      <td>2.0</td>\n",
       "      <td>0.9</td>\n",
       "      <td>0.696585</td>\n",
       "    </tr>\n",
       "    <tr>\n",
       "      <th>53</th>\n",
       "      <td>6.0</td>\n",
       "      <td>0.9</td>\n",
       "      <td>0.696585</td>\n",
       "    </tr>\n",
       "    <tr>\n",
       "      <th>80</th>\n",
       "      <td>9.0</td>\n",
       "      <td>0.9</td>\n",
       "      <td>0.696585</td>\n",
       "    </tr>\n",
       "  </tbody>\n",
       "</table>\n",
       "<p>81 rows × 3 columns</p>\n",
       "</div>"
      ],
      "text/plain": [
       "    K Value  Threshold value   f_score\n",
       "3       1.0              0.4  0.857742\n",
       "57      7.0              0.4  0.857640\n",
       "48      6.0              0.4  0.857640\n",
       "30      4.0              0.4  0.857640\n",
       "39      5.0              0.4  0.857640\n",
       "..      ...              ...       ...\n",
       "26      3.0              0.9  0.696585\n",
       "35      4.0              0.9  0.696585\n",
       "17      2.0              0.9  0.696585\n",
       "53      6.0              0.9  0.696585\n",
       "80      9.0              0.9  0.696585\n",
       "\n",
       "[81 rows x 3 columns]"
      ]
     },
     "execution_count": 34,
     "metadata": {},
     "output_type": "execute_result"
    }
   ],
   "source": [
    "import numpy as np\n",
    "\n",
    "check = []\n",
    "for k in np.arange(1,10,1):\n",
    "  for t in np.arange(0.1,1,0.1):\n",
    "    test_num, precision, recall = model_hp.test('PatioTest1.test', k=k, threshold=t)\n",
    "    f_score = (2*precision*recall)/(precision+recall)\n",
    "    check.append(f_score)\n",
    "\n",
    "list1 = []\n",
    "list2 = []\n",
    "\n",
    "for k in np.arange(1,10,1):\n",
    "  for t in np.arange(0.1,1,0.1):\n",
    "    list1.append(k) \n",
    "    list2.append(t)\n",
    "    \n",
    "mydf = pd.DataFrame([list1,list2,check]).transpose()\n",
    "mydf.columns = ['K Value','Threshold value','f_score']\n",
    "mydf.sort_values('f_score',ascending=False,inplace=True)\n",
    "mydf"
   ]
  },
  {
   "cell_type": "markdown",
   "id": "1a0b2eb9",
   "metadata": {},
   "source": [
    "###### we see that K=1.0 and threshold=0.4 gives the best f1 score"
   ]
  },
  {
   "cell_type": "code",
   "execution_count": 35,
   "id": "cb906b04",
   "metadata": {},
   "outputs": [
    {
     "name": "stdout",
     "output_type": "stream",
     "text": [
      "Test Samples: 145496\n",
      "Precision: 0.8601344953659228\n",
      "Recall: 0.8553637213394183\n",
      "F-score 0.8577424746282545\n"
     ]
    }
   ],
   "source": [
    "test_num2, precision2, recall2 = model_hp.test('PatioTest1.test',k=1, threshold=0.4)\n",
    "f_score2 = (2*precision2*recall2)/(precision2+recall2)\n",
    "print('Test Samples:',test_num2)\n",
    "print('Precision:',precision2)\n",
    "print('Recall:',recall2)\n",
    "print('F-score',f_score2)"
   ]
  },
  {
   "cell_type": "code",
   "execution_count": 36,
   "id": "d5943fc3",
   "metadata": {},
   "outputs": [
    {
     "name": "stdout",
     "output_type": "stream",
     "text": [
      "Precision Score: 86.01 %\n",
      "Recall Score: 85.54 %\n",
      "F1 Score: 85.77 %\n"
     ]
    }
   ],
   "source": [
    "print('Precision Score:',round(precision2*100,2),'%')\n",
    "print('Recall Score:',round(recall2*100,2),'%')\n",
    "print('F1 Score:',round(f_score2*100,2),'%')"
   ]
  },
  {
   "cell_type": "code",
   "execution_count": 37,
   "id": "c773c57d",
   "metadata": {},
   "outputs": [],
   "source": [
    "compare_patio_fasttext=pd.DataFrame()"
   ]
  },
  {
   "cell_type": "code",
   "execution_count": 38,
   "id": "7a65d074",
   "metadata": {},
   "outputs": [],
   "source": [
    "compare_patio_fasttext['Model']=['Fasttext without hyperparameters','Fasttext with hyperparameters']\n",
    "compare_patio_fasttext['Hyperparameters']=[np.nan,'Epoch=2, lr=0.4, wordNgrams=2, bucket=20000']\n",
    "compare_patio_fasttext['Precision Score']=[round(precision1*100,2),round(precision2*100,2)]\n",
    "compare_patio_fasttext['Recall Score']=[round(recall1*100,2),round(recall2*100,2)]\n",
    "compare_patio_fasttext['F1 Score']=[round(f_score1*100,2),round(f_score2*100,2)]"
   ]
  },
  {
   "cell_type": "code",
   "execution_count": 39,
   "id": "0b1dd888",
   "metadata": {},
   "outputs": [
    {
     "data": {
      "text/html": [
       "<div>\n",
       "<style scoped>\n",
       "    .dataframe tbody tr th:only-of-type {\n",
       "        vertical-align: middle;\n",
       "    }\n",
       "\n",
       "    .dataframe tbody tr th {\n",
       "        vertical-align: top;\n",
       "    }\n",
       "\n",
       "    .dataframe thead th {\n",
       "        text-align: right;\n",
       "    }\n",
       "</style>\n",
       "<table border=\"1\" class=\"dataframe\">\n",
       "  <thead>\n",
       "    <tr style=\"text-align: right;\">\n",
       "      <th></th>\n",
       "      <th>Model</th>\n",
       "      <th>Hyperparameters</th>\n",
       "      <th>Precision Score</th>\n",
       "      <th>Recall Score</th>\n",
       "      <th>F1 Score</th>\n",
       "    </tr>\n",
       "  </thead>\n",
       "  <tbody>\n",
       "    <tr>\n",
       "      <th>0</th>\n",
       "      <td>Fasttext without hyperparameters</td>\n",
       "      <td>NaN</td>\n",
       "      <td>85.81</td>\n",
       "      <td>85.81</td>\n",
       "      <td>85.81</td>\n",
       "    </tr>\n",
       "    <tr>\n",
       "      <th>1</th>\n",
       "      <td>Fasttext with hyperparameters</td>\n",
       "      <td>Epoch=2, lr=0.4, wordNgrams=2, bucket=20000</td>\n",
       "      <td>86.01</td>\n",
       "      <td>85.54</td>\n",
       "      <td>85.77</td>\n",
       "    </tr>\n",
       "  </tbody>\n",
       "</table>\n",
       "</div>"
      ],
      "text/plain": [
       "                              Model  \\\n",
       "0  Fasttext without hyperparameters   \n",
       "1     Fasttext with hyperparameters   \n",
       "\n",
       "                               Hyperparameters  Precision Score  Recall Score  \\\n",
       "0                                          NaN            85.81         85.81   \n",
       "1  Epoch=2, lr=0.4, wordNgrams=2, bucket=20000            86.01         85.54   \n",
       "\n",
       "   F1 Score  \n",
       "0     85.81  \n",
       "1     85.77  "
      ]
     },
     "execution_count": 39,
     "metadata": {},
     "output_type": "execute_result"
    }
   ],
   "source": [
    "compare_patio_fasttext"
   ]
  },
  {
   "cell_type": "code",
   "execution_count": null,
   "id": "e6b18d03",
   "metadata": {},
   "outputs": [],
   "source": []
  },
  {
   "cell_type": "markdown",
   "id": "6146963e",
   "metadata": {},
   "source": [
    "### For Tools and Home Improvement"
   ]
  },
  {
   "cell_type": "code",
   "execution_count": 40,
   "id": "703d95b0",
   "metadata": {},
   "outputs": [],
   "source": [
    "df_tools=pd.read_csv('TOOLS_COMPLETELY_CLEAN_FULLY_MERGED_RDY_FOR_MDLLING')"
   ]
  },
  {
   "cell_type": "code",
   "execution_count": 41,
   "id": "821d044c",
   "metadata": {},
   "outputs": [
    {
     "data": {
      "text/html": [
       "<div>\n",
       "<style scoped>\n",
       "    .dataframe tbody tr th:only-of-type {\n",
       "        vertical-align: middle;\n",
       "    }\n",
       "\n",
       "    .dataframe tbody tr th {\n",
       "        vertical-align: top;\n",
       "    }\n",
       "\n",
       "    .dataframe thead th {\n",
       "        text-align: right;\n",
       "    }\n",
       "</style>\n",
       "<table border=\"1\" class=\"dataframe\">\n",
       "  <thead>\n",
       "    <tr style=\"text-align: right;\">\n",
       "      <th></th>\n",
       "      <th>title</th>\n",
       "      <th>brand</th>\n",
       "      <th>main_cat</th>\n",
       "      <th>price</th>\n",
       "      <th>product_id</th>\n",
       "      <th>Reviewer_id</th>\n",
       "      <th>rating</th>\n",
       "      <th>verified</th>\n",
       "      <th>reviewText</th>\n",
       "      <th>DATE</th>\n",
       "    </tr>\n",
       "  </thead>\n",
       "  <tbody>\n",
       "    <tr>\n",
       "      <th>0</th>\n",
       "      <td>Breeding Organic Vegetables: A Step-by-Step Gu...</td>\n",
       "      <td>SioGreen</td>\n",
       "      <td>Tools &amp; Home Improvement</td>\n",
       "      <td>45.902274</td>\n",
       "      <td>0982085028</td>\n",
       "      <td>AL19QO4XLBQPU</td>\n",
       "      <td>5.0</td>\n",
       "      <td>True</td>\n",
       "      <td>returned, decided against this product</td>\n",
       "      <td>2018-01-28</td>\n",
       "    </tr>\n",
       "    <tr>\n",
       "      <th>1</th>\n",
       "      <td>Breeding Organic Vegetables: A Step-by-Step Gu...</td>\n",
       "      <td>SioGreen</td>\n",
       "      <td>Tools &amp; Home Improvement</td>\n",
       "      <td>45.902274</td>\n",
       "      <td>0982085028</td>\n",
       "      <td>A1I7CVB7X3T81E</td>\n",
       "      <td>5.0</td>\n",
       "      <td>True</td>\n",
       "      <td>Awesome heater for the electrical requirements...</td>\n",
       "      <td>2017-11-30</td>\n",
       "    </tr>\n",
       "    <tr>\n",
       "      <th>2</th>\n",
       "      <td>Breeding Organic Vegetables: A Step-by-Step Gu...</td>\n",
       "      <td>SioGreen</td>\n",
       "      <td>Tools &amp; Home Improvement</td>\n",
       "      <td>45.902274</td>\n",
       "      <td>0982085028</td>\n",
       "      <td>A1AQXO4P5U674E</td>\n",
       "      <td>5.0</td>\n",
       "      <td>True</td>\n",
       "      <td>Keeps the mist of your wood trim and on you. B...</td>\n",
       "      <td>2017-09-12</td>\n",
       "    </tr>\n",
       "    <tr>\n",
       "      <th>3</th>\n",
       "      <td>Breeding Organic Vegetables: A Step-by-Step Gu...</td>\n",
       "      <td>SioGreen</td>\n",
       "      <td>Tools &amp; Home Improvement</td>\n",
       "      <td>45.902274</td>\n",
       "      <td>0982085028</td>\n",
       "      <td>AIRV678P7C4NK</td>\n",
       "      <td>4.0</td>\n",
       "      <td>True</td>\n",
       "      <td>So far I hooked it up and tested it , filled a...</td>\n",
       "      <td>2017-07-19</td>\n",
       "    </tr>\n",
       "    <tr>\n",
       "      <th>4</th>\n",
       "      <td>Breeding Organic Vegetables: A Step-by-Step Gu...</td>\n",
       "      <td>SioGreen</td>\n",
       "      <td>Tools &amp; Home Improvement</td>\n",
       "      <td>45.902274</td>\n",
       "      <td>0982085028</td>\n",
       "      <td>A22I5QDNTNECDW</td>\n",
       "      <td>1.0</td>\n",
       "      <td>True</td>\n",
       "      <td>i installed this 10 months ago, instructions w...</td>\n",
       "      <td>2017-05-25</td>\n",
       "    </tr>\n",
       "  </tbody>\n",
       "</table>\n",
       "</div>"
      ],
      "text/plain": [
       "                                               title     brand  \\\n",
       "0  Breeding Organic Vegetables: A Step-by-Step Gu...  SioGreen   \n",
       "1  Breeding Organic Vegetables: A Step-by-Step Gu...  SioGreen   \n",
       "2  Breeding Organic Vegetables: A Step-by-Step Gu...  SioGreen   \n",
       "3  Breeding Organic Vegetables: A Step-by-Step Gu...  SioGreen   \n",
       "4  Breeding Organic Vegetables: A Step-by-Step Gu...  SioGreen   \n",
       "\n",
       "                   main_cat      price  product_id     Reviewer_id  rating  \\\n",
       "0  Tools & Home Improvement  45.902274  0982085028   AL19QO4XLBQPU     5.0   \n",
       "1  Tools & Home Improvement  45.902274  0982085028  A1I7CVB7X3T81E     5.0   \n",
       "2  Tools & Home Improvement  45.902274  0982085028  A1AQXO4P5U674E     5.0   \n",
       "3  Tools & Home Improvement  45.902274  0982085028   AIRV678P7C4NK     4.0   \n",
       "4  Tools & Home Improvement  45.902274  0982085028  A22I5QDNTNECDW     1.0   \n",
       "\n",
       "   verified                                         reviewText        DATE  \n",
       "0      True             returned, decided against this product  2018-01-28  \n",
       "1      True  Awesome heater for the electrical requirements...  2017-11-30  \n",
       "2      True  Keeps the mist of your wood trim and on you. B...  2017-09-12  \n",
       "3      True  So far I hooked it up and tested it , filled a...  2017-07-19  \n",
       "4      True  i installed this 10 months ago, instructions w...  2017-05-25  "
      ]
     },
     "execution_count": 41,
     "metadata": {},
     "output_type": "execute_result"
    }
   ],
   "source": [
    "df_tools.head()"
   ]
  },
  {
   "cell_type": "code",
   "execution_count": 42,
   "id": "1c46c778",
   "metadata": {},
   "outputs": [
    {
     "data": {
      "text/plain": [
       "(2267345, 10)"
      ]
     },
     "execution_count": 42,
     "metadata": {},
     "output_type": "execute_result"
    }
   ],
   "source": [
    "df_tools.shape"
   ]
  },
  {
   "cell_type": "code",
   "execution_count": 43,
   "id": "13a2539a",
   "metadata": {},
   "outputs": [],
   "source": [
    "df_tools.drop_duplicates(subset=None,keep='first',inplace=True)"
   ]
  },
  {
   "cell_type": "code",
   "execution_count": 44,
   "id": "aab4278a",
   "metadata": {},
   "outputs": [
    {
     "data": {
      "text/plain": [
       "(1817775, 10)"
      ]
     },
     "execution_count": 44,
     "metadata": {},
     "output_type": "execute_result"
    }
   ],
   "source": [
    "df_tools.shape"
   ]
  },
  {
   "cell_type": "code",
   "execution_count": 48,
   "id": "d57a7e63",
   "metadata": {},
   "outputs": [],
   "source": [
    "sentiment2=[]\n",
    "for i in df_tools['rating']:\n",
    "    if (i>3):\n",
    "        sentiment2.append('Good')\n",
    "    elif (i<3):\n",
    "        sentiment2.append('Bad')\n",
    "    else:\n",
    "        sentiment2.append('Nuetral')"
   ]
  },
  {
   "cell_type": "code",
   "execution_count": 49,
   "id": "037e3722",
   "metadata": {},
   "outputs": [],
   "source": [
    "df_tools['ReviewSentiment']=sentiment2"
   ]
  },
  {
   "cell_type": "code",
   "execution_count": 50,
   "id": "dfe4df50",
   "metadata": {},
   "outputs": [],
   "source": [
    "text_tools=df_tools[[\"reviewText\",\"ReviewSentiment\"]]"
   ]
  },
  {
   "cell_type": "code",
   "execution_count": 51,
   "id": "3ba73127",
   "metadata": {},
   "outputs": [
    {
     "data": {
      "text/html": [
       "<div>\n",
       "<style scoped>\n",
       "    .dataframe tbody tr th:only-of-type {\n",
       "        vertical-align: middle;\n",
       "    }\n",
       "\n",
       "    .dataframe tbody tr th {\n",
       "        vertical-align: top;\n",
       "    }\n",
       "\n",
       "    .dataframe thead th {\n",
       "        text-align: right;\n",
       "    }\n",
       "</style>\n",
       "<table border=\"1\" class=\"dataframe\">\n",
       "  <thead>\n",
       "    <tr style=\"text-align: right;\">\n",
       "      <th></th>\n",
       "      <th>reviewText</th>\n",
       "      <th>ReviewSentiment</th>\n",
       "    </tr>\n",
       "  </thead>\n",
       "  <tbody>\n",
       "    <tr>\n",
       "      <th>0</th>\n",
       "      <td>returned, decided against this product</td>\n",
       "      <td>Good</td>\n",
       "    </tr>\n",
       "    <tr>\n",
       "      <th>1</th>\n",
       "      <td>Awesome heater for the electrical requirements...</td>\n",
       "      <td>Good</td>\n",
       "    </tr>\n",
       "    <tr>\n",
       "      <th>2</th>\n",
       "      <td>Keeps the mist of your wood trim and on you. B...</td>\n",
       "      <td>Good</td>\n",
       "    </tr>\n",
       "    <tr>\n",
       "      <th>3</th>\n",
       "      <td>So far I hooked it up and tested it , filled a...</td>\n",
       "      <td>Good</td>\n",
       "    </tr>\n",
       "    <tr>\n",
       "      <th>4</th>\n",
       "      <td>i installed this 10 months ago, instructions w...</td>\n",
       "      <td>Bad</td>\n",
       "    </tr>\n",
       "    <tr>\n",
       "      <th>...</th>\n",
       "      <td>...</td>\n",
       "      <td>...</td>\n",
       "    </tr>\n",
       "    <tr>\n",
       "      <th>2267340</th>\n",
       "      <td>The Zip-It Tool is a handy drain opener, espec...</td>\n",
       "      <td>Good</td>\n",
       "    </tr>\n",
       "    <tr>\n",
       "      <th>2267341</th>\n",
       "      <td>This thing is great! Bathroom sink was so clog...</td>\n",
       "      <td>Good</td>\n",
       "    </tr>\n",
       "    <tr>\n",
       "      <th>2267342</th>\n",
       "      <td>I purchased this exact product from a local bo...</td>\n",
       "      <td>Good</td>\n",
       "    </tr>\n",
       "    <tr>\n",
       "      <th>2267343</th>\n",
       "      <td>I have had one of these in the past and was cu...</td>\n",
       "      <td>Good</td>\n",
       "    </tr>\n",
       "    <tr>\n",
       "      <th>2267344</th>\n",
       "      <td>Product works as described! Thank you very much!</td>\n",
       "      <td>Good</td>\n",
       "    </tr>\n",
       "  </tbody>\n",
       "</table>\n",
       "<p>1817775 rows × 2 columns</p>\n",
       "</div>"
      ],
      "text/plain": [
       "                                                reviewText ReviewSentiment\n",
       "0                   returned, decided against this product            Good\n",
       "1        Awesome heater for the electrical requirements...            Good\n",
       "2        Keeps the mist of your wood trim and on you. B...            Good\n",
       "3        So far I hooked it up and tested it , filled a...            Good\n",
       "4        i installed this 10 months ago, instructions w...             Bad\n",
       "...                                                    ...             ...\n",
       "2267340  The Zip-It Tool is a handy drain opener, espec...            Good\n",
       "2267341  This thing is great! Bathroom sink was so clog...            Good\n",
       "2267342  I purchased this exact product from a local bo...            Good\n",
       "2267343  I have had one of these in the past and was cu...            Good\n",
       "2267344   Product works as described! Thank you very much!            Good\n",
       "\n",
       "[1817775 rows x 2 columns]"
      ]
     },
     "execution_count": 51,
     "metadata": {},
     "output_type": "execute_result"
    }
   ],
   "source": [
    "text_tools"
   ]
  },
  {
   "cell_type": "code",
   "execution_count": 52,
   "id": "b23667f8",
   "metadata": {},
   "outputs": [
    {
     "data": {
      "text/plain": [
       "reviewText         object\n",
       "ReviewSentiment    object\n",
       "dtype: object"
      ]
     },
     "execution_count": 52,
     "metadata": {},
     "output_type": "execute_result"
    }
   ],
   "source": [
    "text_tools.dtypes"
   ]
  },
  {
   "cell_type": "code",
   "execution_count": 78,
   "id": "3a7ba00f",
   "metadata": {},
   "outputs": [
    {
     "data": {
      "text/plain": [
       "reviewText    0\n",
       "rating        0\n",
       "dtype: int64"
      ]
     },
     "execution_count": 78,
     "metadata": {},
     "output_type": "execute_result"
    }
   ],
   "source": [
    "text_tools.isnull().sum()"
   ]
  },
  {
   "cell_type": "markdown",
   "id": "855f1ee1",
   "metadata": {},
   "source": [
    "### Text Preprocessing"
   ]
  },
  {
   "cell_type": "code",
   "execution_count": 53,
   "id": "1e0119af",
   "metadata": {},
   "outputs": [
    {
     "name": "stdout",
     "output_type": "stream",
     "text": [
      "                                                reviewText ReviewSentiment\n",
      "0                             decided against this product            Good\n",
      "1        awesome heater for the electrical makes an awe...            Good\n",
      "2         keeps the mist of your wood trim and on bendable            Good\n",
      "3        so far hooked it up and tested it filled a fiv...            Good\n",
      "4        installed this months instructions were easy a...             Bad\n",
      "...                                                    ...             ...\n",
      "2267340  the tool a handy drain especially for clearing...            Good\n",
      "2267341  this thing bathroom sink was so friend and dra...            Good\n",
      "2267342  purchased this exact product from a local box ...            Good\n",
      "2267343  have had one of these in the past and was curi...            Good\n",
      "2267344                    product works as thank you very            Good\n",
      "\n",
      "[1817775 rows x 2 columns]\n"
     ]
    }
   ],
   "source": [
    "text_tools[\"reviewText\"] = text_tools[\"reviewText\"].apply(clean_text)\n",
    "# Print the cleaned data\n",
    "print(text_tools)"
   ]
  },
  {
   "cell_type": "code",
   "execution_count": 54,
   "id": "6776ac44",
   "metadata": {},
   "outputs": [],
   "source": [
    "text_tools[\"reviewText\"]=text_tools[\"reviewText\"].apply(lambda x:' '.join([word for word in x.split() if word not in stopwords]))"
   ]
  },
  {
   "cell_type": "markdown",
   "id": "47e5afd4",
   "metadata": {},
   "source": [
    "###### Checking first 100 recoreds"
   ]
  },
  {
   "cell_type": "code",
   "execution_count": 55,
   "id": "1b67dbd5",
   "metadata": {},
   "outputs": [
    {
     "name": "stdout",
     "output_type": "stream",
     "text": [
      "decided product\n",
      "awesome heater electrical makes awesome preheater talnkless system\n",
      "keeps mist wood trim bendable\n",
      "far hooked tested filled gallon bucket hot perfect temp flow valve came broke tried tighten stop hooked directly sharkbite pex work fine hooked poll amp wait till rest bathroom finished better\n",
      "installed months instructions easy worked water heater stuck tried different modes reset circuit heat water update warranty requires licensed useless service renders possible difficulty monetary gain company disturbs actually dropped heater fixed company named changed supposed heating element lasts years broken tried pick difficult pick possible worst try working voip callback system bad sound baby crying background gives away pretty product like kind repackaged alibaba celsius reading obviously usa jump hoops pick repaired left figured save problems road want deal bad service bought water installed require contractor install warranty new water heater readings dial adjusting inlet manually turn new water heater hot got\n",
      "forgot warranty send pay lots money shipping going\n",
      "better bucks cheaper buy plus real amazon good ratings plastic connection instructions keeping types\n",
      "good hot water heater problems correct water pressure use second water heater main hot water heater maybe better\n",
      "use matcha tea froth easy relaxing whisk froths matcha tea easy\n",
      "work complaint loose happens fairly unit turns instead returning state power fortunately mounted convenient location easy check turn\n",
      "good overflow works white easy dirty like works better course catching finer buy\n",
      "super fast easy\n",
      "hold solar panel roof cargo pretty straight forward installation holds solar panel place\n",
      "little skeptical flow heater different creature tank lessons hot water turn beast lasts service problems best buy year amazon congrats designer\n",
      "bought neighbor loves came exactly\n",
      "arrived good looks install weeks test\n",
      "super deal\n",
      "good thenks\n",
      "cheap works okay\n",
      "smile ear ear warm absolutely adorable stuffed toys seen long quality high coloring warms great gift love variety critter options\n",
      "super strong\n",
      "think look cool little fibers attached flake cool sparkle\n",
      "fantastic item morris canal nj history great leg work went verifying route canal context current rail highway detailed maps descriptions allow trace entire phillipsburg jersey broken sections easily covered series day maps descriptions sections driving gives turn turn directions including park car hiking maps worth team true enthusiasts\n",
      "love need son stick stickers instead plus different pages\n",
      "great quality great\n",
      "\n",
      "quick\n",
      "looks good\n",
      "work great\n",
      "work perfectly\n",
      "super great clip low price\n",
      "purchased christmas gift friends moved new home traditional looked elegant arrived nicely right\n",
      "super quality buy\n",
      "strong durable lots\n",
      "exactly\n",
      "nice dated christmas dated ornament year got married bought new nice\n",
      "measurement advertised\n",
      "early present mom new absolutely loves\n",
      "work fit drop tube filter unit large particles fish getting rinse running water good let picture fool round square wanted\n",
      "great highly easy use outstanding\n",
      "great quick\n",
      "use cover intakes powerheads outside sponge holds eventually eaten away biology freshwater foam collapse\n",
      "searched sticker book find junky expensive worth spiral plenty pages right pages categorized grew collecting like perfect place stickers come dentist slew come mail mimi papa regular\n",
      "product works better buying come mister heads supply way clog system mister head cause leak clog system\n",
      "master bath nice having hot water right easy install potential connections water supply tubes plastic hold tight metal ones tubes jossled bit leak real careful bump supply\n",
      "best\n",
      "great product job happy thank happy\n",
      "graphic designer uses pms communicate old book given free match upgrading new book creative immediately color screen\n",
      "graphic download pantone color manager export new adobe products instructions books download color update books manager file export thought pantone update adobe swatches automatically add books kinda pain bit confusing thought let purchasing\n",
      "ok ok love fact choose colors finally feel like pages overall happy bought need feel like quality paper bit downloadable software user wish good established brands chose think quality years better\n",
      "bought case protect nice case neoprene like material cushions\n",
      "fits lightwedge exactly gives good protection mind case lightwedge bought lightwedge excellent reading bed husband like light room\n",
      "good\n",
      "years moderate use book light worked great year night time reading nights week minutes set batteries leds gave lighting half switch started flaking took apart saw switch problem think design metal switch tab contacts circuit board held place awhile plastic switch cover uses turn unit pushes metal contact small portion contacts circuit board leads light acting going repair glue thought better waste time new ikross similar instead new ordered thing nice lights entire page fairly time felt got bit hold position nook reader nook living reasons trying hoping better use\n",
      "exactly need\n",
      "kindle use wonderful oberon case fits great accent protect case kindle fits like highly\n",
      "wanted simple travel case protect like cost bulk cases sold specifically kindle searching simpler came designed lightwedge fits kindle providing protection bumps light cheaper kindle know designed works great cheap kindle\n",
      "little zippered pouches fantastic way protect lightwedge\n",
      "impressed book light needs leds actually coverage page hard smudges definently need protective case store scratching\n",
      "great buy\n",
      "exactly need\n",
      "love eye types best older eyes need light\n",
      "great nighttime reading\n",
      "great little light grandson loves\n",
      "funny little easel love color quirky happy\n",
      "great flexible job works\n",
      "great wish ran aa\n",
      "got light fast like color adult coloring books daughter says coloring avoid suggestion past great point page coloring book clipboard solid surface attach light partially paralized works great wish found definitely\n",
      "actually clip small pillow prop light source coming book instead like reading light husband happy\n",
      "light bright minutes dims level\n",
      "dims new batteries\n",
      "good\n",
      "great little lite strong clamp settings brightness need low setting\n",
      "works easy use pack casts good light\n",
      "coverage good usually switch reposition possibly bright totally dark light unlit room little light room probably light key ring led evenly covers larger clip portion want eat ac adapter\n",
      "rare product lasted eventually failed plastic casing held pressure like started coming apart repeatedly lost pieces electrical separated circuit wish casing light like maybe aluminum casing held guess light neck batteries long time changed light light cold bit good ambience reading book light lights turned buy\n",
      "great\n",
      "love little easy easy clip grab complaint clips eventually gets lot awesome plucking eyebrows putting clip mirror gooseneck clipped bed night need fumble easy change batteries good long favorite\n",
      "nice bright reading light makes pages look night like\n",
      "love little great clipping headboards read night bed bothering bunk great come weekend forever abuse kids twisting like brightness\n",
      "great compact extremely like runs aaa batteries cheap\n",
      "easy position clamp illuminates save time energy turn bedroom light illuminate battery lasts long\n",
      "wonderful nice nice gifts people particularly places guests sleep house good lighting color light blue case power baseball cap clip batteries long uses aaa cheap easy\n",
      "\n",
      "read bed kids clipped bunk bed brightness perfect batteries bought gifts better light lamp point right\n",
      "okay began flicker drove crazy trying read bus long looking utopian little book\n",
      "gift girlfriend absolutely loves especially loves read night trying bought keeping light product great light focused brightness dock star easily accidentally turn thrown sort switch makes difficult accidentally\n",
      "tiny thing emits light let bending right light book reading material instead lighting room easily goodbye flashlights spare\n",
      "light works brightness little heavy green case different shade\n",
      "light works ok paper flimsy thin led light trouble getting light bend book certain way light certain know work far better hard read book kindle option work\n",
      "perfect child bunk son clip light gives substantial light led light bright need strain\n",
      "nice bright sturdy strong flexible neck moves want want book\n",
      "tried book lights great price easily clips nook kindle bright dark spots easily adjusts durable long lasting light buying second highly\n",
      "product exactly needs bit bulky smallest paperback hold multiple pages cover light levels finding single led entirely plastic bit sophisticated product adding additional weight good product money\n",
      "purchased lights past reading bed squinting adjusting felt like hurting nice green light plenty comfortably read dark\n",
      "book light impressed light gives bright dimmer light gives plenty read clip easily fits flip pages tugging clip rip adjustable neck light entire quality product\n",
      "overnighted tellin good works\n",
      "bought black loved batteries black come batteries bought colored ones gifts come works great night plenty rechargable aaa handly avid need change batteries months\n",
      "let little light fool definitely suppose small nice bright perfect attaching partner bendable easy price break\n",
      "led book light light years pun better old lights incandescent gets great battery unlike found went batteries like led burn like blubs heat integrated battery pack getting tangled cord stumbled local bunch display final harry potter book published figuring lot little going lot reading leftovers sold half real bought tried loved went buy use gifts available colors bright light flex led book bright bright dual flex led book\n"
     ]
    }
   ],
   "source": [
    "c = 0 \n",
    "for i in text_tools[\"reviewText\"]:\n",
    "    print(i)\n",
    "    c+=1\n",
    "    if c==100:\n",
    "        break"
   ]
  },
  {
   "cell_type": "markdown",
   "id": "afcd17c8",
   "metadata": {},
   "source": [
    "###### We see that our text is now clean and ready for modelling"
   ]
  },
  {
   "cell_type": "markdown",
   "id": "d5364c41",
   "metadata": {},
   "source": [
    "###### When you train a fasttext model, it expects labels to be specified with label prefix. We will just create a third column in the dataframe that has label as well as the review description"
   ]
  },
  {
   "cell_type": "code",
   "execution_count": 56,
   "id": "db711a8b",
   "metadata": {},
   "outputs": [
    {
     "data": {
      "text/html": [
       "<div>\n",
       "<style scoped>\n",
       "    .dataframe tbody tr th:only-of-type {\n",
       "        vertical-align: middle;\n",
       "    }\n",
       "\n",
       "    .dataframe tbody tr th {\n",
       "        vertical-align: top;\n",
       "    }\n",
       "\n",
       "    .dataframe thead th {\n",
       "        text-align: right;\n",
       "    }\n",
       "</style>\n",
       "<table border=\"1\" class=\"dataframe\">\n",
       "  <thead>\n",
       "    <tr style=\"text-align: right;\">\n",
       "      <th></th>\n",
       "      <th>reviewText</th>\n",
       "      <th>ReviewSentiment</th>\n",
       "    </tr>\n",
       "  </thead>\n",
       "  <tbody>\n",
       "    <tr>\n",
       "      <th>0</th>\n",
       "      <td>decided product</td>\n",
       "      <td>__label__Good</td>\n",
       "    </tr>\n",
       "    <tr>\n",
       "      <th>1</th>\n",
       "      <td>awesome heater electrical makes awesome prehea...</td>\n",
       "      <td>__label__Good</td>\n",
       "    </tr>\n",
       "    <tr>\n",
       "      <th>2</th>\n",
       "      <td>keeps mist wood trim bendable</td>\n",
       "      <td>__label__Good</td>\n",
       "    </tr>\n",
       "    <tr>\n",
       "      <th>3</th>\n",
       "      <td>far hooked tested filled gallon bucket hot per...</td>\n",
       "      <td>__label__Good</td>\n",
       "    </tr>\n",
       "    <tr>\n",
       "      <th>4</th>\n",
       "      <td>installed months instructions easy worked wate...</td>\n",
       "      <td>__label__Bad</td>\n",
       "    </tr>\n",
       "  </tbody>\n",
       "</table>\n",
       "</div>"
      ],
      "text/plain": [
       "                                          reviewText ReviewSentiment\n",
       "0                                    decided product   __label__Good\n",
       "1  awesome heater electrical makes awesome prehea...   __label__Good\n",
       "2                      keeps mist wood trim bendable   __label__Good\n",
       "3  far hooked tested filled gallon bucket hot per...   __label__Good\n",
       "4  installed months instructions easy worked wate...    __label__Bad"
      ]
     },
     "execution_count": 56,
     "metadata": {},
     "output_type": "execute_result"
    }
   ],
   "source": [
    "text_tools['ReviewSentiment'] = '__label__' + text_tools['ReviewSentiment'].astype(str)\n",
    "text_tools.head(5)"
   ]
  },
  {
   "cell_type": "code",
   "execution_count": 57,
   "id": "b620b2b7",
   "metadata": {},
   "outputs": [
    {
     "data": {
      "text/html": [
       "<div>\n",
       "<style scoped>\n",
       "    .dataframe tbody tr th:only-of-type {\n",
       "        vertical-align: middle;\n",
       "    }\n",
       "\n",
       "    .dataframe tbody tr th {\n",
       "        vertical-align: top;\n",
       "    }\n",
       "\n",
       "    .dataframe thead th {\n",
       "        text-align: right;\n",
       "    }\n",
       "</style>\n",
       "<table border=\"1\" class=\"dataframe\">\n",
       "  <thead>\n",
       "    <tr style=\"text-align: right;\">\n",
       "      <th></th>\n",
       "      <th>reviewText</th>\n",
       "      <th>ReviewSentiment</th>\n",
       "      <th>review_description</th>\n",
       "    </tr>\n",
       "  </thead>\n",
       "  <tbody>\n",
       "    <tr>\n",
       "      <th>0</th>\n",
       "      <td>decided product</td>\n",
       "      <td>__label__Good</td>\n",
       "      <td>__label__Good decided product</td>\n",
       "    </tr>\n",
       "    <tr>\n",
       "      <th>1</th>\n",
       "      <td>awesome heater electrical makes awesome prehea...</td>\n",
       "      <td>__label__Good</td>\n",
       "      <td>__label__Good awesome heater electrical makes ...</td>\n",
       "    </tr>\n",
       "    <tr>\n",
       "      <th>2</th>\n",
       "      <td>keeps mist wood trim bendable</td>\n",
       "      <td>__label__Good</td>\n",
       "      <td>__label__Good keeps mist wood trim bendable</td>\n",
       "    </tr>\n",
       "    <tr>\n",
       "      <th>3</th>\n",
       "      <td>far hooked tested filled gallon bucket hot per...</td>\n",
       "      <td>__label__Good</td>\n",
       "      <td>__label__Good far hooked tested filled gallon ...</td>\n",
       "    </tr>\n",
       "    <tr>\n",
       "      <th>4</th>\n",
       "      <td>installed months instructions easy worked wate...</td>\n",
       "      <td>__label__Bad</td>\n",
       "      <td>__label__Bad installed months instructions eas...</td>\n",
       "    </tr>\n",
       "  </tbody>\n",
       "</table>\n",
       "</div>"
      ],
      "text/plain": [
       "                                          reviewText ReviewSentiment  \\\n",
       "0                                    decided product   __label__Good   \n",
       "1  awesome heater electrical makes awesome prehea...   __label__Good   \n",
       "2                      keeps mist wood trim bendable   __label__Good   \n",
       "3  far hooked tested filled gallon bucket hot per...   __label__Good   \n",
       "4  installed months instructions easy worked wate...    __label__Bad   \n",
       "\n",
       "                                  review_description  \n",
       "0                      __label__Good decided product  \n",
       "1  __label__Good awesome heater electrical makes ...  \n",
       "2        __label__Good keeps mist wood trim bendable  \n",
       "3  __label__Good far hooked tested filled gallon ...  \n",
       "4  __label__Bad installed months instructions eas...  "
      ]
     },
     "execution_count": 57,
     "metadata": {},
     "output_type": "execute_result"
    }
   ],
   "source": [
    "text_tools['review_description'] = text_tools['ReviewSentiment'] + ' ' + text_tools['reviewText']\n",
    "text_tools.head()"
   ]
  },
  {
   "cell_type": "markdown",
   "id": "8ee90ca2",
   "metadata": {},
   "source": [
    "###### Performing train-test split in 80:20 ratio"
   ]
  },
  {
   "cell_type": "code",
   "execution_count": 58,
   "id": "d5c04424",
   "metadata": {},
   "outputs": [],
   "source": [
    "tools_train_1,tools_test_1=train_test_split(text_tools,test_size=0.2)"
   ]
  },
  {
   "cell_type": "code",
   "execution_count": 59,
   "id": "2ef819b8",
   "metadata": {},
   "outputs": [
    {
     "data": {
      "text/plain": [
       "((1454220, 3), (363555, 3))"
      ]
     },
     "execution_count": 59,
     "metadata": {},
     "output_type": "execute_result"
    }
   ],
   "source": [
    "tools_train_1.shape, tools_test_1.shape"
   ]
  },
  {
   "cell_type": "markdown",
   "id": "6fa44b62",
   "metadata": {},
   "source": [
    "###### Converting the review_description to txt files"
   ]
  },
  {
   "cell_type": "code",
   "execution_count": 60,
   "id": "fb74ef39",
   "metadata": {},
   "outputs": [],
   "source": [
    "tools_train_1.to_csv(\"ToolsTrain1.train\", columns=[\"review_description\"], index=False, header=False)\n",
    "tools_test_1.to_csv(\"ToolsTest1.test\", columns=[\"review_description\"], index=False, header=False)"
   ]
  },
  {
   "cell_type": "markdown",
   "id": "80810da8",
   "metadata": {},
   "source": [
    "###### Train the model and evaluate performance"
   ]
  },
  {
   "cell_type": "code",
   "execution_count": 61,
   "id": "6dc009aa",
   "metadata": {},
   "outputs": [],
   "source": [
    "model2=fasttext.train_supervised(input='ToolsTrain1.train')"
   ]
  },
  {
   "cell_type": "code",
   "execution_count": 62,
   "id": "93997853",
   "metadata": {},
   "outputs": [
    {
     "name": "stdout",
     "output_type": "stream",
     "text": [
      "Test Samples: 363555\n",
      "Precision Score: 0.8758784778094099\n",
      "Recall: 0.8758784778094099\n",
      "F1 score: 0.8758784778094099\n"
     ]
    }
   ],
   "source": [
    "test_num3, precision3, recall3 = model2.test('ToolsTest1.test')\n",
    "f_score3 = (2*precision3*recall3)/(precision3+recall3)\n",
    "print('Test Samples:',test_num3)\n",
    "print('Precision Score:',precision3)\n",
    "print('Recall:',recall3)\n",
    "print('F1 score:',f_score3)"
   ]
  },
  {
   "cell_type": "code",
   "execution_count": 63,
   "id": "f9cf14d8",
   "metadata": {},
   "outputs": [
    {
     "name": "stdout",
     "output_type": "stream",
     "text": [
      "Precision Score: 87.59 %\n",
      "Recall Score: 87.59 %\n",
      "F1 Score: 87.59 %\n"
     ]
    }
   ],
   "source": [
    "print('Precision Score:',round(precision3*100,2),'%')\n",
    "print('Recall Score:',round(recall3*100,2),'%')\n",
    "print('F1 Score:',round(f_score3*100,2),'%')"
   ]
  },
  {
   "cell_type": "markdown",
   "id": "8df73545",
   "metadata": {},
   "source": [
    "###### Trying fasttext using hyperparameter tuning"
   ]
  },
  {
   "cell_type": "code",
   "execution_count": 64,
   "id": "8aa6bd31",
   "metadata": {},
   "outputs": [
    {
     "name": "stdout",
     "output_type": "stream",
     "text": [
      "Test Samples: 363555\n",
      "Precision Score: 0.8729518229703896\n",
      "Recall: 0.8729518229703896\n",
      "F1 score: 0.8729518229703896\n",
      "******************************\n",
      "Test Samples: 363555\n",
      "Precision Score: 0.8709356218453879\n",
      "Recall: 0.8709356218453879\n",
      "F1 score: 0.8709356218453879\n",
      "******************************\n",
      "Test Samples: 363555\n",
      "Precision Score: 0.8721706481825309\n",
      "Recall: 0.8721706481825309\n",
      "F1 score: 0.8721706481825308\n",
      "******************************\n",
      "Test Samples: 363555\n",
      "Precision Score: 0.8711996809286078\n",
      "Recall: 0.8711996809286078\n",
      "F1 score: 0.8711996809286078\n",
      "******************************\n",
      "Test Samples: 363555\n",
      "Precision Score: 0.8692825019598135\n",
      "Recall: 0.8692825019598135\n",
      "F1 score: 0.8692825019598135\n",
      "******************************\n"
     ]
    }
   ],
   "source": [
    "for i in [10,15,20,25,30]:\n",
    "    model2_hp = fasttext.train_supervised(input='ToolsTrain1.train', lr=0.5, epoch=i, wordNgrams=2, bucket=20000)\n",
    "    test_num2, precision2, recall2 = model2_hp.test('ToolsTest1.test')\n",
    "    f_score2 = (2*precision2*recall2)/(precision2+recall2)\n",
    "    print('Test Samples:',test_num2)\n",
    "    print('Precision Score:',precision2)\n",
    "    print('Recall:',recall2)\n",
    "    print('F1 score:',f_score2)\n",
    "    print('*'*30)"
   ]
  },
  {
   "cell_type": "markdown",
   "id": "55529dca",
   "metadata": {},
   "source": [
    "###### We see that the F1 score is maximum for epoch=10"
   ]
  },
  {
   "cell_type": "markdown",
   "id": "d9f224e5",
   "metadata": {},
   "source": [
    "###### Now let us test for different values of learning rate (lr)"
   ]
  },
  {
   "cell_type": "code",
   "execution_count": 65,
   "id": "c1ccd718",
   "metadata": {},
   "outputs": [
    {
     "name": "stdout",
     "output_type": "stream",
     "text": [
      "Test Samples: 363555\n",
      "Precision Score: 0.8738127656063044\n",
      "Recall: 0.8738127656063044\n",
      "F1 score: 0.8738127656063044\n",
      "******************************\n",
      "Test Samples: 363555\n",
      "Precision Score: 0.8725172257292569\n",
      "Recall: 0.8725172257292569\n",
      "F1 score: 0.8725172257292569\n",
      "******************************\n",
      "Test Samples: 363555\n",
      "Precision Score: 0.8717993150967529\n",
      "Recall: 0.8717993150967529\n",
      "F1 score: 0.8717993150967529\n",
      "******************************\n",
      "Test Samples: 363555\n",
      "Precision Score: 0.8711996809286078\n",
      "Recall: 0.8711996809286078\n",
      "F1 score: 0.8711996809286078\n",
      "******************************\n",
      "Test Samples: 363555\n",
      "Precision Score: 0.8336400269560315\n",
      "Recall: 0.8336400269560315\n",
      "F1 score: 0.8336400269560316\n",
      "******************************\n"
     ]
    }
   ],
   "source": [
    "for i in [0.2,0.4,0.6,0.8,1]:\n",
    "    model2_hp = fasttext.train_supervised(input='ToolsTrain1.train', lr=i, epoch=10, wordNgrams=2, bucket=20000)\n",
    "    test_num2, precision2, recall2 = model2_hp.test('ToolsTest1.test')\n",
    "    f_score2 = (2*precision2*recall2)/(precision2+recall2)\n",
    "    print('Test Samples:',test_num2)\n",
    "    print('Precision Score:',precision2)\n",
    "    print('Recall:',recall2)\n",
    "    print('F1 score:',f_score2)\n",
    "    print('*'*30)"
   ]
  },
  {
   "cell_type": "markdown",
   "id": "8c009813",
   "metadata": {},
   "source": [
    "###### We observe that f score was maximum for lr=0.2"
   ]
  },
  {
   "cell_type": "markdown",
   "id": "418f44ba",
   "metadata": {},
   "source": [
    "###### We shall now test our accuracy scores for different values of ngrams"
   ]
  },
  {
   "cell_type": "code",
   "execution_count": 66,
   "id": "c078d7f4",
   "metadata": {},
   "outputs": [
    {
     "name": "stdout",
     "output_type": "stream",
     "text": [
      "Test Samples: 363555\n",
      "Precision Score: 0.8758839790403102\n",
      "Recall: 0.8758839790403102\n",
      "F1 score: 0.8758839790403102\n",
      "******************************\n",
      "Test Samples: 363555\n",
      "Precision Score: 0.873581713908487\n",
      "Recall: 0.873581713908487\n",
      "F1 score: 0.873581713908487\n",
      "******************************\n",
      "Test Samples: 363555\n",
      "Precision Score: 0.8711804266204564\n",
      "Recall: 0.8711804266204564\n",
      "F1 score: 0.8711804266204564\n",
      "******************************\n"
     ]
    }
   ],
   "source": [
    "for i in [1,2,3]:\n",
    "    model2_hp = fasttext.train_supervised(input='ToolsTrain1.train', lr=0.2, epoch=10, wordNgrams=i, bucket=20000)\n",
    "    test_num2, precision2, recall2 = model2_hp.test('ToolsTest1.test')\n",
    "    f_score2 = (2*precision2*recall2)/(precision2+recall2)\n",
    "    print('Test Samples:',test_num2)\n",
    "    print('Precision Score:',precision2)\n",
    "    print('Recall:',recall2)\n",
    "    print('F1 score:',f_score2)\n",
    "    print('*'*30)"
   ]
  },
  {
   "cell_type": "markdown",
   "id": "e2a5ff91",
   "metadata": {},
   "source": [
    "###### We observe that our F score was best for ngrams=1"
   ]
  },
  {
   "cell_type": "markdown",
   "id": "3821721d",
   "metadata": {},
   "source": [
    "###### Training our model with hyperparameter tuning"
   ]
  },
  {
   "cell_type": "code",
   "execution_count": 67,
   "id": "c4142d73",
   "metadata": {},
   "outputs": [],
   "source": [
    "model2_hp = fasttext.train_supervised(input='ToolsTrain1.train', lr=0.2, epoch=10, wordNgrams=1, bucket=20000)"
   ]
  },
  {
   "cell_type": "markdown",
   "id": "649041a1",
   "metadata": {},
   "source": [
    "###### Now we check for ideal values of k and threshold"
   ]
  },
  {
   "cell_type": "code",
   "execution_count": 68,
   "id": "6356165a",
   "metadata": {},
   "outputs": [
    {
     "data": {
      "text/html": [
       "<div>\n",
       "<style scoped>\n",
       "    .dataframe tbody tr th:only-of-type {\n",
       "        vertical-align: middle;\n",
       "    }\n",
       "\n",
       "    .dataframe tbody tr th {\n",
       "        vertical-align: top;\n",
       "    }\n",
       "\n",
       "    .dataframe thead th {\n",
       "        text-align: right;\n",
       "    }\n",
       "</style>\n",
       "<table border=\"1\" class=\"dataframe\">\n",
       "  <thead>\n",
       "    <tr style=\"text-align: right;\">\n",
       "      <th></th>\n",
       "      <th>K Value</th>\n",
       "      <th>Threshold value</th>\n",
       "      <th>f_score</th>\n",
       "    </tr>\n",
       "  </thead>\n",
       "  <tbody>\n",
       "    <tr>\n",
       "      <th>3</th>\n",
       "      <td>1.0</td>\n",
       "      <td>0.4</td>\n",
       "      <td>0.876384</td>\n",
       "    </tr>\n",
       "    <tr>\n",
       "      <th>40</th>\n",
       "      <td>5.0</td>\n",
       "      <td>0.5</td>\n",
       "      <td>0.876276</td>\n",
       "    </tr>\n",
       "    <tr>\n",
       "      <th>13</th>\n",
       "      <td>2.0</td>\n",
       "      <td>0.5</td>\n",
       "      <td>0.876276</td>\n",
       "    </tr>\n",
       "    <tr>\n",
       "      <th>76</th>\n",
       "      <td>9.0</td>\n",
       "      <td>0.5</td>\n",
       "      <td>0.876276</td>\n",
       "    </tr>\n",
       "    <tr>\n",
       "      <th>4</th>\n",
       "      <td>1.0</td>\n",
       "      <td>0.5</td>\n",
       "      <td>0.876276</td>\n",
       "    </tr>\n",
       "    <tr>\n",
       "      <th>...</th>\n",
       "      <td>...</td>\n",
       "      <td>...</td>\n",
       "      <td>...</td>\n",
       "    </tr>\n",
       "    <tr>\n",
       "      <th>26</th>\n",
       "      <td>3.0</td>\n",
       "      <td>0.9</td>\n",
       "      <td>0.750258</td>\n",
       "    </tr>\n",
       "    <tr>\n",
       "      <th>8</th>\n",
       "      <td>1.0</td>\n",
       "      <td>0.9</td>\n",
       "      <td>0.750258</td>\n",
       "    </tr>\n",
       "    <tr>\n",
       "      <th>53</th>\n",
       "      <td>6.0</td>\n",
       "      <td>0.9</td>\n",
       "      <td>0.750258</td>\n",
       "    </tr>\n",
       "    <tr>\n",
       "      <th>35</th>\n",
       "      <td>4.0</td>\n",
       "      <td>0.9</td>\n",
       "      <td>0.750258</td>\n",
       "    </tr>\n",
       "    <tr>\n",
       "      <th>80</th>\n",
       "      <td>9.0</td>\n",
       "      <td>0.9</td>\n",
       "      <td>0.750258</td>\n",
       "    </tr>\n",
       "  </tbody>\n",
       "</table>\n",
       "<p>81 rows × 3 columns</p>\n",
       "</div>"
      ],
      "text/plain": [
       "    K Value  Threshold value   f_score\n",
       "3       1.0              0.4  0.876384\n",
       "40      5.0              0.5  0.876276\n",
       "13      2.0              0.5  0.876276\n",
       "76      9.0              0.5  0.876276\n",
       "4       1.0              0.5  0.876276\n",
       "..      ...              ...       ...\n",
       "26      3.0              0.9  0.750258\n",
       "8       1.0              0.9  0.750258\n",
       "53      6.0              0.9  0.750258\n",
       "35      4.0              0.9  0.750258\n",
       "80      9.0              0.9  0.750258\n",
       "\n",
       "[81 rows x 3 columns]"
      ]
     },
     "execution_count": 68,
     "metadata": {},
     "output_type": "execute_result"
    }
   ],
   "source": [
    "check = []\n",
    "for k in np.arange(1,10,1):\n",
    "  for t in np.arange(0.1,1,0.1):\n",
    "    test_num, precision, recall = model2_hp.test('ToolsTest1.test', k=k, threshold=t)\n",
    "    f_score = (2*precision*recall)/(precision+recall)\n",
    "    check.append(f_score)\n",
    "\n",
    "list1 = []\n",
    "list2 = []\n",
    "\n",
    "for k in np.arange(1,10,1):\n",
    "  for t in np.arange(0.1,1,0.1):\n",
    "    list1.append(k) \n",
    "    list2.append(t)\n",
    "    \n",
    "mydf = pd.DataFrame([list1,list2,check]).transpose()\n",
    "mydf.columns = ['K Value','Threshold value','f_score']\n",
    "mydf.sort_values('f_score',ascending=False,inplace=True)\n",
    "mydf"
   ]
  },
  {
   "cell_type": "markdown",
   "id": "380a3661",
   "metadata": {},
   "source": [
    "###### we see that K=1.0 and threshold=0.4 gives the best f1 score"
   ]
  },
  {
   "cell_type": "code",
   "execution_count": 69,
   "id": "2923d4a4",
   "metadata": {},
   "outputs": [
    {
     "name": "stdout",
     "output_type": "stream",
     "text": [
      "Test Samples: 363555\n",
      "Precision: 0.8786530709297118\n",
      "Recall: 0.874126335767628\n",
      "F-score 0.8763838579664304\n"
     ]
    }
   ],
   "source": [
    "test_num4, precision4, recall4 = model2_hp.test('ToolsTest1.test',k=1, threshold=0.4)\n",
    "f_score4 = (2*precision4*recall4)/(precision4+recall4)\n",
    "print('Test Samples:',test_num4)\n",
    "print('Precision:',precision4)\n",
    "print('Recall:',recall4)\n",
    "print('F-score',f_score4)"
   ]
  },
  {
   "cell_type": "code",
   "execution_count": 70,
   "id": "1a2caa2d",
   "metadata": {},
   "outputs": [
    {
     "name": "stdout",
     "output_type": "stream",
     "text": [
      "Precision Score: 87.87 %\n",
      "Recall Score: 87.41 %\n",
      "F1 Score: 87.64 %\n"
     ]
    }
   ],
   "source": [
    "print('Precision Score:',round(precision4*100,2),'%')\n",
    "print('Recall Score:',round(recall4*100,2),'%')\n",
    "print('F1 Score:',round(f_score4*100,2),'%')"
   ]
  },
  {
   "cell_type": "code",
   "execution_count": 71,
   "id": "7136b006",
   "metadata": {},
   "outputs": [],
   "source": [
    "compare_tools_fasttext=pd.DataFrame()"
   ]
  },
  {
   "cell_type": "code",
   "execution_count": 72,
   "id": "3513446b",
   "metadata": {},
   "outputs": [],
   "source": [
    "compare_tools_fasttext['Model']=['Fasttext without hyperparameters','Fasttext with hyperparameters']\n",
    "compare_tools_fasttext['Hyperparameters']=[np.nan,'Epoch=10, lr=0.2, wordNgrams=1, bucket=20000']\n",
    "compare_tools_fasttext['Precision Score']=[round(precision3*100,2),round(precision4*100,2)]\n",
    "compare_tools_fasttext['Recall Score']=[round(recall3*100,2),round(recall4*100,2)]\n",
    "compare_tools_fasttext['F1 Score']=[round(f_score3*100,2),round(f_score4*100,2)]"
   ]
  },
  {
   "cell_type": "code",
   "execution_count": 73,
   "id": "0e0e511d",
   "metadata": {},
   "outputs": [
    {
     "data": {
      "text/html": [
       "<div>\n",
       "<style scoped>\n",
       "    .dataframe tbody tr th:only-of-type {\n",
       "        vertical-align: middle;\n",
       "    }\n",
       "\n",
       "    .dataframe tbody tr th {\n",
       "        vertical-align: top;\n",
       "    }\n",
       "\n",
       "    .dataframe thead th {\n",
       "        text-align: right;\n",
       "    }\n",
       "</style>\n",
       "<table border=\"1\" class=\"dataframe\">\n",
       "  <thead>\n",
       "    <tr style=\"text-align: right;\">\n",
       "      <th></th>\n",
       "      <th>Model</th>\n",
       "      <th>Hyperparameters</th>\n",
       "      <th>Precision Score</th>\n",
       "      <th>Recall Score</th>\n",
       "      <th>F1 Score</th>\n",
       "    </tr>\n",
       "  </thead>\n",
       "  <tbody>\n",
       "    <tr>\n",
       "      <th>0</th>\n",
       "      <td>Fasttext without hyperparameters</td>\n",
       "      <td>NaN</td>\n",
       "      <td>87.59</td>\n",
       "      <td>87.59</td>\n",
       "      <td>87.59</td>\n",
       "    </tr>\n",
       "    <tr>\n",
       "      <th>1</th>\n",
       "      <td>Fasttext with hyperparameters</td>\n",
       "      <td>Epoch=10, lr=0.2, wordNgrams=1, bucket=20000</td>\n",
       "      <td>87.87</td>\n",
       "      <td>87.41</td>\n",
       "      <td>87.64</td>\n",
       "    </tr>\n",
       "  </tbody>\n",
       "</table>\n",
       "</div>"
      ],
      "text/plain": [
       "                              Model  \\\n",
       "0  Fasttext without hyperparameters   \n",
       "1     Fasttext with hyperparameters   \n",
       "\n",
       "                                Hyperparameters  Precision Score  \\\n",
       "0                                           NaN            87.59   \n",
       "1  Epoch=10, lr=0.2, wordNgrams=1, bucket=20000            87.87   \n",
       "\n",
       "   Recall Score  F1 Score  \n",
       "0         87.59     87.59  \n",
       "1         87.41     87.64  "
      ]
     },
     "execution_count": 73,
     "metadata": {},
     "output_type": "execute_result"
    }
   ],
   "source": [
    "compare_tools_fasttext"
   ]
  },
  {
   "cell_type": "code",
   "execution_count": null,
   "id": "da623210",
   "metadata": {},
   "outputs": [],
   "source": []
  }
 ],
 "metadata": {
  "kernelspec": {
   "display_name": "Python 3 (ipykernel)",
   "language": "python",
   "name": "python3"
  },
  "language_info": {
   "codemirror_mode": {
    "name": "ipython",
    "version": 3
   },
   "file_extension": ".py",
   "mimetype": "text/x-python",
   "name": "python",
   "nbconvert_exporter": "python",
   "pygments_lexer": "ipython3",
   "version": "3.9.12"
  }
 },
 "nbformat": 4,
 "nbformat_minor": 5
}
